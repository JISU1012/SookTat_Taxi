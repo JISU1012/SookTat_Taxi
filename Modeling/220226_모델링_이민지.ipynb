{
 "cells": [
  {
   "cell_type": "code",
   "execution_count": 1,
   "id": "0264aa38",
   "metadata": {},
   "outputs": [],
   "source": [
    "import pandas as pd\n",
    "import numpy as np"
   ]
  },
  {
   "cell_type": "code",
   "execution_count": 2,
   "id": "ca71ebb3",
   "metadata": {},
   "outputs": [
    {
     "data": {
      "text/html": [
       "<div>\n",
       "<style scoped>\n",
       "    .dataframe tbody tr th:only-of-type {\n",
       "        vertical-align: middle;\n",
       "    }\n",
       "\n",
       "    .dataframe tbody tr th {\n",
       "        vertical-align: top;\n",
       "    }\n",
       "\n",
       "    .dataframe thead th {\n",
       "        text-align: right;\n",
       "    }\n",
       "</style>\n",
       "<table border=\"1\" class=\"dataframe\">\n",
       "  <thead>\n",
       "    <tr style=\"text-align: right;\">\n",
       "      <th></th>\n",
       "      <th>Unnamed: 0</th>\n",
       "      <th>fare_amount</th>\n",
       "      <th>passenger_count</th>\n",
       "      <th>log_date</th>\n",
       "      <th>log_time</th>\n",
       "      <th>log_hour</th>\n",
       "      <th>log_min</th>\n",
       "      <th>log_year</th>\n",
       "      <th>log_month</th>\n",
       "      <th>log_day</th>\n",
       "      <th>7to15</th>\n",
       "      <th>16to19</th>\n",
       "      <th>20to6</th>\n",
       "      <th>dayofweek</th>\n",
       "      <th>weekday</th>\n",
       "      <th>is_extracharge</th>\n",
       "      <th>taxi_amount</th>\n",
       "      <th>dist</th>\n",
       "    </tr>\n",
       "  </thead>\n",
       "  <tbody>\n",
       "    <tr>\n",
       "      <th>0</th>\n",
       "      <td>0</td>\n",
       "      <td>4.5</td>\n",
       "      <td>1</td>\n",
       "      <td>2009-06-15</td>\n",
       "      <td>17:26:21</td>\n",
       "      <td>17</td>\n",
       "      <td>26</td>\n",
       "      <td>2009</td>\n",
       "      <td>6</td>\n",
       "      <td>15</td>\n",
       "      <td>0</td>\n",
       "      <td>1</td>\n",
       "      <td>0</td>\n",
       "      <td>1</td>\n",
       "      <td>1</td>\n",
       "      <td>1</td>\n",
       "      <td>1</td>\n",
       "      <td>412.061196</td>\n",
       "    </tr>\n",
       "    <tr>\n",
       "      <th>1</th>\n",
       "      <td>1</td>\n",
       "      <td>16.9</td>\n",
       "      <td>1</td>\n",
       "      <td>2010-01-05</td>\n",
       "      <td>16:52:16</td>\n",
       "      <td>16</td>\n",
       "      <td>52</td>\n",
       "      <td>2010</td>\n",
       "      <td>1</td>\n",
       "      <td>5</td>\n",
       "      <td>0</td>\n",
       "      <td>1</td>\n",
       "      <td>0</td>\n",
       "      <td>2</td>\n",
       "      <td>1</td>\n",
       "      <td>1</td>\n",
       "      <td>1</td>\n",
       "      <td>4646.229208</td>\n",
       "    </tr>\n",
       "    <tr>\n",
       "      <th>2</th>\n",
       "      <td>2</td>\n",
       "      <td>5.7</td>\n",
       "      <td>2</td>\n",
       "      <td>2011-08-18</td>\n",
       "      <td>00:35:00</td>\n",
       "      <td>0</td>\n",
       "      <td>35</td>\n",
       "      <td>2011</td>\n",
       "      <td>8</td>\n",
       "      <td>18</td>\n",
       "      <td>0</td>\n",
       "      <td>0</td>\n",
       "      <td>1</td>\n",
       "      <td>4</td>\n",
       "      <td>1</td>\n",
       "      <td>1</td>\n",
       "      <td>1</td>\n",
       "      <td>1004.797031</td>\n",
       "    </tr>\n",
       "    <tr>\n",
       "      <th>3</th>\n",
       "      <td>3</td>\n",
       "      <td>7.7</td>\n",
       "      <td>1</td>\n",
       "      <td>2012-04-21</td>\n",
       "      <td>04:30:42</td>\n",
       "      <td>4</td>\n",
       "      <td>30</td>\n",
       "      <td>2012</td>\n",
       "      <td>4</td>\n",
       "      <td>21</td>\n",
       "      <td>0</td>\n",
       "      <td>0</td>\n",
       "      <td>1</td>\n",
       "      <td>6</td>\n",
       "      <td>0</td>\n",
       "      <td>1</td>\n",
       "      <td>1</td>\n",
       "      <td>914.153776</td>\n",
       "    </tr>\n",
       "    <tr>\n",
       "      <th>4</th>\n",
       "      <td>4</td>\n",
       "      <td>5.3</td>\n",
       "      <td>1</td>\n",
       "      <td>2010-03-09</td>\n",
       "      <td>07:51:00</td>\n",
       "      <td>7</td>\n",
       "      <td>51</td>\n",
       "      <td>2010</td>\n",
       "      <td>3</td>\n",
       "      <td>9</td>\n",
       "      <td>1</td>\n",
       "      <td>0</td>\n",
       "      <td>0</td>\n",
       "      <td>2</td>\n",
       "      <td>1</td>\n",
       "      <td>0</td>\n",
       "      <td>1</td>\n",
       "      <td>1366.163592</td>\n",
       "    </tr>\n",
       "    <tr>\n",
       "      <th>...</th>\n",
       "      <td>...</td>\n",
       "      <td>...</td>\n",
       "      <td>...</td>\n",
       "      <td>...</td>\n",
       "      <td>...</td>\n",
       "      <td>...</td>\n",
       "      <td>...</td>\n",
       "      <td>...</td>\n",
       "      <td>...</td>\n",
       "      <td>...</td>\n",
       "      <td>...</td>\n",
       "      <td>...</td>\n",
       "      <td>...</td>\n",
       "      <td>...</td>\n",
       "      <td>...</td>\n",
       "      <td>...</td>\n",
       "      <td>...</td>\n",
       "      <td>...</td>\n",
       "    </tr>\n",
       "    <tr>\n",
       "      <th>999995</th>\n",
       "      <td>999995</td>\n",
       "      <td>5.7</td>\n",
       "      <td>5</td>\n",
       "      <td>2011-01-14</td>\n",
       "      <td>13:55:00</td>\n",
       "      <td>13</td>\n",
       "      <td>55</td>\n",
       "      <td>2011</td>\n",
       "      <td>1</td>\n",
       "      <td>14</td>\n",
       "      <td>1</td>\n",
       "      <td>0</td>\n",
       "      <td>0</td>\n",
       "      <td>5</td>\n",
       "      <td>1</td>\n",
       "      <td>0</td>\n",
       "      <td>2</td>\n",
       "      <td>870.509800</td>\n",
       "    </tr>\n",
       "    <tr>\n",
       "      <th>999996</th>\n",
       "      <td>999996</td>\n",
       "      <td>10.5</td>\n",
       "      <td>1</td>\n",
       "      <td>2012-07-20</td>\n",
       "      <td>12:59:16</td>\n",
       "      <td>12</td>\n",
       "      <td>59</td>\n",
       "      <td>2012</td>\n",
       "      <td>7</td>\n",
       "      <td>20</td>\n",
       "      <td>1</td>\n",
       "      <td>0</td>\n",
       "      <td>0</td>\n",
       "      <td>5</td>\n",
       "      <td>1</td>\n",
       "      <td>0</td>\n",
       "      <td>1</td>\n",
       "      <td>2277.239678</td>\n",
       "    </tr>\n",
       "    <tr>\n",
       "      <th>999997</th>\n",
       "      <td>999997</td>\n",
       "      <td>6.5</td>\n",
       "      <td>1</td>\n",
       "      <td>2013-07-01</td>\n",
       "      <td>09:10:00</td>\n",
       "      <td>9</td>\n",
       "      <td>10</td>\n",
       "      <td>2013</td>\n",
       "      <td>7</td>\n",
       "      <td>1</td>\n",
       "      <td>1</td>\n",
       "      <td>0</td>\n",
       "      <td>0</td>\n",
       "      <td>1</td>\n",
       "      <td>1</td>\n",
       "      <td>0</td>\n",
       "      <td>1</td>\n",
       "      <td>628.284955</td>\n",
       "    </tr>\n",
       "    <tr>\n",
       "      <th>999998</th>\n",
       "      <td>999998</td>\n",
       "      <td>17.5</td>\n",
       "      <td>3</td>\n",
       "      <td>2013-09-24</td>\n",
       "      <td>23:28:00</td>\n",
       "      <td>23</td>\n",
       "      <td>28</td>\n",
       "      <td>2013</td>\n",
       "      <td>9</td>\n",
       "      <td>24</td>\n",
       "      <td>0</td>\n",
       "      <td>0</td>\n",
       "      <td>1</td>\n",
       "      <td>2</td>\n",
       "      <td>1</td>\n",
       "      <td>1</td>\n",
       "      <td>1</td>\n",
       "      <td>2803.616297</td>\n",
       "    </tr>\n",
       "    <tr>\n",
       "      <th>999999</th>\n",
       "      <td>999999</td>\n",
       "      <td>6.0</td>\n",
       "      <td>4</td>\n",
       "      <td>2014-01-11</td>\n",
       "      <td>00:07:00</td>\n",
       "      <td>0</td>\n",
       "      <td>7</td>\n",
       "      <td>2014</td>\n",
       "      <td>1</td>\n",
       "      <td>11</td>\n",
       "      <td>0</td>\n",
       "      <td>0</td>\n",
       "      <td>1</td>\n",
       "      <td>6</td>\n",
       "      <td>0</td>\n",
       "      <td>1</td>\n",
       "      <td>2</td>\n",
       "      <td>695.532699</td>\n",
       "    </tr>\n",
       "  </tbody>\n",
       "</table>\n",
       "<p>1000000 rows × 18 columns</p>\n",
       "</div>"
      ],
      "text/plain": [
       "        Unnamed: 0  fare_amount  passenger_count    log_date  log_time  \\\n",
       "0                0          4.5                1  2009-06-15  17:26:21   \n",
       "1                1         16.9                1  2010-01-05  16:52:16   \n",
       "2                2          5.7                2  2011-08-18  00:35:00   \n",
       "3                3          7.7                1  2012-04-21  04:30:42   \n",
       "4                4          5.3                1  2010-03-09  07:51:00   \n",
       "...            ...          ...              ...         ...       ...   \n",
       "999995      999995          5.7                5  2011-01-14  13:55:00   \n",
       "999996      999996         10.5                1  2012-07-20  12:59:16   \n",
       "999997      999997          6.5                1  2013-07-01  09:10:00   \n",
       "999998      999998         17.5                3  2013-09-24  23:28:00   \n",
       "999999      999999          6.0                4  2014-01-11  00:07:00   \n",
       "\n",
       "        log_hour  log_min  log_year  log_month  log_day  7to15  16to19  20to6  \\\n",
       "0             17       26      2009          6       15      0       1      0   \n",
       "1             16       52      2010          1        5      0       1      0   \n",
       "2              0       35      2011          8       18      0       0      1   \n",
       "3              4       30      2012          4       21      0       0      1   \n",
       "4              7       51      2010          3        9      1       0      0   \n",
       "...          ...      ...       ...        ...      ...    ...     ...    ...   \n",
       "999995        13       55      2011          1       14      1       0      0   \n",
       "999996        12       59      2012          7       20      1       0      0   \n",
       "999997         9       10      2013          7        1      1       0      0   \n",
       "999998        23       28      2013          9       24      0       0      1   \n",
       "999999         0        7      2014          1       11      0       0      1   \n",
       "\n",
       "        dayofweek  weekday  is_extracharge  taxi_amount         dist  \n",
       "0               1        1               1            1   412.061196  \n",
       "1               2        1               1            1  4646.229208  \n",
       "2               4        1               1            1  1004.797031  \n",
       "3               6        0               1            1   914.153776  \n",
       "4               2        1               0            1  1366.163592  \n",
       "...           ...      ...             ...          ...          ...  \n",
       "999995          5        1               0            2   870.509800  \n",
       "999996          5        1               0            1  2277.239678  \n",
       "999997          1        1               0            1   628.284955  \n",
       "999998          2        1               1            1  2803.616297  \n",
       "999999          6        0               1            2   695.532699  \n",
       "\n",
       "[1000000 rows x 18 columns]"
      ]
     },
     "execution_count": 2,
     "metadata": {},
     "output_type": "execute_result"
    }
   ],
   "source": [
    "train_df = pd.read_csv(\"C:/SOOKTAT/0. 프로젝트/Taxi/data/modeling_data.csv\", nrows=1000_000)\n",
    "\n",
    "train_df"
   ]
  },
  {
   "cell_type": "code",
   "execution_count": 3,
   "id": "2b945bfe",
   "metadata": {},
   "outputs": [
    {
     "name": "stdout",
     "output_type": "stream",
     "text": [
      "<class 'pandas.core.frame.DataFrame'>\n",
      "RangeIndex: 1000000 entries, 0 to 999999\n",
      "Data columns (total 15 columns):\n",
      " #   Column           Non-Null Count    Dtype  \n",
      "---  ------           --------------    -----  \n",
      " 0   fare_amount      1000000 non-null  float64\n",
      " 1   passenger_count  1000000 non-null  int64  \n",
      " 2   log_hour         1000000 non-null  int64  \n",
      " 3   log_min          1000000 non-null  int64  \n",
      " 4   log_year         1000000 non-null  int64  \n",
      " 5   log_month        1000000 non-null  int64  \n",
      " 6   log_day          1000000 non-null  int64  \n",
      " 7   7to15            1000000 non-null  int64  \n",
      " 8   16to19           1000000 non-null  int64  \n",
      " 9   20to6            1000000 non-null  int64  \n",
      " 10  dayofweek        1000000 non-null  int64  \n",
      " 11  weekday          1000000 non-null  int64  \n",
      " 12  is_extracharge   1000000 non-null  int64  \n",
      " 13  taxi_amount      1000000 non-null  int64  \n",
      " 14  dist             1000000 non-null  float64\n",
      "dtypes: float64(2), int64(13)\n",
      "memory usage: 114.4 MB\n"
     ]
    }
   ],
   "source": [
    "train_df = train_df.drop(columns = ['Unnamed: 0', 'log_date', 'log_time'])\n",
    "\n",
    "train_df.info()"
   ]
  },
  {
   "cell_type": "markdown",
   "id": "ec3e7991",
   "metadata": {},
   "source": [
    "# xgboost"
   ]
  },
  {
   "cell_type": "code",
   "execution_count": 4,
   "id": "8defec9b",
   "metadata": {},
   "outputs": [],
   "source": [
    "import xgboost as xgb\n",
    "from xgboost import plot_importance\n",
    "from sklearn.metrics import mean_absolute_error, mean_squared_error\n",
    "from sklearn.metrics import f1_score, roc_auc_score\n",
    "import warnings\n",
    "warnings.filterwarnings('ignore')"
   ]
  },
  {
   "cell_type": "code",
   "execution_count": 5,
   "id": "825a98b5",
   "metadata": {},
   "outputs": [],
   "source": [
    "from sklearn.model_selection import train_test_split\n",
    "\n",
    "X = train_df.drop(columns = ['fare_amount'])\n",
    "y = train_df['fare_amount']\n",
    "\n",
    "train_X, valid_X, train_y, valid_y = train_test_split(X, y, test_size = 0.3, random_state = 1)"
   ]
  },
  {
   "cell_type": "code",
   "execution_count": 6,
   "id": "103f4f97",
   "metadata": {},
   "outputs": [],
   "source": [
    "dtrain = xgb.DMatrix(train_X, label =train_y)\n",
    "dvalid = xgb.DMatrix(valid_X)"
   ]
  },
  {
   "cell_type": "markdown",
   "id": "e2877b39",
   "metadata": {},
   "source": [
    "* learning_rate = 0.05"
   ]
  },
  {
   "cell_type": "code",
   "execution_count": 33,
   "id": "3439a59a",
   "metadata": {},
   "outputs": [],
   "source": [
    "params = {\n",
    "        'learning_rate': 0.05\n",
    "    }"
   ]
  },
  {
   "cell_type": "code",
   "execution_count": 34,
   "id": "64c320e7",
   "metadata": {},
   "outputs": [],
   "source": [
    "xgb_model = xgb.train(params, dtrain)\n",
    "\n",
    "xgb_pred = xgb_model.predict(dvalid)"
   ]
  },
  {
   "cell_type": "code",
   "execution_count": 36,
   "id": "ab412bee",
   "metadata": {},
   "outputs": [
    {
     "data": {
      "text/plain": [
       "<AxesSubplot:title={'center':'Feature importance'}, xlabel='F score', ylabel='Features'>"
      ]
     },
     "execution_count": 36,
     "metadata": {},
     "output_type": "execute_result"
    },
    {
     "data": {
      "image/png": "[encoded data removed]",
      "text/plain": [
       "<Figure size 432x288 with 1 Axes>"
      ]
     },
     "metadata": {
      "needs_background": "light"
     },
     "output_type": "display_data"
    }
   ],
   "source": [
    "plot_importance(xgb_model)"
   ]
  },
  {
   "cell_type": "code",
   "execution_count": 41,
   "id": "0f7b66b1",
   "metadata": {},
   "outputs": [
    {
     "name": "stdout",
     "output_type": "stream",
     "text": [
      "MAE = 6.53150\n",
      "MSE = 92.79006\n"
     ]
    }
   ],
   "source": [
    "MAE = mean_absolute_error(valid_y, xgb_pred)\n",
    "MSE = mean_squared_error(valid_y, xgb_pred)\n",
    "\n",
    "print('MAE = %.5f' % (MAE))\n",
    "print('MSE = %.5f' % (MSE))"
   ]
  },
  {
   "cell_type": "markdown",
   "id": "f622262d",
   "metadata": {},
   "source": [
    "* learning_rate = 0.1, max_depth = 10"
   ]
  },
  {
   "cell_type": "code",
   "execution_count": 43,
   "id": "d1e8089b",
   "metadata": {},
   "outputs": [],
   "source": [
    "params = {\n",
    "        'learning_rate': 0.1,\n",
    "        'max_depth' : 10\n",
    "    }"
   ]
  },
  {
   "cell_type": "code",
   "execution_count": 44,
   "id": "4e8106a0",
   "metadata": {},
   "outputs": [],
   "source": [
    "xgb_model = xgb.train(params, dtrain)\n",
    "\n",
    "xgb_pred = xgb_model.predict(dvalid)"
   ]
  },
  {
   "cell_type": "code",
   "execution_count": 45,
   "id": "76087cd0",
   "metadata": {},
   "outputs": [
    {
     "data": {
      "text/plain": [
       "<AxesSubplot:title={'center':'Feature importance'}, xlabel='F score', ylabel='Features'>"
      ]
     },
     "execution_count": 45,
     "metadata": {},
     "output_type": "execute_result"
    },
    {
     "data": {
      "image/png": "[encoded data removed]",
      "text/plain": [
       "<Figure size 432x288 with 1 Axes>"
      ]
     },
     "metadata": {
      "needs_background": "light"
     },
     "output_type": "display_data"
    }
   ],
   "source": [
    "plot_importance(xgb_model)"
   ]
  },
  {
   "cell_type": "code",
   "execution_count": 46,
   "id": "ca75b9bf",
   "metadata": {},
   "outputs": [
    {
     "name": "stdout",
     "output_type": "stream",
     "text": [
      "MAE = 4.02823\n",
      "MSE = 48.67227\n"
     ]
    }
   ],
   "source": [
    "MAE = mean_absolute_error(valid_y, xgb_pred)\n",
    "MSE = mean_squared_error(valid_y, xgb_pred)\n",
    "\n",
    "print('MAE = %.5f' % (MAE))\n",
    "print('MSE = %.5f' % (MSE))"
   ]
  },
  {
   "cell_type": "markdown",
   "id": "cd824f5e",
   "metadata": {},
   "source": [
    "* max_depth = 10"
   ]
  },
  {
   "cell_type": "code",
   "execution_count": 47,
   "id": "4a99b347",
   "metadata": {},
   "outputs": [],
   "source": [
    "params = {\n",
    "        'max_depth' : 10\n",
    "    }"
   ]
  },
  {
   "cell_type": "code",
   "execution_count": 48,
   "id": "3ceb18e2",
   "metadata": {},
   "outputs": [],
   "source": [
    "xgb_model = xgb.train(params, dtrain)\n",
    "\n",
    "xgb_pred = xgb_model.predict(dvalid)"
   ]
  },
  {
   "cell_type": "code",
   "execution_count": 49,
   "id": "f4a8243d",
   "metadata": {},
   "outputs": [
    {
     "data": {
      "text/plain": [
       "<AxesSubplot:title={'center':'Feature importance'}, xlabel='F score', ylabel='Features'>"
      ]
     },
     "execution_count": 49,
     "metadata": {},
     "output_type": "execute_result"
    },
    {
     "data": {
      "image/png": "[encoded data removed]",
      "text/plain": [
       "<Figure size 432x288 with 1 Axes>"
      ]
     },
     "metadata": {
      "needs_background": "light"
     },
     "output_type": "display_data"
    }
   ],
   "source": [
    "plot_importance(xgb_model)"
   ]
  },
  {
   "cell_type": "code",
   "execution_count": 50,
   "id": "e6c00c2e",
   "metadata": {},
   "outputs": [
    {
     "name": "stdout",
     "output_type": "stream",
     "text": [
      "MAE = 2.79966\n",
      "MSE = 26.22581\n"
     ]
    }
   ],
   "source": [
    "MAE = mean_absolute_error(valid_y, xgb_pred)\n",
    "MSE = mean_squared_error(valid_y, xgb_pred)\n",
    "\n",
    "print('MAE = %.5f' % (MAE))\n",
    "print('MSE = %.5f' % (MSE))"
   ]
  },
  {
   "cell_type": "markdown",
   "id": "ec581d69",
   "metadata": {},
   "source": [
    "* max_depth = 10, lambda = 3, scale_pos_weight = 3"
   ]
  },
  {
   "cell_type": "code",
   "execution_count": 55,
   "id": "a0ceb9ca",
   "metadata": {},
   "outputs": [],
   "source": [
    "params = {\n",
    "        'max_depth' : 10,\n",
    "        'lambda' : 3,\n",
    "        'scale_pos_weight' : 3\n",
    "    }"
   ]
  },
  {
   "cell_type": "code",
   "execution_count": 56,
   "id": "a86a8a81",
   "metadata": {},
   "outputs": [],
   "source": [
    "xgb_model = xgb.train(params, dtrain)\n",
    "\n",
    "xgb_pred = xgb_model.predict(dvalid)"
   ]
  },
  {
   "cell_type": "code",
   "execution_count": 57,
   "id": "4c67aa09",
   "metadata": {},
   "outputs": [
    {
     "data": {
      "text/plain": [
       "<AxesSubplot:title={'center':'Feature importance'}, xlabel='F score', ylabel='Features'>"
      ]
     },
     "execution_count": 57,
     "metadata": {},
     "output_type": "execute_result"
    },
    {
     "data": {
      "image/png": "[encoded data removed]",
      "text/plain": [
       "<Figure size 432x288 with 1 Axes>"
      ]
     },
     "metadata": {
      "needs_background": "light"
     },
     "output_type": "display_data"
    }
   ],
   "source": [
    "plot_importance(xgb_model)"
   ]
  },
  {
   "cell_type": "code",
   "execution_count": 58,
   "id": "c8946077",
   "metadata": {},
   "outputs": [
    {
     "name": "stdout",
     "output_type": "stream",
     "text": [
      "MAE = 2.79758\n",
      "MSE = 26.11741\n"
     ]
    }
   ],
   "source": [
    "MAE = mean_absolute_error(valid_y, xgb_pred)\n",
    "MSE = mean_squared_error(valid_y, xgb_pred)\n",
    "\n",
    "print('MAE = %.5f' % (MAE))\n",
    "print('MSE = %.5f' % (MSE))"
   ]
  },
  {
   "cell_type": "markdown",
   "id": "3e899b41",
   "metadata": {},
   "source": [
    "* max_depth = 5, lambda = 3, scale_pos_weight = 3"
   ]
  },
  {
   "cell_type": "code",
   "execution_count": 59,
   "id": "21d50487",
   "metadata": {},
   "outputs": [],
   "source": [
    "params = {\n",
    "        'max_depth' : 5,\n",
    "        'lambda' : 3,\n",
    "        'scale_pos_weight' : 3\n",
    "    }"
   ]
  },
  {
   "cell_type": "code",
   "execution_count": 60,
   "id": "eafaa8fd",
   "metadata": {},
   "outputs": [],
   "source": [
    "xgb_model = xgb.train(params, dtrain)\n",
    "\n",
    "xgb_pred = xgb_model.predict(dvalid)"
   ]
  },
  {
   "cell_type": "code",
   "execution_count": 61,
   "id": "6f7fcd35",
   "metadata": {},
   "outputs": [
    {
     "data": {
      "text/plain": [
       "<AxesSubplot:title={'center':'Feature importance'}, xlabel='F score', ylabel='Features'>"
      ]
     },
     "execution_count": 61,
     "metadata": {},
     "output_type": "execute_result"
    },
    {
     "data": {
      "image/png": "[encoded data removed]",
      "text/plain": [
       "<Figure size 432x288 with 1 Axes>"
      ]
     },
     "metadata": {
      "needs_background": "light"
     },
     "output_type": "display_data"
    }
   ],
   "source": [
    "plot_importance(xgb_model)"
   ]
  },
  {
   "cell_type": "code",
   "execution_count": 62,
   "id": "709a3374",
   "metadata": {},
   "outputs": [
    {
     "name": "stdout",
     "output_type": "stream",
     "text": [
      "MAE = 2.82585\n",
      "MSE = 26.31828\n"
     ]
    }
   ],
   "source": [
    "MAE = mean_absolute_error(valid_y, xgb_pred)\n",
    "MSE = mean_squared_error(valid_y, xgb_pred)\n",
    "\n",
    "print('MAE = %.5f' % (MAE))\n",
    "print('MSE = %.5f' % (MSE))"
   ]
  },
  {
   "cell_type": "markdown",
   "id": "df8f10e1",
   "metadata": {},
   "source": [
    "* max_depth = 13, lambda = 3, scale_pos_weight = 3"
   ]
  },
  {
   "cell_type": "code",
   "execution_count": 75,
   "id": "799eef84",
   "metadata": {},
   "outputs": [],
   "source": [
    "params = {\n",
    "        'max_depth' : 13,\n",
    "        'lambda' : 3,\n",
    "        'scale_pos_weight' : 3\n",
    "    }"
   ]
  },
  {
   "cell_type": "code",
   "execution_count": 76,
   "id": "a953afa4",
   "metadata": {},
   "outputs": [],
   "source": [
    "xgb_model = xgb.train(params, dtrain)\n",
    "\n",
    "xgb_pred = xgb_model.predict(dvalid)"
   ]
  },
  {
   "cell_type": "code",
   "execution_count": 77,
   "id": "a91b4819",
   "metadata": {},
   "outputs": [
    {
     "data": {
      "text/plain": [
       "<AxesSubplot:title={'center':'Feature importance'}, xlabel='F score', ylabel='Features'>"
      ]
     },
     "execution_count": 77,
     "metadata": {},
     "output_type": "execute_result"
    },
    {
     "data": {
      "image/png": "[encoded data removed]",
      "text/plain": [
       "<Figure size 432x288 with 1 Axes>"
      ]
     },
     "metadata": {
      "needs_background": "light"
     },
     "output_type": "display_data"
    }
   ],
   "source": [
    "plot_importance(xgb_model)"
   ]
  },
  {
   "cell_type": "code",
   "execution_count": 78,
   "id": "27a3f68f",
   "metadata": {},
   "outputs": [
    {
     "name": "stdout",
     "output_type": "stream",
     "text": [
      "MAE = 2.81499\n",
      "MSE = 26.76595\n"
     ]
    }
   ],
   "source": [
    "MAE = mean_absolute_error(valid_y, xgb_pred)\n",
    "MSE = mean_squared_error(valid_y, xgb_pred)\n",
    "\n",
    "print('MAE = %.5f' % (MAE))\n",
    "print('MSE = %.5f' % (MSE))"
   ]
  },
  {
   "cell_type": "markdown",
   "id": "df1c7a94",
   "metadata": {},
   "source": [
    "* max_depth = 7, lambda = 3, scale_pos_weight = 3"
   ]
  },
  {
   "cell_type": "code",
   "execution_count": 79,
   "id": "717b23d6",
   "metadata": {},
   "outputs": [],
   "source": [
    "params = {\n",
    "        'max_depth' : 7,\n",
    "        'lambda' : 3,\n",
    "        'scale_pos_weight' : 3\n",
    "    }"
   ]
  },
  {
   "cell_type": "code",
   "execution_count": 80,
   "id": "b670d427",
   "metadata": {},
   "outputs": [],
   "source": [
    "xgb_model = xgb.train(params, dtrain)\n",
    "\n",
    "xgb_pred = xgb_model.predict(dvalid)"
   ]
  },
  {
   "cell_type": "code",
   "execution_count": 81,
   "id": "7410e78a",
   "metadata": {},
   "outputs": [
    {
     "data": {
      "text/plain": [
       "<AxesSubplot:title={'center':'Feature importance'}, xlabel='F score', ylabel='Features'>"
      ]
     },
     "execution_count": 81,
     "metadata": {},
     "output_type": "execute_result"
    },
    {
     "data": {
      "image/png": "[encoded data removed]",
      "text/plain": [
       "<Figure size 432x288 with 1 Axes>"
      ]
     },
     "metadata": {
      "needs_background": "light"
     },
     "output_type": "display_data"
    }
   ],
   "source": [
    "plot_importance(xgb_model)"
   ]
  },
  {
   "cell_type": "code",
   "execution_count": 82,
   "id": "0663ee08",
   "metadata": {},
   "outputs": [
    {
     "name": "stdout",
     "output_type": "stream",
     "text": [
      "MAE = 2.80416\n",
      "MSE = 26.01992\n"
     ]
    }
   ],
   "source": [
    "MAE = mean_absolute_error(valid_y, xgb_pred)\n",
    "MSE = mean_squared_error(valid_y, xgb_pred)\n",
    "\n",
    "print('MAE = %.5f' % (MAE))\n",
    "print('MSE = %.5f' % (MSE))"
   ]
  },
  {
   "cell_type": "markdown",
   "id": "af1102bd",
   "metadata": {},
   "source": [
    "* max_depth = 7, lambda = 3, scale_pos_weight = 5 ; scale_pos_weight = 3일 때와 동일"
   ]
  },
  {
   "cell_type": "markdown",
   "id": "e58505dc",
   "metadata": {},
   "source": [
    "* max_depth = 7, lambda = 5, scale_pos_weight = 3"
   ]
  },
  {
   "cell_type": "code",
   "execution_count": 89,
   "id": "b4b35d88",
   "metadata": {},
   "outputs": [],
   "source": [
    "params = {\n",
    "        'max_depth' : 7,\n",
    "        'lambda' : 5,\n",
    "        'scale_pos_weight' : 3\n",
    "    }"
   ]
  },
  {
   "cell_type": "code",
   "execution_count": 90,
   "id": "377fa7ac",
   "metadata": {},
   "outputs": [],
   "source": [
    "xgb_model = xgb.train(params, dtrain)\n",
    "\n",
    "xgb_pred = xgb_model.predict(dvalid)"
   ]
  },
  {
   "cell_type": "code",
   "execution_count": 91,
   "id": "56ddfe54",
   "metadata": {},
   "outputs": [
    {
     "data": {
      "text/plain": [
       "<AxesSubplot:title={'center':'Feature importance'}, xlabel='F score', ylabel='Features'>"
      ]
     },
     "execution_count": 91,
     "metadata": {},
     "output_type": "execute_result"
    },
    {
     "data": {
      "image/png": "[encoded data removed]",
      "text/plain": [
       "<Figure size 432x288 with 1 Axes>"
      ]
     },
     "metadata": {
      "needs_background": "light"
     },
     "output_type": "display_data"
    }
   ],
   "source": [
    "plot_importance(xgb_model)"
   ]
  },
  {
   "cell_type": "code",
   "execution_count": 92,
   "id": "c4f5d6b6",
   "metadata": {},
   "outputs": [
    {
     "name": "stdout",
     "output_type": "stream",
     "text": [
      "MAE = 2.80314\n",
      "MSE = 25.94364\n"
     ]
    }
   ],
   "source": [
    "MAE = mean_absolute_error(valid_y, xgb_pred)\n",
    "MSE = mean_squared_error(valid_y, xgb_pred)\n",
    "\n",
    "print('MAE = %.5f' % (MAE))\n",
    "print('MSE = %.5f' % (MSE))"
   ]
  },
  {
   "cell_type": "markdown",
   "id": "4e447279",
   "metadata": {},
   "source": [
    "* max_depth = 7, lambda = 10, scale_pos_weight = 3"
   ]
  },
  {
   "cell_type": "code",
   "execution_count": 30,
   "id": "24320968",
   "metadata": {},
   "outputs": [],
   "source": [
    "params = {\n",
    "        'max_depth' : 7,\n",
    "        'lambda' : 10,\n",
    "        'scale_pos_weight' : 3\n",
    "    }"
   ]
  },
  {
   "cell_type": "code",
   "execution_count": 31,
   "id": "ded176e9",
   "metadata": {},
   "outputs": [],
   "source": [
    "xgb_model = xgb.train(params, dtrain)\n",
    "\n",
    "xgb_pred = xgb_model.predict(dvalid)"
   ]
  },
  {
   "cell_type": "code",
   "execution_count": 32,
   "id": "499e39ac",
   "metadata": {},
   "outputs": [
    {
     "data": {
      "text/plain": [
       "<AxesSubplot:title={'center':'Feature importance'}, xlabel='F score', ylabel='Features'>"
      ]
     },
     "execution_count": 32,
     "metadata": {},
     "output_type": "execute_result"
    },
    {
     "data": {
      "image/png": "[encoded data removed]",
      "text/plain": [
       "<Figure size 432x288 with 1 Axes>"
      ]
     },
     "metadata": {
      "needs_background": "light"
     },
     "output_type": "display_data"
    }
   ],
   "source": [
    "plot_importance(xgb_model)"
   ]
  },
  {
   "cell_type": "code",
   "execution_count": 33,
   "id": "601e70a5",
   "metadata": {},
   "outputs": [
    {
     "name": "stdout",
     "output_type": "stream",
     "text": [
      "MAE = 2.80115\n",
      "MSE = 25.91926\n"
     ]
    }
   ],
   "source": [
    "MAE = mean_absolute_error(valid_y, xgb_pred)\n",
    "MSE = mean_squared_error(valid_y, xgb_pred)\n",
    "\n",
    "print('MAE = %.5f' % (MAE))\n",
    "print('MSE = %.5f' % (MSE))"
   ]
  },
  {
   "cell_type": "markdown",
   "id": "4a582698",
   "metadata": {},
   "source": [
    "### test 데이터 셋에 적용"
   ]
  },
  {
   "cell_type": "code",
   "execution_count": 45,
   "id": "2c6e5844",
   "metadata": {},
   "outputs": [
    {
     "data": {
      "text/html": [
       "<div>\n",
       "<style scoped>\n",
       "    .dataframe tbody tr th:only-of-type {\n",
       "        vertical-align: middle;\n",
       "    }\n",
       "\n",
       "    .dataframe tbody tr th {\n",
       "        vertical-align: top;\n",
       "    }\n",
       "\n",
       "    .dataframe thead th {\n",
       "        text-align: right;\n",
       "    }\n",
       "</style>\n",
       "<table border=\"1\" class=\"dataframe\">\n",
       "  <thead>\n",
       "    <tr style=\"text-align: right;\">\n",
       "      <th></th>\n",
       "      <th>Unnamed: 0</th>\n",
       "      <th>key</th>\n",
       "      <th>pickup_datetime</th>\n",
       "      <th>pickup_longitude</th>\n",
       "      <th>pickup_latitude</th>\n",
       "      <th>dropoff_longitude</th>\n",
       "      <th>dropoff_latitude</th>\n",
       "      <th>passenger_count</th>\n",
       "      <th>time</th>\n",
       "      <th>log_date</th>\n",
       "      <th>...</th>\n",
       "      <th>log_month</th>\n",
       "      <th>log_day</th>\n",
       "      <th>7to15</th>\n",
       "      <th>16to19</th>\n",
       "      <th>20to6</th>\n",
       "      <th>dayofweek</th>\n",
       "      <th>weekday</th>\n",
       "      <th>is_extracharge</th>\n",
       "      <th>taxi_amount</th>\n",
       "      <th>distance</th>\n",
       "    </tr>\n",
       "  </thead>\n",
       "  <tbody>\n",
       "    <tr>\n",
       "      <th>0</th>\n",
       "      <td>0</td>\n",
       "      <td>2015-01-27 13:08:24.0000002</td>\n",
       "      <td>2015-01-27 13:08:24 UTC</td>\n",
       "      <td>-73.973320</td>\n",
       "      <td>40.763805</td>\n",
       "      <td>-73.981430</td>\n",
       "      <td>40.743835</td>\n",
       "      <td>1</td>\n",
       "      <td>2015-01-27 13:08:24</td>\n",
       "      <td>2015-01-27</td>\n",
       "      <td>...</td>\n",
       "      <td>1</td>\n",
       "      <td>27</td>\n",
       "      <td>1</td>\n",
       "      <td>0</td>\n",
       "      <td>0</td>\n",
       "      <td>2</td>\n",
       "      <td>1</td>\n",
       "      <td>0</td>\n",
       "      <td>1</td>\n",
       "      <td>1094.593298</td>\n",
       "    </tr>\n",
       "    <tr>\n",
       "      <th>1</th>\n",
       "      <td>1</td>\n",
       "      <td>2015-01-27 13:08:24.0000003</td>\n",
       "      <td>2015-01-27 13:08:24 UTC</td>\n",
       "      <td>-73.986862</td>\n",
       "      <td>40.719383</td>\n",
       "      <td>-73.998886</td>\n",
       "      <td>40.739201</td>\n",
       "      <td>1</td>\n",
       "      <td>2015-01-27 13:08:24</td>\n",
       "      <td>2015-01-27</td>\n",
       "      <td>...</td>\n",
       "      <td>1</td>\n",
       "      <td>27</td>\n",
       "      <td>1</td>\n",
       "      <td>0</td>\n",
       "      <td>0</td>\n",
       "      <td>2</td>\n",
       "      <td>1</td>\n",
       "      <td>0</td>\n",
       "      <td>1</td>\n",
       "      <td>1474.196242</td>\n",
       "    </tr>\n",
       "    <tr>\n",
       "      <th>2</th>\n",
       "      <td>2</td>\n",
       "      <td>2011-10-08 11:53:44.0000002</td>\n",
       "      <td>2011-10-08 11:53:44 UTC</td>\n",
       "      <td>-73.982524</td>\n",
       "      <td>40.751260</td>\n",
       "      <td>-73.979654</td>\n",
       "      <td>40.746139</td>\n",
       "      <td>1</td>\n",
       "      <td>2011-10-08 11:53:44</td>\n",
       "      <td>2011-10-08</td>\n",
       "      <td>...</td>\n",
       "      <td>10</td>\n",
       "      <td>8</td>\n",
       "      <td>1</td>\n",
       "      <td>0</td>\n",
       "      <td>0</td>\n",
       "      <td>6</td>\n",
       "      <td>0</td>\n",
       "      <td>0</td>\n",
       "      <td>1</td>\n",
       "      <td>357.075676</td>\n",
       "    </tr>\n",
       "    <tr>\n",
       "      <th>3</th>\n",
       "      <td>3</td>\n",
       "      <td>2012-12-01 21:12:12.0000002</td>\n",
       "      <td>2012-12-01 21:12:12 UTC</td>\n",
       "      <td>-73.981160</td>\n",
       "      <td>40.767807</td>\n",
       "      <td>-73.990448</td>\n",
       "      <td>40.751635</td>\n",
       "      <td>1</td>\n",
       "      <td>2012-12-01 21:12:12</td>\n",
       "      <td>2012-12-01</td>\n",
       "      <td>...</td>\n",
       "      <td>12</td>\n",
       "      <td>1</td>\n",
       "      <td>0</td>\n",
       "      <td>0</td>\n",
       "      <td>1</td>\n",
       "      <td>6</td>\n",
       "      <td>0</td>\n",
       "      <td>1</td>\n",
       "      <td>1</td>\n",
       "      <td>1150.115807</td>\n",
       "    </tr>\n",
       "    <tr>\n",
       "      <th>4</th>\n",
       "      <td>4</td>\n",
       "      <td>2012-12-01 21:12:12.0000003</td>\n",
       "      <td>2012-12-01 21:12:12 UTC</td>\n",
       "      <td>-73.966046</td>\n",
       "      <td>40.789775</td>\n",
       "      <td>-73.988565</td>\n",
       "      <td>40.744427</td>\n",
       "      <td>1</td>\n",
       "      <td>2012-12-01 21:12:12</td>\n",
       "      <td>2012-12-01</td>\n",
       "      <td>...</td>\n",
       "      <td>12</td>\n",
       "      <td>1</td>\n",
       "      <td>0</td>\n",
       "      <td>0</td>\n",
       "      <td>1</td>\n",
       "      <td>6</td>\n",
       "      <td>0</td>\n",
       "      <td>1</td>\n",
       "      <td>1</td>\n",
       "      <td>2875.803386</td>\n",
       "    </tr>\n",
       "    <tr>\n",
       "      <th>...</th>\n",
       "      <td>...</td>\n",
       "      <td>...</td>\n",
       "      <td>...</td>\n",
       "      <td>...</td>\n",
       "      <td>...</td>\n",
       "      <td>...</td>\n",
       "      <td>...</td>\n",
       "      <td>...</td>\n",
       "      <td>...</td>\n",
       "      <td>...</td>\n",
       "      <td>...</td>\n",
       "      <td>...</td>\n",
       "      <td>...</td>\n",
       "      <td>...</td>\n",
       "      <td>...</td>\n",
       "      <td>...</td>\n",
       "      <td>...</td>\n",
       "      <td>...</td>\n",
       "      <td>...</td>\n",
       "      <td>...</td>\n",
       "      <td>...</td>\n",
       "    </tr>\n",
       "    <tr>\n",
       "      <th>9824</th>\n",
       "      <td>9909</td>\n",
       "      <td>2015-05-10 12:37:51.0000002</td>\n",
       "      <td>2015-05-10 12:37:51 UTC</td>\n",
       "      <td>-73.968124</td>\n",
       "      <td>40.796997</td>\n",
       "      <td>-73.955643</td>\n",
       "      <td>40.780388</td>\n",
       "      <td>6</td>\n",
       "      <td>2015-05-10 12:37:51</td>\n",
       "      <td>2015-05-10</td>\n",
       "      <td>...</td>\n",
       "      <td>5</td>\n",
       "      <td>10</td>\n",
       "      <td>1</td>\n",
       "      <td>0</td>\n",
       "      <td>0</td>\n",
       "      <td>7</td>\n",
       "      <td>0</td>\n",
       "      <td>0</td>\n",
       "      <td>2</td>\n",
       "      <td>1484.303484</td>\n",
       "    </tr>\n",
       "    <tr>\n",
       "      <th>9825</th>\n",
       "      <td>9910</td>\n",
       "      <td>2015-01-12 17:05:51.0000001</td>\n",
       "      <td>2015-01-12 17:05:51 UTC</td>\n",
       "      <td>-73.945511</td>\n",
       "      <td>40.803600</td>\n",
       "      <td>-73.960213</td>\n",
       "      <td>40.776371</td>\n",
       "      <td>6</td>\n",
       "      <td>2015-01-12 17:05:51</td>\n",
       "      <td>2015-01-12</td>\n",
       "      <td>...</td>\n",
       "      <td>1</td>\n",
       "      <td>12</td>\n",
       "      <td>0</td>\n",
       "      <td>1</td>\n",
       "      <td>0</td>\n",
       "      <td>1</td>\n",
       "      <td>1</td>\n",
       "      <td>1</td>\n",
       "      <td>2</td>\n",
       "      <td>1843.581309</td>\n",
       "    </tr>\n",
       "    <tr>\n",
       "      <th>9826</th>\n",
       "      <td>9911</td>\n",
       "      <td>2015-04-19 20:44:15.0000001</td>\n",
       "      <td>2015-04-19 20:44:15 UTC</td>\n",
       "      <td>-73.991600</td>\n",
       "      <td>40.726608</td>\n",
       "      <td>-73.789742</td>\n",
       "      <td>40.647011</td>\n",
       "      <td>6</td>\n",
       "      <td>2015-04-19 20:44:15</td>\n",
       "      <td>2015-04-19</td>\n",
       "      <td>...</td>\n",
       "      <td>4</td>\n",
       "      <td>19</td>\n",
       "      <td>0</td>\n",
       "      <td>0</td>\n",
       "      <td>1</td>\n",
       "      <td>7</td>\n",
       "      <td>0</td>\n",
       "      <td>1</td>\n",
       "      <td>2</td>\n",
       "      <td>22663.426643</td>\n",
       "    </tr>\n",
       "    <tr>\n",
       "      <th>9827</th>\n",
       "      <td>9912</td>\n",
       "      <td>2015-01-31 01:05:19.0000005</td>\n",
       "      <td>2015-01-31 01:05:19 UTC</td>\n",
       "      <td>-73.985573</td>\n",
       "      <td>40.735432</td>\n",
       "      <td>-73.939178</td>\n",
       "      <td>40.801731</td>\n",
       "      <td>6</td>\n",
       "      <td>2015-01-31 01:05:19</td>\n",
       "      <td>2015-01-31</td>\n",
       "      <td>...</td>\n",
       "      <td>1</td>\n",
       "      <td>31</td>\n",
       "      <td>0</td>\n",
       "      <td>0</td>\n",
       "      <td>1</td>\n",
       "      <td>6</td>\n",
       "      <td>0</td>\n",
       "      <td>1</td>\n",
       "      <td>2</td>\n",
       "      <td>5567.288310</td>\n",
       "    </tr>\n",
       "    <tr>\n",
       "      <th>9828</th>\n",
       "      <td>9913</td>\n",
       "      <td>2015-01-18 14:06:23.0000006</td>\n",
       "      <td>2015-01-18 14:06:23 UTC</td>\n",
       "      <td>-73.988022</td>\n",
       "      <td>40.754070</td>\n",
       "      <td>-74.000282</td>\n",
       "      <td>40.759220</td>\n",
       "      <td>6</td>\n",
       "      <td>2015-01-18 14:06:23</td>\n",
       "      <td>2015-01-18</td>\n",
       "      <td>...</td>\n",
       "      <td>1</td>\n",
       "      <td>18</td>\n",
       "      <td>1</td>\n",
       "      <td>0</td>\n",
       "      <td>0</td>\n",
       "      <td>7</td>\n",
       "      <td>0</td>\n",
       "      <td>0</td>\n",
       "      <td>2</td>\n",
       "      <td>1377.521586</td>\n",
       "    </tr>\n",
       "  </tbody>\n",
       "</table>\n",
       "<p>9829 rows × 24 columns</p>\n",
       "</div>"
      ],
      "text/plain": [
       "      Unnamed: 0                          key          pickup_datetime  \\\n",
       "0              0  2015-01-27 13:08:24.0000002  2015-01-27 13:08:24 UTC   \n",
       "1              1  2015-01-27 13:08:24.0000003  2015-01-27 13:08:24 UTC   \n",
       "2              2  2011-10-08 11:53:44.0000002  2011-10-08 11:53:44 UTC   \n",
       "3              3  2012-12-01 21:12:12.0000002  2012-12-01 21:12:12 UTC   \n",
       "4              4  2012-12-01 21:12:12.0000003  2012-12-01 21:12:12 UTC   \n",
       "...          ...                          ...                      ...   \n",
       "9824        9909  2015-05-10 12:37:51.0000002  2015-05-10 12:37:51 UTC   \n",
       "9825        9910  2015-01-12 17:05:51.0000001  2015-01-12 17:05:51 UTC   \n",
       "9826        9911  2015-04-19 20:44:15.0000001  2015-04-19 20:44:15 UTC   \n",
       "9827        9912  2015-01-31 01:05:19.0000005  2015-01-31 01:05:19 UTC   \n",
       "9828        9913  2015-01-18 14:06:23.0000006  2015-01-18 14:06:23 UTC   \n",
       "\n",
       "      pickup_longitude  pickup_latitude  dropoff_longitude  dropoff_latitude  \\\n",
       "0           -73.973320        40.763805         -73.981430         40.743835   \n",
       "1           -73.986862        40.719383         -73.998886         40.739201   \n",
       "2           -73.982524        40.751260         -73.979654         40.746139   \n",
       "3           -73.981160        40.767807         -73.990448         40.751635   \n",
       "4           -73.966046        40.789775         -73.988565         40.744427   \n",
       "...                ...              ...                ...               ...   \n",
       "9824        -73.968124        40.796997         -73.955643         40.780388   \n",
       "9825        -73.945511        40.803600         -73.960213         40.776371   \n",
       "9826        -73.991600        40.726608         -73.789742         40.647011   \n",
       "9827        -73.985573        40.735432         -73.939178         40.801731   \n",
       "9828        -73.988022        40.754070         -74.000282         40.759220   \n",
       "\n",
       "      passenger_count                 time    log_date  ... log_month  \\\n",
       "0                   1  2015-01-27 13:08:24  2015-01-27  ...         1   \n",
       "1                   1  2015-01-27 13:08:24  2015-01-27  ...         1   \n",
       "2                   1  2011-10-08 11:53:44  2011-10-08  ...        10   \n",
       "3                   1  2012-12-01 21:12:12  2012-12-01  ...        12   \n",
       "4                   1  2012-12-01 21:12:12  2012-12-01  ...        12   \n",
       "...               ...                  ...         ...  ...       ...   \n",
       "9824                6  2015-05-10 12:37:51  2015-05-10  ...         5   \n",
       "9825                6  2015-01-12 17:05:51  2015-01-12  ...         1   \n",
       "9826                6  2015-04-19 20:44:15  2015-04-19  ...         4   \n",
       "9827                6  2015-01-31 01:05:19  2015-01-31  ...         1   \n",
       "9828                6  2015-01-18 14:06:23  2015-01-18  ...         1   \n",
       "\n",
       "      log_day  7to15  16to19  20to6  dayofweek  weekday  is_extracharge  \\\n",
       "0          27      1       0      0          2        1               0   \n",
       "1          27      1       0      0          2        1               0   \n",
       "2           8      1       0      0          6        0               0   \n",
       "3           1      0       0      1          6        0               1   \n",
       "4           1      0       0      1          6        0               1   \n",
       "...       ...    ...     ...    ...        ...      ...             ...   \n",
       "9824       10      1       0      0          7        0               0   \n",
       "9825       12      0       1      0          1        1               1   \n",
       "9826       19      0       0      1          7        0               1   \n",
       "9827       31      0       0      1          6        0               1   \n",
       "9828       18      1       0      0          7        0               0   \n",
       "\n",
       "      taxi_amount      distance  \n",
       "0               1   1094.593298  \n",
       "1               1   1474.196242  \n",
       "2               1    357.075676  \n",
       "3               1   1150.115807  \n",
       "4               1   2875.803386  \n",
       "...           ...           ...  \n",
       "9824            2   1484.303484  \n",
       "9825            2   1843.581309  \n",
       "9826            2  22663.426643  \n",
       "9827            2   5567.288310  \n",
       "9828            2   1377.521586  \n",
       "\n",
       "[9829 rows x 24 columns]"
      ]
     },
     "execution_count": 45,
     "metadata": {},
     "output_type": "execute_result"
    }
   ],
   "source": [
    "test_df = pd.read_csv(\"C:/SOOKTAT/0. 프로젝트/Taxi/data/test2.csv\")\n",
    "\n",
    "test_df"
   ]
  },
  {
   "cell_type": "code",
   "execution_count": 46,
   "id": "edf519b1",
   "metadata": {},
   "outputs": [
    {
     "name": "stdout",
     "output_type": "stream",
     "text": [
      "<class 'pandas.core.frame.DataFrame'>\n",
      "RangeIndex: 9829 entries, 0 to 9828\n",
      "Data columns (total 14 columns):\n",
      " #   Column           Non-Null Count  Dtype  \n",
      "---  ------           --------------  -----  \n",
      " 0   passenger_count  9829 non-null   int64  \n",
      " 1   log_hour         9829 non-null   int64  \n",
      " 2   log_min          9829 non-null   int64  \n",
      " 3   log_year         9829 non-null   int64  \n",
      " 4   log_month        9829 non-null   int64  \n",
      " 5   log_day          9829 non-null   int64  \n",
      " 6   7to15            9829 non-null   int64  \n",
      " 7   16to19           9829 non-null   int64  \n",
      " 8   20to6            9829 non-null   int64  \n",
      " 9   dayofweek        9829 non-null   int64  \n",
      " 10  weekday          9829 non-null   int64  \n",
      " 11  is_extracharge   9829 non-null   int64  \n",
      " 12  taxi_amount      9829 non-null   int64  \n",
      " 13  dist             9829 non-null   float64\n",
      "dtypes: float64(1), int64(13)\n",
      "memory usage: 1.0 MB\n"
     ]
    }
   ],
   "source": [
    "test_df = test_df.drop(columns = ['Unnamed: 0', 'key', 'pickup_datetime', 'pickup_longitude', 'pickup_latitude',\n",
    "                                   'dropoff_longitude', 'dropoff_latitude', 'time', 'log_date', 'log_time'])\n",
    "test_df = test_df.rename(columns={'distance':'dist'})\n",
    "\n",
    "test_df.info()"
   ]
  },
  {
   "cell_type": "code",
   "execution_count": 48,
   "id": "bfeaa398",
   "metadata": {},
   "outputs": [
    {
     "data": {
      "text/plain": [
       "array([ 8.137362,  9.091423,  5.355594, ..., 53.342487, 18.61305 ,\n",
       "        8.649694], dtype=float32)"
      ]
     },
     "execution_count": 48,
     "metadata": {},
     "output_type": "execute_result"
    }
   ],
   "source": [
    "dtest = xgb.DMatrix(test_df)\n",
    "\n",
    "xgb_pred = xgb_model.predict(dtest)\n",
    "\n",
    "xgb_pred"
   ]
  },
  {
   "cell_type": "markdown",
   "id": "b3a4d951",
   "metadata": {},
   "source": [
    "### grid search ....."
   ]
  },
  {
   "cell_type": "code",
   "execution_count": null,
   "id": "c5006ce3",
   "metadata": {},
   "outputs": [],
   "source": [
    "from sklearn.model_selection import GridSearchCV"
   ]
  },
  {
   "cell_type": "code",
   "execution_count": 8,
   "id": "81a3e674",
   "metadata": {},
   "outputs": [],
   "source": [
    "from sklearn.ensemble import RandomForestRegressor\n",
    "import xgboost\n",
    "from xgboost import XGBRegressor\n",
    " \n",
    "def clf3():\n",
    "    rfc = RandomForestRegressor()\n",
    "    xg = XGBRegressor()\n",
    "  \n",
    "    return rfc, xg"
   ]
  },
  {
   "cell_type": "code",
   "execution_count": 17,
   "id": "1635705b",
   "metadata": {},
   "outputs": [],
   "source": [
    "rf_parameters ={'max_depth' : [3,4,7,10] ,\n",
    "                'n_estimators': [3,4, 5,10],\n",
    "                'random_state':[99]}\n",
    "\n",
    "xg_parameters ={'max_depth' : [3,4,7,10] ,\n",
    "                'n_estimators': [12,24,32],\n",
    "                'learning_rate':[0.01, 0.1, 0.3, 0.5],\n",
    "                'random_state':[99]}"
   ]
  },
  {
   "cell_type": "code",
   "execution_count": 12,
   "id": "eb2a05c5",
   "metadata": {},
   "outputs": [],
   "source": [
    "import math\n",
    "from sklearn.metrics import make_scorer\n",
    "\n",
    "mse = make_scorer(mean_squared_error, greater_is_better=False)"
   ]
  },
  {
   "cell_type": "code",
   "execution_count": 14,
   "id": "e1e233ff",
   "metadata": {},
   "outputs": [
    {
     "data": {
      "text/plain": [
       "RandomForestRegressor(max_depth=10, n_estimators=10, random_state=99)"
      ]
     },
     "execution_count": 14,
     "metadata": {},
     "output_type": "execute_result"
    }
   ],
   "source": [
    "from sklearn import model_selection\n",
    "rfc, xg = clf3()\n",
    "\n",
    "#RFC모델에 대한 grid search, scoring기준은 recall값으로, cross-validation은 10회 반복한다는 뜻임\n",
    "grid_search_rf = model_selection.GridSearchCV (estimator = rfc, param_grid = rf_parameters,\n",
    "                                               scoring = mse, cv = 5, n_jobs = -1)\n",
    " \n",
    "grid_search_rf.fit(train_X, train_y)\n",
    "#best hyper parameter값을 받음\n",
    "best_rfc = grid_search_rf.best_estimator_\n",
    "best_rfc"
   ]
  },
  {
   "cell_type": "code",
   "execution_count": 18,
   "id": "89042895",
   "metadata": {},
   "outputs": [
    {
     "data": {
      "text/plain": [
       "XGBRegressor(base_score=0.5, booster='gbtree', colsample_bylevel=1,\n",
       "             colsample_bynode=1, colsample_bytree=1, enable_categorical=False,\n",
       "             gamma=0, gpu_id=-1, importance_type=None,\n",
       "             interaction_constraints='', learning_rate=0.3, max_delta_step=0,\n",
       "             max_depth=7, min_child_weight=1, missing=nan,\n",
       "             monotone_constraints='()', n_estimators=12, n_jobs=8,\n",
       "             num_parallel_tree=1, predictor='auto', random_state=99,\n",
       "             reg_alpha=0, reg_lambda=1, scale_pos_weight=1, subsample=1,\n",
       "             tree_method='exact', validate_parameters=1, verbosity=None)"
      ]
     },
     "execution_count": 18,
     "metadata": {},
     "output_type": "execute_result"
    }
   ],
   "source": [
    "grid_search_xg = model_selection.GridSearchCV (estimator = xg, param_grid = xg_parameters,\n",
    "                                               scoring = mse, cv = 5, n_jobs = -1)\n",
    "grid_search_xg.fit(train_X, train_y)\n",
    "best_xg = grid_search_xg.best_estimator_\n",
    "best_xg"
   ]
  },
  {
   "cell_type": "code",
   "execution_count": 26,
   "id": "bf0c1113",
   "metadata": {},
   "outputs": [],
   "source": [
    "from sklearn.ensemble import RandomForestRegressor\n",
    "\n",
    "rfr = RandomForestRegressor\n",
    "\n",
    "rfr_model = rfr(max_depth=10, n_estimators=10, random_state=99)\n",
    "rfr_model.fit(train_X, train_y)\n",
    "\n",
    "rfr_pred = rfr_model.predict(valid_X)"
   ]
  },
  {
   "cell_type": "code",
   "execution_count": 28,
   "id": "30556d66",
   "metadata": {},
   "outputs": [
    {
     "name": "stdout",
     "output_type": "stream",
     "text": [
      "MAE = 2.86087\n",
      "MSE = 26.19130\n"
     ]
    }
   ],
   "source": [
    "MAE = mean_absolute_error(valid_y, rfr_pred)\n",
    "MSE = mean_squared_error(valid_y, rfr_pred)\n",
    "\n",
    "print('MAE = %.5f' % (MAE))\n",
    "print('MSE = %.5f' % (MSE))"
   ]
  },
  {
   "cell_type": "markdown",
   "id": "31dd3c8f",
   "metadata": {},
   "source": [
    "### test"
   ]
  },
  {
   "cell_type": "code",
   "execution_count": 98,
   "id": "4ac8565f",
   "metadata": {},
   "outputs": [
    {
     "data": {
      "text/html": [
       "<div>\n",
       "<style scoped>\n",
       "    .dataframe tbody tr th:only-of-type {\n",
       "        vertical-align: middle;\n",
       "    }\n",
       "\n",
       "    .dataframe tbody tr th {\n",
       "        vertical-align: top;\n",
       "    }\n",
       "\n",
       "    .dataframe thead th {\n",
       "        text-align: right;\n",
       "    }\n",
       "</style>\n",
       "<table border=\"1\" class=\"dataframe\">\n",
       "  <thead>\n",
       "    <tr style=\"text-align: right;\">\n",
       "      <th></th>\n",
       "      <th>key</th>\n",
       "      <th>pickup_datetime</th>\n",
       "      <th>pickup_longitude</th>\n",
       "      <th>pickup_latitude</th>\n",
       "      <th>dropoff_longitude</th>\n",
       "      <th>dropoff_latitude</th>\n",
       "      <th>passenger_count</th>\n",
       "    </tr>\n",
       "  </thead>\n",
       "  <tbody>\n",
       "    <tr>\n",
       "      <th>0</th>\n",
       "      <td>2015-01-27 13:08:24.0000002</td>\n",
       "      <td>2015-01-27 13:08:24 UTC</td>\n",
       "      <td>-73.973320</td>\n",
       "      <td>40.763805</td>\n",
       "      <td>-73.981430</td>\n",
       "      <td>40.743835</td>\n",
       "      <td>1</td>\n",
       "    </tr>\n",
       "    <tr>\n",
       "      <th>1</th>\n",
       "      <td>2015-01-27 13:08:24.0000003</td>\n",
       "      <td>2015-01-27 13:08:24 UTC</td>\n",
       "      <td>-73.986862</td>\n",
       "      <td>40.719383</td>\n",
       "      <td>-73.998886</td>\n",
       "      <td>40.739201</td>\n",
       "      <td>1</td>\n",
       "    </tr>\n",
       "    <tr>\n",
       "      <th>2</th>\n",
       "      <td>2011-10-08 11:53:44.0000002</td>\n",
       "      <td>2011-10-08 11:53:44 UTC</td>\n",
       "      <td>-73.982524</td>\n",
       "      <td>40.751260</td>\n",
       "      <td>-73.979654</td>\n",
       "      <td>40.746139</td>\n",
       "      <td>1</td>\n",
       "    </tr>\n",
       "    <tr>\n",
       "      <th>3</th>\n",
       "      <td>2012-12-01 21:12:12.0000002</td>\n",
       "      <td>2012-12-01 21:12:12 UTC</td>\n",
       "      <td>-73.981160</td>\n",
       "      <td>40.767807</td>\n",
       "      <td>-73.990448</td>\n",
       "      <td>40.751635</td>\n",
       "      <td>1</td>\n",
       "    </tr>\n",
       "    <tr>\n",
       "      <th>4</th>\n",
       "      <td>2012-12-01 21:12:12.0000003</td>\n",
       "      <td>2012-12-01 21:12:12 UTC</td>\n",
       "      <td>-73.966046</td>\n",
       "      <td>40.789775</td>\n",
       "      <td>-73.988565</td>\n",
       "      <td>40.744427</td>\n",
       "      <td>1</td>\n",
       "    </tr>\n",
       "    <tr>\n",
       "      <th>...</th>\n",
       "      <td>...</td>\n",
       "      <td>...</td>\n",
       "      <td>...</td>\n",
       "      <td>...</td>\n",
       "      <td>...</td>\n",
       "      <td>...</td>\n",
       "      <td>...</td>\n",
       "    </tr>\n",
       "    <tr>\n",
       "      <th>9909</th>\n",
       "      <td>2015-05-10 12:37:51.0000002</td>\n",
       "      <td>2015-05-10 12:37:51 UTC</td>\n",
       "      <td>-73.968124</td>\n",
       "      <td>40.796997</td>\n",
       "      <td>-73.955643</td>\n",
       "      <td>40.780388</td>\n",
       "      <td>6</td>\n",
       "    </tr>\n",
       "    <tr>\n",
       "      <th>9910</th>\n",
       "      <td>2015-01-12 17:05:51.0000001</td>\n",
       "      <td>2015-01-12 17:05:51 UTC</td>\n",
       "      <td>-73.945511</td>\n",
       "      <td>40.803600</td>\n",
       "      <td>-73.960213</td>\n",
       "      <td>40.776371</td>\n",
       "      <td>6</td>\n",
       "    </tr>\n",
       "    <tr>\n",
       "      <th>9911</th>\n",
       "      <td>2015-04-19 20:44:15.0000001</td>\n",
       "      <td>2015-04-19 20:44:15 UTC</td>\n",
       "      <td>-73.991600</td>\n",
       "      <td>40.726608</td>\n",
       "      <td>-73.789742</td>\n",
       "      <td>40.647011</td>\n",
       "      <td>6</td>\n",
       "    </tr>\n",
       "    <tr>\n",
       "      <th>9912</th>\n",
       "      <td>2015-01-31 01:05:19.0000005</td>\n",
       "      <td>2015-01-31 01:05:19 UTC</td>\n",
       "      <td>-73.985573</td>\n",
       "      <td>40.735432</td>\n",
       "      <td>-73.939178</td>\n",
       "      <td>40.801731</td>\n",
       "      <td>6</td>\n",
       "    </tr>\n",
       "    <tr>\n",
       "      <th>9913</th>\n",
       "      <td>2015-01-18 14:06:23.0000006</td>\n",
       "      <td>2015-01-18 14:06:23 UTC</td>\n",
       "      <td>-73.988022</td>\n",
       "      <td>40.754070</td>\n",
       "      <td>-74.000282</td>\n",
       "      <td>40.759220</td>\n",
       "      <td>6</td>\n",
       "    </tr>\n",
       "  </tbody>\n",
       "</table>\n",
       "<p>9914 rows × 7 columns</p>\n",
       "</div>"
      ],
      "text/plain": [
       "                              key          pickup_datetime  pickup_longitude  \\\n",
       "0     2015-01-27 13:08:24.0000002  2015-01-27 13:08:24 UTC        -73.973320   \n",
       "1     2015-01-27 13:08:24.0000003  2015-01-27 13:08:24 UTC        -73.986862   \n",
       "2     2011-10-08 11:53:44.0000002  2011-10-08 11:53:44 UTC        -73.982524   \n",
       "3     2012-12-01 21:12:12.0000002  2012-12-01 21:12:12 UTC        -73.981160   \n",
       "4     2012-12-01 21:12:12.0000003  2012-12-01 21:12:12 UTC        -73.966046   \n",
       "...                           ...                      ...               ...   \n",
       "9909  2015-05-10 12:37:51.0000002  2015-05-10 12:37:51 UTC        -73.968124   \n",
       "9910  2015-01-12 17:05:51.0000001  2015-01-12 17:05:51 UTC        -73.945511   \n",
       "9911  2015-04-19 20:44:15.0000001  2015-04-19 20:44:15 UTC        -73.991600   \n",
       "9912  2015-01-31 01:05:19.0000005  2015-01-31 01:05:19 UTC        -73.985573   \n",
       "9913  2015-01-18 14:06:23.0000006  2015-01-18 14:06:23 UTC        -73.988022   \n",
       "\n",
       "      pickup_latitude  dropoff_longitude  dropoff_latitude  passenger_count  \n",
       "0           40.763805         -73.981430         40.743835                1  \n",
       "1           40.719383         -73.998886         40.739201                1  \n",
       "2           40.751260         -73.979654         40.746139                1  \n",
       "3           40.767807         -73.990448         40.751635                1  \n",
       "4           40.789775         -73.988565         40.744427                1  \n",
       "...               ...                ...               ...              ...  \n",
       "9909        40.796997         -73.955643         40.780388                6  \n",
       "9910        40.803600         -73.960213         40.776371                6  \n",
       "9911        40.726608         -73.789742         40.647011                6  \n",
       "9912        40.735432         -73.939178         40.801731                6  \n",
       "9913        40.754070         -74.000282         40.759220                6  \n",
       "\n",
       "[9914 rows x 7 columns]"
      ]
     },
     "execution_count": 98,
     "metadata": {},
     "output_type": "execute_result"
    }
   ],
   "source": [
    "test_df = pd.read_csv(\"C:/SOOKTAT/0. 프로젝트/Taxi/data/test.csv\")\n",
    "\n",
    "test_df"
   ]
  },
  {
   "cell_type": "markdown",
   "id": "a18d7d16",
   "metadata": {},
   "source": [
    "#### test 데이터셋 만드는데 주영님 코드 사용했습니다 감사합니다 .."
   ]
  },
  {
   "cell_type": "code",
   "execution_count": 99,
   "id": "210b5a4c",
   "metadata": {},
   "outputs": [],
   "source": [
    "test_df['time'] = pd.to_datetime(test_df.pickup_datetime, format='%Y-%m-%d %H:%M:%S UTC')\n",
    "# 날짜 추출하기\n",
    "test_df['log_date'] = test_df['time'].dt.date\n",
    " \n",
    "# 시간 추출하기\n",
    "test_df['log_time'] = test_df['time'].dt.time\n",
    " \n",
    "# 시 추출하기\n",
    "test_df['log_hour'] = test_df['time'].dt.hour\n",
    " \n",
    "# 분 추출하기\n",
    "test_df['log_min'] = test_df['time'].dt.minute\n",
    "\n",
    "# 연도 추출하기\n",
    "test_df['log_year'] = test_df['time'].dt.year\n",
    "\n",
    "# 월 추출하기\n",
    "test_df['log_month'] = test_df['time'].dt.month\n",
    "\n",
    "# 일 추출하기\n",
    "test_df['log_day'] = test_df['time'].dt.day"
   ]
  },
  {
   "cell_type": "code",
   "execution_count": 100,
   "id": "4cb8bac3",
   "metadata": {},
   "outputs": [],
   "source": [
    "def is_7to15(x):\n",
    "    if (x >= 7) & (x <= 15):\n",
    "        return 1\n",
    "    else:\n",
    "        return 0\n",
    "    \n",
    "test_df['7to15'] = test_df['log_hour'].apply(is_7to15)\n",
    "\n",
    "def is_16to19(x):\n",
    "    if (x >= 16) & (x < 20):\n",
    "        return 1\n",
    "    else:\n",
    "        return 0\n",
    "    \n",
    "test_df['16to19'] = test_df['log_hour'].apply(is_16to19)\n",
    "\n",
    "def is_20to6(x):\n",
    "    if (x >= 20) | (x <= 6):\n",
    "        return 1\n",
    "    else:\n",
    "        return 0\n",
    "    \n",
    "test_df['20to6'] = test_df['log_hour'].apply(is_20to6)"
   ]
  },
  {
   "cell_type": "code",
   "execution_count": 101,
   "id": "8421638b",
   "metadata": {},
   "outputs": [],
   "source": [
    "test_df['dayofweek'] = test_df['time'].dt.strftime(\"%u\")\n",
    "\n",
    "def is_weekday(x):\n",
    "    if (int(x) < 6):\n",
    "        return 1\n",
    "    else:\n",
    "        return 0\n",
    "test_df['weekday'] = test_df['dayofweek'].apply(is_weekday)"
   ]
  },
  {
   "cell_type": "code",
   "execution_count": 102,
   "id": "d52ce161",
   "metadata": {},
   "outputs": [],
   "source": [
    "test_df['is_extracharge'] = 0\n",
    "# 20시부터 6시까지\n",
    "\n",
    "test_df.loc[test_df['20to6'] == 1, 'is_extracharge'] = 1\n",
    "# 월~금 16시부터 20시까지\n",
    "\n",
    "test_df.loc[(test_df['weekday'] == 1) & (test_df['16to19'] == 1), 'is_extracharge'] = 1"
   ]
  },
  {
   "cell_type": "code",
   "execution_count": 103,
   "id": "418d3cb5",
   "metadata": {},
   "outputs": [],
   "source": [
    "test_df['taxi_amount'] = [1 if i<=4 else 2 for i in test_df['passenger_count']]"
   ]
  },
  {
   "cell_type": "code",
   "execution_count": 104,
   "id": "0fc2f307",
   "metadata": {},
   "outputs": [
    {
     "data": {
      "text/html": [
       "<div>\n",
       "<style scoped>\n",
       "    .dataframe tbody tr th:only-of-type {\n",
       "        vertical-align: middle;\n",
       "    }\n",
       "\n",
       "    .dataframe tbody tr th {\n",
       "        vertical-align: top;\n",
       "    }\n",
       "\n",
       "    .dataframe thead th {\n",
       "        text-align: right;\n",
       "    }\n",
       "</style>\n",
       "<table border=\"1\" class=\"dataframe\">\n",
       "  <thead>\n",
       "    <tr style=\"text-align: right;\">\n",
       "      <th></th>\n",
       "      <th>dropoff_longitude</th>\n",
       "      <th>dropoff_latitude</th>\n",
       "    </tr>\n",
       "  </thead>\n",
       "  <tbody>\n",
       "    <tr>\n",
       "      <th>0</th>\n",
       "      <td>-73.981430</td>\n",
       "      <td>40.743835</td>\n",
       "    </tr>\n",
       "    <tr>\n",
       "      <th>1</th>\n",
       "      <td>-73.998886</td>\n",
       "      <td>40.739201</td>\n",
       "    </tr>\n",
       "    <tr>\n",
       "      <th>2</th>\n",
       "      <td>-73.979654</td>\n",
       "      <td>40.746139</td>\n",
       "    </tr>\n",
       "    <tr>\n",
       "      <th>3</th>\n",
       "      <td>-73.990448</td>\n",
       "      <td>40.751635</td>\n",
       "    </tr>\n",
       "    <tr>\n",
       "      <th>4</th>\n",
       "      <td>-73.988565</td>\n",
       "      <td>40.744427</td>\n",
       "    </tr>\n",
       "    <tr>\n",
       "      <th>...</th>\n",
       "      <td>...</td>\n",
       "      <td>...</td>\n",
       "    </tr>\n",
       "    <tr>\n",
       "      <th>9909</th>\n",
       "      <td>-73.955643</td>\n",
       "      <td>40.780388</td>\n",
       "    </tr>\n",
       "    <tr>\n",
       "      <th>9910</th>\n",
       "      <td>-73.960213</td>\n",
       "      <td>40.776371</td>\n",
       "    </tr>\n",
       "    <tr>\n",
       "      <th>9911</th>\n",
       "      <td>-73.789742</td>\n",
       "      <td>40.647011</td>\n",
       "    </tr>\n",
       "    <tr>\n",
       "      <th>9912</th>\n",
       "      <td>-73.939178</td>\n",
       "      <td>40.801731</td>\n",
       "    </tr>\n",
       "    <tr>\n",
       "      <th>9913</th>\n",
       "      <td>-74.000282</td>\n",
       "      <td>40.759220</td>\n",
       "    </tr>\n",
       "  </tbody>\n",
       "</table>\n",
       "<p>9914 rows × 2 columns</p>\n",
       "</div>"
      ],
      "text/plain": [
       "      dropoff_longitude  dropoff_latitude\n",
       "0            -73.981430         40.743835\n",
       "1            -73.998886         40.739201\n",
       "2            -73.979654         40.746139\n",
       "3            -73.990448         40.751635\n",
       "4            -73.988565         40.744427\n",
       "...                 ...               ...\n",
       "9909         -73.955643         40.780388\n",
       "9910         -73.960213         40.776371\n",
       "9911         -73.789742         40.647011\n",
       "9912         -73.939178         40.801731\n",
       "9913         -74.000282         40.759220\n",
       "\n",
       "[9914 rows x 2 columns]"
      ]
     },
     "execution_count": 104,
     "metadata": {},
     "output_type": "execute_result"
    }
   ],
   "source": [
    "pickup = test_df[['pickup_longitude','pickup_latitude']]\n",
    "pd.DataFrame(pickup)\n",
    "\n",
    "dropoff = test_df[['dropoff_longitude','dropoff_latitude']]\n",
    "pd.DataFrame(dropoff)"
   ]
  },
  {
   "cell_type": "code",
   "execution_count": 105,
   "id": "7b521654",
   "metadata": {},
   "outputs": [],
   "source": [
    "from geopy.distance import distance\n",
    "dist = []\n",
    "\n",
    "for i in range(len(dropoff.index)):\n",
    "    result = distance(pickup.values[i], dropoff.values[i]).m\n",
    "    dist.append(result)\n",
    "\n",
    "test_df['dist'] = dist"
   ]
  },
  {
   "cell_type": "code",
   "execution_count": 106,
   "id": "68a6d9fd",
   "metadata": {},
   "outputs": [],
   "source": [
    "test_df = test_df[['key', 'passenger_count', 'log_hour', 'log_min', 'log_year', 'log_month',\n",
    "                  'log_day', '7to15', '16to19', '20to6', 'dayofweek', 'weekday', 'is_extracharge',\n",
    "                   'taxi_amount', 'dist']]"
   ]
  },
  {
   "cell_type": "code",
   "execution_count": 107,
   "id": "5f96f1ab",
   "metadata": {},
   "outputs": [
    {
     "data": {
      "text/html": [
       "<div>\n",
       "<style scoped>\n",
       "    .dataframe tbody tr th:only-of-type {\n",
       "        vertical-align: middle;\n",
       "    }\n",
       "\n",
       "    .dataframe tbody tr th {\n",
       "        vertical-align: top;\n",
       "    }\n",
       "\n",
       "    .dataframe thead th {\n",
       "        text-align: right;\n",
       "    }\n",
       "</style>\n",
       "<table border=\"1\" class=\"dataframe\">\n",
       "  <thead>\n",
       "    <tr style=\"text-align: right;\">\n",
       "      <th></th>\n",
       "      <th>key</th>\n",
       "      <th>passenger_count</th>\n",
       "      <th>log_hour</th>\n",
       "      <th>log_min</th>\n",
       "      <th>log_year</th>\n",
       "      <th>log_month</th>\n",
       "      <th>log_day</th>\n",
       "      <th>7to15</th>\n",
       "      <th>16to19</th>\n",
       "      <th>20to6</th>\n",
       "      <th>dayofweek</th>\n",
       "      <th>weekday</th>\n",
       "      <th>is_extracharge</th>\n",
       "      <th>taxi_amount</th>\n",
       "      <th>dist</th>\n",
       "    </tr>\n",
       "  </thead>\n",
       "  <tbody>\n",
       "    <tr>\n",
       "      <th>0</th>\n",
       "      <td>2015-01-27 13:08:24.0000002</td>\n",
       "      <td>1</td>\n",
       "      <td>13</td>\n",
       "      <td>8</td>\n",
       "      <td>2015</td>\n",
       "      <td>1</td>\n",
       "      <td>27</td>\n",
       "      <td>1</td>\n",
       "      <td>0</td>\n",
       "      <td>0</td>\n",
       "      <td>2</td>\n",
       "      <td>1</td>\n",
       "      <td>0</td>\n",
       "      <td>1</td>\n",
       "      <td>1094.593298</td>\n",
       "    </tr>\n",
       "    <tr>\n",
       "      <th>1</th>\n",
       "      <td>2015-01-27 13:08:24.0000003</td>\n",
       "      <td>1</td>\n",
       "      <td>13</td>\n",
       "      <td>8</td>\n",
       "      <td>2015</td>\n",
       "      <td>1</td>\n",
       "      <td>27</td>\n",
       "      <td>1</td>\n",
       "      <td>0</td>\n",
       "      <td>0</td>\n",
       "      <td>2</td>\n",
       "      <td>1</td>\n",
       "      <td>0</td>\n",
       "      <td>1</td>\n",
       "      <td>1474.196242</td>\n",
       "    </tr>\n",
       "    <tr>\n",
       "      <th>2</th>\n",
       "      <td>2011-10-08 11:53:44.0000002</td>\n",
       "      <td>1</td>\n",
       "      <td>11</td>\n",
       "      <td>53</td>\n",
       "      <td>2011</td>\n",
       "      <td>10</td>\n",
       "      <td>8</td>\n",
       "      <td>1</td>\n",
       "      <td>0</td>\n",
       "      <td>0</td>\n",
       "      <td>6</td>\n",
       "      <td>0</td>\n",
       "      <td>0</td>\n",
       "      <td>1</td>\n",
       "      <td>357.075676</td>\n",
       "    </tr>\n",
       "    <tr>\n",
       "      <th>3</th>\n",
       "      <td>2012-12-01 21:12:12.0000002</td>\n",
       "      <td>1</td>\n",
       "      <td>21</td>\n",
       "      <td>12</td>\n",
       "      <td>2012</td>\n",
       "      <td>12</td>\n",
       "      <td>1</td>\n",
       "      <td>0</td>\n",
       "      <td>0</td>\n",
       "      <td>1</td>\n",
       "      <td>6</td>\n",
       "      <td>0</td>\n",
       "      <td>1</td>\n",
       "      <td>1</td>\n",
       "      <td>1150.115807</td>\n",
       "    </tr>\n",
       "    <tr>\n",
       "      <th>4</th>\n",
       "      <td>2012-12-01 21:12:12.0000003</td>\n",
       "      <td>1</td>\n",
       "      <td>21</td>\n",
       "      <td>12</td>\n",
       "      <td>2012</td>\n",
       "      <td>12</td>\n",
       "      <td>1</td>\n",
       "      <td>0</td>\n",
       "      <td>0</td>\n",
       "      <td>1</td>\n",
       "      <td>6</td>\n",
       "      <td>0</td>\n",
       "      <td>1</td>\n",
       "      <td>1</td>\n",
       "      <td>2875.803386</td>\n",
       "    </tr>\n",
       "    <tr>\n",
       "      <th>...</th>\n",
       "      <td>...</td>\n",
       "      <td>...</td>\n",
       "      <td>...</td>\n",
       "      <td>...</td>\n",
       "      <td>...</td>\n",
       "      <td>...</td>\n",
       "      <td>...</td>\n",
       "      <td>...</td>\n",
       "      <td>...</td>\n",
       "      <td>...</td>\n",
       "      <td>...</td>\n",
       "      <td>...</td>\n",
       "      <td>...</td>\n",
       "      <td>...</td>\n",
       "      <td>...</td>\n",
       "    </tr>\n",
       "    <tr>\n",
       "      <th>9909</th>\n",
       "      <td>2015-05-10 12:37:51.0000002</td>\n",
       "      <td>6</td>\n",
       "      <td>12</td>\n",
       "      <td>37</td>\n",
       "      <td>2015</td>\n",
       "      <td>5</td>\n",
       "      <td>10</td>\n",
       "      <td>1</td>\n",
       "      <td>0</td>\n",
       "      <td>0</td>\n",
       "      <td>7</td>\n",
       "      <td>0</td>\n",
       "      <td>0</td>\n",
       "      <td>2</td>\n",
       "      <td>1484.303484</td>\n",
       "    </tr>\n",
       "    <tr>\n",
       "      <th>9910</th>\n",
       "      <td>2015-01-12 17:05:51.0000001</td>\n",
       "      <td>6</td>\n",
       "      <td>17</td>\n",
       "      <td>5</td>\n",
       "      <td>2015</td>\n",
       "      <td>1</td>\n",
       "      <td>12</td>\n",
       "      <td>0</td>\n",
       "      <td>1</td>\n",
       "      <td>0</td>\n",
       "      <td>1</td>\n",
       "      <td>1</td>\n",
       "      <td>1</td>\n",
       "      <td>2</td>\n",
       "      <td>1843.581309</td>\n",
       "    </tr>\n",
       "    <tr>\n",
       "      <th>9911</th>\n",
       "      <td>2015-04-19 20:44:15.0000001</td>\n",
       "      <td>6</td>\n",
       "      <td>20</td>\n",
       "      <td>44</td>\n",
       "      <td>2015</td>\n",
       "      <td>4</td>\n",
       "      <td>19</td>\n",
       "      <td>0</td>\n",
       "      <td>0</td>\n",
       "      <td>1</td>\n",
       "      <td>7</td>\n",
       "      <td>0</td>\n",
       "      <td>1</td>\n",
       "      <td>2</td>\n",
       "      <td>22663.426643</td>\n",
       "    </tr>\n",
       "    <tr>\n",
       "      <th>9912</th>\n",
       "      <td>2015-01-31 01:05:19.0000005</td>\n",
       "      <td>6</td>\n",
       "      <td>1</td>\n",
       "      <td>5</td>\n",
       "      <td>2015</td>\n",
       "      <td>1</td>\n",
       "      <td>31</td>\n",
       "      <td>0</td>\n",
       "      <td>0</td>\n",
       "      <td>1</td>\n",
       "      <td>6</td>\n",
       "      <td>0</td>\n",
       "      <td>1</td>\n",
       "      <td>2</td>\n",
       "      <td>5567.288310</td>\n",
       "    </tr>\n",
       "    <tr>\n",
       "      <th>9913</th>\n",
       "      <td>2015-01-18 14:06:23.0000006</td>\n",
       "      <td>6</td>\n",
       "      <td>14</td>\n",
       "      <td>6</td>\n",
       "      <td>2015</td>\n",
       "      <td>1</td>\n",
       "      <td>18</td>\n",
       "      <td>1</td>\n",
       "      <td>0</td>\n",
       "      <td>0</td>\n",
       "      <td>7</td>\n",
       "      <td>0</td>\n",
       "      <td>0</td>\n",
       "      <td>2</td>\n",
       "      <td>1377.521586</td>\n",
       "    </tr>\n",
       "  </tbody>\n",
       "</table>\n",
       "<p>9914 rows × 15 columns</p>\n",
       "</div>"
      ],
      "text/plain": [
       "                              key  passenger_count  log_hour  log_min  \\\n",
       "0     2015-01-27 13:08:24.0000002                1        13        8   \n",
       "1     2015-01-27 13:08:24.0000003                1        13        8   \n",
       "2     2011-10-08 11:53:44.0000002                1        11       53   \n",
       "3     2012-12-01 21:12:12.0000002                1        21       12   \n",
       "4     2012-12-01 21:12:12.0000003                1        21       12   \n",
       "...                           ...              ...       ...      ...   \n",
       "9909  2015-05-10 12:37:51.0000002                6        12       37   \n",
       "9910  2015-01-12 17:05:51.0000001                6        17        5   \n",
       "9911  2015-04-19 20:44:15.0000001                6        20       44   \n",
       "9912  2015-01-31 01:05:19.0000005                6         1        5   \n",
       "9913  2015-01-18 14:06:23.0000006                6        14        6   \n",
       "\n",
       "      log_year  log_month  log_day  7to15  16to19  20to6 dayofweek  weekday  \\\n",
       "0         2015          1       27      1       0      0         2        1   \n",
       "1         2015          1       27      1       0      0         2        1   \n",
       "2         2011         10        8      1       0      0         6        0   \n",
       "3         2012         12        1      0       0      1         6        0   \n",
       "4         2012         12        1      0       0      1         6        0   \n",
       "...        ...        ...      ...    ...     ...    ...       ...      ...   \n",
       "9909      2015          5       10      1       0      0         7        0   \n",
       "9910      2015          1       12      0       1      0         1        1   \n",
       "9911      2015          4       19      0       0      1         7        0   \n",
       "9912      2015          1       31      0       0      1         6        0   \n",
       "9913      2015          1       18      1       0      0         7        0   \n",
       "\n",
       "      is_extracharge  taxi_amount          dist  \n",
       "0                  0            1   1094.593298  \n",
       "1                  0            1   1474.196242  \n",
       "2                  0            1    357.075676  \n",
       "3                  1            1   1150.115807  \n",
       "4                  1            1   2875.803386  \n",
       "...              ...          ...           ...  \n",
       "9909               0            2   1484.303484  \n",
       "9910               1            2   1843.581309  \n",
       "9911               1            2  22663.426643  \n",
       "9912               1            2   5567.288310  \n",
       "9913               0            2   1377.521586  \n",
       "\n",
       "[9914 rows x 15 columns]"
      ]
     },
     "execution_count": 107,
     "metadata": {},
     "output_type": "execute_result"
    }
   ],
   "source": [
    "test_df"
   ]
  },
  {
   "cell_type": "code",
   "execution_count": 108,
   "id": "9a2a014a",
   "metadata": {},
   "outputs": [
    {
     "name": "stdout",
     "output_type": "stream",
     "text": [
      "<class 'pandas.core.frame.DataFrame'>\n",
      "RangeIndex: 9914 entries, 0 to 9913\n",
      "Data columns (total 15 columns):\n",
      " #   Column           Non-Null Count  Dtype  \n",
      "---  ------           --------------  -----  \n",
      " 0   key              9914 non-null   object \n",
      " 1   passenger_count  9914 non-null   int64  \n",
      " 2   log_hour         9914 non-null   int64  \n",
      " 3   log_min          9914 non-null   int64  \n",
      " 4   log_year         9914 non-null   int64  \n",
      " 5   log_month        9914 non-null   int64  \n",
      " 6   log_day          9914 non-null   int64  \n",
      " 7   7to15            9914 non-null   int64  \n",
      " 8   16to19           9914 non-null   int64  \n",
      " 9   20to6            9914 non-null   int64  \n",
      " 10  dayofweek        9914 non-null   object \n",
      " 11  weekday          9914 non-null   int64  \n",
      " 12  is_extracharge   9914 non-null   int64  \n",
      " 13  taxi_amount      9914 non-null   int64  \n",
      " 14  dist             9914 non-null   float64\n",
      "dtypes: float64(1), int64(12), object(2)\n",
      "memory usage: 1.1+ MB\n"
     ]
    }
   ],
   "source": [
    "test_df.info()"
   ]
  },
  {
   "cell_type": "code",
   "execution_count": 109,
   "id": "a0a23145",
   "metadata": {},
   "outputs": [
    {
     "name": "stdout",
     "output_type": "stream",
     "text": [
      "<class 'pandas.core.frame.DataFrame'>\n",
      "RangeIndex: 9914 entries, 0 to 9913\n",
      "Data columns (total 15 columns):\n",
      " #   Column           Non-Null Count  Dtype  \n",
      "---  ------           --------------  -----  \n",
      " 0   key              9914 non-null   object \n",
      " 1   passenger_count  9914 non-null   int64  \n",
      " 2   log_hour         9914 non-null   int64  \n",
      " 3   log_min          9914 non-null   int64  \n",
      " 4   log_year         9914 non-null   int64  \n",
      " 5   log_month        9914 non-null   int64  \n",
      " 6   log_day          9914 non-null   int64  \n",
      " 7   7to15            9914 non-null   int64  \n",
      " 8   16to19           9914 non-null   int64  \n",
      " 9   20to6            9914 non-null   int64  \n",
      " 10  dayofweek        9914 non-null   int32  \n",
      " 11  weekday          9914 non-null   int64  \n",
      " 12  is_extracharge   9914 non-null   int64  \n",
      " 13  taxi_amount      9914 non-null   int64  \n",
      " 14  dist             9914 non-null   float64\n",
      "dtypes: float64(1), int32(1), int64(12), object(1)\n",
      "memory usage: 1.1+ MB\n"
     ]
    }
   ],
   "source": [
    "test_df = test_df.astype({'dayofweek':'int'})\n",
    "test_df.info()"
   ]
  },
  {
   "cell_type": "code",
   "execution_count": 110,
   "id": "c4207e05",
   "metadata": {},
   "outputs": [],
   "source": [
    "test_df.to_csv(\"C:/SOOKTAT/0. 프로젝트/Taxi/data/test3.csv\")"
   ]
  },
  {
   "cell_type": "code",
   "execution_count": 95,
   "id": "4c0cfd10",
   "metadata": {},
   "outputs": [
    {
     "data": {
      "text/plain": [
       "array([ 8.137362,  9.091423,  5.355594, ..., 53.342487, 18.61305 ,\n",
       "        8.649694], dtype=float32)"
      ]
     },
     "execution_count": 95,
     "metadata": {},
     "output_type": "execute_result"
    }
   ],
   "source": [
    "test_df = test_df.drop(columns = ['key'])\n",
    "dtest = xgb.DMatrix(test_df)\n",
    "\n",
    "xgb_pred = xgb_model.predict(dtest)\n",
    "\n",
    "xgb_pred"
   ]
  },
  {
   "cell_type": "code",
   "execution_count": null,
   "id": "e4aab78e",
   "metadata": {},
   "outputs": [],
   "source": []
  },
  {
   "cell_type": "code",
   "execution_count": 96,
   "id": "9598b520",
   "metadata": {},
   "outputs": [
    {
     "data": {
      "text/html": [
       "<div>\n",
       "<style scoped>\n",
       "    .dataframe tbody tr th:only-of-type {\n",
       "        vertical-align: middle;\n",
       "    }\n",
       "\n",
       "    .dataframe tbody tr th {\n",
       "        vertical-align: top;\n",
       "    }\n",
       "\n",
       "    .dataframe thead th {\n",
       "        text-align: right;\n",
       "    }\n",
       "</style>\n",
       "<table border=\"1\" class=\"dataframe\">\n",
       "  <thead>\n",
       "    <tr style=\"text-align: right;\">\n",
       "      <th></th>\n",
       "      <th>fare_amount</th>\n",
       "    </tr>\n",
       "    <tr>\n",
       "      <th>key</th>\n",
       "      <th></th>\n",
       "    </tr>\n",
       "  </thead>\n",
       "  <tbody>\n",
       "    <tr>\n",
       "      <th>2015-01-27 13:08:24.0000002</th>\n",
       "      <td>8.137362</td>\n",
       "    </tr>\n",
       "    <tr>\n",
       "      <th>2015-01-27 13:08:24.0000003</th>\n",
       "      <td>9.091423</td>\n",
       "    </tr>\n",
       "    <tr>\n",
       "      <th>2011-10-08 11:53:44.0000002</th>\n",
       "      <td>5.355594</td>\n",
       "    </tr>\n",
       "    <tr>\n",
       "      <th>2012-12-01 21:12:12.0000002</th>\n",
       "      <td>7.948165</td>\n",
       "    </tr>\n",
       "    <tr>\n",
       "      <th>2012-12-01 21:12:12.0000003</th>\n",
       "      <td>12.582137</td>\n",
       "    </tr>\n",
       "    <tr>\n",
       "      <th>...</th>\n",
       "      <td>...</td>\n",
       "    </tr>\n",
       "    <tr>\n",
       "      <th>2015-05-10 12:37:51.0000002</th>\n",
       "      <td>9.055474</td>\n",
       "    </tr>\n",
       "    <tr>\n",
       "      <th>2015-01-12 17:05:51.0000001</th>\n",
       "      <td>9.921498</td>\n",
       "    </tr>\n",
       "    <tr>\n",
       "      <th>2015-04-19 20:44:15.0000001</th>\n",
       "      <td>53.342487</td>\n",
       "    </tr>\n",
       "    <tr>\n",
       "      <th>2015-01-31 01:05:19.0000005</th>\n",
       "      <td>18.613050</td>\n",
       "    </tr>\n",
       "    <tr>\n",
       "      <th>2015-01-18 14:06:23.0000006</th>\n",
       "      <td>8.649694</td>\n",
       "    </tr>\n",
       "  </tbody>\n",
       "</table>\n",
       "<p>9914 rows × 1 columns</p>\n",
       "</div>"
      ],
      "text/plain": [
       "                             fare_amount\n",
       "key                                     \n",
       "2015-01-27 13:08:24.0000002     8.137362\n",
       "2015-01-27 13:08:24.0000003     9.091423\n",
       "2011-10-08 11:53:44.0000002     5.355594\n",
       "2012-12-01 21:12:12.0000002     7.948165\n",
       "2012-12-01 21:12:12.0000003    12.582137\n",
       "...                                  ...\n",
       "2015-05-10 12:37:51.0000002     9.055474\n",
       "2015-01-12 17:05:51.0000001     9.921498\n",
       "2015-04-19 20:44:15.0000001    53.342487\n",
       "2015-01-31 01:05:19.0000005    18.613050\n",
       "2015-01-18 14:06:23.0000006     8.649694\n",
       "\n",
       "[9914 rows x 1 columns]"
      ]
     },
     "execution_count": 96,
     "metadata": {},
     "output_type": "execute_result"
    }
   ],
   "source": [
    "sub_df = pd.read_csv(\"C:/SOOKTAT/0. 프로젝트/Taxi/data/test3.csv\")\n",
    "sub_df['fare_amount'] = xgb_pred\n",
    "sub_df = sub_df[['key', 'fare_amount']]\n",
    "sub_df = sub_df.set_index(['key'])\n",
    "\n",
    "sub_df"
   ]
  },
  {
   "cell_type": "code",
   "execution_count": 97,
   "id": "d3f91f16",
   "metadata": {},
   "outputs": [],
   "source": [
    "sub_df.to_csv(\"C:/SOOKTAT/0. 프로젝트/Taxi/data/submission.csv\")"
   ]
  },
  {
   "cell_type": "code",
   "execution_count": null,
   "id": "e1698c05",
   "metadata": {},
   "outputs": [],
   "source": []
  }
 ],
 "metadata": {
  "kernelspec": {
   "display_name": "Python 3",
   "language": "python",
   "name": "python3"
  },
  "language_info": {
   "codemirror_mode": {
    "name": "ipython",
    "version": 3
   },
   "file_extension": ".py",
   "mimetype": "text/x-python",
   "name": "python",
   "nbconvert_exporter": "python",
   "pygments_lexer": "ipython3",
   "version": "3.8.8"
  }
 },
 "nbformat": 4,
 "nbformat_minor": 5
}
