{
 "cells": [
  {
   "cell_type": "code",
   "execution_count": 1,
   "metadata": {},
   "outputs": [],
   "source": [
    "import pandas as pd"
   ]
  },
  {
   "cell_type": "markdown",
   "metadata": {},
   "source": [
    "#### 'modeling_data.csv' 파일\n",
    "- 'key','pickup_datetime','pickup_longitude','pickup_latitude','dropoff_longitude','dropoff_latitude','time' 제거 ('dist' 계산 후에는 필요 없음)"
   ]
  },
  {
   "cell_type": "code",
   "execution_count": 2,
   "metadata": {},
   "outputs": [
    {
     "data": {
      "text/html": [
       "<div>\n",
       "<style scoped>\n",
       "    .dataframe tbody tr th:only-of-type {\n",
       "        vertical-align: middle;\n",
       "    }\n",
       "\n",
       "    .dataframe tbody tr th {\n",
       "        vertical-align: top;\n",
       "    }\n",
       "\n",
       "    .dataframe thead th {\n",
       "        text-align: right;\n",
       "    }\n",
       "</style>\n",
       "<table border=\"1\" class=\"dataframe\">\n",
       "  <thead>\n",
       "    <tr style=\"text-align: right;\">\n",
       "      <th></th>\n",
       "      <th>Unnamed: 0</th>\n",
       "      <th>fare_amount</th>\n",
       "      <th>passenger_count</th>\n",
       "      <th>log_date</th>\n",
       "      <th>log_time</th>\n",
       "      <th>log_hour</th>\n",
       "      <th>log_min</th>\n",
       "      <th>log_year</th>\n",
       "      <th>log_month</th>\n",
       "      <th>log_day</th>\n",
       "      <th>7to15</th>\n",
       "      <th>16to19</th>\n",
       "      <th>20to6</th>\n",
       "      <th>dayofweek</th>\n",
       "      <th>weekday</th>\n",
       "      <th>is_extracharge</th>\n",
       "      <th>taxi_amount</th>\n",
       "      <th>dist</th>\n",
       "    </tr>\n",
       "  </thead>\n",
       "  <tbody>\n",
       "    <tr>\n",
       "      <th>0</th>\n",
       "      <td>0</td>\n",
       "      <td>4.5</td>\n",
       "      <td>1</td>\n",
       "      <td>2009-06-15</td>\n",
       "      <td>17:26:21</td>\n",
       "      <td>17</td>\n",
       "      <td>26</td>\n",
       "      <td>2009</td>\n",
       "      <td>6</td>\n",
       "      <td>15</td>\n",
       "      <td>0</td>\n",
       "      <td>1</td>\n",
       "      <td>0</td>\n",
       "      <td>1</td>\n",
       "      <td>1</td>\n",
       "      <td>1</td>\n",
       "      <td>1</td>\n",
       "      <td>412.061196</td>\n",
       "    </tr>\n",
       "    <tr>\n",
       "      <th>1</th>\n",
       "      <td>1</td>\n",
       "      <td>16.9</td>\n",
       "      <td>1</td>\n",
       "      <td>2010-01-05</td>\n",
       "      <td>16:52:16</td>\n",
       "      <td>16</td>\n",
       "      <td>52</td>\n",
       "      <td>2010</td>\n",
       "      <td>1</td>\n",
       "      <td>5</td>\n",
       "      <td>0</td>\n",
       "      <td>1</td>\n",
       "      <td>0</td>\n",
       "      <td>2</td>\n",
       "      <td>1</td>\n",
       "      <td>1</td>\n",
       "      <td>1</td>\n",
       "      <td>4646.229208</td>\n",
       "    </tr>\n",
       "    <tr>\n",
       "      <th>2</th>\n",
       "      <td>2</td>\n",
       "      <td>5.7</td>\n",
       "      <td>2</td>\n",
       "      <td>2011-08-18</td>\n",
       "      <td>00:35:00</td>\n",
       "      <td>0</td>\n",
       "      <td>35</td>\n",
       "      <td>2011</td>\n",
       "      <td>8</td>\n",
       "      <td>18</td>\n",
       "      <td>0</td>\n",
       "      <td>0</td>\n",
       "      <td>1</td>\n",
       "      <td>4</td>\n",
       "      <td>1</td>\n",
       "      <td>1</td>\n",
       "      <td>1</td>\n",
       "      <td>1004.797031</td>\n",
       "    </tr>\n",
       "    <tr>\n",
       "      <th>3</th>\n",
       "      <td>3</td>\n",
       "      <td>7.7</td>\n",
       "      <td>1</td>\n",
       "      <td>2012-04-21</td>\n",
       "      <td>04:30:42</td>\n",
       "      <td>4</td>\n",
       "      <td>30</td>\n",
       "      <td>2012</td>\n",
       "      <td>4</td>\n",
       "      <td>21</td>\n",
       "      <td>0</td>\n",
       "      <td>0</td>\n",
       "      <td>1</td>\n",
       "      <td>6</td>\n",
       "      <td>0</td>\n",
       "      <td>1</td>\n",
       "      <td>1</td>\n",
       "      <td>914.153776</td>\n",
       "    </tr>\n",
       "    <tr>\n",
       "      <th>4</th>\n",
       "      <td>4</td>\n",
       "      <td>5.3</td>\n",
       "      <td>1</td>\n",
       "      <td>2010-03-09</td>\n",
       "      <td>07:51:00</td>\n",
       "      <td>7</td>\n",
       "      <td>51</td>\n",
       "      <td>2010</td>\n",
       "      <td>3</td>\n",
       "      <td>9</td>\n",
       "      <td>1</td>\n",
       "      <td>0</td>\n",
       "      <td>0</td>\n",
       "      <td>2</td>\n",
       "      <td>1</td>\n",
       "      <td>0</td>\n",
       "      <td>1</td>\n",
       "      <td>1366.163592</td>\n",
       "    </tr>\n",
       "    <tr>\n",
       "      <th>...</th>\n",
       "      <td>...</td>\n",
       "      <td>...</td>\n",
       "      <td>...</td>\n",
       "      <td>...</td>\n",
       "      <td>...</td>\n",
       "      <td>...</td>\n",
       "      <td>...</td>\n",
       "      <td>...</td>\n",
       "      <td>...</td>\n",
       "      <td>...</td>\n",
       "      <td>...</td>\n",
       "      <td>...</td>\n",
       "      <td>...</td>\n",
       "      <td>...</td>\n",
       "      <td>...</td>\n",
       "      <td>...</td>\n",
       "      <td>...</td>\n",
       "      <td>...</td>\n",
       "    </tr>\n",
       "    <tr>\n",
       "      <th>999995</th>\n",
       "      <td>999995</td>\n",
       "      <td>5.7</td>\n",
       "      <td>5</td>\n",
       "      <td>2011-01-14</td>\n",
       "      <td>13:55:00</td>\n",
       "      <td>13</td>\n",
       "      <td>55</td>\n",
       "      <td>2011</td>\n",
       "      <td>1</td>\n",
       "      <td>14</td>\n",
       "      <td>1</td>\n",
       "      <td>0</td>\n",
       "      <td>0</td>\n",
       "      <td>5</td>\n",
       "      <td>1</td>\n",
       "      <td>0</td>\n",
       "      <td>2</td>\n",
       "      <td>870.509800</td>\n",
       "    </tr>\n",
       "    <tr>\n",
       "      <th>999996</th>\n",
       "      <td>999996</td>\n",
       "      <td>10.5</td>\n",
       "      <td>1</td>\n",
       "      <td>2012-07-20</td>\n",
       "      <td>12:59:16</td>\n",
       "      <td>12</td>\n",
       "      <td>59</td>\n",
       "      <td>2012</td>\n",
       "      <td>7</td>\n",
       "      <td>20</td>\n",
       "      <td>1</td>\n",
       "      <td>0</td>\n",
       "      <td>0</td>\n",
       "      <td>5</td>\n",
       "      <td>1</td>\n",
       "      <td>0</td>\n",
       "      <td>1</td>\n",
       "      <td>2277.239678</td>\n",
       "    </tr>\n",
       "    <tr>\n",
       "      <th>999997</th>\n",
       "      <td>999997</td>\n",
       "      <td>6.5</td>\n",
       "      <td>1</td>\n",
       "      <td>2013-07-01</td>\n",
       "      <td>09:10:00</td>\n",
       "      <td>9</td>\n",
       "      <td>10</td>\n",
       "      <td>2013</td>\n",
       "      <td>7</td>\n",
       "      <td>1</td>\n",
       "      <td>1</td>\n",
       "      <td>0</td>\n",
       "      <td>0</td>\n",
       "      <td>1</td>\n",
       "      <td>1</td>\n",
       "      <td>0</td>\n",
       "      <td>1</td>\n",
       "      <td>628.284955</td>\n",
       "    </tr>\n",
       "    <tr>\n",
       "      <th>999998</th>\n",
       "      <td>999998</td>\n",
       "      <td>17.5</td>\n",
       "      <td>3</td>\n",
       "      <td>2013-09-24</td>\n",
       "      <td>23:28:00</td>\n",
       "      <td>23</td>\n",
       "      <td>28</td>\n",
       "      <td>2013</td>\n",
       "      <td>9</td>\n",
       "      <td>24</td>\n",
       "      <td>0</td>\n",
       "      <td>0</td>\n",
       "      <td>1</td>\n",
       "      <td>2</td>\n",
       "      <td>1</td>\n",
       "      <td>1</td>\n",
       "      <td>1</td>\n",
       "      <td>2803.616297</td>\n",
       "    </tr>\n",
       "    <tr>\n",
       "      <th>999999</th>\n",
       "      <td>999999</td>\n",
       "      <td>6.0</td>\n",
       "      <td>4</td>\n",
       "      <td>2014-01-11</td>\n",
       "      <td>00:07:00</td>\n",
       "      <td>0</td>\n",
       "      <td>7</td>\n",
       "      <td>2014</td>\n",
       "      <td>1</td>\n",
       "      <td>11</td>\n",
       "      <td>0</td>\n",
       "      <td>0</td>\n",
       "      <td>1</td>\n",
       "      <td>6</td>\n",
       "      <td>0</td>\n",
       "      <td>1</td>\n",
       "      <td>2</td>\n",
       "      <td>695.532699</td>\n",
       "    </tr>\n",
       "  </tbody>\n",
       "</table>\n",
       "<p>1000000 rows × 18 columns</p>\n",
       "</div>"
      ],
      "text/plain": [
       "        Unnamed: 0  fare_amount  passenger_count    log_date  log_time  \\\n",
       "0                0          4.5                1  2009-06-15  17:26:21   \n",
       "1                1         16.9                1  2010-01-05  16:52:16   \n",
       "2                2          5.7                2  2011-08-18  00:35:00   \n",
       "3                3          7.7                1  2012-04-21  04:30:42   \n",
       "4                4          5.3                1  2010-03-09  07:51:00   \n",
       "...            ...          ...              ...         ...       ...   \n",
       "999995      999995          5.7                5  2011-01-14  13:55:00   \n",
       "999996      999996         10.5                1  2012-07-20  12:59:16   \n",
       "999997      999997          6.5                1  2013-07-01  09:10:00   \n",
       "999998      999998         17.5                3  2013-09-24  23:28:00   \n",
       "999999      999999          6.0                4  2014-01-11  00:07:00   \n",
       "\n",
       "        log_hour  log_min  log_year  log_month  log_day  7to15  16to19  20to6  \\\n",
       "0             17       26      2009          6       15      0       1      0   \n",
       "1             16       52      2010          1        5      0       1      0   \n",
       "2              0       35      2011          8       18      0       0      1   \n",
       "3              4       30      2012          4       21      0       0      1   \n",
       "4              7       51      2010          3        9      1       0      0   \n",
       "...          ...      ...       ...        ...      ...    ...     ...    ...   \n",
       "999995        13       55      2011          1       14      1       0      0   \n",
       "999996        12       59      2012          7       20      1       0      0   \n",
       "999997         9       10      2013          7        1      1       0      0   \n",
       "999998        23       28      2013          9       24      0       0      1   \n",
       "999999         0        7      2014          1       11      0       0      1   \n",
       "\n",
       "        dayofweek  weekday  is_extracharge  taxi_amount         dist  \n",
       "0               1        1               1            1   412.061196  \n",
       "1               2        1               1            1  4646.229208  \n",
       "2               4        1               1            1  1004.797031  \n",
       "3               6        0               1            1   914.153776  \n",
       "4               2        1               0            1  1366.163592  \n",
       "...           ...      ...             ...          ...          ...  \n",
       "999995          5        1               0            2   870.509800  \n",
       "999996          5        1               0            1  2277.239678  \n",
       "999997          1        1               0            1   628.284955  \n",
       "999998          2        1               1            1  2803.616297  \n",
       "999999          6        0               1            2   695.532699  \n",
       "\n",
       "[1000000 rows x 18 columns]"
      ]
     },
     "execution_count": 2,
     "metadata": {},
     "output_type": "execute_result"
    }
   ],
   "source": [
    "sample_df = pd.read_csv('modeling_data.csv')\n",
    "sample_df"
   ]
  },
  {
   "cell_type": "markdown",
   "metadata": {},
   "source": [
    "- 'log_date','log_time'도 제거"
   ]
  },
  {
   "cell_type": "code",
   "execution_count": 3,
   "metadata": {},
   "outputs": [],
   "source": [
    "sample_df.drop(columns=['Unnamed: 0','log_date','log_time'], inplace=True)"
   ]
  },
  {
   "cell_type": "code",
   "execution_count": 4,
   "metadata": {},
   "outputs": [
    {
     "data": {
      "text/html": [
       "<div>\n",
       "<style scoped>\n",
       "    .dataframe tbody tr th:only-of-type {\n",
       "        vertical-align: middle;\n",
       "    }\n",
       "\n",
       "    .dataframe tbody tr th {\n",
       "        vertical-align: top;\n",
       "    }\n",
       "\n",
       "    .dataframe thead th {\n",
       "        text-align: right;\n",
       "    }\n",
       "</style>\n",
       "<table border=\"1\" class=\"dataframe\">\n",
       "  <thead>\n",
       "    <tr style=\"text-align: right;\">\n",
       "      <th></th>\n",
       "      <th>fare_amount</th>\n",
       "      <th>passenger_count</th>\n",
       "      <th>log_hour</th>\n",
       "      <th>log_min</th>\n",
       "      <th>log_year</th>\n",
       "      <th>log_month</th>\n",
       "      <th>log_day</th>\n",
       "      <th>7to15</th>\n",
       "      <th>16to19</th>\n",
       "      <th>20to6</th>\n",
       "      <th>dayofweek</th>\n",
       "      <th>weekday</th>\n",
       "      <th>is_extracharge</th>\n",
       "      <th>taxi_amount</th>\n",
       "      <th>dist</th>\n",
       "    </tr>\n",
       "  </thead>\n",
       "  <tbody>\n",
       "    <tr>\n",
       "      <th>0</th>\n",
       "      <td>4.5</td>\n",
       "      <td>1</td>\n",
       "      <td>17</td>\n",
       "      <td>26</td>\n",
       "      <td>2009</td>\n",
       "      <td>6</td>\n",
       "      <td>15</td>\n",
       "      <td>0</td>\n",
       "      <td>1</td>\n",
       "      <td>0</td>\n",
       "      <td>1</td>\n",
       "      <td>1</td>\n",
       "      <td>1</td>\n",
       "      <td>1</td>\n",
       "      <td>412.061196</td>\n",
       "    </tr>\n",
       "    <tr>\n",
       "      <th>1</th>\n",
       "      <td>16.9</td>\n",
       "      <td>1</td>\n",
       "      <td>16</td>\n",
       "      <td>52</td>\n",
       "      <td>2010</td>\n",
       "      <td>1</td>\n",
       "      <td>5</td>\n",
       "      <td>0</td>\n",
       "      <td>1</td>\n",
       "      <td>0</td>\n",
       "      <td>2</td>\n",
       "      <td>1</td>\n",
       "      <td>1</td>\n",
       "      <td>1</td>\n",
       "      <td>4646.229208</td>\n",
       "    </tr>\n",
       "    <tr>\n",
       "      <th>2</th>\n",
       "      <td>5.7</td>\n",
       "      <td>2</td>\n",
       "      <td>0</td>\n",
       "      <td>35</td>\n",
       "      <td>2011</td>\n",
       "      <td>8</td>\n",
       "      <td>18</td>\n",
       "      <td>0</td>\n",
       "      <td>0</td>\n",
       "      <td>1</td>\n",
       "      <td>4</td>\n",
       "      <td>1</td>\n",
       "      <td>1</td>\n",
       "      <td>1</td>\n",
       "      <td>1004.797031</td>\n",
       "    </tr>\n",
       "    <tr>\n",
       "      <th>3</th>\n",
       "      <td>7.7</td>\n",
       "      <td>1</td>\n",
       "      <td>4</td>\n",
       "      <td>30</td>\n",
       "      <td>2012</td>\n",
       "      <td>4</td>\n",
       "      <td>21</td>\n",
       "      <td>0</td>\n",
       "      <td>0</td>\n",
       "      <td>1</td>\n",
       "      <td>6</td>\n",
       "      <td>0</td>\n",
       "      <td>1</td>\n",
       "      <td>1</td>\n",
       "      <td>914.153776</td>\n",
       "    </tr>\n",
       "    <tr>\n",
       "      <th>4</th>\n",
       "      <td>5.3</td>\n",
       "      <td>1</td>\n",
       "      <td>7</td>\n",
       "      <td>51</td>\n",
       "      <td>2010</td>\n",
       "      <td>3</td>\n",
       "      <td>9</td>\n",
       "      <td>1</td>\n",
       "      <td>0</td>\n",
       "      <td>0</td>\n",
       "      <td>2</td>\n",
       "      <td>1</td>\n",
       "      <td>0</td>\n",
       "      <td>1</td>\n",
       "      <td>1366.163592</td>\n",
       "    </tr>\n",
       "  </tbody>\n",
       "</table>\n",
       "</div>"
      ],
      "text/plain": [
       "   fare_amount  passenger_count  log_hour  log_min  log_year  log_month  \\\n",
       "0          4.5                1        17       26      2009          6   \n",
       "1         16.9                1        16       52      2010          1   \n",
       "2          5.7                2         0       35      2011          8   \n",
       "3          7.7                1         4       30      2012          4   \n",
       "4          5.3                1         7       51      2010          3   \n",
       "\n",
       "   log_day  7to15  16to19  20to6  dayofweek  weekday  is_extracharge  \\\n",
       "0       15      0       1      0          1        1               1   \n",
       "1        5      0       1      0          2        1               1   \n",
       "2       18      0       0      1          4        1               1   \n",
       "3       21      0       0      1          6        0               1   \n",
       "4        9      1       0      0          2        1               0   \n",
       "\n",
       "   taxi_amount         dist  \n",
       "0            1   412.061196  \n",
       "1            1  4646.229208  \n",
       "2            1  1004.797031  \n",
       "3            1   914.153776  \n",
       "4            1  1366.163592  "
      ]
     },
     "execution_count": 4,
     "metadata": {},
     "output_type": "execute_result"
    }
   ],
   "source": [
    "sample_df.head()"
   ]
  },
  {
   "cell_type": "code",
   "execution_count": 5,
   "metadata": {},
   "outputs": [
    {
     "name": "stdout",
     "output_type": "stream",
     "text": [
      "<class 'pandas.core.frame.DataFrame'>\n",
      "RangeIndex: 1000000 entries, 0 to 999999\n",
      "Data columns (total 15 columns):\n",
      " #   Column           Non-Null Count    Dtype  \n",
      "---  ------           --------------    -----  \n",
      " 0   fare_amount      1000000 non-null  float64\n",
      " 1   passenger_count  1000000 non-null  int64  \n",
      " 2   log_hour         1000000 non-null  int64  \n",
      " 3   log_min          1000000 non-null  int64  \n",
      " 4   log_year         1000000 non-null  int64  \n",
      " 5   log_month        1000000 non-null  int64  \n",
      " 6   log_day          1000000 non-null  int64  \n",
      " 7   7to15            1000000 non-null  int64  \n",
      " 8   16to19           1000000 non-null  int64  \n",
      " 9   20to6            1000000 non-null  int64  \n",
      " 10  dayofweek        1000000 non-null  int64  \n",
      " 11  weekday          1000000 non-null  int64  \n",
      " 12  is_extracharge   1000000 non-null  int64  \n",
      " 13  taxi_amount      1000000 non-null  int64  \n",
      " 14  dist             1000000 non-null  float64\n",
      "dtypes: float64(2), int64(13)\n",
      "memory usage: 114.4 MB\n"
     ]
    }
   ],
   "source": [
    "sample_df.info()"
   ]
  },
  {
   "cell_type": "markdown",
   "metadata": {},
   "source": [
    "======================================================================================================================="
   ]
  },
  {
   "cell_type": "markdown",
   "metadata": {},
   "source": [
    "#### 0. train/test data 분할"
   ]
  },
  {
   "cell_type": "code",
   "execution_count": 5,
   "metadata": {},
   "outputs": [],
   "source": [
    "from sklearn.model_selection import train_test_split"
   ]
  },
  {
   "cell_type": "code",
   "execution_count": 6,
   "metadata": {},
   "outputs": [],
   "source": [
    "x = sample_df.drop(columns=['fare_amount'])\n",
    "y = sample_df['fare_amount']"
   ]
  },
  {
   "cell_type": "code",
   "execution_count": 7,
   "metadata": {},
   "outputs": [],
   "source": [
    "x_train, x_valid, y_train, y_valid = train_test_split(x, y, test_size=0.2,random_state=10)"
   ]
  },
  {
   "cell_type": "code",
   "execution_count": 8,
   "metadata": {},
   "outputs": [
    {
     "name": "stdout",
     "output_type": "stream",
     "text": [
      "(800000, 14) (200000, 14)\n"
     ]
    }
   ],
   "source": [
    "print(x_train.shape, x_valid.shape)"
   ]
  },
  {
   "cell_type": "markdown",
   "metadata": {},
   "source": [
    "#### K-Fold 교차검증"
   ]
  },
  {
   "cell_type": "code",
   "execution_count": 9,
   "metadata": {},
   "outputs": [],
   "source": [
    "from sklearn.model_selection import KFold"
   ]
  },
  {
   "cell_type": "code",
   "execution_count": null,
   "metadata": {},
   "outputs": [],
   "source": [
    "cv = KFold(n_splits=3, random_state=1, shuffle=False)\n",
    "# n_splits=3이면  [훈련,검증] 3개만들어준다. "
   ]
  },
  {
   "cell_type": "code",
   "execution_count": null,
   "metadata": {},
   "outputs": [],
   "source": [
    "# 실제 적용\n",
    "\n",
    "for t,v in cv.split(train):\n",
    "    train_cv=train.iloc[t]       # 훈련용\n",
    "    val_cv=train.iloc[v]         # 검증용 분리.\n",
    "    \n",
    "    train_X=train_cv.loc[:,'독립변수들']    # 훈련용 독립변수들의 데이터,\n",
    "    train_Y=train_Cv.loc[:,'종속변수만']    # 훈련용 종속변수만 있는 데이터\n",
    "     \n",
    "    val_X=val_cv.loc[:,'독립변수들']        # 검증용 독립변수들의 데이터,\n",
    "    val_Y=val_Cv.loc[:,'종속변수만']        # 검증용 종속변수만 있는 데이터,"
   ]
  },
  {
   "cell_type": "markdown",
   "metadata": {},
   "source": [
    "https://m.blog.naver.com/gustn3964/221431914515"
   ]
  },
  {
   "cell_type": "code",
   "execution_count": null,
   "metadata": {},
   "outputs": [],
   "source": []
  },
  {
   "cell_type": "code",
   "execution_count": null,
   "metadata": {},
   "outputs": [],
   "source": []
  },
  {
   "cell_type": "markdown",
   "metadata": {},
   "source": [
    "======================================================================================================================="
   ]
  },
  {
   "cell_type": "markdown",
   "metadata": {},
   "source": [
    "### 1. XGBregressor"
   ]
  },
  {
   "cell_type": "code",
   "execution_count": null,
   "metadata": {},
   "outputs": [],
   "source": [
    "# DMatrix 형태로 돌려야 함"
   ]
  },
  {
   "cell_type": "code",
   "execution_count": 10,
   "metadata": {},
   "outputs": [],
   "source": [
    "from xgboost import XGBRegressor # 회귀트리 모델\n",
    "from xgboost import plot_importance # 중요변수 시각화\n",
    "from sklearn.metrics import mean_absolute_error, mean_squared_error"
   ]
  },
  {
   "cell_type": "markdown",
   "metadata": {},
   "source": [
    "#### 1-1. 모델링"
   ]
  },
  {
   "cell_type": "code",
   "execution_count": 11,
   "metadata": {},
   "outputs": [],
   "source": [
    "model = XGBRegressor()"
   ]
  },
  {
   "cell_type": "code",
   "execution_count": 12,
   "metadata": {},
   "outputs": [
    {
     "data": {
      "text/plain": [
       "XGBRegressor(base_score=0.5, booster='gbtree', colsample_bylevel=1,\n",
       "             colsample_bynode=1, colsample_bytree=1, enable_categorical=False,\n",
       "             gamma=0, gpu_id=-1, importance_type=None,\n",
       "             interaction_constraints='', learning_rate=0.300000012,\n",
       "             max_delta_step=0, max_depth=6, min_child_weight=1, missing=nan,\n",
       "             monotone_constraints='()', n_estimators=100, n_jobs=8,\n",
       "             num_parallel_tree=1, predictor='auto', random_state=0, reg_alpha=0,\n",
       "             reg_lambda=1, scale_pos_weight=1, subsample=1, tree_method='exact',\n",
       "             validate_parameters=1, verbosity=None)"
      ]
     },
     "execution_count": 12,
     "metadata": {},
     "output_type": "execute_result"
    }
   ],
   "source": [
    "model.fit(x_train, y_train)\n",
    "model\n",
    "\n",
    "# objective='reg:linear' => 회귀트리"
   ]
  },
  {
   "cell_type": "markdown",
   "metadata": {},
   "source": [
    "#### 1-2. 중요변수 시각화"
   ]
  },
  {
   "cell_type": "code",
   "execution_count": 22,
   "metadata": {},
   "outputs": [
    {
     "data": {
      "image/png": "[encoded data removed]",
      "text/plain": [
       "<Figure size 432x288 with 1 Axes>"
      ]
     },
     "metadata": {
      "needs_background": "light"
     },
     "output_type": "display_data"
    }
   ],
   "source": [
    "import matplotlib.pyplot as plt\n",
    "\n",
    "plot_importance(model)\n",
    "\n",
    "plt.show()"
   ]
  },
  {
   "cell_type": "markdown",
   "metadata": {},
   "source": [
    "#### 1-3. 모델 평가 "
   ]
  },
  {
   "cell_type": "code",
   "execution_count": 13,
   "metadata": {},
   "outputs": [],
   "source": [
    "y_pred = model.predict(x_valid)\n",
    "y_true = y_valid"
   ]
  },
  {
   "cell_type": "code",
   "execution_count": 14,
   "metadata": {},
   "outputs": [
    {
     "data": {
      "text/plain": [
       "2.841833465608669"
      ]
     },
     "execution_count": 14,
     "metadata": {},
     "output_type": "execute_result"
    }
   ],
   "source": [
    "mae = mean_absolute_error(y_true, y_pred)\n",
    "mae "
   ]
  },
  {
   "cell_type": "code",
   "execution_count": 15,
   "metadata": {},
   "outputs": [
    {
     "data": {
      "text/plain": [
       "26.844044696898255"
      ]
     },
     "execution_count": 15,
     "metadata": {},
     "output_type": "execute_result"
    }
   ],
   "source": [
    "mse = mean_squared_error(y_true, y_pred)\n",
    "mse"
   ]
  },
  {
   "cell_type": "markdown",
   "metadata": {},
   "source": [
    "https://joyfuls.tistory.com/63"
   ]
  },
  {
   "cell_type": "markdown",
   "metadata": {},
   "source": [
    "#### 1-4. 하이퍼파라미터 조정"
   ]
  },
  {
   "cell_type": "markdown",
   "metadata": {},
   "source": [
    "- n_estimators (또는 num_boost_round) : 결정 트리 개수\n",
    "- max_depth : 트리의 깊이\n",
    "- colsample_bytree : 컬럼의 샘플링 비율\n",
    "- subsample : weak learner가 학습에 사용하는 데이터 샘플링 비율\n",
    "- learning_rate : 학습률\n",
    "- min_split_loss : 리프 노드를 추가적으로 나눌지 결정하는 값\n",
    "- reg_lambda : L2 규제\n",
    "- reg_alpha : L1 규제"
   ]
  },
  {
   "cell_type": "markdown",
   "metadata": {},
   "source": [
    "#### -> GridSearchCV 이용해 하이퍼 파라미터 튜닝"
   ]
  },
  {
   "cell_type": "markdown",
   "metadata": {},
   "source": [
    "GridSearchCV 클래스의 생성자\n",
    "- estimator : classifier, regressor, pipeline\n",
    "- param_grid : 파라미터 딕셔너리 (파라미터명과 사용될 여러 파라미터 값을 지정)\n",
    "- scoring : 예측 성능을 측정할 평가 방법. 보통은 사이킷런에서 제공하는 문자열 (예: ‘accuracy’)을 넣지만 별도의 함수도 직접 지정이 가능\n",
    "- cv : 교차 검증을 위해 분할되는 폴드 수\n",
    "- refit : True가 디폴트로 True로 하면 최적의 하이퍼 파라미터를 찾아서 재학습 시킨다."
   ]
  },
  {
   "cell_type": "markdown",
   "metadata": {},
   "source": [
    "https://2-chae.github.io/category/1.ai/29"
   ]
  },
  {
   "cell_type": "code",
   "execution_count": 27,
   "metadata": {},
   "outputs": [],
   "source": [
    "from sklearn.model_selection import GridSearchCV"
   ]
  },
  {
   "cell_type": "code",
   "execution_count": 17,
   "metadata": {},
   "outputs": [],
   "source": [
    "from sklearn.tree import DecisionTreeClassifier"
   ]
  },
  {
   "cell_type": "code",
   "execution_count": 32,
   "metadata": {},
   "outputs": [],
   "source": [
    "dtree = DecisionTreeClassifier()\n",
    "\n",
    "parameters = {'max_depth': [1,2,3], 'min_samples_split':[2,3]}"
   ]
  },
  {
   "cell_type": "code",
   "execution_count": 33,
   "metadata": {},
   "outputs": [],
   "source": [
    "grid_dtree = GridSearchCV(dtree, param_grid=parameters, cv=3, refit=True)"
   ]
  },
  {
   "cell_type": "code",
   "execution_count": 34,
   "metadata": {},
   "outputs": [
    {
     "name": "stderr",
     "output_type": "stream",
     "text": [
      "c:\\users\\jooya\\appdata\\local\\programs\\python\\python38\\lib\\site-packages\\sklearn\\model_selection\\_validation.py:615: FitFailedWarning: Estimator fit failed. The score on this train-test partition for these parameters will be set to nan. Details: \n",
      "Traceback (most recent call last):\n",
      "  File \"c:\\users\\jooya\\appdata\\local\\programs\\python\\python38\\lib\\site-packages\\sklearn\\model_selection\\_validation.py\", line 598, in _fit_and_score\n",
      "    estimator.fit(X_train, y_train, **fit_params)\n",
      "  File \"c:\\users\\jooya\\appdata\\local\\programs\\python\\python38\\lib\\site-packages\\sklearn\\tree\\_classes.py\", line 903, in fit\n",
      "    super().fit(\n",
      "  File \"c:\\users\\jooya\\appdata\\local\\programs\\python\\python38\\lib\\site-packages\\sklearn\\tree\\_classes.py\", line 191, in fit\n",
      "    check_classification_targets(y)\n",
      "  File \"c:\\users\\jooya\\appdata\\local\\programs\\python\\python38\\lib\\site-packages\\sklearn\\utils\\multiclass.py\", line 183, in check_classification_targets\n",
      "    raise ValueError(\"Unknown label type: %r\" % y_type)\n",
      "ValueError: Unknown label type: 'continuous'\n",
      "\n",
      "  warnings.warn(\"Estimator fit failed. The score on this train-test\"\n",
      "c:\\users\\jooya\\appdata\\local\\programs\\python\\python38\\lib\\site-packages\\sklearn\\model_selection\\_validation.py:615: FitFailedWarning: Estimator fit failed. The score on this train-test partition for these parameters will be set to nan. Details: \n",
      "Traceback (most recent call last):\n",
      "  File \"c:\\users\\jooya\\appdata\\local\\programs\\python\\python38\\lib\\site-packages\\sklearn\\model_selection\\_validation.py\", line 598, in _fit_and_score\n",
      "    estimator.fit(X_train, y_train, **fit_params)\n",
      "  File \"c:\\users\\jooya\\appdata\\local\\programs\\python\\python38\\lib\\site-packages\\sklearn\\tree\\_classes.py\", line 903, in fit\n",
      "    super().fit(\n",
      "  File \"c:\\users\\jooya\\appdata\\local\\programs\\python\\python38\\lib\\site-packages\\sklearn\\tree\\_classes.py\", line 191, in fit\n",
      "    check_classification_targets(y)\n",
      "  File \"c:\\users\\jooya\\appdata\\local\\programs\\python\\python38\\lib\\site-packages\\sklearn\\utils\\multiclass.py\", line 183, in check_classification_targets\n",
      "    raise ValueError(\"Unknown label type: %r\" % y_type)\n",
      "ValueError: Unknown label type: 'continuous'\n",
      "\n",
      "  warnings.warn(\"Estimator fit failed. The score on this train-test\"\n",
      "c:\\users\\jooya\\appdata\\local\\programs\\python\\python38\\lib\\site-packages\\sklearn\\model_selection\\_validation.py:615: FitFailedWarning: Estimator fit failed. The score on this train-test partition for these parameters will be set to nan. Details: \n",
      "Traceback (most recent call last):\n",
      "  File \"c:\\users\\jooya\\appdata\\local\\programs\\python\\python38\\lib\\site-packages\\sklearn\\model_selection\\_validation.py\", line 598, in _fit_and_score\n",
      "    estimator.fit(X_train, y_train, **fit_params)\n",
      "  File \"c:\\users\\jooya\\appdata\\local\\programs\\python\\python38\\lib\\site-packages\\sklearn\\tree\\_classes.py\", line 903, in fit\n",
      "    super().fit(\n",
      "  File \"c:\\users\\jooya\\appdata\\local\\programs\\python\\python38\\lib\\site-packages\\sklearn\\tree\\_classes.py\", line 191, in fit\n",
      "    check_classification_targets(y)\n",
      "  File \"c:\\users\\jooya\\appdata\\local\\programs\\python\\python38\\lib\\site-packages\\sklearn\\utils\\multiclass.py\", line 183, in check_classification_targets\n",
      "    raise ValueError(\"Unknown label type: %r\" % y_type)\n",
      "ValueError: Unknown label type: 'continuous'\n",
      "\n",
      "  warnings.warn(\"Estimator fit failed. The score on this train-test\"\n",
      "c:\\users\\jooya\\appdata\\local\\programs\\python\\python38\\lib\\site-packages\\sklearn\\model_selection\\_validation.py:615: FitFailedWarning: Estimator fit failed. The score on this train-test partition for these parameters will be set to nan. Details: \n",
      "Traceback (most recent call last):\n",
      "  File \"c:\\users\\jooya\\appdata\\local\\programs\\python\\python38\\lib\\site-packages\\sklearn\\model_selection\\_validation.py\", line 598, in _fit_and_score\n",
      "    estimator.fit(X_train, y_train, **fit_params)\n",
      "  File \"c:\\users\\jooya\\appdata\\local\\programs\\python\\python38\\lib\\site-packages\\sklearn\\tree\\_classes.py\", line 903, in fit\n",
      "    super().fit(\n",
      "  File \"c:\\users\\jooya\\appdata\\local\\programs\\python\\python38\\lib\\site-packages\\sklearn\\tree\\_classes.py\", line 191, in fit\n",
      "    check_classification_targets(y)\n",
      "  File \"c:\\users\\jooya\\appdata\\local\\programs\\python\\python38\\lib\\site-packages\\sklearn\\utils\\multiclass.py\", line 183, in check_classification_targets\n",
      "    raise ValueError(\"Unknown label type: %r\" % y_type)\n",
      "ValueError: Unknown label type: 'continuous'\n",
      "\n",
      "  warnings.warn(\"Estimator fit failed. The score on this train-test\"\n",
      "c:\\users\\jooya\\appdata\\local\\programs\\python\\python38\\lib\\site-packages\\sklearn\\model_selection\\_validation.py:615: FitFailedWarning: Estimator fit failed. The score on this train-test partition for these parameters will be set to nan. Details: \n",
      "Traceback (most recent call last):\n",
      "  File \"c:\\users\\jooya\\appdata\\local\\programs\\python\\python38\\lib\\site-packages\\sklearn\\model_selection\\_validation.py\", line 598, in _fit_and_score\n",
      "    estimator.fit(X_train, y_train, **fit_params)\n",
      "  File \"c:\\users\\jooya\\appdata\\local\\programs\\python\\python38\\lib\\site-packages\\sklearn\\tree\\_classes.py\", line 903, in fit\n",
      "    super().fit(\n",
      "  File \"c:\\users\\jooya\\appdata\\local\\programs\\python\\python38\\lib\\site-packages\\sklearn\\tree\\_classes.py\", line 191, in fit\n",
      "    check_classification_targets(y)\n",
      "  File \"c:\\users\\jooya\\appdata\\local\\programs\\python\\python38\\lib\\site-packages\\sklearn\\utils\\multiclass.py\", line 183, in check_classification_targets\n",
      "    raise ValueError(\"Unknown label type: %r\" % y_type)\n",
      "ValueError: Unknown label type: 'continuous'\n",
      "\n",
      "  warnings.warn(\"Estimator fit failed. The score on this train-test\"\n",
      "c:\\users\\jooya\\appdata\\local\\programs\\python\\python38\\lib\\site-packages\\sklearn\\model_selection\\_validation.py:615: FitFailedWarning: Estimator fit failed. The score on this train-test partition for these parameters will be set to nan. Details: \n",
      "Traceback (most recent call last):\n",
      "  File \"c:\\users\\jooya\\appdata\\local\\programs\\python\\python38\\lib\\site-packages\\sklearn\\model_selection\\_validation.py\", line 598, in _fit_and_score\n",
      "    estimator.fit(X_train, y_train, **fit_params)\n",
      "  File \"c:\\users\\jooya\\appdata\\local\\programs\\python\\python38\\lib\\site-packages\\sklearn\\tree\\_classes.py\", line 903, in fit\n",
      "    super().fit(\n",
      "  File \"c:\\users\\jooya\\appdata\\local\\programs\\python\\python38\\lib\\site-packages\\sklearn\\tree\\_classes.py\", line 191, in fit\n",
      "    check_classification_targets(y)\n",
      "  File \"c:\\users\\jooya\\appdata\\local\\programs\\python\\python38\\lib\\site-packages\\sklearn\\utils\\multiclass.py\", line 183, in check_classification_targets\n",
      "    raise ValueError(\"Unknown label type: %r\" % y_type)\n",
      "ValueError: Unknown label type: 'continuous'\n",
      "\n",
      "  warnings.warn(\"Estimator fit failed. The score on this train-test\"\n",
      "c:\\users\\jooya\\appdata\\local\\programs\\python\\python38\\lib\\site-packages\\sklearn\\model_selection\\_validation.py:615: FitFailedWarning: Estimator fit failed. The score on this train-test partition for these parameters will be set to nan. Details: \n",
      "Traceback (most recent call last):\n",
      "  File \"c:\\users\\jooya\\appdata\\local\\programs\\python\\python38\\lib\\site-packages\\sklearn\\model_selection\\_validation.py\", line 598, in _fit_and_score\n",
      "    estimator.fit(X_train, y_train, **fit_params)\n",
      "  File \"c:\\users\\jooya\\appdata\\local\\programs\\python\\python38\\lib\\site-packages\\sklearn\\tree\\_classes.py\", line 903, in fit\n",
      "    super().fit(\n",
      "  File \"c:\\users\\jooya\\appdata\\local\\programs\\python\\python38\\lib\\site-packages\\sklearn\\tree\\_classes.py\", line 191, in fit\n",
      "    check_classification_targets(y)\n",
      "  File \"c:\\users\\jooya\\appdata\\local\\programs\\python\\python38\\lib\\site-packages\\sklearn\\utils\\multiclass.py\", line 183, in check_classification_targets\n",
      "    raise ValueError(\"Unknown label type: %r\" % y_type)\n",
      "ValueError: Unknown label type: 'continuous'\n",
      "\n",
      "  warnings.warn(\"Estimator fit failed. The score on this train-test\"\n",
      "c:\\users\\jooya\\appdata\\local\\programs\\python\\python38\\lib\\site-packages\\sklearn\\model_selection\\_validation.py:615: FitFailedWarning: Estimator fit failed. The score on this train-test partition for these parameters will be set to nan. Details: \n",
      "Traceback (most recent call last):\n",
      "  File \"c:\\users\\jooya\\appdata\\local\\programs\\python\\python38\\lib\\site-packages\\sklearn\\model_selection\\_validation.py\", line 598, in _fit_and_score\n",
      "    estimator.fit(X_train, y_train, **fit_params)\n",
      "  File \"c:\\users\\jooya\\appdata\\local\\programs\\python\\python38\\lib\\site-packages\\sklearn\\tree\\_classes.py\", line 903, in fit\n",
      "    super().fit(\n",
      "  File \"c:\\users\\jooya\\appdata\\local\\programs\\python\\python38\\lib\\site-packages\\sklearn\\tree\\_classes.py\", line 191, in fit\n",
      "    check_classification_targets(y)\n",
      "  File \"c:\\users\\jooya\\appdata\\local\\programs\\python\\python38\\lib\\site-packages\\sklearn\\utils\\multiclass.py\", line 183, in check_classification_targets\n",
      "    raise ValueError(\"Unknown label type: %r\" % y_type)\n",
      "ValueError: Unknown label type: 'continuous'\n",
      "\n",
      "  warnings.warn(\"Estimator fit failed. The score on this train-test\"\n"
     ]
    },
    {
     "name": "stderr",
     "output_type": "stream",
     "text": [
      "c:\\users\\jooya\\appdata\\local\\programs\\python\\python38\\lib\\site-packages\\sklearn\\model_selection\\_validation.py:615: FitFailedWarning: Estimator fit failed. The score on this train-test partition for these parameters will be set to nan. Details: \n",
      "Traceback (most recent call last):\n",
      "  File \"c:\\users\\jooya\\appdata\\local\\programs\\python\\python38\\lib\\site-packages\\sklearn\\model_selection\\_validation.py\", line 598, in _fit_and_score\n",
      "    estimator.fit(X_train, y_train, **fit_params)\n",
      "  File \"c:\\users\\jooya\\appdata\\local\\programs\\python\\python38\\lib\\site-packages\\sklearn\\tree\\_classes.py\", line 903, in fit\n",
      "    super().fit(\n",
      "  File \"c:\\users\\jooya\\appdata\\local\\programs\\python\\python38\\lib\\site-packages\\sklearn\\tree\\_classes.py\", line 191, in fit\n",
      "    check_classification_targets(y)\n",
      "  File \"c:\\users\\jooya\\appdata\\local\\programs\\python\\python38\\lib\\site-packages\\sklearn\\utils\\multiclass.py\", line 183, in check_classification_targets\n",
      "    raise ValueError(\"Unknown label type: %r\" % y_type)\n",
      "ValueError: Unknown label type: 'continuous'\n",
      "\n",
      "  warnings.warn(\"Estimator fit failed. The score on this train-test\"\n",
      "c:\\users\\jooya\\appdata\\local\\programs\\python\\python38\\lib\\site-packages\\sklearn\\model_selection\\_validation.py:615: FitFailedWarning: Estimator fit failed. The score on this train-test partition for these parameters will be set to nan. Details: \n",
      "Traceback (most recent call last):\n",
      "  File \"c:\\users\\jooya\\appdata\\local\\programs\\python\\python38\\lib\\site-packages\\sklearn\\model_selection\\_validation.py\", line 598, in _fit_and_score\n",
      "    estimator.fit(X_train, y_train, **fit_params)\n",
      "  File \"c:\\users\\jooya\\appdata\\local\\programs\\python\\python38\\lib\\site-packages\\sklearn\\tree\\_classes.py\", line 903, in fit\n",
      "    super().fit(\n",
      "  File \"c:\\users\\jooya\\appdata\\local\\programs\\python\\python38\\lib\\site-packages\\sklearn\\tree\\_classes.py\", line 191, in fit\n",
      "    check_classification_targets(y)\n",
      "  File \"c:\\users\\jooya\\appdata\\local\\programs\\python\\python38\\lib\\site-packages\\sklearn\\utils\\multiclass.py\", line 183, in check_classification_targets\n",
      "    raise ValueError(\"Unknown label type: %r\" % y_type)\n",
      "ValueError: Unknown label type: 'continuous'\n",
      "\n",
      "  warnings.warn(\"Estimator fit failed. The score on this train-test\"\n",
      "c:\\users\\jooya\\appdata\\local\\programs\\python\\python38\\lib\\site-packages\\sklearn\\model_selection\\_validation.py:615: FitFailedWarning: Estimator fit failed. The score on this train-test partition for these parameters will be set to nan. Details: \n",
      "Traceback (most recent call last):\n",
      "  File \"c:\\users\\jooya\\appdata\\local\\programs\\python\\python38\\lib\\site-packages\\sklearn\\model_selection\\_validation.py\", line 598, in _fit_and_score\n",
      "    estimator.fit(X_train, y_train, **fit_params)\n",
      "  File \"c:\\users\\jooya\\appdata\\local\\programs\\python\\python38\\lib\\site-packages\\sklearn\\tree\\_classes.py\", line 903, in fit\n",
      "    super().fit(\n",
      "  File \"c:\\users\\jooya\\appdata\\local\\programs\\python\\python38\\lib\\site-packages\\sklearn\\tree\\_classes.py\", line 191, in fit\n",
      "    check_classification_targets(y)\n",
      "  File \"c:\\users\\jooya\\appdata\\local\\programs\\python\\python38\\lib\\site-packages\\sklearn\\utils\\multiclass.py\", line 183, in check_classification_targets\n",
      "    raise ValueError(\"Unknown label type: %r\" % y_type)\n",
      "ValueError: Unknown label type: 'continuous'\n",
      "\n",
      "  warnings.warn(\"Estimator fit failed. The score on this train-test\"\n",
      "c:\\users\\jooya\\appdata\\local\\programs\\python\\python38\\lib\\site-packages\\sklearn\\model_selection\\_validation.py:615: FitFailedWarning: Estimator fit failed. The score on this train-test partition for these parameters will be set to nan. Details: \n",
      "Traceback (most recent call last):\n",
      "  File \"c:\\users\\jooya\\appdata\\local\\programs\\python\\python38\\lib\\site-packages\\sklearn\\model_selection\\_validation.py\", line 598, in _fit_and_score\n",
      "    estimator.fit(X_train, y_train, **fit_params)\n",
      "  File \"c:\\users\\jooya\\appdata\\local\\programs\\python\\python38\\lib\\site-packages\\sklearn\\tree\\_classes.py\", line 903, in fit\n",
      "    super().fit(\n",
      "  File \"c:\\users\\jooya\\appdata\\local\\programs\\python\\python38\\lib\\site-packages\\sklearn\\tree\\_classes.py\", line 191, in fit\n",
      "    check_classification_targets(y)\n",
      "  File \"c:\\users\\jooya\\appdata\\local\\programs\\python\\python38\\lib\\site-packages\\sklearn\\utils\\multiclass.py\", line 183, in check_classification_targets\n",
      "    raise ValueError(\"Unknown label type: %r\" % y_type)\n",
      "ValueError: Unknown label type: 'continuous'\n",
      "\n",
      "  warnings.warn(\"Estimator fit failed. The score on this train-test\"\n",
      "c:\\users\\jooya\\appdata\\local\\programs\\python\\python38\\lib\\site-packages\\sklearn\\model_selection\\_validation.py:615: FitFailedWarning: Estimator fit failed. The score on this train-test partition for these parameters will be set to nan. Details: \n",
      "Traceback (most recent call last):\n",
      "  File \"c:\\users\\jooya\\appdata\\local\\programs\\python\\python38\\lib\\site-packages\\sklearn\\model_selection\\_validation.py\", line 598, in _fit_and_score\n",
      "    estimator.fit(X_train, y_train, **fit_params)\n",
      "  File \"c:\\users\\jooya\\appdata\\local\\programs\\python\\python38\\lib\\site-packages\\sklearn\\tree\\_classes.py\", line 903, in fit\n",
      "    super().fit(\n",
      "  File \"c:\\users\\jooya\\appdata\\local\\programs\\python\\python38\\lib\\site-packages\\sklearn\\tree\\_classes.py\", line 191, in fit\n",
      "    check_classification_targets(y)\n",
      "  File \"c:\\users\\jooya\\appdata\\local\\programs\\python\\python38\\lib\\site-packages\\sklearn\\utils\\multiclass.py\", line 183, in check_classification_targets\n",
      "    raise ValueError(\"Unknown label type: %r\" % y_type)\n",
      "ValueError: Unknown label type: 'continuous'\n",
      "\n",
      "  warnings.warn(\"Estimator fit failed. The score on this train-test\"\n",
      "c:\\users\\jooya\\appdata\\local\\programs\\python\\python38\\lib\\site-packages\\sklearn\\model_selection\\_validation.py:615: FitFailedWarning: Estimator fit failed. The score on this train-test partition for these parameters will be set to nan. Details: \n",
      "Traceback (most recent call last):\n",
      "  File \"c:\\users\\jooya\\appdata\\local\\programs\\python\\python38\\lib\\site-packages\\sklearn\\model_selection\\_validation.py\", line 598, in _fit_and_score\n",
      "    estimator.fit(X_train, y_train, **fit_params)\n",
      "  File \"c:\\users\\jooya\\appdata\\local\\programs\\python\\python38\\lib\\site-packages\\sklearn\\tree\\_classes.py\", line 903, in fit\n",
      "    super().fit(\n",
      "  File \"c:\\users\\jooya\\appdata\\local\\programs\\python\\python38\\lib\\site-packages\\sklearn\\tree\\_classes.py\", line 191, in fit\n",
      "    check_classification_targets(y)\n",
      "  File \"c:\\users\\jooya\\appdata\\local\\programs\\python\\python38\\lib\\site-packages\\sklearn\\utils\\multiclass.py\", line 183, in check_classification_targets\n",
      "    raise ValueError(\"Unknown label type: %r\" % y_type)\n",
      "ValueError: Unknown label type: 'continuous'\n",
      "\n",
      "  warnings.warn(\"Estimator fit failed. The score on this train-test\"\n",
      "c:\\users\\jooya\\appdata\\local\\programs\\python\\python38\\lib\\site-packages\\sklearn\\model_selection\\_validation.py:615: FitFailedWarning: Estimator fit failed. The score on this train-test partition for these parameters will be set to nan. Details: \n",
      "Traceback (most recent call last):\n",
      "  File \"c:\\users\\jooya\\appdata\\local\\programs\\python\\python38\\lib\\site-packages\\sklearn\\model_selection\\_validation.py\", line 598, in _fit_and_score\n",
      "    estimator.fit(X_train, y_train, **fit_params)\n",
      "  File \"c:\\users\\jooya\\appdata\\local\\programs\\python\\python38\\lib\\site-packages\\sklearn\\tree\\_classes.py\", line 903, in fit\n",
      "    super().fit(\n",
      "  File \"c:\\users\\jooya\\appdata\\local\\programs\\python\\python38\\lib\\site-packages\\sklearn\\tree\\_classes.py\", line 191, in fit\n",
      "    check_classification_targets(y)\n",
      "  File \"c:\\users\\jooya\\appdata\\local\\programs\\python\\python38\\lib\\site-packages\\sklearn\\utils\\multiclass.py\", line 183, in check_classification_targets\n",
      "    raise ValueError(\"Unknown label type: %r\" % y_type)\n",
      "ValueError: Unknown label type: 'continuous'\n",
      "\n",
      "  warnings.warn(\"Estimator fit failed. The score on this train-test\"\n",
      "c:\\users\\jooya\\appdata\\local\\programs\\python\\python38\\lib\\site-packages\\sklearn\\model_selection\\_validation.py:615: FitFailedWarning: Estimator fit failed. The score on this train-test partition for these parameters will be set to nan. Details: \n",
      "Traceback (most recent call last):\n",
      "  File \"c:\\users\\jooya\\appdata\\local\\programs\\python\\python38\\lib\\site-packages\\sklearn\\model_selection\\_validation.py\", line 598, in _fit_and_score\n",
      "    estimator.fit(X_train, y_train, **fit_params)\n",
      "  File \"c:\\users\\jooya\\appdata\\local\\programs\\python\\python38\\lib\\site-packages\\sklearn\\tree\\_classes.py\", line 903, in fit\n",
      "    super().fit(\n",
      "  File \"c:\\users\\jooya\\appdata\\local\\programs\\python\\python38\\lib\\site-packages\\sklearn\\tree\\_classes.py\", line 191, in fit\n",
      "    check_classification_targets(y)\n",
      "  File \"c:\\users\\jooya\\appdata\\local\\programs\\python\\python38\\lib\\site-packages\\sklearn\\utils\\multiclass.py\", line 183, in check_classification_targets\n",
      "    raise ValueError(\"Unknown label type: %r\" % y_type)\n",
      "ValueError: Unknown label type: 'continuous'\n",
      "\n",
      "  warnings.warn(\"Estimator fit failed. The score on this train-test\"\n"
     ]
    },
    {
     "name": "stderr",
     "output_type": "stream",
     "text": [
      "c:\\users\\jooya\\appdata\\local\\programs\\python\\python38\\lib\\site-packages\\sklearn\\model_selection\\_validation.py:615: FitFailedWarning: Estimator fit failed. The score on this train-test partition for these parameters will be set to nan. Details: \n",
      "Traceback (most recent call last):\n",
      "  File \"c:\\users\\jooya\\appdata\\local\\programs\\python\\python38\\lib\\site-packages\\sklearn\\model_selection\\_validation.py\", line 598, in _fit_and_score\n",
      "    estimator.fit(X_train, y_train, **fit_params)\n",
      "  File \"c:\\users\\jooya\\appdata\\local\\programs\\python\\python38\\lib\\site-packages\\sklearn\\tree\\_classes.py\", line 903, in fit\n",
      "    super().fit(\n",
      "  File \"c:\\users\\jooya\\appdata\\local\\programs\\python\\python38\\lib\\site-packages\\sklearn\\tree\\_classes.py\", line 191, in fit\n",
      "    check_classification_targets(y)\n",
      "  File \"c:\\users\\jooya\\appdata\\local\\programs\\python\\python38\\lib\\site-packages\\sklearn\\utils\\multiclass.py\", line 183, in check_classification_targets\n",
      "    raise ValueError(\"Unknown label type: %r\" % y_type)\n",
      "ValueError: Unknown label type: 'continuous'\n",
      "\n",
      "  warnings.warn(\"Estimator fit failed. The score on this train-test\"\n",
      "c:\\users\\jooya\\appdata\\local\\programs\\python\\python38\\lib\\site-packages\\sklearn\\model_selection\\_validation.py:615: FitFailedWarning: Estimator fit failed. The score on this train-test partition for these parameters will be set to nan. Details: \n",
      "Traceback (most recent call last):\n",
      "  File \"c:\\users\\jooya\\appdata\\local\\programs\\python\\python38\\lib\\site-packages\\sklearn\\model_selection\\_validation.py\", line 598, in _fit_and_score\n",
      "    estimator.fit(X_train, y_train, **fit_params)\n",
      "  File \"c:\\users\\jooya\\appdata\\local\\programs\\python\\python38\\lib\\site-packages\\sklearn\\tree\\_classes.py\", line 903, in fit\n",
      "    super().fit(\n",
      "  File \"c:\\users\\jooya\\appdata\\local\\programs\\python\\python38\\lib\\site-packages\\sklearn\\tree\\_classes.py\", line 191, in fit\n",
      "    check_classification_targets(y)\n",
      "  File \"c:\\users\\jooya\\appdata\\local\\programs\\python\\python38\\lib\\site-packages\\sklearn\\utils\\multiclass.py\", line 183, in check_classification_targets\n",
      "    raise ValueError(\"Unknown label type: %r\" % y_type)\n",
      "ValueError: Unknown label type: 'continuous'\n",
      "\n",
      "  warnings.warn(\"Estimator fit failed. The score on this train-test\"\n",
      "c:\\users\\jooya\\appdata\\local\\programs\\python\\python38\\lib\\site-packages\\sklearn\\model_selection\\_search.py:922: UserWarning: One or more of the test scores are non-finite: [nan nan nan nan nan nan]\n",
      "  warnings.warn(\n"
     ]
    },
    {
     "ename": "ValueError",
     "evalue": "Unknown label type: 'continuous'",
     "output_type": "error",
     "traceback": [
      "\u001b[1;31m---------------------------------------------------------------------------\u001b[0m",
      "\u001b[1;31mValueError\u001b[0m                                Traceback (most recent call last)",
      "\u001b[1;32m<ipython-input-34-b2fa3c45a352>\u001b[0m in \u001b[0;36m<module>\u001b[1;34m\u001b[0m\n\u001b[1;32m----> 1\u001b[1;33m \u001b[0mgrid_dtree\u001b[0m\u001b[1;33m.\u001b[0m\u001b[0mfit\u001b[0m\u001b[1;33m(\u001b[0m\u001b[0mx_train\u001b[0m\u001b[1;33m,\u001b[0m \u001b[0my_train\u001b[0m\u001b[1;33m)\u001b[0m\u001b[1;33m\u001b[0m\u001b[1;33m\u001b[0m\u001b[0m\n\u001b[0m",
      "\u001b[1;32mc:\\users\\jooya\\appdata\\local\\programs\\python\\python38\\lib\\site-packages\\sklearn\\utils\\validation.py\u001b[0m in \u001b[0;36minner_f\u001b[1;34m(*args, **kwargs)\u001b[0m\n\u001b[0;32m     61\u001b[0m             \u001b[0mextra_args\u001b[0m \u001b[1;33m=\u001b[0m \u001b[0mlen\u001b[0m\u001b[1;33m(\u001b[0m\u001b[0margs\u001b[0m\u001b[1;33m)\u001b[0m \u001b[1;33m-\u001b[0m \u001b[0mlen\u001b[0m\u001b[1;33m(\u001b[0m\u001b[0mall_args\u001b[0m\u001b[1;33m)\u001b[0m\u001b[1;33m\u001b[0m\u001b[1;33m\u001b[0m\u001b[0m\n\u001b[0;32m     62\u001b[0m             \u001b[1;32mif\u001b[0m \u001b[0mextra_args\u001b[0m \u001b[1;33m<=\u001b[0m \u001b[1;36m0\u001b[0m\u001b[1;33m:\u001b[0m\u001b[1;33m\u001b[0m\u001b[1;33m\u001b[0m\u001b[0m\n\u001b[1;32m---> 63\u001b[1;33m                 \u001b[1;32mreturn\u001b[0m \u001b[0mf\u001b[0m\u001b[1;33m(\u001b[0m\u001b[1;33m*\u001b[0m\u001b[0margs\u001b[0m\u001b[1;33m,\u001b[0m \u001b[1;33m**\u001b[0m\u001b[0mkwargs\u001b[0m\u001b[1;33m)\u001b[0m\u001b[1;33m\u001b[0m\u001b[1;33m\u001b[0m\u001b[0m\n\u001b[0m\u001b[0;32m     64\u001b[0m \u001b[1;33m\u001b[0m\u001b[0m\n\u001b[0;32m     65\u001b[0m             \u001b[1;31m# extra_args > 0\u001b[0m\u001b[1;33m\u001b[0m\u001b[1;33m\u001b[0m\u001b[1;33m\u001b[0m\u001b[0m\n",
      "\u001b[1;32mc:\\users\\jooya\\appdata\\local\\programs\\python\\python38\\lib\\site-packages\\sklearn\\model_selection\\_search.py\u001b[0m in \u001b[0;36mfit\u001b[1;34m(self, X, y, groups, **fit_params)\u001b[0m\n\u001b[0;32m    878\u001b[0m             \u001b[0mrefit_start_time\u001b[0m \u001b[1;33m=\u001b[0m \u001b[0mtime\u001b[0m\u001b[1;33m.\u001b[0m\u001b[0mtime\u001b[0m\u001b[1;33m(\u001b[0m\u001b[1;33m)\u001b[0m\u001b[1;33m\u001b[0m\u001b[1;33m\u001b[0m\u001b[0m\n\u001b[0;32m    879\u001b[0m             \u001b[1;32mif\u001b[0m \u001b[0my\u001b[0m \u001b[1;32mis\u001b[0m \u001b[1;32mnot\u001b[0m \u001b[1;32mNone\u001b[0m\u001b[1;33m:\u001b[0m\u001b[1;33m\u001b[0m\u001b[1;33m\u001b[0m\u001b[0m\n\u001b[1;32m--> 880\u001b[1;33m                 \u001b[0mself\u001b[0m\u001b[1;33m.\u001b[0m\u001b[0mbest_estimator_\u001b[0m\u001b[1;33m.\u001b[0m\u001b[0mfit\u001b[0m\u001b[1;33m(\u001b[0m\u001b[0mX\u001b[0m\u001b[1;33m,\u001b[0m \u001b[0my\u001b[0m\u001b[1;33m,\u001b[0m \u001b[1;33m**\u001b[0m\u001b[0mfit_params\u001b[0m\u001b[1;33m)\u001b[0m\u001b[1;33m\u001b[0m\u001b[1;33m\u001b[0m\u001b[0m\n\u001b[0m\u001b[0;32m    881\u001b[0m             \u001b[1;32melse\u001b[0m\u001b[1;33m:\u001b[0m\u001b[1;33m\u001b[0m\u001b[1;33m\u001b[0m\u001b[0m\n\u001b[0;32m    882\u001b[0m                 \u001b[0mself\u001b[0m\u001b[1;33m.\u001b[0m\u001b[0mbest_estimator_\u001b[0m\u001b[1;33m.\u001b[0m\u001b[0mfit\u001b[0m\u001b[1;33m(\u001b[0m\u001b[0mX\u001b[0m\u001b[1;33m,\u001b[0m \u001b[1;33m**\u001b[0m\u001b[0mfit_params\u001b[0m\u001b[1;33m)\u001b[0m\u001b[1;33m\u001b[0m\u001b[1;33m\u001b[0m\u001b[0m\n",
      "\u001b[1;32mc:\\users\\jooya\\appdata\\local\\programs\\python\\python38\\lib\\site-packages\\sklearn\\tree\\_classes.py\u001b[0m in \u001b[0;36mfit\u001b[1;34m(self, X, y, sample_weight, check_input, X_idx_sorted)\u001b[0m\n\u001b[0;32m    901\u001b[0m         \"\"\"\n\u001b[0;32m    902\u001b[0m \u001b[1;33m\u001b[0m\u001b[0m\n\u001b[1;32m--> 903\u001b[1;33m         super().fit(\n\u001b[0m\u001b[0;32m    904\u001b[0m             \u001b[0mX\u001b[0m\u001b[1;33m,\u001b[0m \u001b[0my\u001b[0m\u001b[1;33m,\u001b[0m\u001b[1;33m\u001b[0m\u001b[1;33m\u001b[0m\u001b[0m\n\u001b[0;32m    905\u001b[0m             \u001b[0msample_weight\u001b[0m\u001b[1;33m=\u001b[0m\u001b[0msample_weight\u001b[0m\u001b[1;33m,\u001b[0m\u001b[1;33m\u001b[0m\u001b[1;33m\u001b[0m\u001b[0m\n",
      "\u001b[1;32mc:\\users\\jooya\\appdata\\local\\programs\\python\\python38\\lib\\site-packages\\sklearn\\tree\\_classes.py\u001b[0m in \u001b[0;36mfit\u001b[1;34m(self, X, y, sample_weight, check_input, X_idx_sorted)\u001b[0m\n\u001b[0;32m    189\u001b[0m \u001b[1;33m\u001b[0m\u001b[0m\n\u001b[0;32m    190\u001b[0m         \u001b[1;32mif\u001b[0m \u001b[0mis_classification\u001b[0m\u001b[1;33m:\u001b[0m\u001b[1;33m\u001b[0m\u001b[1;33m\u001b[0m\u001b[0m\n\u001b[1;32m--> 191\u001b[1;33m             \u001b[0mcheck_classification_targets\u001b[0m\u001b[1;33m(\u001b[0m\u001b[0my\u001b[0m\u001b[1;33m)\u001b[0m\u001b[1;33m\u001b[0m\u001b[1;33m\u001b[0m\u001b[0m\n\u001b[0m\u001b[0;32m    192\u001b[0m             \u001b[0my\u001b[0m \u001b[1;33m=\u001b[0m \u001b[0mnp\u001b[0m\u001b[1;33m.\u001b[0m\u001b[0mcopy\u001b[0m\u001b[1;33m(\u001b[0m\u001b[0my\u001b[0m\u001b[1;33m)\u001b[0m\u001b[1;33m\u001b[0m\u001b[1;33m\u001b[0m\u001b[0m\n\u001b[0;32m    193\u001b[0m \u001b[1;33m\u001b[0m\u001b[0m\n",
      "\u001b[1;32mc:\\users\\jooya\\appdata\\local\\programs\\python\\python38\\lib\\site-packages\\sklearn\\utils\\multiclass.py\u001b[0m in \u001b[0;36mcheck_classification_targets\u001b[1;34m(y)\u001b[0m\n\u001b[0;32m    181\u001b[0m     if y_type not in ['binary', 'multiclass', 'multiclass-multioutput',\n\u001b[0;32m    182\u001b[0m                       'multilabel-indicator', 'multilabel-sequences']:\n\u001b[1;32m--> 183\u001b[1;33m         \u001b[1;32mraise\u001b[0m \u001b[0mValueError\u001b[0m\u001b[1;33m(\u001b[0m\u001b[1;34m\"Unknown label type: %r\"\u001b[0m \u001b[1;33m%\u001b[0m \u001b[0my_type\u001b[0m\u001b[1;33m)\u001b[0m\u001b[1;33m\u001b[0m\u001b[1;33m\u001b[0m\u001b[0m\n\u001b[0m\u001b[0;32m    184\u001b[0m \u001b[1;33m\u001b[0m\u001b[0m\n\u001b[0;32m    185\u001b[0m \u001b[1;33m\u001b[0m\u001b[0m\n",
      "\u001b[1;31mValueError\u001b[0m: Unknown label type: 'continuous'"
     ]
    }
   ],
   "source": [
    "grid_dtree.fit(x_train, y_train)"
   ]
  },
  {
   "cell_type": "markdown",
   "metadata": {},
   "source": [
    "https://daily-studyandwork.tistory.com/35"
   ]
  },
  {
   "cell_type": "code",
   "execution_count": null,
   "metadata": {},
   "outputs": [],
   "source": []
  },
  {
   "cell_type": "code",
   "execution_count": null,
   "metadata": {},
   "outputs": [],
   "source": []
  },
  {
   "cell_type": "code",
   "execution_count": 25,
   "metadata": {},
   "outputs": [],
   "source": [
    "param_grid={'booster' :['gbtree'],\n",
    "                 'silent':[True],\n",
    "                 'max_depth':[5,6,8],\n",
    "                 'min_child_weight':[1,3,5],\n",
    "                 'gamma':[0,1,2,3],\n",
    "                 'nthread':[4],\n",
    "                 'colsample_bytree':[0.5,0.8],\n",
    "                 'colsample_bylevel':[0.9],\n",
    "                 'n_estimators':[50],\n",
    "                 'objective':['binary:logistic'],\n",
    "                 'random_state':[2]}"
   ]
  },
  {
   "cell_type": "code",
   "execution_count": null,
   "metadata": {},
   "outputs": [],
   "source": [
    "# 3번\n",
    "cv=KFold(n_splits=6, random_state=1)"
   ]
  },
  {
   "cell_type": "code",
   "execution_count": null,
   "metadata": {},
   "outputs": [],
   "source": [
    "# 4번\n",
    "gcv=GridSearchCV(model, param_grid=param_grid, cv=cv, scoring='f1', n_jobs=4)"
   ]
  },
  {
   "cell_type": "code",
   "execution_count": null,
   "metadata": {},
   "outputs": [],
   "source": [
    "# 5번\n",
    "gcv.fit(train_X.values,train_Y.values)\n",
    "print('final params', gcv.best_params_)   # 최적의 파라미터 값 출력\n",
    "print('best score', gcv.best_score_)      # 최고의 점수\n",
    "\n",
    "final params {'booster': 'gbtree', 'colsample_bylevel': 0.9, 'colsample_bytree': 0.8, 'gamma': 0, 'max_depth': 8, 'min_child_weight': 3, 'n_estimators': 50, 'nthread': 4, 'objective': 'binary:logistic', 'random_state': 2, 'silent': True}\n",
    "best score 0.7618358747302295"
   ]
  },
  {
   "cell_type": "markdown",
   "metadata": {},
   "source": [
    "https://m.blog.naver.com/gustn3964/221431933811"
   ]
  },
  {
   "cell_type": "code",
   "execution_count": null,
   "metadata": {},
   "outputs": [],
   "source": []
  },
  {
   "cell_type": "code",
   "execution_count": null,
   "metadata": {},
   "outputs": [],
   "source": []
  },
  {
   "cell_type": "code",
   "execution_count": null,
   "metadata": {},
   "outputs": [],
   "source": []
  },
  {
   "cell_type": "code",
   "execution_count": null,
   "metadata": {},
   "outputs": [],
   "source": []
  },
  {
   "cell_type": "markdown",
   "metadata": {},
   "source": [
    "======================================================================================================================="
   ]
  },
  {
   "cell_type": "markdown",
   "metadata": {},
   "source": [
    "### 2. LightGBM"
   ]
  },
  {
   "cell_type": "code",
   "execution_count": 35,
   "metadata": {},
   "outputs": [],
   "source": [
    "# !pip install lightgbm"
   ]
  },
  {
   "cell_type": "code",
   "execution_count": 29,
   "metadata": {},
   "outputs": [],
   "source": [
    "import lightgbm as lgb"
   ]
  },
  {
   "cell_type": "markdown",
   "metadata": {},
   "source": [
    "#### 2-1. 모델링"
   ]
  },
  {
   "cell_type": "code",
   "execution_count": 44,
   "metadata": {},
   "outputs": [],
   "source": [
    "train_ds = lgb.Dataset(x_train, label=y_train)\n",
    "test_ds = lgb.Dataset(x_valid, label=y_valid)\n",
    "params = {'learning_rate':0.01,\n",
    "          'max_depth':16,\n",
    "         'boosting':'gbdt',\n",
    "         'objective':'regression',\n",
    "         'metric':'mse',\n",
    "         'is_training_metric':True,\n",
    "         'num_leaves':144,\n",
    "         'feature_fraction':0.9,\n",
    "         'bagging_fraction':0.7,\n",
    "         'bagging_freq':5,\n",
    "         'seed':2020}"
   ]
  },
  {
   "cell_type": "code",
   "execution_count": 45,
   "metadata": {},
   "outputs": [
    {
     "name": "stderr",
     "output_type": "stream",
     "text": [
      "c:\\users\\jooya\\appdata\\local\\programs\\python\\python38\\lib\\site-packages\\lightgbm\\engine.py:181: UserWarning: 'early_stopping_rounds' argument is deprecated and will be removed in a future release of LightGBM. Pass 'early_stopping()' callback via 'callbacks' argument instead.\n",
      "  _log_warning(\"'early_stopping_rounds' argument is deprecated and will be removed in a future release of LightGBM. \"\n",
      "c:\\users\\jooya\\appdata\\local\\programs\\python\\python38\\lib\\site-packages\\lightgbm\\engine.py:239: UserWarning: 'verbose_eval' argument is deprecated and will be removed in a future release of LightGBM. Pass 'log_evaluation()' callback via 'callbacks' argument instead.\n",
      "  _log_warning(\"'verbose_eval' argument is deprecated and will be removed in a future release of LightGBM. \"\n"
     ]
    },
    {
     "name": "stdout",
     "output_type": "stream",
     "text": [
      "[LightGBM] [Warning] Auto-choosing row-wise multi-threading, the overhead of testing was 0.022751 seconds.\n",
      "You can set `force_row_wise=true` to remove the overhead.\n",
      "And if memory is not enough, you can set `force_col_wise=true`.\n",
      "[LightGBM] [Info] Total Bins 420\n",
      "[LightGBM] [Info] Number of data points in the train set: 800000, number of used features: 14\n",
      "[LightGBM] [Info] Start training from score 11.335730\n",
      "Training until validation scores don't improve for 100 rounds\n",
      "[100]\tvalid_0's l2: 38.0593\n",
      "[200]\tvalid_0's l2: 29.238\n",
      "[300]\tvalid_0's l2: 27.825\n",
      "[400]\tvalid_0's l2: 27.5618\n",
      "[500]\tvalid_0's l2: 27.508\n",
      "[600]\tvalid_0's l2: 27.4956\n",
      "[700]\tvalid_0's l2: 27.5175\n",
      "Early stopping, best iteration is:\n",
      "[603]\tvalid_0's l2: 27.4948\n"
     ]
    }
   ],
   "source": [
    "model = lgb.train(params, train_ds, 1000, test_ds, verbose_eval=100, early_stopping_rounds=100)"
   ]
  },
  {
   "cell_type": "code",
   "execution_count": 46,
   "metadata": {},
   "outputs": [],
   "source": [
    "y_pred = model.predict(x_valid)"
   ]
  },
  {
   "cell_type": "markdown",
   "metadata": {},
   "source": [
    "#### 2-2. 중요변수 시각화"
   ]
  },
  {
   "cell_type": "markdown",
   "metadata": {},
   "source": [
    "#### 2-3. 모델 평가"
   ]
  },
  {
   "cell_type": "code",
   "execution_count": 47,
   "metadata": {},
   "outputs": [
    {
     "name": "stdout",
     "output_type": "stream",
     "text": [
      "2.857855733020886\n",
      "27.49478194751611\n"
     ]
    }
   ],
   "source": [
    "y_true = y_valid\n",
    "\n",
    "mae = mean_absolute_error(y_true, y_pred)\n",
    "print(mae)\n",
    "\n",
    "mse = mean_squared_error(y_true, y_pred)\n",
    "print(mse)"
   ]
  },
  {
   "cell_type": "markdown",
   "metadata": {},
   "source": [
    "#### 2-4. 하이퍼파라미터 조정"
   ]
  },
  {
   "cell_type": "code",
   "execution_count": null,
   "metadata": {},
   "outputs": [],
   "source": []
  },
  {
   "cell_type": "markdown",
   "metadata": {},
   "source": [
    "#### 주요 파라미터\n",
    "- learning_rate\n",
    "- num_iterations\n",
    "- max_depth\n",
    "- boosting\n",
    "- bagging_fraction\n",
    "- feature_fraction\n",
    "- scale_pos_weight\n",
    "- early_stopping_round\n",
    "- lambda_l1, lambda_l2"
   ]
  },
  {
   "cell_type": "markdown",
   "metadata": {},
   "source": [
    "#### 더 빠른 속도\n",
    "- bagging_fraction\n",
    "- max_bin 작게\n",
    "- save_binary를 쓰면 데이터 로딩속도 빨라짐\n",
    "- parallel learning 사용\n",
    "\n",
    "#### 더 높은 정확도\n",
    "- max_bin 크게\n",
    "- num_iterations 크게하고, learning_rate은 작게\n",
    "- num_leaves 크게 (과적합의 원인이 될 수 있음)\n",
    "- boosting 알고리즘 'dart' 사용\n",
    "\n",
    "#### 과적합 줄이기\n",
    "- max_bin 작게\n",
    "- num_leaves 작게\n",
    "- min_data_in_leaf와 min_sum_hessian_in_leaf 사용하기"
   ]
  },
  {
   "cell_type": "markdown",
   "metadata": {},
   "source": [
    "https://greatjoy.tistory.com/72m"
   ]
  },
  {
   "cell_type": "code",
   "execution_count": null,
   "metadata": {},
   "outputs": [],
   "source": []
  },
  {
   "cell_type": "markdown",
   "metadata": {},
   "source": [
    "======================================================================================================================="
   ]
  },
  {
   "cell_type": "markdown",
   "metadata": {},
   "source": [
    "### 3. Randomforest"
   ]
  },
  {
   "cell_type": "code",
   "execution_count": null,
   "metadata": {},
   "outputs": [],
   "source": [
    "# 랜덤포레스트는 스케일링 필요"
   ]
  },
  {
   "cell_type": "code",
   "execution_count": 11,
   "metadata": {},
   "outputs": [],
   "source": [
    "from sklearn.ensemble import RandomForestRegressor"
   ]
  },
  {
   "cell_type": "code",
   "execution_count": 12,
   "metadata": {},
   "outputs": [],
   "source": [
    "model = RandomForestRegressor()"
   ]
  },
  {
   "cell_type": "markdown",
   "metadata": {},
   "source": [
    "#### 3-1. 모델링"
   ]
  },
  {
   "cell_type": "code",
   "execution_count": 13,
   "metadata": {},
   "outputs": [
    {
     "data": {
      "text/plain": [
       "RandomForestRegressor()"
      ]
     },
     "execution_count": 13,
     "metadata": {},
     "output_type": "execute_result"
    }
   ],
   "source": [
    "model.fit(x_train, y_train)"
   ]
  },
  {
   "cell_type": "markdown",
   "metadata": {},
   "source": [
    "#### 3-2. 모델 평가"
   ]
  },
  {
   "cell_type": "code",
   "execution_count": 14,
   "metadata": {},
   "outputs": [
    {
     "name": "stdout",
     "output_type": "stream",
     "text": [
      "3.0250995289166673\n",
      "28.471462701723805\n"
     ]
    }
   ],
   "source": [
    "y_pred = model.predict(x_valid)\n",
    "y_true = y_valid\n",
    "\n",
    "mae = mean_absolute_error(y_true, y_pred)\n",
    "print(mae)\n",
    "\n",
    "mse = mean_squared_error(y_true, y_pred)\n",
    "print(mse)"
   ]
  },
  {
   "cell_type": "markdown",
   "metadata": {},
   "source": [
    "https://creatorjo.tistory.com/142"
   ]
  },
  {
   "cell_type": "markdown",
   "metadata": {},
   "source": [
    "#### 3-3. 하이퍼파라미터 조정"
   ]
  },
  {
   "cell_type": "code",
   "execution_count": 16,
   "metadata": {},
   "outputs": [
    {
     "data": {
      "text/plain": [
       "RandomForestRegressor(n_jobs=-1, random_state=1)"
      ]
     },
     "execution_count": 16,
     "metadata": {},
     "output_type": "execute_result"
    }
   ],
   "source": [
    "bag_forest_reg = RandomForestRegressor(n_estimators=100,\n",
    "                                       criterion=\"mse\",\n",
    "                                       n_jobs=-1,\n",
    "                                       random_state=1)\n",
    "\n",
    "bag_forest_reg.fit(x_train, y_train)"
   ]
  },
  {
   "cell_type": "code",
   "execution_count": 17,
   "metadata": {},
   "outputs": [],
   "source": [
    "train_pred_y = bag_forest_reg.predict(x_train)\n",
    "test_pred_y = bag_forest_reg.predict(x_valid)"
   ]
  },
  {
   "cell_type": "code",
   "execution_count": 20,
   "metadata": {},
   "outputs": [
    {
     "name": "stdout",
     "output_type": "stream",
     "text": [
      "28.40661643261075\n"
     ]
    }
   ],
   "source": [
    "mse = mean_squared_error(y_valid, test_pred_y)\n",
    "print(mse)"
   ]
  },
  {
   "cell_type": "code",
   "execution_count": 21,
   "metadata": {},
   "outputs": [
    {
     "data": {
      "text/plain": [
       "RandomForestRegressor(max_features=6, n_jobs=-1, random_state=1)"
      ]
     },
     "execution_count": 21,
     "metadata": {},
     "output_type": "execute_result"
    }
   ],
   "source": [
    "rf_reg = RandomForestRegressor(n_estimators=100,\n",
    "                               criterion=\"mse\",\n",
    "                               max_features=6,\n",
    "                               n_jobs=-1,\n",
    "                               random_state=1)\n",
    "\n",
    "rf_reg.fit(x_train, y_train)"
   ]
  },
  {
   "cell_type": "code",
   "execution_count": 23,
   "metadata": {},
   "outputs": [
    {
     "name": "stdout",
     "output_type": "stream",
     "text": [
      "train_MAE = 1.1040105478928568\n",
      "test_MAE = 2.9643777640833333\n"
     ]
    }
   ],
   "source": [
    "train_pred_y = rf_reg.predict(x_train)\n",
    "test_pred_y = rf_reg.predict(x_valid)\n",
    "\n",
    "print(f\"train_MAE = {mean_absolute_error(y_train, train_pred_y)}\")\n",
    "print(f\"test_MAE = {mean_absolute_error(y_valid, test_pred_y)}\")"
   ]
  },
  {
   "cell_type": "markdown",
   "metadata": {},
   "source": [
    "- sklearn의 GridSearchCV를 사용하여 매우 이해하기 쉬운 하이퍼 파라미터를 조정\n",
    "- 주어진 하이퍼 파라미터의 모든 조합을 시도하고 \n",
    "- K- 폴드 크로스 유효성 검사를 param_grid 사용하여 각 조합으로 모델 성능을 계산 "
   ]
  },
  {
   "cell_type": "code",
   "execution_count": 24,
   "metadata": {},
   "outputs": [],
   "source": [
    "param_grid = {\n",
    "    \"n_estimators\":[100,200,300],\n",
    "    \"max_depth\":[10, 50, 100],\n",
    "    \"max_features\":[6,8,10,12,14,16]\n",
    "}"
   ]
  },
  {
   "cell_type": "code",
   "execution_count": 25,
   "metadata": {},
   "outputs": [],
   "source": [
    "rf_reg = RandomForestRegressor()"
   ]
  },
  {
   "cell_type": "code",
   "execution_count": 28,
   "metadata": {},
   "outputs": [],
   "source": [
    "rf_reg_tuned = GridSearchCV(estimator=rf_reg,\n",
    "                            param_grid=param_grid,\n",
    "                            cv=3,\n",
    "                            n_jobs=-1,\n",
    "                            verbose=2)"
   ]
  },
  {
   "cell_type": "code",
   "execution_count": null,
   "metadata": {},
   "outputs": [
    {
     "name": "stdout",
     "output_type": "stream",
     "text": [
      "Fitting 3 folds for each of 54 candidates, totalling 162 fits\n"
     ]
    }
   ],
   "source": [
    "rf_reg_tuned.fit(x_train, y_train)"
   ]
  },
  {
   "cell_type": "code",
   "execution_count": null,
   "metadata": {},
   "outputs": [],
   "source": [
    "rf_reg_tuned.best_estimator_"
   ]
  },
  {
   "cell_type": "code",
   "execution_count": null,
   "metadata": {},
   "outputs": [],
   "source": [
    "# 최고의 Random Forest를 사용하여 기능 중요성을 측정"
   ]
  },
  {
   "cell_type": "code",
   "execution_count": null,
   "metadata": {},
   "outputs": [],
   "source": [
    "rf_reg_best = rf_reg_tuned.best_estimator_\n",
    "\n",
    "col_names = df.drop(columns=[\"PM2.5\"]).columns\n",
    "fi_df = pd.DataFrame(rf_reg_best.feature_importances_, index=col_names, columns=[\"Importance\"])\n",
    "\n",
    "fi_df.sort_values(\"Importance\", ascending=False)"
   ]
  },
  {
   "cell_type": "markdown",
   "metadata": {},
   "source": [
    "https://ichi.pro/ko/model-guchug-eseo-python-ui-haipeo-palamiteo-tyuningkkaji-random-forest-102306249189611"
   ]
  },
  {
   "cell_type": "code",
   "execution_count": null,
   "metadata": {},
   "outputs": [],
   "source": []
  },
  {
   "cell_type": "code",
   "execution_count": null,
   "metadata": {},
   "outputs": [],
   "source": []
  },
  {
   "cell_type": "markdown",
   "metadata": {},
   "source": [
    "======================================================================================================================="
   ]
  },
  {
   "cell_type": "markdown",
   "metadata": {},
   "source": [
    "### 4. Ridge regression (릿지 회귀)"
   ]
  },
  {
   "cell_type": "code",
   "execution_count": 52,
   "metadata": {},
   "outputs": [],
   "source": [
    "from sklearn.linear_model import Ridge"
   ]
  },
  {
   "cell_type": "code",
   "execution_count": 53,
   "metadata": {},
   "outputs": [],
   "source": [
    "ridge = Ridge()"
   ]
  },
  {
   "cell_type": "code",
   "execution_count": 54,
   "metadata": {},
   "outputs": [
    {
     "data": {
      "text/plain": [
       "Ridge()"
      ]
     },
     "execution_count": 54,
     "metadata": {},
     "output_type": "execute_result"
    }
   ],
   "source": [
    "ridge.fit(x_train, y_train)"
   ]
  },
  {
   "cell_type": "code",
   "execution_count": 56,
   "metadata": {},
   "outputs": [
    {
     "name": "stdout",
     "output_type": "stream",
     "text": [
      "0.5592109175181625\n",
      "0.5642664967096929\n"
     ]
    }
   ],
   "source": [
    "print(ridge.score(x_train, y_train))\n",
    "print(ridge.score(x_valid, y_valid))"
   ]
  },
  {
   "cell_type": "code",
   "execution_count": null,
   "metadata": {},
   "outputs": [],
   "source": []
  },
  {
   "cell_type": "code",
   "execution_count": null,
   "metadata": {},
   "outputs": [],
   "source": []
  },
  {
   "cell_type": "markdown",
   "metadata": {},
   "source": [
    "https://zara49.tistory.com/64"
   ]
  },
  {
   "cell_type": "markdown",
   "metadata": {},
   "source": [
    "======================================================================================================================="
   ]
  },
  {
   "cell_type": "markdown",
   "metadata": {},
   "source": [
    "### 5. LASSO (라쏘)"
   ]
  },
  {
   "cell_type": "code",
   "execution_count": 57,
   "metadata": {},
   "outputs": [],
   "source": [
    "from sklearn.linear_model import Lasso"
   ]
  },
  {
   "cell_type": "code",
   "execution_count": 58,
   "metadata": {},
   "outputs": [],
   "source": [
    "lasso = Lasso()"
   ]
  },
  {
   "cell_type": "code",
   "execution_count": 59,
   "metadata": {},
   "outputs": [
    {
     "data": {
      "text/plain": [
       "Lasso()"
      ]
     },
     "execution_count": 59,
     "metadata": {},
     "output_type": "execute_result"
    }
   ],
   "source": [
    "lasso.fit(x_train, y_train)"
   ]
  },
  {
   "cell_type": "code",
   "execution_count": 60,
   "metadata": {},
   "outputs": [
    {
     "name": "stdout",
     "output_type": "stream",
     "text": [
      "0.5592109175181625\n",
      "0.5642664967096929\n"
     ]
    }
   ],
   "source": [
    "print(ridge.score(x_train, y_train))\n",
    "print(ridge.score(x_valid, y_valid))"
   ]
  },
  {
   "cell_type": "code",
   "execution_count": null,
   "metadata": {},
   "outputs": [],
   "source": []
  },
  {
   "cell_type": "code",
   "execution_count": null,
   "metadata": {},
   "outputs": [],
   "source": []
  },
  {
   "cell_type": "markdown",
   "metadata": {},
   "source": [
    "======================================================================================================================="
   ]
  },
  {
   "cell_type": "markdown",
   "metadata": {},
   "source": [
    "### * Catboost"
   ]
  },
  {
   "cell_type": "code",
   "execution_count": 61,
   "metadata": {},
   "outputs": [],
   "source": [
    "import catboost as cb"
   ]
  },
  {
   "cell_type": "code",
   "execution_count": 64,
   "metadata": {},
   "outputs": [],
   "source": [
    "# 학습 데이터를 Catboost 모델에 맞게 변환\n",
    "\n",
    "cb_dtrain = cb.Pool(data=x_train, label=y_train)"
   ]
  },
  {
   "cell_type": "code",
   "execution_count": 65,
   "metadata": {},
   "outputs": [],
   "source": [
    "cb_param = {'learning_rate':0.01}"
   ]
  },
  {
   "cell_type": "code",
   "execution_count": 66,
   "metadata": {},
   "outputs": [
    {
     "name": "stdout",
     "output_type": "stream",
     "text": [
      "0:\tlearn: 9.7011096\ttotal: 214ms\tremaining: 3m 33s\n",
      "1:\tlearn: 9.6369551\ttotal: 274ms\tremaining: 2m 16s\n",
      "2:\tlearn: 9.5734828\ttotal: 336ms\tremaining: 1m 51s\n",
      "3:\tlearn: 9.5110853\ttotal: 397ms\tremaining: 1m 38s\n",
      "4:\tlearn: 9.4495626\ttotal: 461ms\tremaining: 1m 31s\n",
      "5:\tlearn: 9.3888902\ttotal: 516ms\tremaining: 1m 25s\n",
      "6:\tlearn: 9.3288635\ttotal: 568ms\tremaining: 1m 20s\n",
      "7:\tlearn: 9.2697062\ttotal: 624ms\tremaining: 1m 17s\n",
      "8:\tlearn: 9.2112048\ttotal: 682ms\tremaining: 1m 15s\n",
      "9:\tlearn: 9.1535757\ttotal: 744ms\tremaining: 1m 13s\n",
      "10:\tlearn: 9.0966013\ttotal: 828ms\tremaining: 1m 14s\n",
      "11:\tlearn: 9.0403024\ttotal: 920ms\tremaining: 1m 15s\n",
      "12:\tlearn: 8.9847665\ttotal: 1s\tremaining: 1m 16s\n",
      "13:\tlearn: 8.9301121\ttotal: 1.07s\tremaining: 1m 15s\n",
      "14:\tlearn: 8.8762742\ttotal: 1.14s\tremaining: 1m 15s\n",
      "15:\tlearn: 8.8229443\ttotal: 1.2s\tremaining: 1m 14s\n",
      "16:\tlearn: 8.7705914\ttotal: 1.26s\tremaining: 1m 13s\n",
      "17:\tlearn: 8.7186203\ttotal: 1.33s\tremaining: 1m 12s\n",
      "18:\tlearn: 8.6676477\ttotal: 1.4s\tremaining: 1m 12s\n",
      "19:\tlearn: 8.6175417\ttotal: 1.45s\tremaining: 1m 11s\n",
      "20:\tlearn: 8.5678891\ttotal: 1.5s\tremaining: 1m 10s\n",
      "21:\tlearn: 8.5190063\ttotal: 1.56s\tremaining: 1m 9s\n",
      "22:\tlearn: 8.4706813\ttotal: 1.63s\tremaining: 1m 9s\n",
      "23:\tlearn: 8.4230158\ttotal: 1.69s\tremaining: 1m 8s\n",
      "24:\tlearn: 8.3760211\ttotal: 1.74s\tremaining: 1m 7s\n",
      "25:\tlearn: 8.3297047\ttotal: 1.8s\tremaining: 1m 7s\n",
      "26:\tlearn: 8.2838411\ttotal: 1.87s\tremaining: 1m 7s\n",
      "27:\tlearn: 8.2389046\ttotal: 1.93s\tremaining: 1m 7s\n",
      "28:\tlearn: 8.1946792\ttotal: 2s\tremaining: 1m 6s\n",
      "29:\tlearn: 8.1507716\ttotal: 2.06s\tremaining: 1m 6s\n",
      "30:\tlearn: 8.1074012\ttotal: 2.12s\tremaining: 1m 6s\n",
      "31:\tlearn: 8.0647710\ttotal: 2.17s\tremaining: 1m 5s\n",
      "32:\tlearn: 8.0231717\ttotal: 2.23s\tremaining: 1m 5s\n",
      "33:\tlearn: 7.9816527\ttotal: 2.29s\tremaining: 1m 4s\n",
      "34:\tlearn: 7.9411756\ttotal: 2.34s\tremaining: 1m 4s\n",
      "35:\tlearn: 7.9012811\ttotal: 2.39s\tremaining: 1m 4s\n",
      "36:\tlearn: 7.8616529\ttotal: 2.45s\tremaining: 1m 3s\n",
      "37:\tlearn: 7.8228139\ttotal: 2.51s\tremaining: 1m 3s\n",
      "38:\tlearn: 7.7841820\ttotal: 2.57s\tremaining: 1m 3s\n",
      "39:\tlearn: 7.7460837\ttotal: 2.65s\tremaining: 1m 3s\n",
      "40:\tlearn: 7.7086188\ttotal: 2.71s\tremaining: 1m 3s\n",
      "41:\tlearn: 7.6720617\ttotal: 2.77s\tremaining: 1m 3s\n",
      "42:\tlearn: 7.6358625\ttotal: 2.83s\tremaining: 1m 3s\n",
      "43:\tlearn: 7.6002492\ttotal: 2.9s\tremaining: 1m 2s\n",
      "44:\tlearn: 7.5646483\ttotal: 2.96s\tremaining: 1m 2s\n",
      "45:\tlearn: 7.5300762\ttotal: 3.02s\tremaining: 1m 2s\n",
      "46:\tlearn: 7.4956521\ttotal: 3.08s\tremaining: 1m 2s\n",
      "47:\tlearn: 7.4617836\ttotal: 3.13s\tremaining: 1m 2s\n",
      "48:\tlearn: 7.4284671\ttotal: 3.19s\tremaining: 1m 1s\n",
      "49:\tlearn: 7.3956469\ttotal: 3.24s\tremaining: 1m 1s\n",
      "50:\tlearn: 7.3632769\ttotal: 3.29s\tremaining: 1m 1s\n",
      "51:\tlearn: 7.3315959\ttotal: 3.35s\tremaining: 1m 1s\n",
      "52:\tlearn: 7.3000461\ttotal: 3.4s\tremaining: 1m\n",
      "53:\tlearn: 7.2690824\ttotal: 3.45s\tremaining: 1m\n",
      "54:\tlearn: 7.2388194\ttotal: 3.51s\tremaining: 1m\n",
      "55:\tlearn: 7.2088009\ttotal: 3.57s\tremaining: 1m\n",
      "56:\tlearn: 7.1793298\ttotal: 3.63s\tremaining: 1m\n",
      "57:\tlearn: 7.1499805\ttotal: 3.69s\tremaining: 59.9s\n",
      "58:\tlearn: 7.1214814\ttotal: 3.75s\tremaining: 59.7s\n",
      "59:\tlearn: 7.0933242\ttotal: 3.8s\tremaining: 59.6s\n",
      "60:\tlearn: 7.0657069\ttotal: 3.86s\tremaining: 59.4s\n",
      "61:\tlearn: 7.0385482\ttotal: 3.92s\tremaining: 59.3s\n",
      "62:\tlearn: 7.0113806\ttotal: 3.98s\tremaining: 59.3s\n",
      "63:\tlearn: 6.9845612\ttotal: 4.05s\tremaining: 59.2s\n",
      "64:\tlearn: 6.9582255\ttotal: 4.11s\tremaining: 59.2s\n",
      "65:\tlearn: 6.9324386\ttotal: 4.17s\tremaining: 59.1s\n",
      "66:\tlearn: 6.9071457\ttotal: 4.24s\tremaining: 59.1s\n",
      "67:\tlearn: 6.8824736\ttotal: 4.31s\tremaining: 59.1s\n",
      "68:\tlearn: 6.8578227\ttotal: 4.38s\tremaining: 59.1s\n",
      "69:\tlearn: 6.8336060\ttotal: 4.44s\tremaining: 58.9s\n",
      "70:\tlearn: 6.8095749\ttotal: 4.49s\tremaining: 58.8s\n",
      "71:\tlearn: 6.7861734\ttotal: 4.55s\tremaining: 58.6s\n",
      "72:\tlearn: 6.7629338\ttotal: 4.61s\tremaining: 58.5s\n",
      "73:\tlearn: 6.7402224\ttotal: 4.66s\tremaining: 58.3s\n",
      "74:\tlearn: 6.7177039\ttotal: 4.72s\tremaining: 58.2s\n",
      "75:\tlearn: 6.6956912\ttotal: 4.78s\tremaining: 58.2s\n",
      "76:\tlearn: 6.6738759\ttotal: 4.85s\tremaining: 58.2s\n",
      "77:\tlearn: 6.6523812\ttotal: 4.91s\tremaining: 58.1s\n",
      "78:\tlearn: 6.6311175\ttotal: 4.97s\tremaining: 58s\n",
      "79:\tlearn: 6.6103313\ttotal: 5.03s\tremaining: 57.9s\n",
      "80:\tlearn: 6.5900080\ttotal: 5.09s\tremaining: 57.7s\n",
      "81:\tlearn: 6.5698641\ttotal: 5.14s\tremaining: 57.6s\n",
      "82:\tlearn: 6.5499512\ttotal: 5.2s\tremaining: 57.4s\n",
      "83:\tlearn: 6.5306717\ttotal: 5.26s\tremaining: 57.4s\n",
      "84:\tlearn: 6.5114847\ttotal: 5.32s\tremaining: 57.3s\n",
      "85:\tlearn: 6.4925452\ttotal: 5.38s\tremaining: 57.2s\n",
      "86:\tlearn: 6.4739442\ttotal: 5.45s\tremaining: 57.2s\n",
      "87:\tlearn: 6.4554498\ttotal: 5.51s\tremaining: 57.1s\n",
      "88:\tlearn: 6.4374967\ttotal: 5.57s\tremaining: 57s\n",
      "89:\tlearn: 6.4197351\ttotal: 5.63s\tremaining: 56.9s\n",
      "90:\tlearn: 6.4024002\ttotal: 5.72s\tremaining: 57.1s\n",
      "91:\tlearn: 6.3856912\ttotal: 5.79s\tremaining: 57.2s\n",
      "92:\tlearn: 6.3689442\ttotal: 5.86s\tremaining: 57.2s\n",
      "93:\tlearn: 6.3521842\ttotal: 5.93s\tremaining: 57.2s\n",
      "94:\tlearn: 6.3357044\ttotal: 6s\tremaining: 57.2s\n",
      "95:\tlearn: 6.3196771\ttotal: 6.07s\tremaining: 57.2s\n",
      "96:\tlearn: 6.3038395\ttotal: 6.14s\tremaining: 57.1s\n",
      "97:\tlearn: 6.2881637\ttotal: 6.19s\tremaining: 57s\n",
      "98:\tlearn: 6.2726901\ttotal: 6.25s\tremaining: 56.8s\n",
      "99:\tlearn: 6.2576087\ttotal: 6.3s\tremaining: 56.7s\n",
      "100:\tlearn: 6.2428516\ttotal: 6.37s\tremaining: 56.7s\n",
      "101:\tlearn: 6.2283526\ttotal: 6.42s\tremaining: 56.6s\n",
      "102:\tlearn: 6.2137949\ttotal: 6.5s\tremaining: 56.6s\n",
      "103:\tlearn: 6.1996612\ttotal: 6.56s\tremaining: 56.5s\n",
      "104:\tlearn: 6.1856134\ttotal: 6.62s\tremaining: 56.4s\n",
      "105:\tlearn: 6.1720186\ttotal: 6.68s\tremaining: 56.4s\n",
      "106:\tlearn: 6.1586080\ttotal: 6.75s\tremaining: 56.3s\n",
      "107:\tlearn: 6.1452951\ttotal: 6.8s\tremaining: 56.2s\n",
      "108:\tlearn: 6.1321564\ttotal: 6.87s\tremaining: 56.1s\n",
      "109:\tlearn: 6.1192768\ttotal: 6.93s\tremaining: 56.1s\n",
      "110:\tlearn: 6.1067328\ttotal: 6.99s\tremaining: 56s\n",
      "111:\tlearn: 6.0943143\ttotal: 7.05s\tremaining: 55.9s\n",
      "112:\tlearn: 6.0821868\ttotal: 7.1s\tremaining: 55.8s\n",
      "113:\tlearn: 6.0703211\ttotal: 7.16s\tremaining: 55.7s\n",
      "114:\tlearn: 6.0583729\ttotal: 7.22s\tremaining: 55.5s\n",
      "115:\tlearn: 6.0468329\ttotal: 7.27s\tremaining: 55.4s\n",
      "116:\tlearn: 6.0355717\ttotal: 7.34s\tremaining: 55.4s\n",
      "117:\tlearn: 6.0244791\ttotal: 7.42s\tremaining: 55.4s\n",
      "118:\tlearn: 6.0133821\ttotal: 7.49s\tremaining: 55.4s\n",
      "119:\tlearn: 6.0027708\ttotal: 7.55s\tremaining: 55.4s\n",
      "120:\tlearn: 5.9921864\ttotal: 7.63s\tremaining: 55.4s\n",
      "121:\tlearn: 5.9814854\ttotal: 7.69s\tremaining: 55.3s\n",
      "122:\tlearn: 5.9711448\ttotal: 7.76s\tremaining: 55.3s\n",
      "123:\tlearn: 5.9607273\ttotal: 7.83s\tremaining: 55.3s\n",
      "124:\tlearn: 5.9505970\ttotal: 7.9s\tremaining: 55.3s\n",
      "125:\tlearn: 5.9408705\ttotal: 7.97s\tremaining: 55.3s\n",
      "126:\tlearn: 5.9311630\ttotal: 8.04s\tremaining: 55.2s\n",
      "127:\tlearn: 5.9217825\ttotal: 8.1s\tremaining: 55.2s\n",
      "128:\tlearn: 5.9123654\ttotal: 8.16s\tremaining: 55.1s\n",
      "129:\tlearn: 5.9031758\ttotal: 8.23s\tremaining: 55.1s\n",
      "130:\tlearn: 5.8943446\ttotal: 8.29s\tremaining: 55s\n",
      "131:\tlearn: 5.8854770\ttotal: 8.35s\tremaining: 54.9s\n",
      "132:\tlearn: 5.8768105\ttotal: 8.41s\tremaining: 54.8s\n",
      "133:\tlearn: 5.8681875\ttotal: 8.47s\tremaining: 54.7s\n",
      "134:\tlearn: 5.8597433\ttotal: 8.52s\tremaining: 54.6s\n",
      "135:\tlearn: 5.8516254\ttotal: 8.59s\tremaining: 54.6s\n",
      "136:\tlearn: 5.8433678\ttotal: 8.65s\tremaining: 54.5s\n",
      "137:\tlearn: 5.8352898\ttotal: 8.71s\tremaining: 54.4s\n",
      "138:\tlearn: 5.8274869\ttotal: 8.77s\tremaining: 54.3s\n",
      "139:\tlearn: 5.8197119\ttotal: 8.84s\tremaining: 54.3s\n",
      "140:\tlearn: 5.8121521\ttotal: 8.9s\tremaining: 54.2s\n",
      "141:\tlearn: 5.8047117\ttotal: 8.97s\tremaining: 54.2s\n",
      "142:\tlearn: 5.7972636\ttotal: 9.03s\tremaining: 54.1s\n",
      "143:\tlearn: 5.7899462\ttotal: 9.08s\tremaining: 54s\n",
      "144:\tlearn: 5.7828658\ttotal: 9.15s\tremaining: 53.9s\n",
      "145:\tlearn: 5.7756987\ttotal: 9.21s\tremaining: 53.9s\n",
      "146:\tlearn: 5.7686975\ttotal: 9.28s\tremaining: 53.8s\n",
      "147:\tlearn: 5.7619521\ttotal: 9.34s\tremaining: 53.8s\n",
      "148:\tlearn: 5.7552256\ttotal: 9.4s\tremaining: 53.7s\n",
      "149:\tlearn: 5.7487458\ttotal: 9.46s\tremaining: 53.6s\n",
      "150:\tlearn: 5.7422808\ttotal: 9.53s\tremaining: 53.6s\n",
      "151:\tlearn: 5.7360503\ttotal: 9.59s\tremaining: 53.5s\n",
      "152:\tlearn: 5.7298289\ttotal: 9.66s\tremaining: 53.5s\n",
      "153:\tlearn: 5.7237611\ttotal: 9.73s\tremaining: 53.5s\n",
      "154:\tlearn: 5.7177771\ttotal: 9.8s\tremaining: 53.4s\n",
      "155:\tlearn: 5.7118459\ttotal: 9.85s\tremaining: 53.3s\n",
      "156:\tlearn: 5.7060666\ttotal: 9.9s\tremaining: 53.2s\n",
      "157:\tlearn: 5.7004306\ttotal: 9.96s\tremaining: 53.1s\n",
      "158:\tlearn: 5.6947554\ttotal: 10s\tremaining: 53s\n",
      "159:\tlearn: 5.6892951\ttotal: 10.1s\tremaining: 52.9s\n",
      "160:\tlearn: 5.6838718\ttotal: 10.1s\tremaining: 52.8s\n"
     ]
    },
    {
     "name": "stdout",
     "output_type": "stream",
     "text": [
      "161:\tlearn: 5.6784500\ttotal: 10.2s\tremaining: 52.7s\n",
      "162:\tlearn: 5.6733373\ttotal: 10.3s\tremaining: 52.6s\n",
      "163:\tlearn: 5.6680982\ttotal: 10.3s\tremaining: 52.5s\n",
      "164:\tlearn: 5.6630474\ttotal: 10.4s\tremaining: 52.5s\n",
      "165:\tlearn: 5.6580934\ttotal: 10.4s\tremaining: 52.4s\n",
      "166:\tlearn: 5.6531890\ttotal: 10.5s\tremaining: 52.3s\n",
      "167:\tlearn: 5.6483545\ttotal: 10.5s\tremaining: 52.2s\n",
      "168:\tlearn: 5.6436261\ttotal: 10.6s\tremaining: 52.2s\n",
      "169:\tlearn: 5.6388616\ttotal: 10.7s\tremaining: 52.1s\n",
      "170:\tlearn: 5.6343168\ttotal: 10.7s\tremaining: 52s\n",
      "171:\tlearn: 5.6298817\ttotal: 10.8s\tremaining: 51.9s\n",
      "172:\tlearn: 5.6253772\ttotal: 10.8s\tremaining: 51.8s\n",
      "173:\tlearn: 5.6210384\ttotal: 10.9s\tremaining: 51.7s\n",
      "174:\tlearn: 5.6168687\ttotal: 11s\tremaining: 51.6s\n",
      "175:\tlearn: 5.6127129\ttotal: 11s\tremaining: 51.5s\n",
      "176:\tlearn: 5.6084248\ttotal: 11.1s\tremaining: 51.4s\n",
      "177:\tlearn: 5.6043743\ttotal: 11.1s\tremaining: 51.3s\n",
      "178:\tlearn: 5.6003318\ttotal: 11.2s\tremaining: 51.2s\n",
      "179:\tlearn: 5.5962969\ttotal: 11.2s\tremaining: 51.1s\n",
      "180:\tlearn: 5.5924530\ttotal: 11.3s\tremaining: 51s\n",
      "181:\tlearn: 5.5886920\ttotal: 11.3s\tremaining: 51s\n",
      "182:\tlearn: 5.5849702\ttotal: 11.4s\tremaining: 50.9s\n",
      "183:\tlearn: 5.5813314\ttotal: 11.5s\tremaining: 51s\n",
      "184:\tlearn: 5.5776972\ttotal: 11.6s\tremaining: 51.1s\n",
      "185:\tlearn: 5.5742888\ttotal: 11.7s\tremaining: 51.1s\n",
      "186:\tlearn: 5.5708034\ttotal: 11.7s\tremaining: 51s\n",
      "187:\tlearn: 5.5673413\ttotal: 11.8s\tremaining: 50.9s\n",
      "188:\tlearn: 5.5638924\ttotal: 11.8s\tremaining: 50.8s\n",
      "189:\tlearn: 5.5605354\ttotal: 11.9s\tremaining: 50.7s\n",
      "190:\tlearn: 5.5571459\ttotal: 12s\tremaining: 50.7s\n",
      "191:\tlearn: 5.5539105\ttotal: 12s\tremaining: 50.6s\n",
      "192:\tlearn: 5.5506765\ttotal: 12.1s\tremaining: 50.5s\n",
      "193:\tlearn: 5.5475735\ttotal: 12.1s\tremaining: 50.4s\n",
      "194:\tlearn: 5.5444283\ttotal: 12.2s\tremaining: 50.3s\n",
      "195:\tlearn: 5.5411789\ttotal: 12.2s\tremaining: 50.2s\n",
      "196:\tlearn: 5.5379222\ttotal: 12.3s\tremaining: 50.1s\n",
      "197:\tlearn: 5.5350548\ttotal: 12.4s\tremaining: 50s\n",
      "198:\tlearn: 5.5322126\ttotal: 12.4s\tremaining: 50s\n",
      "199:\tlearn: 5.5294007\ttotal: 12.5s\tremaining: 49.9s\n",
      "200:\tlearn: 5.5263392\ttotal: 12.5s\tremaining: 49.8s\n",
      "201:\tlearn: 5.5232544\ttotal: 12.6s\tremaining: 49.7s\n",
      "202:\tlearn: 5.5206501\ttotal: 12.6s\tremaining: 49.6s\n",
      "203:\tlearn: 5.5179908\ttotal: 12.7s\tremaining: 49.5s\n",
      "204:\tlearn: 5.5152953\ttotal: 12.8s\tremaining: 49.5s\n",
      "205:\tlearn: 5.5127555\ttotal: 12.8s\tremaining: 49.4s\n",
      "206:\tlearn: 5.5102501\ttotal: 12.9s\tremaining: 49.4s\n",
      "207:\tlearn: 5.5077107\ttotal: 12.9s\tremaining: 49.3s\n",
      "208:\tlearn: 5.5053068\ttotal: 13s\tremaining: 49.2s\n",
      "209:\tlearn: 5.5029325\ttotal: 13.1s\tremaining: 49.2s\n",
      "210:\tlearn: 5.5006543\ttotal: 13.1s\tremaining: 49.1s\n",
      "211:\tlearn: 5.4983407\ttotal: 13.2s\tremaining: 49s\n",
      "212:\tlearn: 5.4959284\ttotal: 13.2s\tremaining: 48.9s\n",
      "213:\tlearn: 5.4937519\ttotal: 13.3s\tremaining: 48.9s\n",
      "214:\tlearn: 5.4913354\ttotal: 13.4s\tremaining: 48.8s\n",
      "215:\tlearn: 5.4891416\ttotal: 13.4s\tremaining: 48.7s\n",
      "216:\tlearn: 5.4869508\ttotal: 13.5s\tremaining: 48.7s\n",
      "217:\tlearn: 5.4848857\ttotal: 13.6s\tremaining: 48.6s\n",
      "218:\tlearn: 5.4827841\ttotal: 13.6s\tremaining: 48.6s\n",
      "219:\tlearn: 5.4805351\ttotal: 13.7s\tremaining: 48.5s\n",
      "220:\tlearn: 5.4785835\ttotal: 13.7s\tremaining: 48.4s\n",
      "221:\tlearn: 5.4766586\ttotal: 13.8s\tremaining: 48.4s\n",
      "222:\tlearn: 5.4746071\ttotal: 13.9s\tremaining: 48.4s\n",
      "223:\tlearn: 5.4724100\ttotal: 13.9s\tremaining: 48.3s\n",
      "224:\tlearn: 5.4702031\ttotal: 14s\tremaining: 48.3s\n",
      "225:\tlearn: 5.4680793\ttotal: 14.1s\tremaining: 48.2s\n",
      "226:\tlearn: 5.4662521\ttotal: 14.1s\tremaining: 48.1s\n",
      "227:\tlearn: 5.4642805\ttotal: 14.2s\tremaining: 48s\n",
      "228:\tlearn: 5.4623204\ttotal: 14.2s\tremaining: 48s\n",
      "229:\tlearn: 5.4605760\ttotal: 14.3s\tremaining: 47.9s\n",
      "230:\tlearn: 5.4587457\ttotal: 14.4s\tremaining: 47.8s\n",
      "231:\tlearn: 5.4571207\ttotal: 14.4s\tremaining: 47.8s\n",
      "232:\tlearn: 5.4555143\ttotal: 14.5s\tremaining: 47.7s\n",
      "233:\tlearn: 5.4539274\ttotal: 14.6s\tremaining: 47.7s\n",
      "234:\tlearn: 5.4523359\ttotal: 14.6s\tremaining: 47.6s\n",
      "235:\tlearn: 5.4506619\ttotal: 14.7s\tremaining: 47.6s\n",
      "236:\tlearn: 5.4491411\ttotal: 14.7s\tremaining: 47.5s\n",
      "237:\tlearn: 5.4476812\ttotal: 14.8s\tremaining: 47.4s\n",
      "238:\tlearn: 5.4462086\ttotal: 14.9s\tremaining: 47.3s\n",
      "239:\tlearn: 5.4446019\ttotal: 14.9s\tremaining: 47.3s\n",
      "240:\tlearn: 5.4428568\ttotal: 15s\tremaining: 47.3s\n",
      "241:\tlearn: 5.4413990\ttotal: 15.1s\tremaining: 47.3s\n",
      "242:\tlearn: 5.4397071\ttotal: 15.2s\tremaining: 47.2s\n",
      "243:\tlearn: 5.4382979\ttotal: 15.2s\tremaining: 47.2s\n",
      "244:\tlearn: 5.4368822\ttotal: 15.3s\tremaining: 47.1s\n",
      "245:\tlearn: 5.4355368\ttotal: 15.3s\tremaining: 47s\n",
      "246:\tlearn: 5.4342184\ttotal: 15.4s\tremaining: 47s\n",
      "247:\tlearn: 5.4327461\ttotal: 15.5s\tremaining: 46.9s\n",
      "248:\tlearn: 5.4314089\ttotal: 15.5s\tremaining: 46.9s\n",
      "249:\tlearn: 5.4301976\ttotal: 15.6s\tremaining: 46.8s\n",
      "250:\tlearn: 5.4289343\ttotal: 15.7s\tremaining: 46.7s\n",
      "251:\tlearn: 5.4276964\ttotal: 15.7s\tremaining: 46.7s\n",
      "252:\tlearn: 5.4263808\ttotal: 15.8s\tremaining: 46.6s\n",
      "253:\tlearn: 5.4251360\ttotal: 15.8s\tremaining: 46.5s\n",
      "254:\tlearn: 5.4239745\ttotal: 15.9s\tremaining: 46.5s\n",
      "255:\tlearn: 5.4228309\ttotal: 16s\tremaining: 46.4s\n",
      "256:\tlearn: 5.4214271\ttotal: 16s\tremaining: 46.3s\n",
      "257:\tlearn: 5.4203446\ttotal: 16.1s\tremaining: 46.3s\n",
      "258:\tlearn: 5.4191584\ttotal: 16.1s\tremaining: 46.2s\n",
      "259:\tlearn: 5.4179095\ttotal: 16.2s\tremaining: 46.1s\n",
      "260:\tlearn: 5.4168821\ttotal: 16.3s\tremaining: 46s\n",
      "261:\tlearn: 5.4158428\ttotal: 16.3s\tremaining: 45.9s\n",
      "262:\tlearn: 5.4148244\ttotal: 16.4s\tremaining: 45.9s\n",
      "263:\tlearn: 5.4137834\ttotal: 16.4s\tremaining: 45.8s\n",
      "264:\tlearn: 5.4125744\ttotal: 16.5s\tremaining: 45.7s\n",
      "265:\tlearn: 5.4115916\ttotal: 16.5s\tremaining: 45.6s\n",
      "266:\tlearn: 5.4105595\ttotal: 16.6s\tremaining: 45.5s\n",
      "267:\tlearn: 5.4096048\ttotal: 16.6s\tremaining: 45.5s\n",
      "268:\tlearn: 5.4085983\ttotal: 16.7s\tremaining: 45.4s\n",
      "269:\tlearn: 5.4076829\ttotal: 16.8s\tremaining: 45.3s\n",
      "270:\tlearn: 5.4067642\ttotal: 16.8s\tremaining: 45.2s\n",
      "271:\tlearn: 5.4056376\ttotal: 16.9s\tremaining: 45.2s\n",
      "272:\tlearn: 5.4044905\ttotal: 16.9s\tremaining: 45.1s\n",
      "273:\tlearn: 5.4034851\ttotal: 17s\tremaining: 45s\n",
      "274:\tlearn: 5.4025318\ttotal: 17.1s\tremaining: 45s\n",
      "275:\tlearn: 5.4014152\ttotal: 17.1s\tremaining: 44.9s\n",
      "276:\tlearn: 5.4003898\ttotal: 17.2s\tremaining: 44.9s\n",
      "277:\tlearn: 5.3993659\ttotal: 17.2s\tremaining: 44.8s\n",
      "278:\tlearn: 5.3984106\ttotal: 17.3s\tremaining: 44.7s\n",
      "279:\tlearn: 5.3975654\ttotal: 17.4s\tremaining: 44.6s\n",
      "280:\tlearn: 5.3967617\ttotal: 17.4s\tremaining: 44.6s\n",
      "281:\tlearn: 5.3958567\ttotal: 17.5s\tremaining: 44.5s\n",
      "282:\tlearn: 5.3950649\ttotal: 17.5s\tremaining: 44.4s\n",
      "283:\tlearn: 5.3941712\ttotal: 17.6s\tremaining: 44.3s\n",
      "284:\tlearn: 5.3932566\ttotal: 17.7s\tremaining: 44.3s\n",
      "285:\tlearn: 5.3923169\ttotal: 17.7s\tremaining: 44.2s\n",
      "286:\tlearn: 5.3915453\ttotal: 17.8s\tremaining: 44.2s\n",
      "287:\tlearn: 5.3907673\ttotal: 17.8s\tremaining: 44.1s\n",
      "288:\tlearn: 5.3900496\ttotal: 17.9s\tremaining: 44s\n",
      "289:\tlearn: 5.3893103\ttotal: 17.9s\tremaining: 43.9s\n",
      "290:\tlearn: 5.3883696\ttotal: 18s\tremaining: 43.9s\n",
      "291:\tlearn: 5.3875602\ttotal: 18.1s\tremaining: 43.8s\n",
      "292:\tlearn: 5.3868726\ttotal: 18.1s\tremaining: 43.7s\n",
      "293:\tlearn: 5.3862098\ttotal: 18.2s\tremaining: 43.6s\n",
      "294:\tlearn: 5.3853492\ttotal: 18.2s\tremaining: 43.6s\n",
      "295:\tlearn: 5.3847020\ttotal: 18.3s\tremaining: 43.5s\n",
      "296:\tlearn: 5.3840650\ttotal: 18.3s\tremaining: 43.4s\n",
      "297:\tlearn: 5.3833906\ttotal: 18.4s\tremaining: 43.4s\n",
      "298:\tlearn: 5.3826098\ttotal: 18.5s\tremaining: 43.3s\n",
      "299:\tlearn: 5.3818343\ttotal: 18.5s\tremaining: 43.2s\n",
      "300:\tlearn: 5.3811380\ttotal: 18.6s\tremaining: 43.1s\n",
      "301:\tlearn: 5.3803338\ttotal: 18.6s\tremaining: 43.1s\n",
      "302:\tlearn: 5.3795448\ttotal: 18.7s\tremaining: 43s\n",
      "303:\tlearn: 5.3787520\ttotal: 18.7s\tremaining: 42.9s\n",
      "304:\tlearn: 5.3780549\ttotal: 18.8s\tremaining: 42.9s\n",
      "305:\tlearn: 5.3773801\ttotal: 18.9s\tremaining: 42.8s\n",
      "306:\tlearn: 5.3767085\ttotal: 18.9s\tremaining: 42.7s\n",
      "307:\tlearn: 5.3760895\ttotal: 19s\tremaining: 42.7s\n",
      "308:\tlearn: 5.3753336\ttotal: 19s\tremaining: 42.6s\n",
      "309:\tlearn: 5.3747485\ttotal: 19.1s\tremaining: 42.6s\n",
      "310:\tlearn: 5.3741621\ttotal: 19.2s\tremaining: 42.5s\n",
      "311:\tlearn: 5.3735213\ttotal: 19.2s\tremaining: 42.4s\n",
      "312:\tlearn: 5.3728390\ttotal: 19.3s\tremaining: 42.4s\n",
      "313:\tlearn: 5.3722663\ttotal: 19.4s\tremaining: 42.3s\n",
      "314:\tlearn: 5.3717227\ttotal: 19.4s\tremaining: 42.3s\n",
      "315:\tlearn: 5.3712103\ttotal: 19.5s\tremaining: 42.2s\n",
      "316:\tlearn: 5.3706909\ttotal: 19.6s\tremaining: 42.1s\n",
      "317:\tlearn: 5.3701791\ttotal: 19.6s\tremaining: 42.1s\n",
      "318:\tlearn: 5.3695467\ttotal: 19.7s\tremaining: 42s\n",
      "319:\tlearn: 5.3690376\ttotal: 19.7s\tremaining: 41.9s\n"
     ]
    },
    {
     "name": "stdout",
     "output_type": "stream",
     "text": [
      "320:\tlearn: 5.3685767\ttotal: 19.8s\tremaining: 41.9s\n",
      "321:\tlearn: 5.3681006\ttotal: 19.9s\tremaining: 41.8s\n",
      "322:\tlearn: 5.3674843\ttotal: 19.9s\tremaining: 41.7s\n",
      "323:\tlearn: 5.3669479\ttotal: 20s\tremaining: 41.7s\n",
      "324:\tlearn: 5.3664957\ttotal: 20s\tremaining: 41.6s\n",
      "325:\tlearn: 5.3659925\ttotal: 20.1s\tremaining: 41.6s\n",
      "326:\tlearn: 5.3655302\ttotal: 20.2s\tremaining: 41.5s\n",
      "327:\tlearn: 5.3648926\ttotal: 20.2s\tremaining: 41.4s\n",
      "328:\tlearn: 5.3644365\ttotal: 20.3s\tremaining: 41.4s\n",
      "329:\tlearn: 5.3639206\ttotal: 20.3s\tremaining: 41.3s\n",
      "330:\tlearn: 5.3633507\ttotal: 20.4s\tremaining: 41.2s\n",
      "331:\tlearn: 5.3629213\ttotal: 20.5s\tremaining: 41.2s\n",
      "332:\tlearn: 5.3624891\ttotal: 20.5s\tremaining: 41.1s\n",
      "333:\tlearn: 5.3619375\ttotal: 20.6s\tremaining: 41.1s\n",
      "334:\tlearn: 5.3615594\ttotal: 20.7s\tremaining: 41s\n",
      "335:\tlearn: 5.3611405\ttotal: 20.7s\tremaining: 40.9s\n",
      "336:\tlearn: 5.3606172\ttotal: 20.8s\tremaining: 40.9s\n",
      "337:\tlearn: 5.3601453\ttotal: 20.8s\tremaining: 40.8s\n",
      "338:\tlearn: 5.3596206\ttotal: 20.9s\tremaining: 40.7s\n",
      "339:\tlearn: 5.3592184\ttotal: 21s\tremaining: 40.7s\n",
      "340:\tlearn: 5.3587717\ttotal: 21s\tremaining: 40.6s\n",
      "341:\tlearn: 5.3582930\ttotal: 21.1s\tremaining: 40.6s\n",
      "342:\tlearn: 5.3578971\ttotal: 21.1s\tremaining: 40.5s\n",
      "343:\tlearn: 5.3573758\ttotal: 21.2s\tremaining: 40.4s\n",
      "344:\tlearn: 5.3569628\ttotal: 21.3s\tremaining: 40.4s\n",
      "345:\tlearn: 5.3565703\ttotal: 21.3s\tremaining: 40.3s\n",
      "346:\tlearn: 5.3559979\ttotal: 21.4s\tremaining: 40.2s\n",
      "347:\tlearn: 5.3555071\ttotal: 21.4s\tremaining: 40.2s\n",
      "348:\tlearn: 5.3551384\ttotal: 21.5s\tremaining: 40.1s\n",
      "349:\tlearn: 5.3546498\ttotal: 21.6s\tremaining: 40s\n",
      "350:\tlearn: 5.3542676\ttotal: 21.6s\tremaining: 40s\n",
      "351:\tlearn: 5.3537430\ttotal: 21.7s\tremaining: 39.9s\n",
      "352:\tlearn: 5.3533846\ttotal: 21.8s\tremaining: 39.9s\n",
      "353:\tlearn: 5.3530116\ttotal: 21.8s\tremaining: 39.8s\n",
      "354:\tlearn: 5.3525885\ttotal: 21.9s\tremaining: 39.8s\n",
      "355:\tlearn: 5.3521564\ttotal: 22s\tremaining: 39.7s\n",
      "356:\tlearn: 5.3518418\ttotal: 22s\tremaining: 39.6s\n",
      "357:\tlearn: 5.3514731\ttotal: 22.1s\tremaining: 39.6s\n",
      "358:\tlearn: 5.3511089\ttotal: 22.2s\tremaining: 39.6s\n",
      "359:\tlearn: 5.3507345\ttotal: 22.3s\tremaining: 39.6s\n",
      "360:\tlearn: 5.3503126\ttotal: 22.3s\tremaining: 39.6s\n",
      "361:\tlearn: 5.3499803\ttotal: 22.4s\tremaining: 39.5s\n",
      "362:\tlearn: 5.3496389\ttotal: 22.5s\tremaining: 39.5s\n",
      "363:\tlearn: 5.3493310\ttotal: 22.6s\tremaining: 39.4s\n",
      "364:\tlearn: 5.3489885\ttotal: 22.6s\tremaining: 39.4s\n",
      "365:\tlearn: 5.3485724\ttotal: 22.7s\tremaining: 39.3s\n",
      "366:\tlearn: 5.3482691\ttotal: 22.8s\tremaining: 39.2s\n",
      "367:\tlearn: 5.3478590\ttotal: 22.8s\tremaining: 39.2s\n",
      "368:\tlearn: 5.3475662\ttotal: 22.9s\tremaining: 39.1s\n",
      "369:\tlearn: 5.3472428\ttotal: 22.9s\tremaining: 39s\n",
      "370:\tlearn: 5.3468990\ttotal: 23s\tremaining: 39s\n",
      "371:\tlearn: 5.3464423\ttotal: 23.1s\tremaining: 38.9s\n",
      "372:\tlearn: 5.3461574\ttotal: 23.1s\tremaining: 38.9s\n",
      "373:\tlearn: 5.3458704\ttotal: 23.2s\tremaining: 38.8s\n",
      "374:\tlearn: 5.3454255\ttotal: 23.3s\tremaining: 38.8s\n",
      "375:\tlearn: 5.3451423\ttotal: 23.3s\tremaining: 38.7s\n",
      "376:\tlearn: 5.3448322\ttotal: 23.4s\tremaining: 38.7s\n",
      "377:\tlearn: 5.3445362\ttotal: 23.5s\tremaining: 38.6s\n",
      "378:\tlearn: 5.3442581\ttotal: 23.6s\tremaining: 38.6s\n",
      "379:\tlearn: 5.3439648\ttotal: 23.7s\tremaining: 38.6s\n",
      "380:\tlearn: 5.3435793\ttotal: 23.7s\tremaining: 38.6s\n",
      "381:\tlearn: 5.3432994\ttotal: 23.8s\tremaining: 38.6s\n",
      "382:\tlearn: 5.3429277\ttotal: 23.9s\tremaining: 38.5s\n",
      "383:\tlearn: 5.3426803\ttotal: 24s\tremaining: 38.5s\n",
      "384:\tlearn: 5.3424141\ttotal: 24s\tremaining: 38.4s\n",
      "385:\tlearn: 5.3420519\ttotal: 24.1s\tremaining: 38.3s\n",
      "386:\tlearn: 5.3417127\ttotal: 24.2s\tremaining: 38.3s\n",
      "387:\tlearn: 5.3414763\ttotal: 24.2s\tremaining: 38.2s\n",
      "388:\tlearn: 5.3411070\ttotal: 24.3s\tremaining: 38.1s\n",
      "389:\tlearn: 5.3407411\ttotal: 24.4s\tremaining: 38.1s\n",
      "390:\tlearn: 5.3404867\ttotal: 24.4s\tremaining: 38s\n",
      "391:\tlearn: 5.3402209\ttotal: 24.5s\tremaining: 38s\n",
      "392:\tlearn: 5.3399730\ttotal: 24.5s\tremaining: 37.9s\n",
      "393:\tlearn: 5.3397518\ttotal: 24.6s\tremaining: 37.8s\n",
      "394:\tlearn: 5.3395061\ttotal: 24.7s\tremaining: 37.8s\n",
      "395:\tlearn: 5.3392448\ttotal: 24.7s\tremaining: 37.7s\n",
      "396:\tlearn: 5.3389906\ttotal: 24.8s\tremaining: 37.7s\n",
      "397:\tlearn: 5.3386504\ttotal: 24.8s\tremaining: 37.6s\n",
      "398:\tlearn: 5.3383369\ttotal: 24.9s\tremaining: 37.5s\n",
      "399:\tlearn: 5.3380698\ttotal: 25s\tremaining: 37.5s\n",
      "400:\tlearn: 5.3376971\ttotal: 25.1s\tremaining: 37.4s\n",
      "401:\tlearn: 5.3374713\ttotal: 25.1s\tremaining: 37.4s\n",
      "402:\tlearn: 5.3371509\ttotal: 25.2s\tremaining: 37.3s\n",
      "403:\tlearn: 5.3369415\ttotal: 25.2s\tremaining: 37.2s\n",
      "404:\tlearn: 5.3366165\ttotal: 25.3s\tremaining: 37.2s\n",
      "405:\tlearn: 5.3363797\ttotal: 25.4s\tremaining: 37.1s\n",
      "406:\tlearn: 5.3361101\ttotal: 25.4s\tremaining: 37s\n",
      "407:\tlearn: 5.3359144\ttotal: 25.5s\tremaining: 37s\n",
      "408:\tlearn: 5.3356814\ttotal: 25.6s\tremaining: 36.9s\n",
      "409:\tlearn: 5.3354781\ttotal: 25.6s\tremaining: 36.9s\n",
      "410:\tlearn: 5.3352132\ttotal: 25.7s\tremaining: 36.8s\n",
      "411:\tlearn: 5.3348559\ttotal: 25.7s\tremaining: 36.7s\n",
      "412:\tlearn: 5.3345995\ttotal: 25.8s\tremaining: 36.7s\n",
      "413:\tlearn: 5.3343210\ttotal: 25.9s\tremaining: 36.6s\n",
      "414:\tlearn: 5.3340909\ttotal: 25.9s\tremaining: 36.5s\n",
      "415:\tlearn: 5.3338113\ttotal: 26s\tremaining: 36.5s\n",
      "416:\tlearn: 5.3336331\ttotal: 26.1s\tremaining: 36.4s\n",
      "417:\tlearn: 5.3334089\ttotal: 26.1s\tremaining: 36.4s\n",
      "418:\tlearn: 5.3332120\ttotal: 26.2s\tremaining: 36.3s\n",
      "419:\tlearn: 5.3329497\ttotal: 26.3s\tremaining: 36.3s\n",
      "420:\tlearn: 5.3327293\ttotal: 26.3s\tremaining: 36.2s\n",
      "421:\tlearn: 5.3324376\ttotal: 26.4s\tremaining: 36.1s\n",
      "422:\tlearn: 5.3321732\ttotal: 26.4s\tremaining: 36.1s\n",
      "423:\tlearn: 5.3318611\ttotal: 26.5s\tremaining: 36s\n",
      "424:\tlearn: 5.3315899\ttotal: 26.5s\tremaining: 35.9s\n",
      "425:\tlearn: 5.3313983\ttotal: 26.6s\tremaining: 35.8s\n",
      "426:\tlearn: 5.3311973\ttotal: 26.7s\tremaining: 35.8s\n",
      "427:\tlearn: 5.3309837\ttotal: 26.7s\tremaining: 35.7s\n",
      "428:\tlearn: 5.3307091\ttotal: 26.8s\tremaining: 35.7s\n",
      "429:\tlearn: 5.3305442\ttotal: 26.9s\tremaining: 35.6s\n",
      "430:\tlearn: 5.3302432\ttotal: 26.9s\tremaining: 35.6s\n",
      "431:\tlearn: 5.3300618\ttotal: 27s\tremaining: 35.5s\n",
      "432:\tlearn: 5.3298932\ttotal: 27.1s\tremaining: 35.4s\n",
      "433:\tlearn: 5.3296399\ttotal: 27.1s\tremaining: 35.4s\n",
      "434:\tlearn: 5.3293760\ttotal: 27.2s\tremaining: 35.3s\n",
      "435:\tlearn: 5.3290795\ttotal: 27.3s\tremaining: 35.3s\n",
      "436:\tlearn: 5.3288154\ttotal: 27.3s\tremaining: 35.2s\n",
      "437:\tlearn: 5.3286210\ttotal: 27.4s\tremaining: 35.2s\n",
      "438:\tlearn: 5.3284559\ttotal: 27.5s\tremaining: 35.1s\n",
      "439:\tlearn: 5.3282613\ttotal: 27.5s\tremaining: 35s\n",
      "440:\tlearn: 5.3280443\ttotal: 27.6s\tremaining: 35s\n",
      "441:\tlearn: 5.3278732\ttotal: 27.6s\tremaining: 34.9s\n",
      "442:\tlearn: 5.3277161\ttotal: 27.7s\tremaining: 34.8s\n",
      "443:\tlearn: 5.3274463\ttotal: 27.8s\tremaining: 34.8s\n",
      "444:\tlearn: 5.3271975\ttotal: 27.8s\tremaining: 34.7s\n",
      "445:\tlearn: 5.3269971\ttotal: 27.9s\tremaining: 34.7s\n",
      "446:\tlearn: 5.3267844\ttotal: 28s\tremaining: 34.6s\n",
      "447:\tlearn: 5.3265308\ttotal: 28s\tremaining: 34.6s\n",
      "448:\tlearn: 5.3262587\ttotal: 28.1s\tremaining: 34.5s\n",
      "449:\tlearn: 5.3260238\ttotal: 28.2s\tremaining: 34.4s\n",
      "450:\tlearn: 5.3258450\ttotal: 28.2s\tremaining: 34.4s\n",
      "451:\tlearn: 5.3256784\ttotal: 28.3s\tremaining: 34.3s\n",
      "452:\tlearn: 5.3254691\ttotal: 28.4s\tremaining: 34.3s\n",
      "453:\tlearn: 5.3252207\ttotal: 28.4s\tremaining: 34.2s\n",
      "454:\tlearn: 5.3250014\ttotal: 28.5s\tremaining: 34.1s\n",
      "455:\tlearn: 5.3248241\ttotal: 28.5s\tremaining: 34s\n",
      "456:\tlearn: 5.3245562\ttotal: 28.6s\tremaining: 34s\n",
      "457:\tlearn: 5.3244220\ttotal: 28.7s\tremaining: 33.9s\n",
      "458:\tlearn: 5.3242980\ttotal: 28.7s\tremaining: 33.9s\n",
      "459:\tlearn: 5.3241308\ttotal: 28.8s\tremaining: 33.8s\n",
      "460:\tlearn: 5.3238841\ttotal: 28.9s\tremaining: 33.7s\n",
      "461:\tlearn: 5.3237401\ttotal: 28.9s\tremaining: 33.7s\n",
      "462:\tlearn: 5.3235250\ttotal: 29s\tremaining: 33.6s\n",
      "463:\tlearn: 5.3232818\ttotal: 29s\tremaining: 33.5s\n",
      "464:\tlearn: 5.3231411\ttotal: 29.1s\tremaining: 33.5s\n",
      "465:\tlearn: 5.3229752\ttotal: 29.2s\tremaining: 33.4s\n",
      "466:\tlearn: 5.3228022\ttotal: 29.2s\tremaining: 33.4s\n",
      "467:\tlearn: 5.3226504\ttotal: 29.3s\tremaining: 33.3s\n",
      "468:\tlearn: 5.3223991\ttotal: 29.4s\tremaining: 33.2s\n",
      "469:\tlearn: 5.3222116\ttotal: 29.4s\tremaining: 33.2s\n",
      "470:\tlearn: 5.3220506\ttotal: 29.5s\tremaining: 33.1s\n",
      "471:\tlearn: 5.3218780\ttotal: 29.6s\tremaining: 33.1s\n",
      "472:\tlearn: 5.3216790\ttotal: 29.6s\tremaining: 33s\n",
      "473:\tlearn: 5.3214499\ttotal: 29.7s\tremaining: 32.9s\n",
      "474:\tlearn: 5.3212372\ttotal: 29.8s\tremaining: 32.9s\n",
      "475:\tlearn: 5.3210636\ttotal: 29.8s\tremaining: 32.8s\n",
      "476:\tlearn: 5.3209003\ttotal: 29.9s\tremaining: 32.8s\n",
      "477:\tlearn: 5.3207508\ttotal: 29.9s\tremaining: 32.7s\n",
      "478:\tlearn: 5.3205503\ttotal: 30s\tremaining: 32.6s\n",
      "479:\tlearn: 5.3203585\ttotal: 30.1s\tremaining: 32.6s\n",
      "480:\tlearn: 5.3202171\ttotal: 30.1s\tremaining: 32.5s\n"
     ]
    },
    {
     "name": "stdout",
     "output_type": "stream",
     "text": [
      "481:\tlearn: 5.3200474\ttotal: 30.2s\tremaining: 32.5s\n",
      "482:\tlearn: 5.3198696\ttotal: 30.3s\tremaining: 32.4s\n",
      "483:\tlearn: 5.3196938\ttotal: 30.3s\tremaining: 32.3s\n",
      "484:\tlearn: 5.3195016\ttotal: 30.4s\tremaining: 32.3s\n",
      "485:\tlearn: 5.3192857\ttotal: 30.5s\tremaining: 32.2s\n",
      "486:\tlearn: 5.3191253\ttotal: 30.5s\tremaining: 32.1s\n",
      "487:\tlearn: 5.3189429\ttotal: 30.6s\tremaining: 32.1s\n",
      "488:\tlearn: 5.3187907\ttotal: 30.6s\tremaining: 32s\n",
      "489:\tlearn: 5.3186690\ttotal: 30.7s\tremaining: 32s\n",
      "490:\tlearn: 5.3185198\ttotal: 30.8s\tremaining: 31.9s\n",
      "491:\tlearn: 5.3183160\ttotal: 30.8s\tremaining: 31.8s\n",
      "492:\tlearn: 5.3181124\ttotal: 30.9s\tremaining: 31.8s\n",
      "493:\tlearn: 5.3179442\ttotal: 30.9s\tremaining: 31.7s\n",
      "494:\tlearn: 5.3177855\ttotal: 31s\tremaining: 31.6s\n",
      "495:\tlearn: 5.3176332\ttotal: 31.1s\tremaining: 31.6s\n",
      "496:\tlearn: 5.3174904\ttotal: 31.1s\tremaining: 31.5s\n",
      "497:\tlearn: 5.3173197\ttotal: 31.2s\tremaining: 31.5s\n",
      "498:\tlearn: 5.3171181\ttotal: 31.3s\tremaining: 31.4s\n",
      "499:\tlearn: 5.3169656\ttotal: 31.3s\tremaining: 31.3s\n",
      "500:\tlearn: 5.3168432\ttotal: 31.4s\tremaining: 31.3s\n",
      "501:\tlearn: 5.3167331\ttotal: 31.5s\tremaining: 31.2s\n",
      "502:\tlearn: 5.3165956\ttotal: 31.5s\tremaining: 31.2s\n",
      "503:\tlearn: 5.3164318\ttotal: 31.6s\tremaining: 31.1s\n",
      "504:\tlearn: 5.3162784\ttotal: 31.7s\tremaining: 31.1s\n",
      "505:\tlearn: 5.3160464\ttotal: 31.8s\tremaining: 31s\n",
      "506:\tlearn: 5.3158768\ttotal: 31.8s\tremaining: 30.9s\n",
      "507:\tlearn: 5.3157095\ttotal: 31.9s\tremaining: 30.9s\n",
      "508:\tlearn: 5.3155820\ttotal: 31.9s\tremaining: 30.8s\n",
      "509:\tlearn: 5.3154248\ttotal: 32s\tremaining: 30.7s\n",
      "510:\tlearn: 5.3153033\ttotal: 32.1s\tremaining: 30.7s\n",
      "511:\tlearn: 5.3151850\ttotal: 32.1s\tremaining: 30.6s\n",
      "512:\tlearn: 5.3150813\ttotal: 32.2s\tremaining: 30.6s\n",
      "513:\tlearn: 5.3148962\ttotal: 32.3s\tremaining: 30.5s\n",
      "514:\tlearn: 5.3145991\ttotal: 32.3s\tremaining: 30.4s\n",
      "515:\tlearn: 5.3144350\ttotal: 32.4s\tremaining: 30.4s\n",
      "516:\tlearn: 5.3142219\ttotal: 32.4s\tremaining: 30.3s\n",
      "517:\tlearn: 5.3140649\ttotal: 32.5s\tremaining: 30.2s\n",
      "518:\tlearn: 5.3139384\ttotal: 32.6s\tremaining: 30.2s\n",
      "519:\tlearn: 5.3136495\ttotal: 32.6s\tremaining: 30.1s\n",
      "520:\tlearn: 5.3134671\ttotal: 32.7s\tremaining: 30.1s\n",
      "521:\tlearn: 5.3133286\ttotal: 32.7s\tremaining: 30s\n",
      "522:\tlearn: 5.3132093\ttotal: 32.8s\tremaining: 29.9s\n",
      "523:\tlearn: 5.3130313\ttotal: 32.9s\tremaining: 29.9s\n",
      "524:\tlearn: 5.3128247\ttotal: 32.9s\tremaining: 29.8s\n",
      "525:\tlearn: 5.3126717\ttotal: 33s\tremaining: 29.7s\n",
      "526:\tlearn: 5.3125081\ttotal: 33.1s\tremaining: 29.7s\n",
      "527:\tlearn: 5.3123893\ttotal: 33.1s\tremaining: 29.6s\n",
      "528:\tlearn: 5.3122930\ttotal: 33.2s\tremaining: 29.5s\n",
      "529:\tlearn: 5.3121107\ttotal: 33.2s\tremaining: 29.5s\n",
      "530:\tlearn: 5.3119816\ttotal: 33.3s\tremaining: 29.4s\n",
      "531:\tlearn: 5.3118381\ttotal: 33.4s\tremaining: 29.3s\n",
      "532:\tlearn: 5.3117100\ttotal: 33.4s\tremaining: 29.3s\n",
      "533:\tlearn: 5.3115799\ttotal: 33.5s\tremaining: 29.2s\n",
      "534:\tlearn: 5.3113214\ttotal: 33.6s\tremaining: 29.2s\n",
      "535:\tlearn: 5.3111642\ttotal: 33.6s\tremaining: 29.1s\n",
      "536:\tlearn: 5.3110242\ttotal: 33.7s\tremaining: 29.1s\n",
      "537:\tlearn: 5.3108983\ttotal: 33.8s\tremaining: 29s\n",
      "538:\tlearn: 5.3107994\ttotal: 33.8s\tremaining: 28.9s\n",
      "539:\tlearn: 5.3106188\ttotal: 33.9s\tremaining: 28.9s\n",
      "540:\tlearn: 5.3104742\ttotal: 34s\tremaining: 28.8s\n",
      "541:\tlearn: 5.3103422\ttotal: 34s\tremaining: 28.8s\n",
      "542:\tlearn: 5.3102019\ttotal: 34.1s\tremaining: 28.7s\n",
      "543:\tlearn: 5.3100944\ttotal: 34.2s\tremaining: 28.6s\n",
      "544:\tlearn: 5.3099826\ttotal: 34.2s\tremaining: 28.6s\n",
      "545:\tlearn: 5.3098254\ttotal: 34.3s\tremaining: 28.5s\n",
      "546:\tlearn: 5.3096955\ttotal: 34.4s\tremaining: 28.5s\n",
      "547:\tlearn: 5.3095272\ttotal: 34.4s\tremaining: 28.4s\n",
      "548:\tlearn: 5.3094427\ttotal: 34.5s\tremaining: 28.4s\n",
      "549:\tlearn: 5.3093215\ttotal: 34.6s\tremaining: 28.3s\n",
      "550:\tlearn: 5.3091733\ttotal: 34.7s\tremaining: 28.2s\n",
      "551:\tlearn: 5.3090279\ttotal: 34.7s\tremaining: 28.2s\n",
      "552:\tlearn: 5.3088202\ttotal: 34.8s\tremaining: 28.1s\n",
      "553:\tlearn: 5.3086818\ttotal: 34.9s\tremaining: 28.1s\n",
      "554:\tlearn: 5.3085087\ttotal: 34.9s\tremaining: 28s\n",
      "555:\tlearn: 5.3083738\ttotal: 35s\tremaining: 27.9s\n",
      "556:\tlearn: 5.3082503\ttotal: 35.1s\tremaining: 27.9s\n",
      "557:\tlearn: 5.3081191\ttotal: 35.1s\tremaining: 27.8s\n",
      "558:\tlearn: 5.3079936\ttotal: 35.2s\tremaining: 27.8s\n",
      "559:\tlearn: 5.3078659\ttotal: 35.3s\tremaining: 27.7s\n",
      "560:\tlearn: 5.3077558\ttotal: 35.3s\tremaining: 27.6s\n",
      "561:\tlearn: 5.3076268\ttotal: 35.4s\tremaining: 27.6s\n",
      "562:\tlearn: 5.3075104\ttotal: 35.4s\tremaining: 27.5s\n",
      "563:\tlearn: 5.3073117\ttotal: 35.5s\tremaining: 27.4s\n",
      "564:\tlearn: 5.3071939\ttotal: 35.6s\tremaining: 27.4s\n",
      "565:\tlearn: 5.3070696\ttotal: 35.6s\tremaining: 27.3s\n",
      "566:\tlearn: 5.3069238\ttotal: 35.7s\tremaining: 27.3s\n",
      "567:\tlearn: 5.3067414\ttotal: 35.8s\tremaining: 27.2s\n",
      "568:\tlearn: 5.3066240\ttotal: 35.8s\tremaining: 27.1s\n",
      "569:\tlearn: 5.3065210\ttotal: 35.9s\tremaining: 27.1s\n",
      "570:\tlearn: 5.3064243\ttotal: 35.9s\tremaining: 27s\n",
      "571:\tlearn: 5.3063215\ttotal: 36s\tremaining: 26.9s\n",
      "572:\tlearn: 5.3061632\ttotal: 36.1s\tremaining: 26.9s\n",
      "573:\tlearn: 5.3060574\ttotal: 36.1s\tremaining: 26.8s\n",
      "574:\tlearn: 5.3059359\ttotal: 36.2s\tremaining: 26.8s\n",
      "575:\tlearn: 5.3057925\ttotal: 36.3s\tremaining: 26.7s\n",
      "576:\tlearn: 5.3056884\ttotal: 36.4s\tremaining: 26.7s\n",
      "577:\tlearn: 5.3055956\ttotal: 36.4s\tremaining: 26.6s\n",
      "578:\tlearn: 5.3054099\ttotal: 36.5s\tremaining: 26.5s\n",
      "579:\tlearn: 5.3053063\ttotal: 36.5s\tremaining: 26.5s\n",
      "580:\tlearn: 5.3051949\ttotal: 36.6s\tremaining: 26.4s\n",
      "581:\tlearn: 5.3050519\ttotal: 36.7s\tremaining: 26.3s\n",
      "582:\tlearn: 5.3049493\ttotal: 36.8s\tremaining: 26.3s\n",
      "583:\tlearn: 5.3048348\ttotal: 36.9s\tremaining: 26.3s\n",
      "584:\tlearn: 5.3046467\ttotal: 37s\tremaining: 26.2s\n",
      "585:\tlearn: 5.3045451\ttotal: 37.1s\tremaining: 26.2s\n",
      "586:\tlearn: 5.3043893\ttotal: 37.3s\tremaining: 26.2s\n",
      "587:\tlearn: 5.3042878\ttotal: 37.4s\tremaining: 26.2s\n",
      "588:\tlearn: 5.3041369\ttotal: 37.6s\tremaining: 26.2s\n",
      "589:\tlearn: 5.3040081\ttotal: 37.7s\tremaining: 26.2s\n",
      "590:\tlearn: 5.3038926\ttotal: 37.8s\tremaining: 26.2s\n",
      "591:\tlearn: 5.3036987\ttotal: 37.9s\tremaining: 26.1s\n",
      "592:\tlearn: 5.3036140\ttotal: 38s\tremaining: 26.1s\n",
      "593:\tlearn: 5.3034937\ttotal: 38.1s\tremaining: 26.1s\n",
      "594:\tlearn: 5.3033679\ttotal: 38.2s\tremaining: 26s\n",
      "595:\tlearn: 5.3032707\ttotal: 38.3s\tremaining: 26s\n",
      "596:\tlearn: 5.3031835\ttotal: 38.4s\tremaining: 25.9s\n",
      "597:\tlearn: 5.3030507\ttotal: 38.4s\tremaining: 25.8s\n",
      "598:\tlearn: 5.3029362\ttotal: 38.5s\tremaining: 25.8s\n",
      "599:\tlearn: 5.3028359\ttotal: 38.6s\tremaining: 25.7s\n",
      "600:\tlearn: 5.3027413\ttotal: 38.7s\tremaining: 25.7s\n",
      "601:\tlearn: 5.3026505\ttotal: 38.8s\tremaining: 25.6s\n",
      "602:\tlearn: 5.3025408\ttotal: 38.8s\tremaining: 25.6s\n",
      "603:\tlearn: 5.3024501\ttotal: 38.9s\tremaining: 25.5s\n",
      "604:\tlearn: 5.3023672\ttotal: 39s\tremaining: 25.5s\n",
      "605:\tlearn: 5.3022911\ttotal: 39.1s\tremaining: 25.4s\n",
      "606:\tlearn: 5.3021398\ttotal: 39.2s\tremaining: 25.4s\n",
      "607:\tlearn: 5.3020195\ttotal: 39.3s\tremaining: 25.3s\n",
      "608:\tlearn: 5.3018678\ttotal: 39.4s\tremaining: 25.3s\n",
      "609:\tlearn: 5.3017639\ttotal: 39.4s\tremaining: 25.2s\n",
      "610:\tlearn: 5.3015940\ttotal: 39.5s\tremaining: 25.2s\n",
      "611:\tlearn: 5.3015105\ttotal: 39.6s\tremaining: 25.1s\n",
      "612:\tlearn: 5.3013959\ttotal: 39.7s\tremaining: 25.1s\n",
      "613:\tlearn: 5.3012996\ttotal: 39.8s\tremaining: 25s\n",
      "614:\tlearn: 5.3011981\ttotal: 39.8s\tremaining: 24.9s\n",
      "615:\tlearn: 5.3011169\ttotal: 39.9s\tremaining: 24.9s\n",
      "616:\tlearn: 5.3010391\ttotal: 40s\tremaining: 24.8s\n",
      "617:\tlearn: 5.3008936\ttotal: 40s\tremaining: 24.7s\n",
      "618:\tlearn: 5.3007521\ttotal: 40.1s\tremaining: 24.7s\n",
      "619:\tlearn: 5.3006589\ttotal: 40.2s\tremaining: 24.6s\n",
      "620:\tlearn: 5.3005773\ttotal: 40.3s\tremaining: 24.6s\n",
      "621:\tlearn: 5.3004818\ttotal: 40.3s\tremaining: 24.5s\n",
      "622:\tlearn: 5.3003950\ttotal: 40.4s\tremaining: 24.5s\n",
      "623:\tlearn: 5.3002983\ttotal: 40.5s\tremaining: 24.4s\n",
      "624:\tlearn: 5.3002028\ttotal: 40.5s\tremaining: 24.3s\n",
      "625:\tlearn: 5.3001379\ttotal: 40.6s\tremaining: 24.2s\n",
      "626:\tlearn: 5.2999127\ttotal: 40.7s\tremaining: 24.2s\n",
      "627:\tlearn: 5.2998111\ttotal: 40.7s\tremaining: 24.1s\n",
      "628:\tlearn: 5.2997364\ttotal: 40.8s\tremaining: 24.1s\n",
      "629:\tlearn: 5.2995945\ttotal: 40.9s\tremaining: 24s\n",
      "630:\tlearn: 5.2995134\ttotal: 41s\tremaining: 24s\n",
      "631:\tlearn: 5.2994507\ttotal: 41.1s\tremaining: 23.9s\n",
      "632:\tlearn: 5.2993668\ttotal: 41.2s\tremaining: 23.9s\n",
      "633:\tlearn: 5.2993058\ttotal: 41.2s\tremaining: 23.8s\n",
      "634:\tlearn: 5.2992032\ttotal: 41.3s\tremaining: 23.7s\n",
      "635:\tlearn: 5.2991330\ttotal: 41.4s\tremaining: 23.7s\n",
      "636:\tlearn: 5.2990186\ttotal: 41.4s\tremaining: 23.6s\n",
      "637:\tlearn: 5.2989597\ttotal: 41.5s\tremaining: 23.5s\n",
      "638:\tlearn: 5.2988325\ttotal: 41.6s\tremaining: 23.5s\n",
      "639:\tlearn: 5.2987463\ttotal: 41.6s\tremaining: 23.4s\n",
      "640:\tlearn: 5.2985972\ttotal: 41.7s\tremaining: 23.4s\n"
     ]
    },
    {
     "name": "stdout",
     "output_type": "stream",
     "text": [
      "641:\tlearn: 5.2985001\ttotal: 41.8s\tremaining: 23.3s\n",
      "642:\tlearn: 5.2984191\ttotal: 41.9s\tremaining: 23.2s\n",
      "643:\tlearn: 5.2982528\ttotal: 41.9s\tremaining: 23.2s\n",
      "644:\tlearn: 5.2981664\ttotal: 42s\tremaining: 23.1s\n",
      "645:\tlearn: 5.2981085\ttotal: 42.1s\tremaining: 23.1s\n",
      "646:\tlearn: 5.2980278\ttotal: 42.1s\tremaining: 23s\n",
      "647:\tlearn: 5.2979162\ttotal: 42.2s\tremaining: 22.9s\n",
      "648:\tlearn: 5.2977996\ttotal: 42.3s\tremaining: 22.9s\n",
      "649:\tlearn: 5.2977270\ttotal: 42.3s\tremaining: 22.8s\n",
      "650:\tlearn: 5.2975864\ttotal: 42.4s\tremaining: 22.7s\n",
      "651:\tlearn: 5.2974486\ttotal: 42.5s\tremaining: 22.7s\n",
      "652:\tlearn: 5.2973656\ttotal: 42.6s\tremaining: 22.6s\n",
      "653:\tlearn: 5.2972705\ttotal: 42.6s\tremaining: 22.6s\n",
      "654:\tlearn: 5.2971821\ttotal: 42.7s\tremaining: 22.5s\n",
      "655:\tlearn: 5.2971056\ttotal: 42.8s\tremaining: 22.4s\n",
      "656:\tlearn: 5.2970279\ttotal: 42.8s\tremaining: 22.4s\n",
      "657:\tlearn: 5.2969666\ttotal: 42.9s\tremaining: 22.3s\n",
      "658:\tlearn: 5.2968381\ttotal: 43s\tremaining: 22.2s\n",
      "659:\tlearn: 5.2967485\ttotal: 43.1s\tremaining: 22.2s\n",
      "660:\tlearn: 5.2966037\ttotal: 43.2s\tremaining: 22.1s\n",
      "661:\tlearn: 5.2965115\ttotal: 43.2s\tremaining: 22.1s\n",
      "662:\tlearn: 5.2964367\ttotal: 43.3s\tremaining: 22s\n",
      "663:\tlearn: 5.2963496\ttotal: 43.4s\tremaining: 22s\n",
      "664:\tlearn: 5.2962571\ttotal: 43.5s\tremaining: 21.9s\n",
      "665:\tlearn: 5.2961794\ttotal: 43.6s\tremaining: 21.9s\n",
      "666:\tlearn: 5.2961023\ttotal: 43.7s\tremaining: 21.8s\n",
      "667:\tlearn: 5.2960207\ttotal: 43.8s\tremaining: 21.8s\n",
      "668:\tlearn: 5.2959315\ttotal: 43.8s\tremaining: 21.7s\n",
      "669:\tlearn: 5.2958647\ttotal: 43.9s\tremaining: 21.6s\n",
      "670:\tlearn: 5.2957175\ttotal: 44s\tremaining: 21.6s\n",
      "671:\tlearn: 5.2956160\ttotal: 44.1s\tremaining: 21.5s\n",
      "672:\tlearn: 5.2955094\ttotal: 44.2s\tremaining: 21.5s\n",
      "673:\tlearn: 5.2953681\ttotal: 44.3s\tremaining: 21.4s\n",
      "674:\tlearn: 5.2953027\ttotal: 44.3s\tremaining: 21.3s\n",
      "675:\tlearn: 5.2952503\ttotal: 44.4s\tremaining: 21.3s\n",
      "676:\tlearn: 5.2951161\ttotal: 44.5s\tremaining: 21.2s\n",
      "677:\tlearn: 5.2950586\ttotal: 44.6s\tremaining: 21.2s\n",
      "678:\tlearn: 5.2949748\ttotal: 44.6s\tremaining: 21.1s\n",
      "679:\tlearn: 5.2948655\ttotal: 44.7s\tremaining: 21.1s\n",
      "680:\tlearn: 5.2947908\ttotal: 44.9s\tremaining: 21s\n",
      "681:\tlearn: 5.2946562\ttotal: 45s\tremaining: 21s\n",
      "682:\tlearn: 5.2945966\ttotal: 45.1s\tremaining: 20.9s\n",
      "683:\tlearn: 5.2944909\ttotal: 45.1s\tremaining: 20.8s\n",
      "684:\tlearn: 5.2943473\ttotal: 45.2s\tremaining: 20.8s\n",
      "685:\tlearn: 5.2942699\ttotal: 45.3s\tremaining: 20.7s\n",
      "686:\tlearn: 5.2941284\ttotal: 45.3s\tremaining: 20.7s\n",
      "687:\tlearn: 5.2940636\ttotal: 45.4s\tremaining: 20.6s\n",
      "688:\tlearn: 5.2939602\ttotal: 45.5s\tremaining: 20.5s\n",
      "689:\tlearn: 5.2939072\ttotal: 45.6s\tremaining: 20.5s\n",
      "690:\tlearn: 5.2938206\ttotal: 45.7s\tremaining: 20.4s\n",
      "691:\tlearn: 5.2937587\ttotal: 45.7s\tremaining: 20.4s\n",
      "692:\tlearn: 5.2934783\ttotal: 45.8s\tremaining: 20.3s\n",
      "693:\tlearn: 5.2934078\ttotal: 45.9s\tremaining: 20.2s\n",
      "694:\tlearn: 5.2932948\ttotal: 46s\tremaining: 20.2s\n",
      "695:\tlearn: 5.2932385\ttotal: 46s\tremaining: 20.1s\n",
      "696:\tlearn: 5.2931653\ttotal: 46.1s\tremaining: 20s\n",
      "697:\tlearn: 5.2930776\ttotal: 46.2s\tremaining: 20s\n",
      "698:\tlearn: 5.2930078\ttotal: 46.3s\tremaining: 19.9s\n",
      "699:\tlearn: 5.2928737\ttotal: 46.3s\tremaining: 19.9s\n",
      "700:\tlearn: 5.2927703\ttotal: 46.4s\tremaining: 19.8s\n",
      "701:\tlearn: 5.2927147\ttotal: 46.5s\tremaining: 19.7s\n",
      "702:\tlearn: 5.2926001\ttotal: 46.6s\tremaining: 19.7s\n",
      "703:\tlearn: 5.2925205\ttotal: 46.7s\tremaining: 19.6s\n",
      "704:\tlearn: 5.2924495\ttotal: 46.7s\tremaining: 19.6s\n",
      "705:\tlearn: 5.2923804\ttotal: 46.8s\tremaining: 19.5s\n",
      "706:\tlearn: 5.2922612\ttotal: 46.9s\tremaining: 19.4s\n",
      "707:\tlearn: 5.2921578\ttotal: 47s\tremaining: 19.4s\n",
      "708:\tlearn: 5.2920319\ttotal: 47s\tremaining: 19.3s\n",
      "709:\tlearn: 5.2919758\ttotal: 47.1s\tremaining: 19.2s\n",
      "710:\tlearn: 5.2918868\ttotal: 47.2s\tremaining: 19.2s\n",
      "711:\tlearn: 5.2918232\ttotal: 47.3s\tremaining: 19.1s\n",
      "712:\tlearn: 5.2917204\ttotal: 47.3s\tremaining: 19.1s\n",
      "713:\tlearn: 5.2916392\ttotal: 47.4s\tremaining: 19s\n",
      "714:\tlearn: 5.2915018\ttotal: 47.5s\tremaining: 18.9s\n",
      "715:\tlearn: 5.2914505\ttotal: 47.6s\tremaining: 18.9s\n",
      "716:\tlearn: 5.2913316\ttotal: 47.6s\tremaining: 18.8s\n",
      "717:\tlearn: 5.2912679\ttotal: 47.7s\tremaining: 18.7s\n",
      "718:\tlearn: 5.2912052\ttotal: 47.8s\tremaining: 18.7s\n",
      "719:\tlearn: 5.2911039\ttotal: 47.9s\tremaining: 18.6s\n",
      "720:\tlearn: 5.2909639\ttotal: 48s\tremaining: 18.6s\n",
      "721:\tlearn: 5.2908684\ttotal: 48.1s\tremaining: 18.5s\n",
      "722:\tlearn: 5.2907541\ttotal: 48.2s\tremaining: 18.5s\n",
      "723:\tlearn: 5.2906442\ttotal: 48.3s\tremaining: 18.4s\n",
      "724:\tlearn: 5.2905476\ttotal: 48.3s\tremaining: 18.3s\n",
      "725:\tlearn: 5.2904352\ttotal: 48.4s\tremaining: 18.3s\n",
      "726:\tlearn: 5.2903706\ttotal: 48.5s\tremaining: 18.2s\n",
      "727:\tlearn: 5.2902640\ttotal: 48.5s\tremaining: 18.1s\n",
      "728:\tlearn: 5.2901657\ttotal: 48.6s\tremaining: 18.1s\n",
      "729:\tlearn: 5.2900713\ttotal: 48.7s\tremaining: 18s\n",
      "730:\tlearn: 5.2899962\ttotal: 48.8s\tremaining: 17.9s\n",
      "731:\tlearn: 5.2899194\ttotal: 48.8s\tremaining: 17.9s\n",
      "732:\tlearn: 5.2897822\ttotal: 48.9s\tremaining: 17.8s\n",
      "733:\tlearn: 5.2896864\ttotal: 49s\tremaining: 17.7s\n",
      "734:\tlearn: 5.2896249\ttotal: 49s\tremaining: 17.7s\n",
      "735:\tlearn: 5.2895136\ttotal: 49.1s\tremaining: 17.6s\n",
      "736:\tlearn: 5.2894450\ttotal: 49.2s\tremaining: 17.5s\n",
      "737:\tlearn: 5.2894062\ttotal: 49.2s\tremaining: 17.5s\n",
      "738:\tlearn: 5.2893223\ttotal: 49.3s\tremaining: 17.4s\n",
      "739:\tlearn: 5.2892613\ttotal: 49.4s\tremaining: 17.4s\n",
      "740:\tlearn: 5.2891874\ttotal: 49.5s\tremaining: 17.3s\n",
      "741:\tlearn: 5.2891273\ttotal: 49.5s\tremaining: 17.2s\n",
      "742:\tlearn: 5.2890530\ttotal: 49.6s\tremaining: 17.2s\n",
      "743:\tlearn: 5.2889945\ttotal: 49.7s\tremaining: 17.1s\n",
      "744:\tlearn: 5.2889495\ttotal: 49.8s\tremaining: 17s\n",
      "745:\tlearn: 5.2888833\ttotal: 49.8s\tremaining: 17s\n",
      "746:\tlearn: 5.2888106\ttotal: 49.9s\tremaining: 16.9s\n",
      "747:\tlearn: 5.2887520\ttotal: 50s\tremaining: 16.8s\n",
      "748:\tlearn: 5.2886226\ttotal: 50.1s\tremaining: 16.8s\n",
      "749:\tlearn: 5.2884925\ttotal: 50.1s\tremaining: 16.7s\n",
      "750:\tlearn: 5.2883872\ttotal: 50.2s\tremaining: 16.6s\n",
      "751:\tlearn: 5.2882729\ttotal: 50.3s\tremaining: 16.6s\n",
      "752:\tlearn: 5.2880392\ttotal: 50.4s\tremaining: 16.5s\n",
      "753:\tlearn: 5.2879775\ttotal: 50.5s\tremaining: 16.5s\n",
      "754:\tlearn: 5.2879297\ttotal: 50.6s\tremaining: 16.4s\n",
      "755:\tlearn: 5.2878638\ttotal: 50.7s\tremaining: 16.4s\n",
      "756:\tlearn: 5.2877565\ttotal: 50.8s\tremaining: 16.3s\n",
      "757:\tlearn: 5.2876399\ttotal: 50.8s\tremaining: 16.2s\n",
      "758:\tlearn: 5.2875332\ttotal: 50.9s\tremaining: 16.2s\n",
      "759:\tlearn: 5.2874841\ttotal: 51s\tremaining: 16.1s\n",
      "760:\tlearn: 5.2873843\ttotal: 51.1s\tremaining: 16s\n",
      "761:\tlearn: 5.2873246\ttotal: 51.2s\tremaining: 16s\n",
      "762:\tlearn: 5.2872287\ttotal: 51.2s\tremaining: 15.9s\n",
      "763:\tlearn: 5.2871782\ttotal: 51.3s\tremaining: 15.9s\n",
      "764:\tlearn: 5.2871045\ttotal: 51.4s\tremaining: 15.8s\n",
      "765:\tlearn: 5.2869829\ttotal: 51.5s\tremaining: 15.7s\n",
      "766:\tlearn: 5.2869371\ttotal: 51.6s\tremaining: 15.7s\n",
      "767:\tlearn: 5.2868704\ttotal: 51.6s\tremaining: 15.6s\n",
      "768:\tlearn: 5.2867647\ttotal: 51.7s\tremaining: 15.5s\n",
      "769:\tlearn: 5.2867205\ttotal: 51.8s\tremaining: 15.5s\n",
      "770:\tlearn: 5.2866694\ttotal: 51.9s\tremaining: 15.4s\n",
      "771:\tlearn: 5.2865760\ttotal: 52s\tremaining: 15.3s\n",
      "772:\tlearn: 5.2865068\ttotal: 52s\tremaining: 15.3s\n",
      "773:\tlearn: 5.2864467\ttotal: 52.1s\tremaining: 15.2s\n",
      "774:\tlearn: 5.2863847\ttotal: 52.2s\tremaining: 15.1s\n",
      "775:\tlearn: 5.2863165\ttotal: 52.2s\tremaining: 15.1s\n",
      "776:\tlearn: 5.2862386\ttotal: 52.3s\tremaining: 15s\n",
      "777:\tlearn: 5.2862017\ttotal: 52.4s\tremaining: 15s\n",
      "778:\tlearn: 5.2861452\ttotal: 52.5s\tremaining: 14.9s\n",
      "779:\tlearn: 5.2860934\ttotal: 52.6s\tremaining: 14.8s\n",
      "780:\tlearn: 5.2860044\ttotal: 52.6s\tremaining: 14.8s\n",
      "781:\tlearn: 5.2858905\ttotal: 52.7s\tremaining: 14.7s\n",
      "782:\tlearn: 5.2858344\ttotal: 52.8s\tremaining: 14.6s\n",
      "783:\tlearn: 5.2857495\ttotal: 52.9s\tremaining: 14.6s\n",
      "784:\tlearn: 5.2856705\ttotal: 53s\tremaining: 14.5s\n",
      "785:\tlearn: 5.2856254\ttotal: 53s\tremaining: 14.4s\n",
      "786:\tlearn: 5.2855422\ttotal: 53.1s\tremaining: 14.4s\n",
      "787:\tlearn: 5.2854957\ttotal: 53.2s\tremaining: 14.3s\n",
      "788:\tlearn: 5.2854407\ttotal: 53.3s\tremaining: 14.2s\n",
      "789:\tlearn: 5.2853761\ttotal: 53.3s\tremaining: 14.2s\n",
      "790:\tlearn: 5.2853163\ttotal: 53.4s\tremaining: 14.1s\n",
      "791:\tlearn: 5.2852674\ttotal: 53.5s\tremaining: 14s\n",
      "792:\tlearn: 5.2851777\ttotal: 53.6s\tremaining: 14s\n",
      "793:\tlearn: 5.2851255\ttotal: 53.6s\tremaining: 13.9s\n",
      "794:\tlearn: 5.2849676\ttotal: 53.7s\tremaining: 13.9s\n",
      "795:\tlearn: 5.2849068\ttotal: 53.8s\tremaining: 13.8s\n",
      "796:\tlearn: 5.2848189\ttotal: 53.9s\tremaining: 13.7s\n",
      "797:\tlearn: 5.2847619\ttotal: 54s\tremaining: 13.7s\n",
      "798:\tlearn: 5.2847049\ttotal: 54.1s\tremaining: 13.6s\n",
      "799:\tlearn: 5.2846629\ttotal: 54.1s\tremaining: 13.5s\n",
      "800:\tlearn: 5.2845987\ttotal: 54.2s\tremaining: 13.5s\n",
      "801:\tlearn: 5.2845428\ttotal: 54.3s\tremaining: 13.4s\n"
     ]
    },
    {
     "name": "stdout",
     "output_type": "stream",
     "text": [
      "802:\tlearn: 5.2844131\ttotal: 54.3s\tremaining: 13.3s\n",
      "803:\tlearn: 5.2843550\ttotal: 54.4s\tremaining: 13.3s\n",
      "804:\tlearn: 5.2842496\ttotal: 54.5s\tremaining: 13.2s\n",
      "805:\tlearn: 5.2841471\ttotal: 54.6s\tremaining: 13.1s\n",
      "806:\tlearn: 5.2840880\ttotal: 54.6s\tremaining: 13.1s\n",
      "807:\tlearn: 5.2840430\ttotal: 54.7s\tremaining: 13s\n",
      "808:\tlearn: 5.2839940\ttotal: 54.8s\tremaining: 12.9s\n",
      "809:\tlearn: 5.2839530\ttotal: 54.9s\tremaining: 12.9s\n",
      "810:\tlearn: 5.2839054\ttotal: 54.9s\tremaining: 12.8s\n",
      "811:\tlearn: 5.2838027\ttotal: 55s\tremaining: 12.7s\n",
      "812:\tlearn: 5.2836146\ttotal: 55.1s\tremaining: 12.7s\n",
      "813:\tlearn: 5.2835602\ttotal: 55.1s\tremaining: 12.6s\n",
      "814:\tlearn: 5.2834923\ttotal: 55.2s\tremaining: 12.5s\n",
      "815:\tlearn: 5.2834504\ttotal: 55.3s\tremaining: 12.5s\n",
      "816:\tlearn: 5.2834007\ttotal: 55.3s\tremaining: 12.4s\n",
      "817:\tlearn: 5.2833443\ttotal: 55.4s\tremaining: 12.3s\n",
      "818:\tlearn: 5.2832854\ttotal: 55.5s\tremaining: 12.3s\n",
      "819:\tlearn: 5.2831996\ttotal: 55.6s\tremaining: 12.2s\n",
      "820:\tlearn: 5.2831224\ttotal: 55.7s\tremaining: 12.2s\n",
      "821:\tlearn: 5.2830696\ttotal: 55.8s\tremaining: 12.1s\n",
      "822:\tlearn: 5.2829980\ttotal: 55.9s\tremaining: 12s\n",
      "823:\tlearn: 5.2829527\ttotal: 56s\tremaining: 12s\n",
      "824:\tlearn: 5.2828562\ttotal: 56.1s\tremaining: 11.9s\n",
      "825:\tlearn: 5.2827841\ttotal: 56.2s\tremaining: 11.8s\n",
      "826:\tlearn: 5.2827119\ttotal: 56.3s\tremaining: 11.8s\n",
      "827:\tlearn: 5.2826600\ttotal: 56.4s\tremaining: 11.7s\n",
      "828:\tlearn: 5.2826274\ttotal: 56.5s\tremaining: 11.7s\n",
      "829:\tlearn: 5.2825702\ttotal: 56.6s\tremaining: 11.6s\n",
      "830:\tlearn: 5.2824793\ttotal: 56.7s\tremaining: 11.5s\n",
      "831:\tlearn: 5.2824268\ttotal: 56.7s\tremaining: 11.5s\n",
      "832:\tlearn: 5.2823609\ttotal: 56.8s\tremaining: 11.4s\n",
      "833:\tlearn: 5.2822786\ttotal: 56.9s\tremaining: 11.3s\n",
      "834:\tlearn: 5.2822255\ttotal: 57s\tremaining: 11.3s\n",
      "835:\tlearn: 5.2821850\ttotal: 57.1s\tremaining: 11.2s\n",
      "836:\tlearn: 5.2821273\ttotal: 57.2s\tremaining: 11.1s\n",
      "837:\tlearn: 5.2820286\ttotal: 57.3s\tremaining: 11.1s\n",
      "838:\tlearn: 5.2819765\ttotal: 57.3s\tremaining: 11s\n",
      "839:\tlearn: 5.2819407\ttotal: 57.4s\tremaining: 10.9s\n",
      "840:\tlearn: 5.2818997\ttotal: 57.5s\tremaining: 10.9s\n",
      "841:\tlearn: 5.2818351\ttotal: 57.6s\tremaining: 10.8s\n",
      "842:\tlearn: 5.2817833\ttotal: 57.6s\tremaining: 10.7s\n",
      "843:\tlearn: 5.2817279\ttotal: 57.7s\tremaining: 10.7s\n",
      "844:\tlearn: 5.2816404\ttotal: 57.8s\tremaining: 10.6s\n",
      "845:\tlearn: 5.2815924\ttotal: 57.9s\tremaining: 10.5s\n",
      "846:\tlearn: 5.2815370\ttotal: 58s\tremaining: 10.5s\n",
      "847:\tlearn: 5.2814754\ttotal: 58s\tremaining: 10.4s\n",
      "848:\tlearn: 5.2813872\ttotal: 58.1s\tremaining: 10.3s\n",
      "849:\tlearn: 5.2813496\ttotal: 58.2s\tremaining: 10.3s\n",
      "850:\tlearn: 5.2812490\ttotal: 58.3s\tremaining: 10.2s\n",
      "851:\tlearn: 5.2812016\ttotal: 58.4s\tremaining: 10.1s\n",
      "852:\tlearn: 5.2811606\ttotal: 58.5s\tremaining: 10.1s\n",
      "853:\tlearn: 5.2811130\ttotal: 58.5s\tremaining: 10s\n",
      "854:\tlearn: 5.2810050\ttotal: 58.6s\tremaining: 9.94s\n",
      "855:\tlearn: 5.2809346\ttotal: 58.7s\tremaining: 9.87s\n",
      "856:\tlearn: 5.2808205\ttotal: 58.7s\tremaining: 9.8s\n",
      "857:\tlearn: 5.2807700\ttotal: 58.8s\tremaining: 9.73s\n",
      "858:\tlearn: 5.2807170\ttotal: 58.9s\tremaining: 9.66s\n",
      "859:\tlearn: 5.2806819\ttotal: 59s\tremaining: 9.6s\n",
      "860:\tlearn: 5.2806481\ttotal: 59s\tremaining: 9.53s\n",
      "861:\tlearn: 5.2805940\ttotal: 59.1s\tremaining: 9.46s\n",
      "862:\tlearn: 5.2805276\ttotal: 59.2s\tremaining: 9.4s\n",
      "863:\tlearn: 5.2804917\ttotal: 59.3s\tremaining: 9.33s\n",
      "864:\tlearn: 5.2804540\ttotal: 59.4s\tremaining: 9.27s\n",
      "865:\tlearn: 5.2803848\ttotal: 59.4s\tremaining: 9.2s\n",
      "866:\tlearn: 5.2803174\ttotal: 59.5s\tremaining: 9.13s\n",
      "867:\tlearn: 5.2802779\ttotal: 59.6s\tremaining: 9.06s\n",
      "868:\tlearn: 5.2801871\ttotal: 59.7s\tremaining: 8.99s\n",
      "869:\tlearn: 5.2801227\ttotal: 59.7s\tremaining: 8.92s\n",
      "870:\tlearn: 5.2800614\ttotal: 59.8s\tremaining: 8.86s\n",
      "871:\tlearn: 5.2799576\ttotal: 59.9s\tremaining: 8.79s\n",
      "872:\tlearn: 5.2799114\ttotal: 59.9s\tremaining: 8.72s\n",
      "873:\tlearn: 5.2798655\ttotal: 1m\tremaining: 8.65s\n",
      "874:\tlearn: 5.2797873\ttotal: 1m\tremaining: 8.59s\n",
      "875:\tlearn: 5.2796982\ttotal: 1m\tremaining: 8.52s\n",
      "876:\tlearn: 5.2796014\ttotal: 1m\tremaining: 8.45s\n",
      "877:\tlearn: 5.2795259\ttotal: 1m\tremaining: 8.38s\n",
      "878:\tlearn: 5.2794599\ttotal: 1m\tremaining: 8.31s\n",
      "879:\tlearn: 5.2794141\ttotal: 1m\tremaining: 8.25s\n",
      "880:\tlearn: 5.2793128\ttotal: 1m\tremaining: 8.18s\n",
      "881:\tlearn: 5.2791936\ttotal: 1m\tremaining: 8.11s\n",
      "882:\tlearn: 5.2791153\ttotal: 1m\tremaining: 8.04s\n",
      "883:\tlearn: 5.2790691\ttotal: 1m\tremaining: 7.97s\n",
      "884:\tlearn: 5.2790258\ttotal: 1m\tremaining: 7.9s\n",
      "885:\tlearn: 5.2789488\ttotal: 1m\tremaining: 7.83s\n",
      "886:\tlearn: 5.2788916\ttotal: 1m\tremaining: 7.76s\n",
      "887:\tlearn: 5.2788048\ttotal: 1m 1s\tremaining: 7.7s\n",
      "888:\tlearn: 5.2787659\ttotal: 1m 1s\tremaining: 7.63s\n",
      "889:\tlearn: 5.2786654\ttotal: 1m 1s\tremaining: 7.56s\n",
      "890:\tlearn: 5.2786078\ttotal: 1m 1s\tremaining: 7.49s\n",
      "891:\tlearn: 5.2785302\ttotal: 1m 1s\tremaining: 7.42s\n",
      "892:\tlearn: 5.2784738\ttotal: 1m 1s\tremaining: 7.36s\n",
      "893:\tlearn: 5.2784118\ttotal: 1m 1s\tremaining: 7.29s\n",
      "894:\tlearn: 5.2783323\ttotal: 1m 1s\tremaining: 7.22s\n",
      "895:\tlearn: 5.2782409\ttotal: 1m 1s\tremaining: 7.15s\n",
      "896:\tlearn: 5.2781660\ttotal: 1m 1s\tremaining: 7.08s\n",
      "897:\tlearn: 5.2780663\ttotal: 1m 1s\tremaining: 7.01s\n",
      "898:\tlearn: 5.2779858\ttotal: 1m 1s\tremaining: 6.94s\n",
      "899:\tlearn: 5.2778972\ttotal: 1m 1s\tremaining: 6.88s\n",
      "900:\tlearn: 5.2778384\ttotal: 1m 1s\tremaining: 6.81s\n",
      "901:\tlearn: 5.2777845\ttotal: 1m 2s\tremaining: 6.74s\n",
      "902:\tlearn: 5.2777300\ttotal: 1m 2s\tremaining: 6.67s\n",
      "903:\tlearn: 5.2776833\ttotal: 1m 2s\tremaining: 6.61s\n",
      "904:\tlearn: 5.2776225\ttotal: 1m 2s\tremaining: 6.54s\n",
      "905:\tlearn: 5.2775811\ttotal: 1m 2s\tremaining: 6.47s\n",
      "906:\tlearn: 5.2775447\ttotal: 1m 2s\tremaining: 6.4s\n",
      "907:\tlearn: 5.2775057\ttotal: 1m 2s\tremaining: 6.33s\n",
      "908:\tlearn: 5.2774538\ttotal: 1m 2s\tremaining: 6.26s\n",
      "909:\tlearn: 5.2774051\ttotal: 1m 2s\tremaining: 6.19s\n",
      "910:\tlearn: 5.2773493\ttotal: 1m 2s\tremaining: 6.13s\n",
      "911:\tlearn: 5.2773185\ttotal: 1m 2s\tremaining: 6.06s\n",
      "912:\tlearn: 5.2772589\ttotal: 1m 2s\tremaining: 5.99s\n",
      "913:\tlearn: 5.2771709\ttotal: 1m 2s\tremaining: 5.92s\n",
      "914:\tlearn: 5.2771213\ttotal: 1m 2s\tremaining: 5.85s\n",
      "915:\tlearn: 5.2770561\ttotal: 1m 3s\tremaining: 5.78s\n",
      "916:\tlearn: 5.2770141\ttotal: 1m 3s\tremaining: 5.71s\n",
      "917:\tlearn: 5.2769579\ttotal: 1m 3s\tremaining: 5.64s\n",
      "918:\tlearn: 5.2769119\ttotal: 1m 3s\tremaining: 5.58s\n",
      "919:\tlearn: 5.2768767\ttotal: 1m 3s\tremaining: 5.51s\n",
      "920:\tlearn: 5.2768222\ttotal: 1m 3s\tremaining: 5.44s\n",
      "921:\tlearn: 5.2767690\ttotal: 1m 3s\tremaining: 5.37s\n",
      "922:\tlearn: 5.2767242\ttotal: 1m 3s\tremaining: 5.3s\n",
      "923:\tlearn: 5.2766721\ttotal: 1m 3s\tremaining: 5.23s\n",
      "924:\tlearn: 5.2766258\ttotal: 1m 3s\tremaining: 5.17s\n",
      "925:\tlearn: 5.2765100\ttotal: 1m 3s\tremaining: 5.1s\n",
      "926:\tlearn: 5.2764090\ttotal: 1m 3s\tremaining: 5.03s\n",
      "927:\tlearn: 5.2763219\ttotal: 1m 3s\tremaining: 4.96s\n",
      "928:\tlearn: 5.2762802\ttotal: 1m 3s\tremaining: 4.89s\n",
      "929:\tlearn: 5.2762378\ttotal: 1m 4s\tremaining: 4.82s\n",
      "930:\tlearn: 5.2762114\ttotal: 1m 4s\tremaining: 4.75s\n",
      "931:\tlearn: 5.2761834\ttotal: 1m 4s\tremaining: 4.68s\n",
      "932:\tlearn: 5.2760553\ttotal: 1m 4s\tremaining: 4.62s\n",
      "933:\tlearn: 5.2759830\ttotal: 1m 4s\tremaining: 4.55s\n",
      "934:\tlearn: 5.2759466\ttotal: 1m 4s\tremaining: 4.48s\n",
      "935:\tlearn: 5.2759001\ttotal: 1m 4s\tremaining: 4.41s\n",
      "936:\tlearn: 5.2758512\ttotal: 1m 4s\tremaining: 4.34s\n",
      "937:\tlearn: 5.2758331\ttotal: 1m 4s\tremaining: 4.27s\n",
      "938:\tlearn: 5.2758070\ttotal: 1m 4s\tremaining: 4.2s\n",
      "939:\tlearn: 5.2757633\ttotal: 1m 4s\tremaining: 4.13s\n",
      "940:\tlearn: 5.2757218\ttotal: 1m 4s\tremaining: 4.07s\n",
      "941:\tlearn: 5.2756588\ttotal: 1m 4s\tremaining: 4s\n",
      "942:\tlearn: 5.2756135\ttotal: 1m 4s\tremaining: 3.93s\n",
      "943:\tlearn: 5.2755230\ttotal: 1m 5s\tremaining: 3.86s\n",
      "944:\tlearn: 5.2754567\ttotal: 1m 5s\tremaining: 3.79s\n",
      "945:\tlearn: 5.2754176\ttotal: 1m 5s\tremaining: 3.72s\n",
      "946:\tlearn: 5.2753477\ttotal: 1m 5s\tremaining: 3.65s\n",
      "947:\tlearn: 5.2752736\ttotal: 1m 5s\tremaining: 3.58s\n",
      "948:\tlearn: 5.2752368\ttotal: 1m 5s\tremaining: 3.51s\n",
      "949:\tlearn: 5.2751609\ttotal: 1m 5s\tremaining: 3.44s\n",
      "950:\tlearn: 5.2751117\ttotal: 1m 5s\tremaining: 3.38s\n",
      "951:\tlearn: 5.2750523\ttotal: 1m 5s\tremaining: 3.31s\n",
      "952:\tlearn: 5.2750204\ttotal: 1m 5s\tremaining: 3.24s\n",
      "953:\tlearn: 5.2749813\ttotal: 1m 5s\tremaining: 3.17s\n",
      "954:\tlearn: 5.2749474\ttotal: 1m 5s\tremaining: 3.1s\n",
      "955:\tlearn: 5.2748945\ttotal: 1m 5s\tremaining: 3.03s\n",
      "956:\tlearn: 5.2748226\ttotal: 1m 5s\tremaining: 2.96s\n",
      "957:\tlearn: 5.2747826\ttotal: 1m 6s\tremaining: 2.89s\n",
      "958:\tlearn: 5.2747041\ttotal: 1m 6s\tremaining: 2.82s\n",
      "959:\tlearn: 5.2746281\ttotal: 1m 6s\tremaining: 2.75s\n",
      "960:\tlearn: 5.2745478\ttotal: 1m 6s\tremaining: 2.69s\n",
      "961:\tlearn: 5.2744742\ttotal: 1m 6s\tremaining: 2.62s\n"
     ]
    },
    {
     "name": "stdout",
     "output_type": "stream",
     "text": [
      "962:\tlearn: 5.2744316\ttotal: 1m 6s\tremaining: 2.55s\n",
      "963:\tlearn: 5.2742617\ttotal: 1m 6s\tremaining: 2.48s\n",
      "964:\tlearn: 5.2741856\ttotal: 1m 6s\tremaining: 2.41s\n",
      "965:\tlearn: 5.2741465\ttotal: 1m 6s\tremaining: 2.34s\n",
      "966:\tlearn: 5.2741150\ttotal: 1m 6s\tremaining: 2.27s\n",
      "967:\tlearn: 5.2740765\ttotal: 1m 6s\tremaining: 2.21s\n",
      "968:\tlearn: 5.2740145\ttotal: 1m 6s\tremaining: 2.14s\n",
      "969:\tlearn: 5.2739630\ttotal: 1m 6s\tremaining: 2.07s\n",
      "970:\tlearn: 5.2739242\ttotal: 1m 6s\tremaining: 2s\n",
      "971:\tlearn: 5.2738468\ttotal: 1m 7s\tremaining: 1.93s\n",
      "972:\tlearn: 5.2738166\ttotal: 1m 7s\tremaining: 1.86s\n",
      "973:\tlearn: 5.2737630\ttotal: 1m 7s\tremaining: 1.79s\n",
      "974:\tlearn: 5.2737001\ttotal: 1m 7s\tremaining: 1.72s\n",
      "975:\tlearn: 5.2736071\ttotal: 1m 7s\tremaining: 1.66s\n",
      "976:\tlearn: 5.2735657\ttotal: 1m 7s\tremaining: 1.59s\n",
      "977:\tlearn: 5.2734884\ttotal: 1m 7s\tremaining: 1.52s\n",
      "978:\tlearn: 5.2734363\ttotal: 1m 7s\tremaining: 1.45s\n",
      "979:\tlearn: 5.2733621\ttotal: 1m 7s\tremaining: 1.38s\n",
      "980:\tlearn: 5.2732879\ttotal: 1m 7s\tremaining: 1.31s\n",
      "981:\tlearn: 5.2732443\ttotal: 1m 7s\tremaining: 1.24s\n",
      "982:\tlearn: 5.2731516\ttotal: 1m 7s\tremaining: 1.17s\n",
      "983:\tlearn: 5.2730652\ttotal: 1m 7s\tremaining: 1.1s\n",
      "984:\tlearn: 5.2730325\ttotal: 1m 7s\tremaining: 1.03s\n",
      "985:\tlearn: 5.2729995\ttotal: 1m 8s\tremaining: 966ms\n",
      "986:\tlearn: 5.2729573\ttotal: 1m 8s\tremaining: 897ms\n",
      "987:\tlearn: 5.2728911\ttotal: 1m 8s\tremaining: 828ms\n",
      "988:\tlearn: 5.2728256\ttotal: 1m 8s\tremaining: 759ms\n",
      "989:\tlearn: 5.2727686\ttotal: 1m 8s\tremaining: 690ms\n",
      "990:\tlearn: 5.2727314\ttotal: 1m 8s\tremaining: 621ms\n",
      "991:\tlearn: 5.2726818\ttotal: 1m 8s\tremaining: 552ms\n",
      "992:\tlearn: 5.2726405\ttotal: 1m 8s\tremaining: 483ms\n",
      "993:\tlearn: 5.2726114\ttotal: 1m 8s\tremaining: 414ms\n",
      "994:\tlearn: 5.2725311\ttotal: 1m 8s\tremaining: 345ms\n",
      "995:\tlearn: 5.2724668\ttotal: 1m 8s\tremaining: 276ms\n",
      "996:\tlearn: 5.2724310\ttotal: 1m 8s\tremaining: 207ms\n",
      "997:\tlearn: 5.2724045\ttotal: 1m 8s\tremaining: 138ms\n",
      "998:\tlearn: 5.2723415\ttotal: 1m 9s\tremaining: 69.1ms\n",
      "999:\tlearn: 5.2722505\ttotal: 1m 9s\tremaining: 0us\n"
     ]
    }
   ],
   "source": [
    "# 학습 진행\n",
    "\n",
    "cb_model = cb.train(pool=cb_dtrain, params=cb_param)"
   ]
  },
  {
   "cell_type": "code",
   "execution_count": 68,
   "metadata": {},
   "outputs": [],
   "source": [
    "import numpy as np"
   ]
  },
  {
   "cell_type": "code",
   "execution_count": 69,
   "metadata": {},
   "outputs": [
    {
     "ename": "AxisError",
     "evalue": "axis 1 is out of bounds for array of dimension 1",
     "output_type": "error",
     "traceback": [
      "\u001b[1;31m---------------------------------------------------------------------------\u001b[0m",
      "\u001b[1;31mAxisError\u001b[0m                                 Traceback (most recent call last)",
      "\u001b[1;32m<ipython-input-69-ff5f1c431772>\u001b[0m in \u001b[0;36m<module>\u001b[1;34m\u001b[0m\n\u001b[0;32m      1\u001b[0m \u001b[1;31m# 평가 데이터 예측, Softmax의 결과값 중 가장 큰 값의 Label로 예측, 인덱스의 순서를 맞추기 위해 +1\u001b[0m\u001b[1;33m\u001b[0m\u001b[1;33m\u001b[0m\u001b[1;33m\u001b[0m\u001b[0m\n\u001b[0;32m      2\u001b[0m \u001b[1;33m\u001b[0m\u001b[0m\n\u001b[1;32m----> 3\u001b[1;33m \u001b[0mcb_model_predict\u001b[0m \u001b[1;33m=\u001b[0m \u001b[0mnp\u001b[0m\u001b[1;33m.\u001b[0m\u001b[0margmax\u001b[0m\u001b[1;33m(\u001b[0m\u001b[0mcb_model\u001b[0m\u001b[1;33m.\u001b[0m\u001b[0mpredict\u001b[0m\u001b[1;33m(\u001b[0m\u001b[0mx_valid\u001b[0m\u001b[1;33m)\u001b[0m\u001b[1;33m,\u001b[0m \u001b[0maxis\u001b[0m\u001b[1;33m=\u001b[0m\u001b[1;36m1\u001b[0m\u001b[1;33m)\u001b[0m\u001b[1;33m+\u001b[0m\u001b[1;36m1\u001b[0m\u001b[1;33m\u001b[0m\u001b[1;33m\u001b[0m\u001b[0m\n\u001b[0m",
      "\u001b[1;32m<__array_function__ internals>\u001b[0m in \u001b[0;36margmax\u001b[1;34m(*args, **kwargs)\u001b[0m\n",
      "\u001b[1;32mc:\\users\\jooya\\appdata\\local\\programs\\python\\python38\\lib\\site-packages\\numpy\\core\\fromnumeric.py\u001b[0m in \u001b[0;36margmax\u001b[1;34m(a, axis, out)\u001b[0m\n\u001b[0;32m   1193\u001b[0m \u001b[1;33m\u001b[0m\u001b[0m\n\u001b[0;32m   1194\u001b[0m     \"\"\"\n\u001b[1;32m-> 1195\u001b[1;33m     \u001b[1;32mreturn\u001b[0m \u001b[0m_wrapfunc\u001b[0m\u001b[1;33m(\u001b[0m\u001b[0ma\u001b[0m\u001b[1;33m,\u001b[0m \u001b[1;34m'argmax'\u001b[0m\u001b[1;33m,\u001b[0m \u001b[0maxis\u001b[0m\u001b[1;33m=\u001b[0m\u001b[0maxis\u001b[0m\u001b[1;33m,\u001b[0m \u001b[0mout\u001b[0m\u001b[1;33m=\u001b[0m\u001b[0mout\u001b[0m\u001b[1;33m)\u001b[0m\u001b[1;33m\u001b[0m\u001b[1;33m\u001b[0m\u001b[0m\n\u001b[0m\u001b[0;32m   1196\u001b[0m \u001b[1;33m\u001b[0m\u001b[0m\n\u001b[0;32m   1197\u001b[0m \u001b[1;33m\u001b[0m\u001b[0m\n",
      "\u001b[1;32mc:\\users\\jooya\\appdata\\local\\programs\\python\\python38\\lib\\site-packages\\numpy\\core\\fromnumeric.py\u001b[0m in \u001b[0;36m_wrapfunc\u001b[1;34m(obj, method, *args, **kwds)\u001b[0m\n\u001b[0;32m     55\u001b[0m \u001b[1;33m\u001b[0m\u001b[0m\n\u001b[0;32m     56\u001b[0m     \u001b[1;32mtry\u001b[0m\u001b[1;33m:\u001b[0m\u001b[1;33m\u001b[0m\u001b[1;33m\u001b[0m\u001b[0m\n\u001b[1;32m---> 57\u001b[1;33m         \u001b[1;32mreturn\u001b[0m \u001b[0mbound\u001b[0m\u001b[1;33m(\u001b[0m\u001b[1;33m*\u001b[0m\u001b[0margs\u001b[0m\u001b[1;33m,\u001b[0m \u001b[1;33m**\u001b[0m\u001b[0mkwds\u001b[0m\u001b[1;33m)\u001b[0m\u001b[1;33m\u001b[0m\u001b[1;33m\u001b[0m\u001b[0m\n\u001b[0m\u001b[0;32m     58\u001b[0m     \u001b[1;32mexcept\u001b[0m \u001b[0mTypeError\u001b[0m\u001b[1;33m:\u001b[0m\u001b[1;33m\u001b[0m\u001b[1;33m\u001b[0m\u001b[0m\n\u001b[0;32m     59\u001b[0m         \u001b[1;31m# A TypeError occurs if the object does have such a method in its\u001b[0m\u001b[1;33m\u001b[0m\u001b[1;33m\u001b[0m\u001b[1;33m\u001b[0m\u001b[0m\n",
      "\u001b[1;31mAxisError\u001b[0m: axis 1 is out of bounds for array of dimension 1"
     ]
    }
   ],
   "source": [
    "# 평가 데이터 예측, Softmax의 결과값 중 가장 큰 값의 Label로 예측, 인덱스의 순서를 맞추기 위해 +1\n",
    "\n",
    "cb_model_predict = np.argmax(cb_model.predict(x_valid), axis=1)+1"
   ]
  },
  {
   "cell_type": "code",
   "execution_count": 71,
   "metadata": {},
   "outputs": [
    {
     "ename": "NameError",
     "evalue": "name 'accuracy_score' is not defined",
     "output_type": "error",
     "traceback": [
      "\u001b[1;31m---------------------------------------------------------------------------\u001b[0m",
      "\u001b[1;31mNameError\u001b[0m                                 Traceback (most recent call last)",
      "\u001b[1;32m<ipython-input-71-a338eeb58e4c>\u001b[0m in \u001b[0;36m<module>\u001b[1;34m\u001b[0m\n\u001b[1;32m----> 1\u001b[1;33m \u001b[0mprint\u001b[0m\u001b[1;33m(\u001b[0m\u001b[1;34m\"Accuracy: %.2f\"\u001b[0m \u001b[1;33m%\u001b[0m\u001b[1;33m(\u001b[0m\u001b[0maccuracy_score\u001b[0m\u001b[1;33m(\u001b[0m\u001b[0my_valid\u001b[0m\u001b[1;33m,\u001b[0m \u001b[0mcb_model_predict\u001b[0m\u001b[1;33m)\u001b[0m\u001b[1;33m*\u001b[0m\u001b[1;36m100\u001b[0m\u001b[1;33m)\u001b[0m\u001b[1;33m)\u001b[0m  \u001b[1;31m# 정확도 % 계산\u001b[0m\u001b[1;33m\u001b[0m\u001b[1;33m\u001b[0m\u001b[0m\n\u001b[0m\u001b[0;32m      2\u001b[0m \u001b[0mprint\u001b[0m\u001b[1;33m(\u001b[0m\u001b[1;34m\"Time: %.2f\"\u001b[0m \u001b[1;33m%\u001b[0m\u001b[1;33m(\u001b[0m\u001b[0mtime\u001b[0m\u001b[1;33m.\u001b[0m\u001b[0mtime\u001b[0m\u001b[1;33m(\u001b[0m\u001b[1;33m)\u001b[0m \u001b[1;33m-\u001b[0m \u001b[0mstart\u001b[0m\u001b[1;33m)\u001b[0m\u001b[1;33m,\u001b[0m \u001b[1;34m\"seconds\"\u001b[0m\u001b[1;33m)\u001b[0m  \u001b[1;31m# 코드 실행 시간 계산\u001b[0m\u001b[1;33m\u001b[0m\u001b[1;33m\u001b[0m\u001b[0m\n",
      "\u001b[1;31mNameError\u001b[0m: name 'accuracy_score' is not defined"
     ]
    }
   ],
   "source": [
    "print(\"Accuracy: %.2f\" %(accuracy_score(y_valid, cb_model_predict)*100))  # 정확도 % 계산\n",
    "print(\"Time: %.2f\" %(time.time() - start), \"seconds\")  # 코드 실행 시간 계산"
   ]
  },
  {
   "cell_type": "markdown",
   "metadata": {},
   "source": [
    "https://blog.naver.com/jaehong7719/221951766987"
   ]
  },
  {
   "cell_type": "code",
   "execution_count": null,
   "metadata": {},
   "outputs": [],
   "source": []
  },
  {
   "cell_type": "markdown",
   "metadata": {},
   "source": [
    "======================================================================================================================="
   ]
  },
  {
   "cell_type": "markdown",
   "metadata": {},
   "source": [
    "### 1. 하이퍼파라미터 조정\n",
    "- randomsearch 반복 수 적게\n",
    "- gridsearch 파라미터 적게\n",
    "\n",
    "#### > 시간 없으면 둘 중 하나만 해보기"
   ]
  },
  {
   "cell_type": "markdown",
   "metadata": {},
   "source": [
    "### 2. 평가지표\n",
    "- rmse/mse 둘 중 하나로\n",
    "- log_loss"
   ]
  }
 ],
 "metadata": {
  "kernelspec": {
   "display_name": "Python 3",
   "language": "python",
   "name": "python3"
  },
  "language_info": {
   "codemirror_mode": {
    "name": "ipython",
    "version": 3
   },
   "file_extension": ".py",
   "mimetype": "text/x-python",
   "name": "python",
   "nbconvert_exporter": "python",
   "pygments_lexer": "ipython3",
   "version": "3.8.5"
  }
 },
 "nbformat": 4,
 "nbformat_minor": 4
}
