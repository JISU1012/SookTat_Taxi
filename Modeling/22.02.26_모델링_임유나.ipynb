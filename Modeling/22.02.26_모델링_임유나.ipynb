{
 "cells": [
  {
   "cell_type": "code",
   "execution_count": 1,
   "id": "aa3f242f",
   "metadata": {},
   "outputs": [],
   "source": [
    "import numpy as np\n",
    "import pandas as pd"
   ]
  },
  {
   "cell_type": "code",
   "execution_count": 2,
   "id": "f40a2eb7",
   "metadata": {},
   "outputs": [],
   "source": [
    "df = pd.read_csv(\"modeling_data.csv\")"
   ]
  },
  {
   "cell_type": "code",
   "execution_count": 6,
   "id": "cc51c338",
   "metadata": {
    "scrolled": true
   },
   "outputs": [
    {
     "data": {
      "text/html": [
       "<div>\n",
       "<style scoped>\n",
       "    .dataframe tbody tr th:only-of-type {\n",
       "        vertical-align: middle;\n",
       "    }\n",
       "\n",
       "    .dataframe tbody tr th {\n",
       "        vertical-align: top;\n",
       "    }\n",
       "\n",
       "    .dataframe thead th {\n",
       "        text-align: right;\n",
       "    }\n",
       "</style>\n",
       "<table border=\"1\" class=\"dataframe\">\n",
       "  <thead>\n",
       "    <tr style=\"text-align: right;\">\n",
       "      <th></th>\n",
       "      <th>Unnamed: 0</th>\n",
       "      <th>fare_amount</th>\n",
       "      <th>passenger_count</th>\n",
       "      <th>log_date</th>\n",
       "      <th>log_time</th>\n",
       "      <th>log_hour</th>\n",
       "      <th>log_min</th>\n",
       "      <th>log_year</th>\n",
       "      <th>log_month</th>\n",
       "      <th>log_day</th>\n",
       "      <th>7to15</th>\n",
       "      <th>16to19</th>\n",
       "      <th>20to6</th>\n",
       "      <th>dayofweek</th>\n",
       "      <th>weekday</th>\n",
       "      <th>is_extracharge</th>\n",
       "      <th>taxi_amount</th>\n",
       "      <th>dist</th>\n",
       "    </tr>\n",
       "  </thead>\n",
       "  <tbody>\n",
       "    <tr>\n",
       "      <th>0</th>\n",
       "      <td>0</td>\n",
       "      <td>4.5</td>\n",
       "      <td>1</td>\n",
       "      <td>2009-06-15</td>\n",
       "      <td>17:26:21</td>\n",
       "      <td>17</td>\n",
       "      <td>26</td>\n",
       "      <td>2009</td>\n",
       "      <td>6</td>\n",
       "      <td>15</td>\n",
       "      <td>0</td>\n",
       "      <td>1</td>\n",
       "      <td>0</td>\n",
       "      <td>1</td>\n",
       "      <td>1</td>\n",
       "      <td>1</td>\n",
       "      <td>1</td>\n",
       "      <td>412.061196</td>\n",
       "    </tr>\n",
       "    <tr>\n",
       "      <th>1</th>\n",
       "      <td>1</td>\n",
       "      <td>16.9</td>\n",
       "      <td>1</td>\n",
       "      <td>2010-01-05</td>\n",
       "      <td>16:52:16</td>\n",
       "      <td>16</td>\n",
       "      <td>52</td>\n",
       "      <td>2010</td>\n",
       "      <td>1</td>\n",
       "      <td>5</td>\n",
       "      <td>0</td>\n",
       "      <td>1</td>\n",
       "      <td>0</td>\n",
       "      <td>2</td>\n",
       "      <td>1</td>\n",
       "      <td>1</td>\n",
       "      <td>1</td>\n",
       "      <td>4646.229208</td>\n",
       "    </tr>\n",
       "    <tr>\n",
       "      <th>2</th>\n",
       "      <td>2</td>\n",
       "      <td>5.7</td>\n",
       "      <td>2</td>\n",
       "      <td>2011-08-18</td>\n",
       "      <td>00:35:00</td>\n",
       "      <td>0</td>\n",
       "      <td>35</td>\n",
       "      <td>2011</td>\n",
       "      <td>8</td>\n",
       "      <td>18</td>\n",
       "      <td>0</td>\n",
       "      <td>0</td>\n",
       "      <td>1</td>\n",
       "      <td>4</td>\n",
       "      <td>1</td>\n",
       "      <td>1</td>\n",
       "      <td>1</td>\n",
       "      <td>1004.797031</td>\n",
       "    </tr>\n",
       "    <tr>\n",
       "      <th>3</th>\n",
       "      <td>3</td>\n",
       "      <td>7.7</td>\n",
       "      <td>1</td>\n",
       "      <td>2012-04-21</td>\n",
       "      <td>04:30:42</td>\n",
       "      <td>4</td>\n",
       "      <td>30</td>\n",
       "      <td>2012</td>\n",
       "      <td>4</td>\n",
       "      <td>21</td>\n",
       "      <td>0</td>\n",
       "      <td>0</td>\n",
       "      <td>1</td>\n",
       "      <td>6</td>\n",
       "      <td>0</td>\n",
       "      <td>1</td>\n",
       "      <td>1</td>\n",
       "      <td>914.153776</td>\n",
       "    </tr>\n",
       "    <tr>\n",
       "      <th>4</th>\n",
       "      <td>4</td>\n",
       "      <td>5.3</td>\n",
       "      <td>1</td>\n",
       "      <td>2010-03-09</td>\n",
       "      <td>07:51:00</td>\n",
       "      <td>7</td>\n",
       "      <td>51</td>\n",
       "      <td>2010</td>\n",
       "      <td>3</td>\n",
       "      <td>9</td>\n",
       "      <td>1</td>\n",
       "      <td>0</td>\n",
       "      <td>0</td>\n",
       "      <td>2</td>\n",
       "      <td>1</td>\n",
       "      <td>0</td>\n",
       "      <td>1</td>\n",
       "      <td>1366.163592</td>\n",
       "    </tr>\n",
       "    <tr>\n",
       "      <th>...</th>\n",
       "      <td>...</td>\n",
       "      <td>...</td>\n",
       "      <td>...</td>\n",
       "      <td>...</td>\n",
       "      <td>...</td>\n",
       "      <td>...</td>\n",
       "      <td>...</td>\n",
       "      <td>...</td>\n",
       "      <td>...</td>\n",
       "      <td>...</td>\n",
       "      <td>...</td>\n",
       "      <td>...</td>\n",
       "      <td>...</td>\n",
       "      <td>...</td>\n",
       "      <td>...</td>\n",
       "      <td>...</td>\n",
       "      <td>...</td>\n",
       "      <td>...</td>\n",
       "    </tr>\n",
       "    <tr>\n",
       "      <th>999995</th>\n",
       "      <td>999995</td>\n",
       "      <td>5.7</td>\n",
       "      <td>5</td>\n",
       "      <td>2011-01-14</td>\n",
       "      <td>13:55:00</td>\n",
       "      <td>13</td>\n",
       "      <td>55</td>\n",
       "      <td>2011</td>\n",
       "      <td>1</td>\n",
       "      <td>14</td>\n",
       "      <td>1</td>\n",
       "      <td>0</td>\n",
       "      <td>0</td>\n",
       "      <td>5</td>\n",
       "      <td>1</td>\n",
       "      <td>0</td>\n",
       "      <td>2</td>\n",
       "      <td>870.509800</td>\n",
       "    </tr>\n",
       "    <tr>\n",
       "      <th>999996</th>\n",
       "      <td>999996</td>\n",
       "      <td>10.5</td>\n",
       "      <td>1</td>\n",
       "      <td>2012-07-20</td>\n",
       "      <td>12:59:16</td>\n",
       "      <td>12</td>\n",
       "      <td>59</td>\n",
       "      <td>2012</td>\n",
       "      <td>7</td>\n",
       "      <td>20</td>\n",
       "      <td>1</td>\n",
       "      <td>0</td>\n",
       "      <td>0</td>\n",
       "      <td>5</td>\n",
       "      <td>1</td>\n",
       "      <td>0</td>\n",
       "      <td>1</td>\n",
       "      <td>2277.239678</td>\n",
       "    </tr>\n",
       "    <tr>\n",
       "      <th>999997</th>\n",
       "      <td>999997</td>\n",
       "      <td>6.5</td>\n",
       "      <td>1</td>\n",
       "      <td>2013-07-01</td>\n",
       "      <td>09:10:00</td>\n",
       "      <td>9</td>\n",
       "      <td>10</td>\n",
       "      <td>2013</td>\n",
       "      <td>7</td>\n",
       "      <td>1</td>\n",
       "      <td>1</td>\n",
       "      <td>0</td>\n",
       "      <td>0</td>\n",
       "      <td>1</td>\n",
       "      <td>1</td>\n",
       "      <td>0</td>\n",
       "      <td>1</td>\n",
       "      <td>628.284955</td>\n",
       "    </tr>\n",
       "    <tr>\n",
       "      <th>999998</th>\n",
       "      <td>999998</td>\n",
       "      <td>17.5</td>\n",
       "      <td>3</td>\n",
       "      <td>2013-09-24</td>\n",
       "      <td>23:28:00</td>\n",
       "      <td>23</td>\n",
       "      <td>28</td>\n",
       "      <td>2013</td>\n",
       "      <td>9</td>\n",
       "      <td>24</td>\n",
       "      <td>0</td>\n",
       "      <td>0</td>\n",
       "      <td>1</td>\n",
       "      <td>2</td>\n",
       "      <td>1</td>\n",
       "      <td>1</td>\n",
       "      <td>1</td>\n",
       "      <td>2803.616297</td>\n",
       "    </tr>\n",
       "    <tr>\n",
       "      <th>999999</th>\n",
       "      <td>999999</td>\n",
       "      <td>6.0</td>\n",
       "      <td>4</td>\n",
       "      <td>2014-01-11</td>\n",
       "      <td>00:07:00</td>\n",
       "      <td>0</td>\n",
       "      <td>7</td>\n",
       "      <td>2014</td>\n",
       "      <td>1</td>\n",
       "      <td>11</td>\n",
       "      <td>0</td>\n",
       "      <td>0</td>\n",
       "      <td>1</td>\n",
       "      <td>6</td>\n",
       "      <td>0</td>\n",
       "      <td>1</td>\n",
       "      <td>2</td>\n",
       "      <td>695.532699</td>\n",
       "    </tr>\n",
       "  </tbody>\n",
       "</table>\n",
       "<p>1000000 rows × 18 columns</p>\n",
       "</div>"
      ],
      "text/plain": [
       "        Unnamed: 0  fare_amount  passenger_count    log_date  log_time  \\\n",
       "0                0          4.5                1  2009-06-15  17:26:21   \n",
       "1                1         16.9                1  2010-01-05  16:52:16   \n",
       "2                2          5.7                2  2011-08-18  00:35:00   \n",
       "3                3          7.7                1  2012-04-21  04:30:42   \n",
       "4                4          5.3                1  2010-03-09  07:51:00   \n",
       "...            ...          ...              ...         ...       ...   \n",
       "999995      999995          5.7                5  2011-01-14  13:55:00   \n",
       "999996      999996         10.5                1  2012-07-20  12:59:16   \n",
       "999997      999997          6.5                1  2013-07-01  09:10:00   \n",
       "999998      999998         17.5                3  2013-09-24  23:28:00   \n",
       "999999      999999          6.0                4  2014-01-11  00:07:00   \n",
       "\n",
       "        log_hour  log_min  log_year  log_month  log_day  7to15  16to19  20to6  \\\n",
       "0             17       26      2009          6       15      0       1      0   \n",
       "1             16       52      2010          1        5      0       1      0   \n",
       "2              0       35      2011          8       18      0       0      1   \n",
       "3              4       30      2012          4       21      0       0      1   \n",
       "4              7       51      2010          3        9      1       0      0   \n",
       "...          ...      ...       ...        ...      ...    ...     ...    ...   \n",
       "999995        13       55      2011          1       14      1       0      0   \n",
       "999996        12       59      2012          7       20      1       0      0   \n",
       "999997         9       10      2013          7        1      1       0      0   \n",
       "999998        23       28      2013          9       24      0       0      1   \n",
       "999999         0        7      2014          1       11      0       0      1   \n",
       "\n",
       "        dayofweek  weekday  is_extracharge  taxi_amount         dist  \n",
       "0               1        1               1            1   412.061196  \n",
       "1               2        1               1            1  4646.229208  \n",
       "2               4        1               1            1  1004.797031  \n",
       "3               6        0               1            1   914.153776  \n",
       "4               2        1               0            1  1366.163592  \n",
       "...           ...      ...             ...          ...          ...  \n",
       "999995          5        1               0            2   870.509800  \n",
       "999996          5        1               0            1  2277.239678  \n",
       "999997          1        1               0            1   628.284955  \n",
       "999998          2        1               1            1  2803.616297  \n",
       "999999          6        0               1            2   695.532699  \n",
       "\n",
       "[1000000 rows x 18 columns]"
      ]
     },
     "execution_count": 6,
     "metadata": {},
     "output_type": "execute_result"
    }
   ],
   "source": [
    "df"
   ]
  },
  {
   "cell_type": "code",
   "execution_count": 3,
   "id": "6afa93f2",
   "metadata": {},
   "outputs": [],
   "source": [
    "df.drop(['Unnamed: 0', 'log_date','log_time','log_hour','log_min','log_year','log_month','log_day'], axis=1, inplace=True)"
   ]
  },
  {
   "cell_type": "code",
   "execution_count": 4,
   "id": "693c917f",
   "metadata": {},
   "outputs": [
    {
     "data": {
      "text/html": [
       "<div>\n",
       "<style scoped>\n",
       "    .dataframe tbody tr th:only-of-type {\n",
       "        vertical-align: middle;\n",
       "    }\n",
       "\n",
       "    .dataframe tbody tr th {\n",
       "        vertical-align: top;\n",
       "    }\n",
       "\n",
       "    .dataframe thead th {\n",
       "        text-align: right;\n",
       "    }\n",
       "</style>\n",
       "<table border=\"1\" class=\"dataframe\">\n",
       "  <thead>\n",
       "    <tr style=\"text-align: right;\">\n",
       "      <th></th>\n",
       "      <th>fare_amount</th>\n",
       "      <th>passenger_count</th>\n",
       "      <th>7to15</th>\n",
       "      <th>16to19</th>\n",
       "      <th>20to6</th>\n",
       "      <th>dayofweek</th>\n",
       "      <th>weekday</th>\n",
       "      <th>is_extracharge</th>\n",
       "      <th>taxi_amount</th>\n",
       "      <th>dist</th>\n",
       "    </tr>\n",
       "  </thead>\n",
       "  <tbody>\n",
       "    <tr>\n",
       "      <th>0</th>\n",
       "      <td>4.5</td>\n",
       "      <td>1</td>\n",
       "      <td>0</td>\n",
       "      <td>1</td>\n",
       "      <td>0</td>\n",
       "      <td>1</td>\n",
       "      <td>1</td>\n",
       "      <td>1</td>\n",
       "      <td>1</td>\n",
       "      <td>412.061196</td>\n",
       "    </tr>\n",
       "    <tr>\n",
       "      <th>1</th>\n",
       "      <td>16.9</td>\n",
       "      <td>1</td>\n",
       "      <td>0</td>\n",
       "      <td>1</td>\n",
       "      <td>0</td>\n",
       "      <td>2</td>\n",
       "      <td>1</td>\n",
       "      <td>1</td>\n",
       "      <td>1</td>\n",
       "      <td>4646.229208</td>\n",
       "    </tr>\n",
       "    <tr>\n",
       "      <th>2</th>\n",
       "      <td>5.7</td>\n",
       "      <td>2</td>\n",
       "      <td>0</td>\n",
       "      <td>0</td>\n",
       "      <td>1</td>\n",
       "      <td>4</td>\n",
       "      <td>1</td>\n",
       "      <td>1</td>\n",
       "      <td>1</td>\n",
       "      <td>1004.797031</td>\n",
       "    </tr>\n",
       "    <tr>\n",
       "      <th>3</th>\n",
       "      <td>7.7</td>\n",
       "      <td>1</td>\n",
       "      <td>0</td>\n",
       "      <td>0</td>\n",
       "      <td>1</td>\n",
       "      <td>6</td>\n",
       "      <td>0</td>\n",
       "      <td>1</td>\n",
       "      <td>1</td>\n",
       "      <td>914.153776</td>\n",
       "    </tr>\n",
       "    <tr>\n",
       "      <th>4</th>\n",
       "      <td>5.3</td>\n",
       "      <td>1</td>\n",
       "      <td>1</td>\n",
       "      <td>0</td>\n",
       "      <td>0</td>\n",
       "      <td>2</td>\n",
       "      <td>1</td>\n",
       "      <td>0</td>\n",
       "      <td>1</td>\n",
       "      <td>1366.163592</td>\n",
       "    </tr>\n",
       "    <tr>\n",
       "      <th>...</th>\n",
       "      <td>...</td>\n",
       "      <td>...</td>\n",
       "      <td>...</td>\n",
       "      <td>...</td>\n",
       "      <td>...</td>\n",
       "      <td>...</td>\n",
       "      <td>...</td>\n",
       "      <td>...</td>\n",
       "      <td>...</td>\n",
       "      <td>...</td>\n",
       "    </tr>\n",
       "    <tr>\n",
       "      <th>999995</th>\n",
       "      <td>5.7</td>\n",
       "      <td>5</td>\n",
       "      <td>1</td>\n",
       "      <td>0</td>\n",
       "      <td>0</td>\n",
       "      <td>5</td>\n",
       "      <td>1</td>\n",
       "      <td>0</td>\n",
       "      <td>2</td>\n",
       "      <td>870.509800</td>\n",
       "    </tr>\n",
       "    <tr>\n",
       "      <th>999996</th>\n",
       "      <td>10.5</td>\n",
       "      <td>1</td>\n",
       "      <td>1</td>\n",
       "      <td>0</td>\n",
       "      <td>0</td>\n",
       "      <td>5</td>\n",
       "      <td>1</td>\n",
       "      <td>0</td>\n",
       "      <td>1</td>\n",
       "      <td>2277.239678</td>\n",
       "    </tr>\n",
       "    <tr>\n",
       "      <th>999997</th>\n",
       "      <td>6.5</td>\n",
       "      <td>1</td>\n",
       "      <td>1</td>\n",
       "      <td>0</td>\n",
       "      <td>0</td>\n",
       "      <td>1</td>\n",
       "      <td>1</td>\n",
       "      <td>0</td>\n",
       "      <td>1</td>\n",
       "      <td>628.284955</td>\n",
       "    </tr>\n",
       "    <tr>\n",
       "      <th>999998</th>\n",
       "      <td>17.5</td>\n",
       "      <td>3</td>\n",
       "      <td>0</td>\n",
       "      <td>0</td>\n",
       "      <td>1</td>\n",
       "      <td>2</td>\n",
       "      <td>1</td>\n",
       "      <td>1</td>\n",
       "      <td>1</td>\n",
       "      <td>2803.616297</td>\n",
       "    </tr>\n",
       "    <tr>\n",
       "      <th>999999</th>\n",
       "      <td>6.0</td>\n",
       "      <td>4</td>\n",
       "      <td>0</td>\n",
       "      <td>0</td>\n",
       "      <td>1</td>\n",
       "      <td>6</td>\n",
       "      <td>0</td>\n",
       "      <td>1</td>\n",
       "      <td>2</td>\n",
       "      <td>695.532699</td>\n",
       "    </tr>\n",
       "  </tbody>\n",
       "</table>\n",
       "<p>1000000 rows × 10 columns</p>\n",
       "</div>"
      ],
      "text/plain": [
       "        fare_amount  passenger_count  7to15  16to19  20to6  dayofweek  \\\n",
       "0               4.5                1      0       1      0          1   \n",
       "1              16.9                1      0       1      0          2   \n",
       "2               5.7                2      0       0      1          4   \n",
       "3               7.7                1      0       0      1          6   \n",
       "4               5.3                1      1       0      0          2   \n",
       "...             ...              ...    ...     ...    ...        ...   \n",
       "999995          5.7                5      1       0      0          5   \n",
       "999996         10.5                1      1       0      0          5   \n",
       "999997          6.5                1      1       0      0          1   \n",
       "999998         17.5                3      0       0      1          2   \n",
       "999999          6.0                4      0       0      1          6   \n",
       "\n",
       "        weekday  is_extracharge  taxi_amount         dist  \n",
       "0             1               1            1   412.061196  \n",
       "1             1               1            1  4646.229208  \n",
       "2             1               1            1  1004.797031  \n",
       "3             0               1            1   914.153776  \n",
       "4             1               0            1  1366.163592  \n",
       "...         ...             ...          ...          ...  \n",
       "999995        1               0            2   870.509800  \n",
       "999996        1               0            1  2277.239678  \n",
       "999997        1               0            1   628.284955  \n",
       "999998        1               1            1  2803.616297  \n",
       "999999        0               1            2   695.532699  \n",
       "\n",
       "[1000000 rows x 10 columns]"
      ]
     },
     "execution_count": 4,
     "metadata": {},
     "output_type": "execute_result"
    }
   ],
   "source": [
    "df"
   ]
  },
  {
   "cell_type": "code",
   "execution_count": 5,
   "id": "7dee5f2d",
   "metadata": {},
   "outputs": [],
   "source": [
    "X = df[['passenger_count','7to15','16to19','20to6','dayofweek','weekday','is_extracharge','taxi_amount','dist']]\n",
    "y = df['fare_amount']"
   ]
  },
  {
   "cell_type": "code",
   "execution_count": 6,
   "id": "af10bed3",
   "metadata": {},
   "outputs": [],
   "source": [
    "from sklearn.model_selection import train_test_split\n",
    "X_train, X_valid, y_train, y_valid = train_test_split(X, y, test_size=0.2, random_state=34)"
   ]
  },
  {
   "cell_type": "markdown",
   "id": "a698b24e",
   "metadata": {},
   "source": [
    "## RandomForest"
   ]
  },
  {
   "cell_type": "markdown",
   "id": "9bd96d30",
   "metadata": {},
   "source": [
    "#### 하이퍼파라미터 튜닝 없는 기본 모델"
   ]
  },
  {
   "cell_type": "code",
   "execution_count": 11,
   "id": "0bd29004",
   "metadata": {},
   "outputs": [],
   "source": [
    "from sklearn.ensemble import RandomForestRegressor"
   ]
  },
  {
   "cell_type": "code",
   "execution_count": 26,
   "id": "5d528aa7",
   "metadata": {},
   "outputs": [
    {
     "data": {
      "text/plain": [
       "RandomForestRegressor()"
      ]
     },
     "execution_count": 26,
     "metadata": {},
     "output_type": "execute_result"
    }
   ],
   "source": [
    "# 모델 생성\n",
    "model = RandomForestRegressor()\n",
    "# 모델 학습\n",
    "model.fit(X_train, y_train)"
   ]
  },
  {
   "cell_type": "code",
   "execution_count": 27,
   "id": "1b3704f5",
   "metadata": {},
   "outputs": [],
   "source": [
    "y_pred = model.predict(X_valid)"
   ]
  },
  {
   "cell_type": "code",
   "execution_count": 28,
   "id": "733fa3a6",
   "metadata": {},
   "outputs": [],
   "source": [
    "# RMSE 지표로 성능 평가\n",
    "from sklearn.metrics import mean_squared_error\n",
    "mse = mean_squared_error(y_valid, y_pred)\n",
    "rmse = np.sqrt(mse)"
   ]
  },
  {
   "cell_type": "code",
   "execution_count": 29,
   "id": "96897923",
   "metadata": {},
   "outputs": [
    {
     "data": {
      "text/plain": [
       "5.9799674428630585"
      ]
     },
     "execution_count": 29,
     "metadata": {},
     "output_type": "execute_result"
    }
   ],
   "source": [
    "# 검증 세트 RMSE\n",
    "rmse"
   ]
  },
  {
   "cell_type": "markdown",
   "id": "c6754fca",
   "metadata": {},
   "source": [
    "#### RandomizedSearhCV 통해 하이퍼파라미터 튜닝"
   ]
  },
  {
   "cell_type": "code",
   "execution_count": 30,
   "id": "de94dfc7",
   "metadata": {},
   "outputs": [],
   "source": [
    "from sklearn.model_selection import RandomizedSearchCV\n",
    "\n",
    "rf_param = {\"n_estimators\": list(range(10, 100, 10)),\n",
    "            \"max_depth\": [3,5,10,15],\n",
    "            \"max_features\": [3, 5, 7, 9],\n",
    "            \"min_samples_split\": [3, 5, 7, 9]}\n",
    "\n",
    "rf_model = RandomForestRegressor()\n",
    "\n",
    "rf_random_search = RandomizedSearchCV(estimator = rf_model,\n",
    "                                     param_distributions = rf_param,\n",
    "                                     scoring='neg_mean_squared_error',\n",
    "                                     n_jobs=-1,\n",
    "                                     verbose=1,\n",
    "                                     cv=5,\n",
    "                                     random_state=34)"
   ]
  },
  {
   "cell_type": "code",
   "execution_count": 31,
   "id": "a7a3d087",
   "metadata": {},
   "outputs": [
    {
     "name": "stdout",
     "output_type": "stream",
     "text": [
      "Fitting 5 folds for each of 10 candidates, totalling 50 fits\n"
     ]
    },
    {
     "data": {
      "text/plain": [
       "RandomizedSearchCV(cv=5, estimator=RandomForestRegressor(), n_jobs=-1,\n",
       "                   param_distributions={'max_depth': [3, 5, 10, 15],\n",
       "                                        'max_features': [3, 5, 7, 9],\n",
       "                                        'min_samples_split': [3, 5, 7, 9],\n",
       "                                        'n_estimators': [10, 20, 30, 40, 50, 60,\n",
       "                                                         70, 80, 90]},\n",
       "                   random_state=34, scoring='neg_mean_squared_error',\n",
       "                   verbose=1)"
      ]
     },
     "execution_count": 31,
     "metadata": {},
     "output_type": "execute_result"
    }
   ],
   "source": [
    "rf_random_search.fit(X_train, y_train)"
   ]
  },
  {
   "cell_type": "code",
   "execution_count": 33,
   "id": "c4c50e62",
   "metadata": {},
   "outputs": [
    {
     "data": {
      "text/plain": [
       "{'n_estimators': 30,\n",
       " 'min_samples_split': 5,\n",
       " 'max_features': 7,\n",
       " 'max_depth': 10}"
      ]
     },
     "execution_count": 33,
     "metadata": {},
     "output_type": "execute_result"
    }
   ],
   "source": [
    "# 최적 하이퍼파라미터\n",
    "rf_random_search.best_params_"
   ]
  },
  {
   "cell_type": "code",
   "execution_count": 34,
   "id": "f17b61ac",
   "metadata": {},
   "outputs": [],
   "source": [
    "train_pred = rf_random_search.predict(X_train)\n",
    "valid_pred  = rf_random_search.predict(X_valid)"
   ]
  },
  {
   "cell_type": "code",
   "execution_count": 36,
   "id": "2623781c",
   "metadata": {},
   "outputs": [
    {
     "name": "stdout",
     "output_type": "stream",
     "text": [
      "RandomForest 훈련 세트 RMSE: 5.289\n",
      "RandomForest 검증 세트 RMSE: 5.390\n"
     ]
    }
   ],
   "source": [
    "# RMSE 지표로 성능 평가\n",
    "print(\"RandomForest 훈련 세트 RMSE: {:.3f}\".format(np.sqrt(mean_squared_error(y_train, train_pred))))\n",
    "print(\"RandomForest 검증 세트 RMSE: {:.3f}\".format(np.sqrt(mean_squared_error(y_valid, valid_pred))))"
   ]
  },
  {
   "cell_type": "markdown",
   "id": "75571382",
   "metadata": {},
   "source": [
    "## XGBoost"
   ]
  },
  {
   "cell_type": "code",
   "execution_count": 38,
   "id": "d6664be3",
   "metadata": {
    "scrolled": true
   },
   "outputs": [
    {
     "data": {
      "text/plain": [
       "('64bit', 'WindowsPE')"
      ]
     },
     "execution_count": 38,
     "metadata": {},
     "output_type": "execute_result"
    }
   ],
   "source": [
    "import platform\n",
    "platform.architecture()"
   ]
  },
  {
   "cell_type": "code",
   "execution_count": 39,
   "id": "cfd32fd1",
   "metadata": {},
   "outputs": [
    {
     "name": "stdout",
     "output_type": "stream",
     "text": [
      "Collecting xgboost\n",
      "  Using cached xgboost-1.5.2-py3-none-win_amd64.whl (106.6 MB)\n",
      "Requirement already satisfied: scipy in c:\\users\\yoona lim\\anaconda3\\lib\\site-packages (from xgboost) (1.7.1)\n",
      "Requirement already satisfied: numpy in c:\\users\\yoona lim\\anaconda3\\lib\\site-packages (from xgboost) (1.20.3)\n",
      "Installing collected packages: xgboost\n",
      "Successfully installed xgboost-1.5.2\n"
     ]
    }
   ],
   "source": [
    "!pip install xgboost"
   ]
  },
  {
   "cell_type": "code",
   "execution_count": 15,
   "id": "d2303154",
   "metadata": {},
   "outputs": [],
   "source": [
    "import xgboost as xgb"
   ]
  },
  {
   "cell_type": "code",
   "execution_count": 16,
   "id": "414b0870",
   "metadata": {},
   "outputs": [],
   "source": [
    "from xgboost import XGBRegressor"
   ]
  },
  {
   "cell_type": "code",
   "execution_count": 44,
   "id": "25aeb8ae",
   "metadata": {},
   "outputs": [
    {
     "data": {
      "text/plain": [
       "XGBRegressor(base_score=0.5, booster='gbtree', colsample_bylevel=1,\n",
       "             colsample_bynode=1, colsample_bytree=1, enable_categorical=False,\n",
       "             gamma=0, gpu_id=-1, importance_type=None,\n",
       "             interaction_constraints='', learning_rate=0.1, max_delta_step=0,\n",
       "             max_depth=5, min_child_weight=1, missing=nan,\n",
       "             monotone_constraints='()', n_estimators=500, n_jobs=-1,\n",
       "             num_parallel_tree=1, predictor='auto', random_state=34,\n",
       "             reg_alpha=0, reg_lambda=1, scale_pos_weight=1, subsample=1,\n",
       "             tree_method='exact', validate_parameters=1, verbosity=None)"
      ]
     },
     "execution_count": 44,
     "metadata": {},
     "output_type": "execute_result"
    }
   ],
   "source": [
    "xgb_model = XGBRegressor(objective='reg:squarederror', #오차 제곱\n",
    "                         n_estimators=500,\n",
    "                         max_depth=5,\n",
    "                         learning_rate=0.1,\n",
    "                         n_jobs = -1,\n",
    "                         random_state=34)\n",
    "xgb_model.fit(X_train, y_train)"
   ]
  },
  {
   "cell_type": "code",
   "execution_count": 45,
   "id": "b437d485",
   "metadata": {},
   "outputs": [],
   "source": [
    "train_pred = xgb_model.predict(X_train)\n",
    "valid_pred = xgb_model.predict(X_valid)"
   ]
  },
  {
   "cell_type": "code",
   "execution_count": 46,
   "id": "5a214e42",
   "metadata": {
    "scrolled": true
   },
   "outputs": [
    {
     "name": "stdout",
     "output_type": "stream",
     "text": [
      "XGBoost 훈련 세트 정확도: 5.129\n",
      "XGBoost 테스트 세트 정확도: 5.440\n"
     ]
    }
   ],
   "source": [
    "print(\"XGBoost 훈련 세트 정확도: {:.3f}\".format(np.sqrt(mean_squared_error(train_pred, y_train))))\n",
    "print(\"XGBoost 테스트 세트 정확도: {:.3f}\".format(np.sqrt(mean_squared_error(valid_pred, y_valid))))"
   ]
  },
  {
   "cell_type": "markdown",
   "id": "8ad92c96",
   "metadata": {},
   "source": [
    "파라미터 튜닝 가이드\n",
    "https://psystat.tistory.com/131"
   ]
  },
  {
   "cell_type": "code",
   "execution_count": 19,
   "id": "563da676",
   "metadata": {},
   "outputs": [],
   "source": [
    "from sklearn.model_selection import RandomizedSearchCV\n",
    "\n",
    "xgb_model_ = xgb.XGBRegressor()\n",
    "\n",
    "xgb_param_grid = {'max_depth': range(3,13), \n",
    "                  'subsample': np.linspace(0.4, 1, 7),\n",
    "                  'min_child_weight':range(1,6,2),\n",
    "                  'learning_rate': [0.01, 0.1, 0.2, 0.3],\n",
    "                  'n_estimators' : [100, 200, 300, 400, 500],\n",
    "                  'gamma': np.linspace(0, 0.5, 6),\n",
    "                  'colsample_bytree': np.linspace(0.5, 1, 6)\n",
    "                  }\n",
    "\n",
    "xgb_random = RandomizedSearchCV(estimator = xgb_model_,\n",
    "                                param_distributions = xgb_param_grid,\n",
    "                                scoring='neg_mean_squared_error', \n",
    "                                n_jobs=-1, \n",
    "                                cv = 5)"
   ]
  },
  {
   "cell_type": "code",
   "execution_count": 20,
   "id": "9d036718",
   "metadata": {},
   "outputs": [
    {
     "data": {
      "text/plain": [
       "RandomizedSearchCV(cv=5,\n",
       "                   estimator=XGBRegressor(base_score=None, booster=None,\n",
       "                                          colsample_bylevel=None,\n",
       "                                          colsample_bynode=None,\n",
       "                                          colsample_bytree=None,\n",
       "                                          enable_categorical=False, gamma=None,\n",
       "                                          gpu_id=None, importance_type=None,\n",
       "                                          interaction_constraints=None,\n",
       "                                          learning_rate=None,\n",
       "                                          max_delta_step=None, max_depth=None,\n",
       "                                          min_child_weight=None, missing=nan,\n",
       "                                          monotone_constraints=...\n",
       "                                          validate_parameters=None,\n",
       "                                          verbosity=None),\n",
       "                   n_jobs=-1,\n",
       "                   param_distributions={'colsample_bytree': array([0.5, 0.6, 0.7, 0.8, 0.9, 1. ]),\n",
       "                                        'gamma': array([0. , 0.1, 0.2, 0.3, 0.4, 0.5]),\n",
       "                                        'learning_rate': [0.01, 0.1, 0.2, 0.3],\n",
       "                                        'max_depth': range(3, 13),\n",
       "                                        'min_child_weight': range(1, 6, 2),\n",
       "                                        'n_estimators': [100, 200, 300, 400,\n",
       "                                                         500],\n",
       "                                        'subsample': array([0.4, 0.5, 0.6, 0.7, 0.8, 0.9, 1. ])},\n",
       "                   scoring='neg_mean_squared_error')"
      ]
     },
     "execution_count": 20,
     "metadata": {},
     "output_type": "execute_result"
    }
   ],
   "source": [
    "xgb_random.fit(X_train, y_train)"
   ]
  },
  {
   "cell_type": "code",
   "execution_count": 21,
   "id": "c1463704",
   "metadata": {},
   "outputs": [],
   "source": [
    "train_pred = xgb_random.predict(X_train)\n",
    "valid_pred = xgb_random.predict(X_valid)"
   ]
  },
  {
   "cell_type": "code",
   "execution_count": 22,
   "id": "72600642",
   "metadata": {},
   "outputs": [],
   "source": [
    "from sklearn.metrics import mean_squared_error"
   ]
  },
  {
   "cell_type": "code",
   "execution_count": 23,
   "id": "c8bbfc7b",
   "metadata": {},
   "outputs": [
    {
     "name": "stdout",
     "output_type": "stream",
     "text": [
      "XGBoost 훈련 세트 정확도: 5.404\n",
      "XGBoost 테스트 세트 정확도: 5.381\n"
     ]
    }
   ],
   "source": [
    "print(\"XGBoost 훈련 세트 정확도: {:.3f}\".format(np.sqrt(mean_squared_error(train_pred, y_train))))\n",
    "print(\"XGBoost 테스트 세트 정확도: {:.3f}\".format(np.sqrt(mean_squared_error(valid_pred, y_valid))))"
   ]
  },
  {
   "cell_type": "code",
   "execution_count": 24,
   "id": "b7583a04",
   "metadata": {},
   "outputs": [
    {
     "data": {
      "text/plain": [
       "{'subsample': 1.0,\n",
       " 'n_estimators': 500,\n",
       " 'min_child_weight': 3,\n",
       " 'max_depth': 5,\n",
       " 'learning_rate': 0.01,\n",
       " 'gamma': 0.0,\n",
       " 'colsample_bytree': 1.0}"
      ]
     },
     "execution_count": 24,
     "metadata": {},
     "output_type": "execute_result"
    }
   ],
   "source": [
    "xgb_random.best_params_"
   ]
  },
  {
   "cell_type": "markdown",
   "id": "ddca8963",
   "metadata": {},
   "source": [
    "아래는 궁금해서 해 본 것 .."
   ]
  },
  {
   "cell_type": "code",
   "execution_count": 28,
   "id": "87f03b42",
   "metadata": {},
   "outputs": [],
   "source": [
    "xgb_best = xgb.XGBRegressor(n_estimators = 500, \n",
    "                            max_depth = 5,\n",
    "                            min_child_weight = 3,\n",
    "                            subsample = 1,\n",
    "                            learning_rate = 0.01,\n",
    "                            gamma = 0,\n",
    "                            colsample_bytree = 1,\n",
    "                            n_jobs = -1)"
   ]
  },
  {
   "cell_type": "code",
   "execution_count": 29,
   "id": "d0195a44",
   "metadata": {},
   "outputs": [
    {
     "data": {
      "text/plain": [
       "XGBRegressor(base_score=0.5, booster='gbtree', colsample_bylevel=1,\n",
       "             colsample_bynode=1, colsample_bytree=1, enable_categorical=False,\n",
       "             gamma=0, gpu_id=-1, importance_type=None,\n",
       "             interaction_constraints='', learning_rate=0.01, max_delta_step=0,\n",
       "             max_depth=5, min_child_weight=3, missing=nan,\n",
       "             monotone_constraints='()', n_estimators=500, n_jobs=-1,\n",
       "             num_parallel_tree=1, predictor='auto', random_state=0, reg_alpha=0,\n",
       "             reg_lambda=1, scale_pos_weight=1, subsample=1, tree_method='exact',\n",
       "             validate_parameters=1, verbosity=None)"
      ]
     },
     "execution_count": 29,
     "metadata": {},
     "output_type": "execute_result"
    }
   ],
   "source": [
    "xgb_best.fit(X_train, y_train)"
   ]
  },
  {
   "cell_type": "code",
   "execution_count": 30,
   "id": "baf0b7b7",
   "metadata": {},
   "outputs": [],
   "source": [
    "best_train_pred = xgb_best.predict(X_train)\n",
    "best_valid_pred = xgb_best.predict(X_valid)"
   ]
  },
  {
   "cell_type": "code",
   "execution_count": 31,
   "id": "6a610b89",
   "metadata": {
    "scrolled": true
   },
   "outputs": [
    {
     "name": "stdout",
     "output_type": "stream",
     "text": [
      "XGBoost 훈련 세트 정확도: 5.404\n",
      "XGBoost 테스트 세트 정확도: 5.381\n"
     ]
    }
   ],
   "source": [
    "print(\"XGBoost 훈련 세트 정확도: {:.3f}\".format(np.sqrt(mean_squared_error(best_train_pred, y_train))))\n",
    "print(\"XGBoost 테스트 세트 정확도: {:.3f}\".format(np.sqrt(mean_squared_error(best_valid_pred, y_valid))))"
   ]
  },
  {
   "cell_type": "code",
   "execution_count": null,
   "id": "54c95895",
   "metadata": {},
   "outputs": [],
   "source": []
  }
 ],
 "metadata": {
  "kernelspec": {
   "display_name": "Python 3 (ipykernel)",
   "language": "python",
   "name": "python3"
  },
  "language_info": {
   "codemirror_mode": {
    "name": "ipython",
    "version": 3
   },
   "file_extension": ".py",
   "mimetype": "text/x-python",
   "name": "python",
   "nbconvert_exporter": "python",
   "pygments_lexer": "ipython3",
   "version": "3.9.7"
  }
 },
 "nbformat": 4,
 "nbformat_minor": 5
}
