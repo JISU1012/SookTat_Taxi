{
 "cells": [
  {
   "cell_type": "code",
   "execution_count": 1,
   "metadata": {},
   "outputs": [],
   "source": [
    "import pandas as pd"
   ]
  },
  {
   "cell_type": "code",
   "execution_count": 2,
   "metadata": {},
   "outputs": [],
   "source": [
    "train_df = pd.read_csv('drop_train.csv')"
   ]
  },
  {
   "cell_type": "code",
   "execution_count": 4,
   "metadata": {},
   "outputs": [
    {
     "data": {
      "text/html": [
       "<div>\n",
       "<style scoped>\n",
       "    .dataframe tbody tr th:only-of-type {\n",
       "        vertical-align: middle;\n",
       "    }\n",
       "\n",
       "    .dataframe tbody tr th {\n",
       "        vertical-align: top;\n",
       "    }\n",
       "\n",
       "    .dataframe thead th {\n",
       "        text-align: right;\n",
       "    }\n",
       "</style>\n",
       "<table border=\"1\" class=\"dataframe\">\n",
       "  <thead>\n",
       "    <tr style=\"text-align: right;\">\n",
       "      <th></th>\n",
       "      <th>key</th>\n",
       "      <th>fare_amount</th>\n",
       "      <th>pickup_datetime</th>\n",
       "      <th>pickup_longitude</th>\n",
       "      <th>pickup_latitude</th>\n",
       "      <th>dropoff_longitude</th>\n",
       "      <th>dropoff_latitude</th>\n",
       "      <th>passenger_count</th>\n",
       "    </tr>\n",
       "  </thead>\n",
       "  <tbody>\n",
       "    <tr>\n",
       "      <th>0</th>\n",
       "      <td>2009-06-15 17:26:21.0000001</td>\n",
       "      <td>4.5</td>\n",
       "      <td>2009-06-15 17:26:21 UTC</td>\n",
       "      <td>-73.844311</td>\n",
       "      <td>40.721319</td>\n",
       "      <td>-73.841610</td>\n",
       "      <td>40.712278</td>\n",
       "      <td>1</td>\n",
       "    </tr>\n",
       "    <tr>\n",
       "      <th>1</th>\n",
       "      <td>2010-01-05 16:52:16.0000002</td>\n",
       "      <td>16.9</td>\n",
       "      <td>2010-01-05 16:52:16 UTC</td>\n",
       "      <td>-74.016048</td>\n",
       "      <td>40.711303</td>\n",
       "      <td>-73.979268</td>\n",
       "      <td>40.782004</td>\n",
       "      <td>1</td>\n",
       "    </tr>\n",
       "    <tr>\n",
       "      <th>2</th>\n",
       "      <td>2011-08-18 00:35:00.00000049</td>\n",
       "      <td>5.7</td>\n",
       "      <td>2011-08-18 00:35:00 UTC</td>\n",
       "      <td>-73.982738</td>\n",
       "      <td>40.761270</td>\n",
       "      <td>-73.991242</td>\n",
       "      <td>40.750562</td>\n",
       "      <td>2</td>\n",
       "    </tr>\n",
       "    <tr>\n",
       "      <th>3</th>\n",
       "      <td>2012-04-21 04:30:42.0000001</td>\n",
       "      <td>7.7</td>\n",
       "      <td>2012-04-21 04:30:42 UTC</td>\n",
       "      <td>-73.987130</td>\n",
       "      <td>40.733143</td>\n",
       "      <td>-73.991567</td>\n",
       "      <td>40.758092</td>\n",
       "      <td>1</td>\n",
       "    </tr>\n",
       "    <tr>\n",
       "      <th>4</th>\n",
       "      <td>2010-03-09 07:51:00.000000135</td>\n",
       "      <td>5.3</td>\n",
       "      <td>2010-03-09 07:51:00 UTC</td>\n",
       "      <td>-73.968095</td>\n",
       "      <td>40.768008</td>\n",
       "      <td>-73.956655</td>\n",
       "      <td>40.783762</td>\n",
       "      <td>1</td>\n",
       "    </tr>\n",
       "    <tr>\n",
       "      <th>...</th>\n",
       "      <td>...</td>\n",
       "      <td>...</td>\n",
       "      <td>...</td>\n",
       "      <td>...</td>\n",
       "      <td>...</td>\n",
       "      <td>...</td>\n",
       "      <td>...</td>\n",
       "      <td>...</td>\n",
       "    </tr>\n",
       "    <tr>\n",
       "      <th>55423475</th>\n",
       "      <td>2014-03-15 03:28:00.00000070</td>\n",
       "      <td>14.0</td>\n",
       "      <td>2014-03-15 03:28:00 UTC</td>\n",
       "      <td>-74.005272</td>\n",
       "      <td>40.740027</td>\n",
       "      <td>-73.963280</td>\n",
       "      <td>40.762555</td>\n",
       "      <td>1</td>\n",
       "    </tr>\n",
       "    <tr>\n",
       "      <th>55423476</th>\n",
       "      <td>2009-03-24 20:46:20.0000002</td>\n",
       "      <td>4.2</td>\n",
       "      <td>2009-03-24 20:46:20 UTC</td>\n",
       "      <td>-73.957784</td>\n",
       "      <td>40.765530</td>\n",
       "      <td>-73.951640</td>\n",
       "      <td>40.773959</td>\n",
       "      <td>1</td>\n",
       "    </tr>\n",
       "    <tr>\n",
       "      <th>55423477</th>\n",
       "      <td>2011-04-02 22:04:24.0000004</td>\n",
       "      <td>14.1</td>\n",
       "      <td>2011-04-02 22:04:24 UTC</td>\n",
       "      <td>-73.970505</td>\n",
       "      <td>40.752325</td>\n",
       "      <td>-73.960537</td>\n",
       "      <td>40.797342</td>\n",
       "      <td>1</td>\n",
       "    </tr>\n",
       "    <tr>\n",
       "      <th>55423478</th>\n",
       "      <td>2011-10-26 05:57:51.0000002</td>\n",
       "      <td>28.9</td>\n",
       "      <td>2011-10-26 05:57:51 UTC</td>\n",
       "      <td>-73.980901</td>\n",
       "      <td>40.764629</td>\n",
       "      <td>-73.870605</td>\n",
       "      <td>40.773963</td>\n",
       "      <td>1</td>\n",
       "    </tr>\n",
       "    <tr>\n",
       "      <th>55423479</th>\n",
       "      <td>2014-12-12 11:33:00.00000015</td>\n",
       "      <td>7.5</td>\n",
       "      <td>2014-12-12 11:33:00 UTC</td>\n",
       "      <td>-73.969722</td>\n",
       "      <td>40.797668</td>\n",
       "      <td>-73.970885</td>\n",
       "      <td>40.783313</td>\n",
       "      <td>1</td>\n",
       "    </tr>\n",
       "  </tbody>\n",
       "</table>\n",
       "<p>55423480 rows × 8 columns</p>\n",
       "</div>"
      ],
      "text/plain": [
       "                                    key  fare_amount          pickup_datetime  \\\n",
       "0           2009-06-15 17:26:21.0000001          4.5  2009-06-15 17:26:21 UTC   \n",
       "1           2010-01-05 16:52:16.0000002         16.9  2010-01-05 16:52:16 UTC   \n",
       "2          2011-08-18 00:35:00.00000049          5.7  2011-08-18 00:35:00 UTC   \n",
       "3           2012-04-21 04:30:42.0000001          7.7  2012-04-21 04:30:42 UTC   \n",
       "4         2010-03-09 07:51:00.000000135          5.3  2010-03-09 07:51:00 UTC   \n",
       "...                                 ...          ...                      ...   \n",
       "55423475   2014-03-15 03:28:00.00000070         14.0  2014-03-15 03:28:00 UTC   \n",
       "55423476    2009-03-24 20:46:20.0000002          4.2  2009-03-24 20:46:20 UTC   \n",
       "55423477    2011-04-02 22:04:24.0000004         14.1  2011-04-02 22:04:24 UTC   \n",
       "55423478    2011-10-26 05:57:51.0000002         28.9  2011-10-26 05:57:51 UTC   \n",
       "55423479   2014-12-12 11:33:00.00000015          7.5  2014-12-12 11:33:00 UTC   \n",
       "\n",
       "          pickup_longitude  pickup_latitude  dropoff_longitude  \\\n",
       "0               -73.844311        40.721319         -73.841610   \n",
       "1               -74.016048        40.711303         -73.979268   \n",
       "2               -73.982738        40.761270         -73.991242   \n",
       "3               -73.987130        40.733143         -73.991567   \n",
       "4               -73.968095        40.768008         -73.956655   \n",
       "...                    ...              ...                ...   \n",
       "55423475        -74.005272        40.740027         -73.963280   \n",
       "55423476        -73.957784        40.765530         -73.951640   \n",
       "55423477        -73.970505        40.752325         -73.960537   \n",
       "55423478        -73.980901        40.764629         -73.870605   \n",
       "55423479        -73.969722        40.797668         -73.970885   \n",
       "\n",
       "          dropoff_latitude  passenger_count  \n",
       "0                40.712278                1  \n",
       "1                40.782004                1  \n",
       "2                40.750562                2  \n",
       "3                40.758092                1  \n",
       "4                40.783762                1  \n",
       "...                    ...              ...  \n",
       "55423475         40.762555                1  \n",
       "55423476         40.773959                1  \n",
       "55423477         40.797342                1  \n",
       "55423478         40.773963                1  \n",
       "55423479         40.783313                1  \n",
       "\n",
       "[55423480 rows x 8 columns]"
      ]
     },
     "execution_count": 4,
     "metadata": {},
     "output_type": "execute_result"
    }
   ],
   "source": [
    "train_df.drop(['Unnamed: 0'],axis=1)"
   ]
  },
  {
   "cell_type": "code",
   "execution_count": 5,
   "metadata": {},
   "outputs": [
    {
     "data": {
      "text/plain": [
       "(55421026, 9)"
      ]
     },
     "execution_count": 5,
     "metadata": {},
     "output_type": "execute_result"
    }
   ],
   "source": [
    "# fare_amount가 0보다 작은 것 제외\n",
    "\n",
    "train_df = train_df.drop(train_df[train_df['fare_amount']<0].index, axis=0)\n",
    "train_df.shape"
   ]
  },
  {
   "cell_type": "code",
   "execution_count": 8,
   "metadata": {},
   "outputs": [],
   "source": [
    "#지수표현 변경\n",
    "pd.options.display.float_format = '{:.5f}'.format"
   ]
  },
  {
   "cell_type": "code",
   "execution_count": 9,
   "metadata": {},
   "outputs": [
    {
     "data": {
      "text/plain": [
       "count   55421026.00000\n",
       "mean           1.68538\n",
       "std            1.32765\n",
       "min            0.00000\n",
       "25%            1.00000\n",
       "50%            1.00000\n",
       "75%            2.00000\n",
       "max          208.00000\n",
       "Name: passenger_count, dtype: float64"
      ]
     },
     "execution_count": 9,
     "metadata": {},
     "output_type": "execute_result"
    }
   ],
   "source": [
    "# 승객 수 보기\n",
    "\n",
    "train_df['passenger_count'].describe()"
   ]
  },
  {
   "cell_type": "code",
   "execution_count": 11,
   "metadata": {},
   "outputs": [],
   "source": [
    "passen_sort = train_df['passenger_count'].sort_values(ascending=False)"
   ]
  },
  {
   "cell_type": "code",
   "execution_count": 18,
   "metadata": {},
   "outputs": [
    {
     "data": {
      "text/plain": [
       "33344440    208\n",
       "21618729    208\n",
       "12732184    208\n",
       "53978864    208\n",
       "4432451     208\n",
       "           ... \n",
       "4095411       9\n",
       "30444119      9\n",
       "42647549      9\n",
       "39624141      9\n",
       "53781584      9\n",
       "Name: passenger_count, Length: 76, dtype: int64"
      ]
     },
     "execution_count": 18,
     "metadata": {},
     "output_type": "execute_result"
    }
   ],
   "source": [
    "passen_sort.head(76)"
   ]
  },
  {
   "cell_type": "markdown",
   "metadata": {},
   "source": [
    "위의 결과를 보았을 때 승객 수가 208명인 행들이 약 70개정도 보인다. 하지만 일반적인 택시를 생각했을 때 208명은 불가하다고 생각되어 9명 이하만 고려"
   ]
  },
  {
   "cell_type": "code",
   "execution_count": 20,
   "metadata": {},
   "outputs": [],
   "source": [
    "#승객 수가 9 이하인 row\n",
    "train_df_pas = train_df[train_df['passenger_count']<=9]"
   ]
  },
  {
   "cell_type": "markdown",
   "metadata": {},
   "source": [
    "위도는 -90 ~ 90 <br>\n",
    "경도는 -180 ~180"
   ]
  },
  {
   "cell_type": "code",
   "execution_count": 21,
   "metadata": {},
   "outputs": [
    {
     "data": {
      "text/html": [
       "<div>\n",
       "<style scoped>\n",
       "    .dataframe tbody tr th:only-of-type {\n",
       "        vertical-align: middle;\n",
       "    }\n",
       "\n",
       "    .dataframe tbody tr th {\n",
       "        vertical-align: top;\n",
       "    }\n",
       "\n",
       "    .dataframe thead th {\n",
       "        text-align: right;\n",
       "    }\n",
       "</style>\n",
       "<table border=\"1\" class=\"dataframe\">\n",
       "  <thead>\n",
       "    <tr style=\"text-align: right;\">\n",
       "      <th></th>\n",
       "      <th>Unnamed: 0</th>\n",
       "      <th>key</th>\n",
       "      <th>fare_amount</th>\n",
       "      <th>pickup_datetime</th>\n",
       "      <th>pickup_longitude</th>\n",
       "      <th>pickup_latitude</th>\n",
       "      <th>dropoff_longitude</th>\n",
       "      <th>dropoff_latitude</th>\n",
       "      <th>passenger_count</th>\n",
       "    </tr>\n",
       "  </thead>\n",
       "  <tbody>\n",
       "    <tr>\n",
       "      <th>150558</th>\n",
       "      <td>150559</td>\n",
       "      <td>2012-08-03 07:43:00.000000176</td>\n",
       "      <td>25.30000</td>\n",
       "      <td>2012-08-03 07:43:00 UTC</td>\n",
       "      <td>0.00000</td>\n",
       "      <td>-3116.28538</td>\n",
       "      <td>-73.95360</td>\n",
       "      <td>40.78800</td>\n",
       "      <td>1</td>\n",
       "    </tr>\n",
       "    <tr>\n",
       "      <th>436229</th>\n",
       "      <td>436233</td>\n",
       "      <td>2012-03-11 01:56:00.000000100</td>\n",
       "      <td>4.10000</td>\n",
       "      <td>2012-03-11 01:56:00 UTC</td>\n",
       "      <td>-2986.24249</td>\n",
       "      <td>-880.62743</td>\n",
       "      <td>-3383.29661</td>\n",
       "      <td>-2559.74891</td>\n",
       "      <td>1</td>\n",
       "    </tr>\n",
       "    <tr>\n",
       "      <th>542995</th>\n",
       "      <td>543001</td>\n",
       "      <td>2011-10-28 13:53:00.000000178</td>\n",
       "      <td>5.30000</td>\n",
       "      <td>2011-10-28 13:53:00 UTC</td>\n",
       "      <td>-3377.68094</td>\n",
       "      <td>-113.01950</td>\n",
       "      <td>-554.91869</td>\n",
       "      <td>314.79418</td>\n",
       "      <td>1</td>\n",
       "    </tr>\n",
       "    <tr>\n",
       "      <th>1281402</th>\n",
       "      <td>1281413</td>\n",
       "      <td>2011-09-02 22:51:00.000000213</td>\n",
       "      <td>11.30000</td>\n",
       "      <td>2011-09-02 22:51:00 UTC</td>\n",
       "      <td>-2256.42123</td>\n",
       "      <td>-1185.39118</td>\n",
       "      <td>-2256.42123</td>\n",
       "      <td>-1185.39118</td>\n",
       "      <td>1</td>\n",
       "    </tr>\n",
       "    <tr>\n",
       "      <th>1340826</th>\n",
       "      <td>1340837</td>\n",
       "      <td>2011-06-09 10:39:00.000000137</td>\n",
       "      <td>10.10000</td>\n",
       "      <td>2011-06-09 10:39:00 UTC</td>\n",
       "      <td>2434.23856</td>\n",
       "      <td>-3458.66470</td>\n",
       "      <td>-1281.93379</td>\n",
       "      <td>-104.63765</td>\n",
       "      <td>1</td>\n",
       "    </tr>\n",
       "    <tr>\n",
       "      <th>...</th>\n",
       "      <td>...</td>\n",
       "      <td>...</td>\n",
       "      <td>...</td>\n",
       "      <td>...</td>\n",
       "      <td>...</td>\n",
       "      <td>...</td>\n",
       "      <td>...</td>\n",
       "      <td>...</td>\n",
       "      <td>...</td>\n",
       "    </tr>\n",
       "    <tr>\n",
       "      <th>54609005</th>\n",
       "      <td>54609376</td>\n",
       "      <td>2011-09-21 17:23:00.000000196</td>\n",
       "      <td>11.70000</td>\n",
       "      <td>2011-09-21 17:23:00 UTC</td>\n",
       "      <td>12.68803</td>\n",
       "      <td>-2474.45231</td>\n",
       "      <td>12.68803</td>\n",
       "      <td>-2474.45231</td>\n",
       "      <td>1</td>\n",
       "    </tr>\n",
       "    <tr>\n",
       "      <th>54648174</th>\n",
       "      <td>54648545</td>\n",
       "      <td>2011-07-17 07:23:00.00000033</td>\n",
       "      <td>32.50000</td>\n",
       "      <td>2011-07-17 07:23:00 UTC</td>\n",
       "      <td>-522.80271</td>\n",
       "      <td>-894.61996</td>\n",
       "      <td>2109.91993</td>\n",
       "      <td>840.58498</td>\n",
       "      <td>1</td>\n",
       "    </tr>\n",
       "    <tr>\n",
       "      <th>54837920</th>\n",
       "      <td>54838293</td>\n",
       "      <td>2012-02-08 06:46:00.00000033</td>\n",
       "      <td>9.30000</td>\n",
       "      <td>2012-02-08 06:46:00 UTC</td>\n",
       "      <td>1353.46169</td>\n",
       "      <td>-1168.63082</td>\n",
       "      <td>72.83074</td>\n",
       "      <td>-1172.79507</td>\n",
       "      <td>1</td>\n",
       "    </tr>\n",
       "    <tr>\n",
       "      <th>55113730</th>\n",
       "      <td>55114105</td>\n",
       "      <td>2011-07-02 17:54:00.000000115</td>\n",
       "      <td>13.30000</td>\n",
       "      <td>2011-07-02 17:54:00 UTC</td>\n",
       "      <td>-1305.73459</td>\n",
       "      <td>-778.58213</td>\n",
       "      <td>1196.89161</td>\n",
       "      <td>3359.84155</td>\n",
       "      <td>1</td>\n",
       "    </tr>\n",
       "    <tr>\n",
       "      <th>55190789</th>\n",
       "      <td>55191164</td>\n",
       "      <td>2011-06-03 18:40:00.00000046</td>\n",
       "      <td>4.90000</td>\n",
       "      <td>2011-06-03 18:40:00 UTC</td>\n",
       "      <td>1.51000</td>\n",
       "      <td>-2541.54880</td>\n",
       "      <td>804.01009</td>\n",
       "      <td>3292.72507</td>\n",
       "      <td>1</td>\n",
       "    </tr>\n",
       "  </tbody>\n",
       "</table>\n",
       "<p>340 rows × 9 columns</p>\n",
       "</div>"
      ],
      "text/plain": [
       "          Unnamed: 0                            key  fare_amount  \\\n",
       "150558        150559  2012-08-03 07:43:00.000000176     25.30000   \n",
       "436229        436233  2012-03-11 01:56:00.000000100      4.10000   \n",
       "542995        543001  2011-10-28 13:53:00.000000178      5.30000   \n",
       "1281402      1281413  2011-09-02 22:51:00.000000213     11.30000   \n",
       "1340826      1340837  2011-06-09 10:39:00.000000137     10.10000   \n",
       "...              ...                            ...          ...   \n",
       "54609005    54609376  2011-09-21 17:23:00.000000196     11.70000   \n",
       "54648174    54648545   2011-07-17 07:23:00.00000033     32.50000   \n",
       "54837920    54838293   2012-02-08 06:46:00.00000033      9.30000   \n",
       "55113730    55114105  2011-07-02 17:54:00.000000115     13.30000   \n",
       "55190789    55191164   2011-06-03 18:40:00.00000046      4.90000   \n",
       "\n",
       "                  pickup_datetime  pickup_longitude  pickup_latitude  \\\n",
       "150558    2012-08-03 07:43:00 UTC           0.00000      -3116.28538   \n",
       "436229    2012-03-11 01:56:00 UTC       -2986.24249       -880.62743   \n",
       "542995    2011-10-28 13:53:00 UTC       -3377.68094       -113.01950   \n",
       "1281402   2011-09-02 22:51:00 UTC       -2256.42123      -1185.39118   \n",
       "1340826   2011-06-09 10:39:00 UTC        2434.23856      -3458.66470   \n",
       "...                           ...               ...              ...   \n",
       "54609005  2011-09-21 17:23:00 UTC          12.68803      -2474.45231   \n",
       "54648174  2011-07-17 07:23:00 UTC        -522.80271       -894.61996   \n",
       "54837920  2012-02-08 06:46:00 UTC        1353.46169      -1168.63082   \n",
       "55113730  2011-07-02 17:54:00 UTC       -1305.73459       -778.58213   \n",
       "55190789  2011-06-03 18:40:00 UTC           1.51000      -2541.54880   \n",
       "\n",
       "          dropoff_longitude  dropoff_latitude  passenger_count  \n",
       "150558            -73.95360          40.78800                1  \n",
       "436229          -3383.29661       -2559.74891                1  \n",
       "542995           -554.91869         314.79418                1  \n",
       "1281402         -2256.42123       -1185.39118                1  \n",
       "1340826         -1281.93379        -104.63765                1  \n",
       "...                     ...               ...              ...  \n",
       "54609005           12.68803       -2474.45231                1  \n",
       "54648174         2109.91993         840.58498                1  \n",
       "54837920           72.83074       -1172.79507                1  \n",
       "55113730         1196.89161        3359.84155                1  \n",
       "55190789          804.01009        3292.72507                1  \n",
       "\n",
       "[340 rows x 9 columns]"
      ]
     },
     "execution_count": 21,
     "metadata": {},
     "output_type": "execute_result"
    }
   ],
   "source": [
    "#위도가 -90미만인 행이 있는지 탐색\n",
    "train_df_pas[train_df_pas['pickup_latitude']<-90]"
   ]
  },
  {
   "cell_type": "code",
   "execution_count": 22,
   "metadata": {},
   "outputs": [
    {
     "data": {
      "text/html": [
       "<div>\n",
       "<style scoped>\n",
       "    .dataframe tbody tr th:only-of-type {\n",
       "        vertical-align: middle;\n",
       "    }\n",
       "\n",
       "    .dataframe tbody tr th {\n",
       "        vertical-align: top;\n",
       "    }\n",
       "\n",
       "    .dataframe thead th {\n",
       "        text-align: right;\n",
       "    }\n",
       "</style>\n",
       "<table border=\"1\" class=\"dataframe\">\n",
       "  <thead>\n",
       "    <tr style=\"text-align: right;\">\n",
       "      <th></th>\n",
       "      <th>Unnamed: 0</th>\n",
       "      <th>key</th>\n",
       "      <th>fare_amount</th>\n",
       "      <th>pickup_datetime</th>\n",
       "      <th>pickup_longitude</th>\n",
       "      <th>pickup_latitude</th>\n",
       "      <th>dropoff_longitude</th>\n",
       "      <th>dropoff_latitude</th>\n",
       "      <th>passenger_count</th>\n",
       "    </tr>\n",
       "  </thead>\n",
       "  <tbody>\n",
       "    <tr>\n",
       "      <th>5686</th>\n",
       "      <td>5686</td>\n",
       "      <td>2011-07-30 11:15:00.00000082</td>\n",
       "      <td>3.30000</td>\n",
       "      <td>2011-07-30 11:15:00 UTC</td>\n",
       "      <td>-73.94723</td>\n",
       "      <td>401.08333</td>\n",
       "      <td>-73.95139</td>\n",
       "      <td>40.77893</td>\n",
       "      <td>1</td>\n",
       "    </tr>\n",
       "    <tr>\n",
       "      <th>174355</th>\n",
       "      <td>174356</td>\n",
       "      <td>2011-11-21 21:36:00.00000081</td>\n",
       "      <td>9.70000</td>\n",
       "      <td>2011-11-21 21:36:00 UTC</td>\n",
       "      <td>2140.60116</td>\n",
       "      <td>1703.09277</td>\n",
       "      <td>-1251.19589</td>\n",
       "      <td>-1189.61544</td>\n",
       "      <td>1</td>\n",
       "    </tr>\n",
       "    <tr>\n",
       "      <th>272437</th>\n",
       "      <td>272439</td>\n",
       "      <td>2011-04-23 02:55:00.00000012</td>\n",
       "      <td>9.30000</td>\n",
       "      <td>2011-04-23 02:55:00 UTC</td>\n",
       "      <td>-74.00250</td>\n",
       "      <td>405.35000</td>\n",
       "      <td>-73.97860</td>\n",
       "      <td>40.73996</td>\n",
       "      <td>1</td>\n",
       "    </tr>\n",
       "    <tr>\n",
       "      <th>464021</th>\n",
       "      <td>464025</td>\n",
       "      <td>2012-03-05 20:58:00.0000009</td>\n",
       "      <td>6.90000</td>\n",
       "      <td>2012-03-05 20:58:00 UTC</td>\n",
       "      <td>-73.99427</td>\n",
       "      <td>404.96667</td>\n",
       "      <td>-73.97386</td>\n",
       "      <td>40.75546</td>\n",
       "      <td>1</td>\n",
       "    </tr>\n",
       "    <tr>\n",
       "      <th>505224</th>\n",
       "      <td>505229</td>\n",
       "      <td>2012-03-05 21:08:00.0000006</td>\n",
       "      <td>9.30000</td>\n",
       "      <td>2012-03-05 21:08:00 UTC</td>\n",
       "      <td>-73.99427</td>\n",
       "      <td>404.96667</td>\n",
       "      <td>-73.98639</td>\n",
       "      <td>40.77690</td>\n",
       "      <td>1</td>\n",
       "    </tr>\n",
       "    <tr>\n",
       "      <th>...</th>\n",
       "      <td>...</td>\n",
       "      <td>...</td>\n",
       "      <td>...</td>\n",
       "      <td>...</td>\n",
       "      <td>...</td>\n",
       "      <td>...</td>\n",
       "      <td>...</td>\n",
       "      <td>...</td>\n",
       "      <td>...</td>\n",
       "    </tr>\n",
       "    <tr>\n",
       "      <th>54957858</th>\n",
       "      <td>54958232</td>\n",
       "      <td>2011-07-16 13:21:00.00000019</td>\n",
       "      <td>8.90000</td>\n",
       "      <td>2011-07-16 13:21:00 UTC</td>\n",
       "      <td>-73.98616</td>\n",
       "      <td>405.13333</td>\n",
       "      <td>-73.99382</td>\n",
       "      <td>40.76157</td>\n",
       "      <td>3</td>\n",
       "    </tr>\n",
       "    <tr>\n",
       "      <th>55055399</th>\n",
       "      <td>55055774</td>\n",
       "      <td>2012-04-26 23:18:00.00000095</td>\n",
       "      <td>23.70000</td>\n",
       "      <td>2012-04-26 23:18:00 UTC</td>\n",
       "      <td>-73.97728</td>\n",
       "      <td>404.70000</td>\n",
       "      <td>-73.98947</td>\n",
       "      <td>40.68408</td>\n",
       "      <td>1</td>\n",
       "    </tr>\n",
       "    <tr>\n",
       "      <th>55186543</th>\n",
       "      <td>55186918</td>\n",
       "      <td>2011-08-10 10:05:00.00000018</td>\n",
       "      <td>7.70000</td>\n",
       "      <td>2011-08-10 10:05:00 UTC</td>\n",
       "      <td>-1267.94292</td>\n",
       "      <td>2165.88969</td>\n",
       "      <td>-2593.36764</td>\n",
       "      <td>1598.24797</td>\n",
       "      <td>1</td>\n",
       "    </tr>\n",
       "    <tr>\n",
       "      <th>55382871</th>\n",
       "      <td>55383247</td>\n",
       "      <td>2011-11-10 23:25:00.000000223</td>\n",
       "      <td>2.50000</td>\n",
       "      <td>2011-11-10 23:25:00 UTC</td>\n",
       "      <td>-2959.46219</td>\n",
       "      <td>2371.27991</td>\n",
       "      <td>770.67269</td>\n",
       "      <td>-774.44787</td>\n",
       "      <td>1</td>\n",
       "    </tr>\n",
       "    <tr>\n",
       "      <th>55399103</th>\n",
       "      <td>55399479</td>\n",
       "      <td>2011-09-18 08:24:00.00000036</td>\n",
       "      <td>6.50000</td>\n",
       "      <td>2011-09-18 08:24:00 UTC</td>\n",
       "      <td>-73.99147</td>\n",
       "      <td>404.48333</td>\n",
       "      <td>-74.00152</td>\n",
       "      <td>40.75566</td>\n",
       "      <td>1</td>\n",
       "    </tr>\n",
       "  </tbody>\n",
       "</table>\n",
       "<p>673 rows × 9 columns</p>\n",
       "</div>"
      ],
      "text/plain": [
       "          Unnamed: 0                            key  fare_amount  \\\n",
       "5686            5686   2011-07-30 11:15:00.00000082      3.30000   \n",
       "174355        174356   2011-11-21 21:36:00.00000081      9.70000   \n",
       "272437        272439   2011-04-23 02:55:00.00000012      9.30000   \n",
       "464021        464025    2012-03-05 20:58:00.0000009      6.90000   \n",
       "505224        505229    2012-03-05 21:08:00.0000006      9.30000   \n",
       "...              ...                            ...          ...   \n",
       "54957858    54958232   2011-07-16 13:21:00.00000019      8.90000   \n",
       "55055399    55055774   2012-04-26 23:18:00.00000095     23.70000   \n",
       "55186543    55186918   2011-08-10 10:05:00.00000018      7.70000   \n",
       "55382871    55383247  2011-11-10 23:25:00.000000223      2.50000   \n",
       "55399103    55399479   2011-09-18 08:24:00.00000036      6.50000   \n",
       "\n",
       "                  pickup_datetime  pickup_longitude  pickup_latitude  \\\n",
       "5686      2011-07-30 11:15:00 UTC         -73.94723        401.08333   \n",
       "174355    2011-11-21 21:36:00 UTC        2140.60116       1703.09277   \n",
       "272437    2011-04-23 02:55:00 UTC         -74.00250        405.35000   \n",
       "464021    2012-03-05 20:58:00 UTC         -73.99427        404.96667   \n",
       "505224    2012-03-05 21:08:00 UTC         -73.99427        404.96667   \n",
       "...                           ...               ...              ...   \n",
       "54957858  2011-07-16 13:21:00 UTC         -73.98616        405.13333   \n",
       "55055399  2012-04-26 23:18:00 UTC         -73.97728        404.70000   \n",
       "55186543  2011-08-10 10:05:00 UTC       -1267.94292       2165.88969   \n",
       "55382871  2011-11-10 23:25:00 UTC       -2959.46219       2371.27991   \n",
       "55399103  2011-09-18 08:24:00 UTC         -73.99147        404.48333   \n",
       "\n",
       "          dropoff_longitude  dropoff_latitude  passenger_count  \n",
       "5686              -73.95139          40.77893                1  \n",
       "174355          -1251.19589       -1189.61544                1  \n",
       "272437            -73.97860          40.73996                1  \n",
       "464021            -73.97386          40.75546                1  \n",
       "505224            -73.98639          40.77690                1  \n",
       "...                     ...               ...              ...  \n",
       "54957858          -73.99382          40.76157                3  \n",
       "55055399          -73.98947          40.68408                1  \n",
       "55186543        -2593.36764        1598.24797                1  \n",
       "55382871          770.67269        -774.44787                1  \n",
       "55399103          -74.00152          40.75566                1  \n",
       "\n",
       "[673 rows x 9 columns]"
      ]
     },
     "execution_count": 22,
     "metadata": {},
     "output_type": "execute_result"
    }
   ],
   "source": [
    "#위도가 90이상인 행이 있는지 탐색\n",
    "train_df_pas[train_df_pas['pickup_latitude']>90]"
   ]
  },
  {
   "cell_type": "code",
   "execution_count": 24,
   "metadata": {},
   "outputs": [],
   "source": [
    "# 태운 위도가 -90미만인 행 제거\n",
    "train_df = train_df_pas.drop((train_df_pas[train_df_pas['pickup_latitude']<-90]).index, axis=0)"
   ]
  },
  {
   "cell_type": "code",
   "execution_count": 25,
   "metadata": {},
   "outputs": [
    {
     "data": {
      "text/plain": [
       "(55420617, 9)"
      ]
     },
     "execution_count": 25,
     "metadata": {},
     "output_type": "execute_result"
    }
   ],
   "source": [
    "train_df.shape"
   ]
  },
  {
   "cell_type": "code",
   "execution_count": 26,
   "metadata": {},
   "outputs": [],
   "source": [
    "#태운 위도가 90 이상인 행 제거\n",
    "train_df = train_df[train_df['pickup_latitude']<=90]"
   ]
  },
  {
   "cell_type": "code",
   "execution_count": 27,
   "metadata": {},
   "outputs": [
    {
     "data": {
      "text/plain": [
       "(55419944, 9)"
      ]
     },
     "execution_count": 27,
     "metadata": {},
     "output_type": "execute_result"
    }
   ],
   "source": [
    "train_df.shape"
   ]
  },
  {
   "cell_type": "code",
   "execution_count": 29,
   "metadata": {},
   "outputs": [],
   "source": [
    "# 내려준 위도가 -90미만인 행 제거\n",
    "train_df = train_df.drop((train_df[train_df['dropoff_latitude']<-90]).index, axis=0)"
   ]
  },
  {
   "cell_type": "code",
   "execution_count": 30,
   "metadata": {},
   "outputs": [
    {
     "data": {
      "text/plain": [
       "(55419888, 9)"
      ]
     },
     "execution_count": 30,
     "metadata": {},
     "output_type": "execute_result"
    }
   ],
   "source": [
    "train_df.shape"
   ]
  },
  {
   "cell_type": "code",
   "execution_count": 31,
   "metadata": {},
   "outputs": [],
   "source": [
    "# 내려준 위도가 90초과인 행 제거\n",
    "train_df = train_df.drop((train_df[train_df['dropoff_latitude']>90]).index, axis=0)"
   ]
  },
  {
   "cell_type": "code",
   "execution_count": 32,
   "metadata": {},
   "outputs": [
    {
     "data": {
      "text/plain": [
       "(55419521, 9)"
      ]
     },
     "execution_count": 32,
     "metadata": {},
     "output_type": "execute_result"
    }
   ],
   "source": [
    "train_df.shape"
   ]
  },
  {
   "cell_type": "code",
   "execution_count": 33,
   "metadata": {},
   "outputs": [],
   "source": [
    "# 태운 경도가 -180미만인 행 제거\n",
    "train_df = train_df.drop((train_df[train_df['pickup_longitude']<-180]).index, axis=0)"
   ]
  },
  {
   "cell_type": "code",
   "execution_count": 34,
   "metadata": {},
   "outputs": [
    {
     "data": {
      "text/plain": [
       "(55418786, 9)"
      ]
     },
     "execution_count": 34,
     "metadata": {},
     "output_type": "execute_result"
    }
   ],
   "source": [
    "train_df.shape"
   ]
  },
  {
   "cell_type": "code",
   "execution_count": 35,
   "metadata": {},
   "outputs": [],
   "source": [
    "# 태운 경도가 180초과인 행 제거\n",
    "train_df = train_df.drop((train_df[train_df['pickup_longitude']>180]).index, axis=0)"
   ]
  },
  {
   "cell_type": "code",
   "execution_count": 36,
   "metadata": {},
   "outputs": [
    {
     "data": {
      "text/plain": [
       "(55418771, 9)"
      ]
     },
     "execution_count": 36,
     "metadata": {},
     "output_type": "execute_result"
    }
   ],
   "source": [
    "train_df.shape"
   ]
  },
  {
   "cell_type": "code",
   "execution_count": 37,
   "metadata": {},
   "outputs": [],
   "source": [
    "# 내려준 경도가 -180미만인 행 제거\n",
    "train_df = train_df.drop((train_df[train_df['dropoff_longitude']<-180]).index, axis=0)"
   ]
  },
  {
   "cell_type": "code",
   "execution_count": 38,
   "metadata": {},
   "outputs": [
    {
     "data": {
      "text/plain": [
       "(55418220, 9)"
      ]
     },
     "execution_count": 38,
     "metadata": {},
     "output_type": "execute_result"
    }
   ],
   "source": [
    "train_df.shape"
   ]
  },
  {
   "cell_type": "code",
   "execution_count": 39,
   "metadata": {},
   "outputs": [],
   "source": [
    "# 내려준 경도가 180초과인 행 제거\n",
    "train_df = train_df.drop((train_df[train_df['dropoff_longitude']>180]).index, axis=0)"
   ]
  },
  {
   "cell_type": "code",
   "execution_count": 40,
   "metadata": {},
   "outputs": [
    {
     "data": {
      "text/plain": [
       "(55418213, 9)"
      ]
     },
     "execution_count": 40,
     "metadata": {},
     "output_type": "execute_result"
    }
   ],
   "source": [
    "train_df.shape"
   ]
  },
  {
   "cell_type": "code",
   "execution_count": 45,
   "metadata": {},
   "outputs": [
    {
     "ename": "KeyboardInterrupt",
     "evalue": "",
     "output_type": "error",
     "traceback": [
      "\u001b[1;31m---------------------------------------------------------------------------\u001b[0m",
      "\u001b[1;31mKeyboardInterrupt\u001b[0m                         Traceback (most recent call last)",
      "\u001b[1;32m<ipython-input-45-30b17ef99ea2>\u001b[0m in \u001b[0;36m<module>\u001b[1;34m\u001b[0m\n\u001b[1;32m----> 1\u001b[1;33m \u001b[0mtrain_df\u001b[0m\u001b[1;33m.\u001b[0m\u001b[0mto_csv\u001b[0m\u001b[1;33m(\u001b[0m\u001b[1;34m\"train_eda.csv\"\u001b[0m\u001b[1;33m)\u001b[0m\u001b[1;33m\u001b[0m\u001b[1;33m\u001b[0m\u001b[0m\n\u001b[0m",
      "\u001b[1;32m~\\anaconda3\\lib\\site-packages\\pandas\\core\\generic.py\u001b[0m in \u001b[0;36mto_csv\u001b[1;34m(self, path_or_buf, sep, na_rep, float_format, columns, header, index, index_label, mode, encoding, compression, quoting, quotechar, line_terminator, chunksize, date_format, doublequote, escapechar, decimal)\u001b[0m\n\u001b[0;32m   3202\u001b[0m             \u001b[0mdecimal\u001b[0m\u001b[1;33m=\u001b[0m\u001b[0mdecimal\u001b[0m\u001b[1;33m,\u001b[0m\u001b[1;33m\u001b[0m\u001b[1;33m\u001b[0m\u001b[0m\n\u001b[0;32m   3203\u001b[0m         )\n\u001b[1;32m-> 3204\u001b[1;33m         \u001b[0mformatter\u001b[0m\u001b[1;33m.\u001b[0m\u001b[0msave\u001b[0m\u001b[1;33m(\u001b[0m\u001b[1;33m)\u001b[0m\u001b[1;33m\u001b[0m\u001b[1;33m\u001b[0m\u001b[0m\n\u001b[0m\u001b[0;32m   3205\u001b[0m \u001b[1;33m\u001b[0m\u001b[0m\n\u001b[0;32m   3206\u001b[0m         \u001b[1;32mif\u001b[0m \u001b[0mpath_or_buf\u001b[0m \u001b[1;32mis\u001b[0m \u001b[1;32mNone\u001b[0m\u001b[1;33m:\u001b[0m\u001b[1;33m\u001b[0m\u001b[1;33m\u001b[0m\u001b[0m\n",
      "\u001b[1;32m~\\anaconda3\\lib\\site-packages\\pandas\\io\\formats\\csvs.py\u001b[0m in \u001b[0;36msave\u001b[1;34m(self)\u001b[0m\n\u001b[0;32m    202\u001b[0m             )\n\u001b[0;32m    203\u001b[0m \u001b[1;33m\u001b[0m\u001b[0m\n\u001b[1;32m--> 204\u001b[1;33m             \u001b[0mself\u001b[0m\u001b[1;33m.\u001b[0m\u001b[0m_save\u001b[0m\u001b[1;33m(\u001b[0m\u001b[1;33m)\u001b[0m\u001b[1;33m\u001b[0m\u001b[1;33m\u001b[0m\u001b[0m\n\u001b[0m\u001b[0;32m    205\u001b[0m \u001b[1;33m\u001b[0m\u001b[0m\n\u001b[0;32m    206\u001b[0m         \u001b[1;32mfinally\u001b[0m\u001b[1;33m:\u001b[0m\u001b[1;33m\u001b[0m\u001b[1;33m\u001b[0m\u001b[0m\n",
      "\u001b[1;32m~\\anaconda3\\lib\\site-packages\\pandas\\io\\formats\\csvs.py\u001b[0m in \u001b[0;36m_save\u001b[1;34m(self)\u001b[0m\n\u001b[0;32m    323\u001b[0m                 \u001b[1;32mbreak\u001b[0m\u001b[1;33m\u001b[0m\u001b[1;33m\u001b[0m\u001b[0m\n\u001b[0;32m    324\u001b[0m \u001b[1;33m\u001b[0m\u001b[0m\n\u001b[1;32m--> 325\u001b[1;33m             \u001b[0mself\u001b[0m\u001b[1;33m.\u001b[0m\u001b[0m_save_chunk\u001b[0m\u001b[1;33m(\u001b[0m\u001b[0mstart_i\u001b[0m\u001b[1;33m,\u001b[0m \u001b[0mend_i\u001b[0m\u001b[1;33m)\u001b[0m\u001b[1;33m\u001b[0m\u001b[1;33m\u001b[0m\u001b[0m\n\u001b[0m\u001b[0;32m    326\u001b[0m \u001b[1;33m\u001b[0m\u001b[0m\n\u001b[0;32m    327\u001b[0m     \u001b[1;32mdef\u001b[0m \u001b[0m_save_chunk\u001b[0m\u001b[1;33m(\u001b[0m\u001b[0mself\u001b[0m\u001b[1;33m,\u001b[0m \u001b[0mstart_i\u001b[0m\u001b[1;33m:\u001b[0m \u001b[0mint\u001b[0m\u001b[1;33m,\u001b[0m \u001b[0mend_i\u001b[0m\u001b[1;33m:\u001b[0m \u001b[0mint\u001b[0m\u001b[1;33m)\u001b[0m \u001b[1;33m->\u001b[0m \u001b[1;32mNone\u001b[0m\u001b[1;33m:\u001b[0m\u001b[1;33m\u001b[0m\u001b[1;33m\u001b[0m\u001b[0m\n",
      "\u001b[1;32m~\\anaconda3\\lib\\site-packages\\pandas\\io\\formats\\csvs.py\u001b[0m in \u001b[0;36m_save_chunk\u001b[1;34m(self, start_i, end_i)\u001b[0m\n\u001b[0;32m    332\u001b[0m         \u001b[1;32mfor\u001b[0m \u001b[0mi\u001b[0m \u001b[1;32min\u001b[0m \u001b[0mrange\u001b[0m\u001b[1;33m(\u001b[0m\u001b[0mlen\u001b[0m\u001b[1;33m(\u001b[0m\u001b[0mself\u001b[0m\u001b[1;33m.\u001b[0m\u001b[0mblocks\u001b[0m\u001b[1;33m)\u001b[0m\u001b[1;33m)\u001b[0m\u001b[1;33m:\u001b[0m\u001b[1;33m\u001b[0m\u001b[1;33m\u001b[0m\u001b[0m\n\u001b[0;32m    333\u001b[0m             \u001b[0mb\u001b[0m \u001b[1;33m=\u001b[0m \u001b[0mself\u001b[0m\u001b[1;33m.\u001b[0m\u001b[0mblocks\u001b[0m\u001b[1;33m[\u001b[0m\u001b[0mi\u001b[0m\u001b[1;33m]\u001b[0m\u001b[1;33m\u001b[0m\u001b[1;33m\u001b[0m\u001b[0m\n\u001b[1;32m--> 334\u001b[1;33m             d = b.to_native_types(\n\u001b[0m\u001b[0;32m    335\u001b[0m                 \u001b[0mslicer\u001b[0m\u001b[1;33m=\u001b[0m\u001b[0mslicer\u001b[0m\u001b[1;33m,\u001b[0m\u001b[1;33m\u001b[0m\u001b[1;33m\u001b[0m\u001b[0m\n\u001b[0;32m    336\u001b[0m                 \u001b[0mna_rep\u001b[0m\u001b[1;33m=\u001b[0m\u001b[0mself\u001b[0m\u001b[1;33m.\u001b[0m\u001b[0mna_rep\u001b[0m\u001b[1;33m,\u001b[0m\u001b[1;33m\u001b[0m\u001b[1;33m\u001b[0m\u001b[0m\n",
      "\u001b[1;32m~\\anaconda3\\lib\\site-packages\\pandas\\core\\internals\\blocks.py\u001b[0m in \u001b[0;36mto_native_types\u001b[1;34m(self, slicer, na_rep, float_format, decimal, quoting, **kwargs)\u001b[0m\n\u001b[0;32m   2071\u001b[0m                 \u001b[0mvalues\u001b[0m \u001b[1;33m=\u001b[0m \u001b[0mnp\u001b[0m\u001b[1;33m.\u001b[0m\u001b[0marray\u001b[0m\u001b[1;33m(\u001b[0m\u001b[0mvalues\u001b[0m\u001b[1;33m,\u001b[0m \u001b[0mdtype\u001b[0m\u001b[1;33m=\u001b[0m\u001b[1;34m\"object\"\u001b[0m\u001b[1;33m)\u001b[0m\u001b[1;33m\u001b[0m\u001b[1;33m\u001b[0m\u001b[0m\n\u001b[0;32m   2072\u001b[0m \u001b[1;33m\u001b[0m\u001b[0m\n\u001b[1;32m-> 2073\u001b[1;33m             \u001b[0mvalues\u001b[0m\u001b[1;33m[\u001b[0m\u001b[0mmask\u001b[0m\u001b[1;33m]\u001b[0m \u001b[1;33m=\u001b[0m \u001b[0mna_rep\u001b[0m\u001b[1;33m\u001b[0m\u001b[1;33m\u001b[0m\u001b[0m\n\u001b[0m\u001b[0;32m   2074\u001b[0m             \u001b[1;32mreturn\u001b[0m \u001b[0mvalues\u001b[0m\u001b[1;33m\u001b[0m\u001b[1;33m\u001b[0m\u001b[0m\n\u001b[0;32m   2075\u001b[0m \u001b[1;33m\u001b[0m\u001b[0m\n",
      "\u001b[1;31mKeyboardInterrupt\u001b[0m: "
     ]
    }
   ],
   "source": [
    "train_df.to_csv(\"train_eda.csv\")"
   ]
  },
  {
   "cell_type": "markdown",
   "metadata": {},
   "source": [
    "### 주요 변수로 생각되는 것\n",
    "1. passenger num\n",
    "2. date (month, year)\n",
    "3. time\n",
    "4. week (요일)\n",
    "5. distance"
   ]
  },
  {
   "cell_type": "code",
   "execution_count": null,
   "metadata": {},
   "outputs": [],
   "source": [
    "train_df = pd.read_csv('train_eda.csv')"
   ]
  },
  {
   "cell_type": "code",
   "execution_count": 46,
   "metadata": {},
   "outputs": [],
   "source": [
    "train = train_df"
   ]
  },
  {
   "cell_type": "code",
   "execution_count": 48,
   "metadata": {},
   "outputs": [
    {
     "data": {
      "text/html": [
       "<div>\n",
       "<style scoped>\n",
       "    .dataframe tbody tr th:only-of-type {\n",
       "        vertical-align: middle;\n",
       "    }\n",
       "\n",
       "    .dataframe tbody tr th {\n",
       "        vertical-align: top;\n",
       "    }\n",
       "\n",
       "    .dataframe thead th {\n",
       "        text-align: right;\n",
       "    }\n",
       "</style>\n",
       "<table border=\"1\" class=\"dataframe\">\n",
       "  <thead>\n",
       "    <tr style=\"text-align: right;\">\n",
       "      <th></th>\n",
       "      <th>Unnamed: 0</th>\n",
       "      <th>key</th>\n",
       "      <th>fare_amount</th>\n",
       "      <th>pickup_datetime</th>\n",
       "      <th>pickup_longitude</th>\n",
       "      <th>pickup_latitude</th>\n",
       "      <th>dropoff_longitude</th>\n",
       "      <th>dropoff_latitude</th>\n",
       "      <th>passenger_count</th>\n",
       "    </tr>\n",
       "  </thead>\n",
       "  <tbody>\n",
       "    <tr>\n",
       "      <th>0</th>\n",
       "      <td>0</td>\n",
       "      <td>2009-06-15 17:26:21.0000001</td>\n",
       "      <td>4.50000</td>\n",
       "      <td>2009-06-15 17:26:21 UTC</td>\n",
       "      <td>-73.84431</td>\n",
       "      <td>40.72132</td>\n",
       "      <td>-73.84161</td>\n",
       "      <td>40.71228</td>\n",
       "      <td>1</td>\n",
       "    </tr>\n",
       "    <tr>\n",
       "      <th>1</th>\n",
       "      <td>1</td>\n",
       "      <td>2010-01-05 16:52:16.0000002</td>\n",
       "      <td>16.90000</td>\n",
       "      <td>2010-01-05 16:52:16 UTC</td>\n",
       "      <td>-74.01605</td>\n",
       "      <td>40.71130</td>\n",
       "      <td>-73.97927</td>\n",
       "      <td>40.78200</td>\n",
       "      <td>1</td>\n",
       "    </tr>\n",
       "    <tr>\n",
       "      <th>2</th>\n",
       "      <td>2</td>\n",
       "      <td>2011-08-18 00:35:00.00000049</td>\n",
       "      <td>5.70000</td>\n",
       "      <td>2011-08-18 00:35:00 UTC</td>\n",
       "      <td>-73.98274</td>\n",
       "      <td>40.76127</td>\n",
       "      <td>-73.99124</td>\n",
       "      <td>40.75056</td>\n",
       "      <td>2</td>\n",
       "    </tr>\n",
       "    <tr>\n",
       "      <th>3</th>\n",
       "      <td>3</td>\n",
       "      <td>2012-04-21 04:30:42.0000001</td>\n",
       "      <td>7.70000</td>\n",
       "      <td>2012-04-21 04:30:42 UTC</td>\n",
       "      <td>-73.98713</td>\n",
       "      <td>40.73314</td>\n",
       "      <td>-73.99157</td>\n",
       "      <td>40.75809</td>\n",
       "      <td>1</td>\n",
       "    </tr>\n",
       "    <tr>\n",
       "      <th>4</th>\n",
       "      <td>4</td>\n",
       "      <td>2010-03-09 07:51:00.000000135</td>\n",
       "      <td>5.30000</td>\n",
       "      <td>2010-03-09 07:51:00 UTC</td>\n",
       "      <td>-73.96809</td>\n",
       "      <td>40.76801</td>\n",
       "      <td>-73.95665</td>\n",
       "      <td>40.78376</td>\n",
       "      <td>1</td>\n",
       "    </tr>\n",
       "    <tr>\n",
       "      <th>...</th>\n",
       "      <td>...</td>\n",
       "      <td>...</td>\n",
       "      <td>...</td>\n",
       "      <td>...</td>\n",
       "      <td>...</td>\n",
       "      <td>...</td>\n",
       "      <td>...</td>\n",
       "      <td>...</td>\n",
       "      <td>...</td>\n",
       "    </tr>\n",
       "    <tr>\n",
       "      <th>55423475</th>\n",
       "      <td>55423851</td>\n",
       "      <td>2014-03-15 03:28:00.00000070</td>\n",
       "      <td>14.00000</td>\n",
       "      <td>2014-03-15 03:28:00 UTC</td>\n",
       "      <td>-74.00527</td>\n",
       "      <td>40.74003</td>\n",
       "      <td>-73.96328</td>\n",
       "      <td>40.76255</td>\n",
       "      <td>1</td>\n",
       "    </tr>\n",
       "    <tr>\n",
       "      <th>55423476</th>\n",
       "      <td>55423852</td>\n",
       "      <td>2009-03-24 20:46:20.0000002</td>\n",
       "      <td>4.20000</td>\n",
       "      <td>2009-03-24 20:46:20 UTC</td>\n",
       "      <td>-73.95778</td>\n",
       "      <td>40.76553</td>\n",
       "      <td>-73.95164</td>\n",
       "      <td>40.77396</td>\n",
       "      <td>1</td>\n",
       "    </tr>\n",
       "    <tr>\n",
       "      <th>55423477</th>\n",
       "      <td>55423853</td>\n",
       "      <td>2011-04-02 22:04:24.0000004</td>\n",
       "      <td>14.10000</td>\n",
       "      <td>2011-04-02 22:04:24 UTC</td>\n",
       "      <td>-73.97051</td>\n",
       "      <td>40.75232</td>\n",
       "      <td>-73.96054</td>\n",
       "      <td>40.79734</td>\n",
       "      <td>1</td>\n",
       "    </tr>\n",
       "    <tr>\n",
       "      <th>55423478</th>\n",
       "      <td>55423854</td>\n",
       "      <td>2011-10-26 05:57:51.0000002</td>\n",
       "      <td>28.90000</td>\n",
       "      <td>2011-10-26 05:57:51 UTC</td>\n",
       "      <td>-73.98090</td>\n",
       "      <td>40.76463</td>\n",
       "      <td>-73.87060</td>\n",
       "      <td>40.77396</td>\n",
       "      <td>1</td>\n",
       "    </tr>\n",
       "    <tr>\n",
       "      <th>55423479</th>\n",
       "      <td>55423855</td>\n",
       "      <td>2014-12-12 11:33:00.00000015</td>\n",
       "      <td>7.50000</td>\n",
       "      <td>2014-12-12 11:33:00 UTC</td>\n",
       "      <td>-73.96972</td>\n",
       "      <td>40.79767</td>\n",
       "      <td>-73.97088</td>\n",
       "      <td>40.78331</td>\n",
       "      <td>1</td>\n",
       "    </tr>\n",
       "  </tbody>\n",
       "</table>\n",
       "<p>55418213 rows × 9 columns</p>\n",
       "</div>"
      ],
      "text/plain": [
       "          Unnamed: 0                            key  fare_amount  \\\n",
       "0                  0    2009-06-15 17:26:21.0000001      4.50000   \n",
       "1                  1    2010-01-05 16:52:16.0000002     16.90000   \n",
       "2                  2   2011-08-18 00:35:00.00000049      5.70000   \n",
       "3                  3    2012-04-21 04:30:42.0000001      7.70000   \n",
       "4                  4  2010-03-09 07:51:00.000000135      5.30000   \n",
       "...              ...                            ...          ...   \n",
       "55423475    55423851   2014-03-15 03:28:00.00000070     14.00000   \n",
       "55423476    55423852    2009-03-24 20:46:20.0000002      4.20000   \n",
       "55423477    55423853    2011-04-02 22:04:24.0000004     14.10000   \n",
       "55423478    55423854    2011-10-26 05:57:51.0000002     28.90000   \n",
       "55423479    55423855   2014-12-12 11:33:00.00000015      7.50000   \n",
       "\n",
       "                  pickup_datetime  pickup_longitude  pickup_latitude  \\\n",
       "0         2009-06-15 17:26:21 UTC         -73.84431         40.72132   \n",
       "1         2010-01-05 16:52:16 UTC         -74.01605         40.71130   \n",
       "2         2011-08-18 00:35:00 UTC         -73.98274         40.76127   \n",
       "3         2012-04-21 04:30:42 UTC         -73.98713         40.73314   \n",
       "4         2010-03-09 07:51:00 UTC         -73.96809         40.76801   \n",
       "...                           ...               ...              ...   \n",
       "55423475  2014-03-15 03:28:00 UTC         -74.00527         40.74003   \n",
       "55423476  2009-03-24 20:46:20 UTC         -73.95778         40.76553   \n",
       "55423477  2011-04-02 22:04:24 UTC         -73.97051         40.75232   \n",
       "55423478  2011-10-26 05:57:51 UTC         -73.98090         40.76463   \n",
       "55423479  2014-12-12 11:33:00 UTC         -73.96972         40.79767   \n",
       "\n",
       "          dropoff_longitude  dropoff_latitude  passenger_count  \n",
       "0                 -73.84161          40.71228                1  \n",
       "1                 -73.97927          40.78200                1  \n",
       "2                 -73.99124          40.75056                2  \n",
       "3                 -73.99157          40.75809                1  \n",
       "4                 -73.95665          40.78376                1  \n",
       "...                     ...               ...              ...  \n",
       "55423475          -73.96328          40.76255                1  \n",
       "55423476          -73.95164          40.77396                1  \n",
       "55423477          -73.96054          40.79734                1  \n",
       "55423478          -73.87060          40.77396                1  \n",
       "55423479          -73.97088          40.78331                1  \n",
       "\n",
       "[55418213 rows x 9 columns]"
      ]
     },
     "execution_count": 48,
     "metadata": {},
     "output_type": "execute_result"
    }
   ],
   "source": [
    "train"
   ]
  },
  {
   "cell_type": "code",
   "execution_count": 57,
   "metadata": {},
   "outputs": [
    {
     "ename": "KeyboardInterrupt",
     "evalue": "",
     "output_type": "error",
     "traceback": [
      "\u001b[1;31m---------------------------------------------------------------------------\u001b[0m",
      "\u001b[1;31mKeyboardInterrupt\u001b[0m                         Traceback (most recent call last)",
      "\u001b[1;32m<ipython-input-57-408edc5d817d>\u001b[0m in \u001b[0;36m<module>\u001b[1;34m\u001b[0m\n\u001b[1;32m----> 1\u001b[1;33m \u001b[0mtrain\u001b[0m\u001b[1;33m[\u001b[0m\u001b[1;34m'datetime'\u001b[0m\u001b[1;33m]\u001b[0m \u001b[1;33m=\u001b[0m \u001b[0mpd\u001b[0m\u001b[1;33m.\u001b[0m\u001b[0mto_datetime\u001b[0m\u001b[1;33m(\u001b[0m\u001b[0mtrain\u001b[0m\u001b[1;33m[\u001b[0m\u001b[1;34m'pickup_datetime'\u001b[0m\u001b[1;33m]\u001b[0m\u001b[1;33m)\u001b[0m\u001b[1;33m\u001b[0m\u001b[1;33m\u001b[0m\u001b[0m\n\u001b[0m",
      "\u001b[1;32m~\\anaconda3\\lib\\site-packages\\pandas\\core\\tools\\datetimes.py\u001b[0m in \u001b[0;36mto_datetime\u001b[1;34m(arg, errors, dayfirst, yearfirst, utc, format, exact, unit, infer_datetime_format, origin, cache)\u001b[0m\n\u001b[0;32m    726\u001b[0m             \u001b[0mresult\u001b[0m \u001b[1;33m=\u001b[0m \u001b[0marg\u001b[0m\u001b[1;33m.\u001b[0m\u001b[0mmap\u001b[0m\u001b[1;33m(\u001b[0m\u001b[0mcache_array\u001b[0m\u001b[1;33m)\u001b[0m\u001b[1;33m\u001b[0m\u001b[1;33m\u001b[0m\u001b[0m\n\u001b[0;32m    727\u001b[0m         \u001b[1;32melse\u001b[0m\u001b[1;33m:\u001b[0m\u001b[1;33m\u001b[0m\u001b[1;33m\u001b[0m\u001b[0m\n\u001b[1;32m--> 728\u001b[1;33m             \u001b[0mvalues\u001b[0m \u001b[1;33m=\u001b[0m \u001b[0mconvert_listlike\u001b[0m\u001b[1;33m(\u001b[0m\u001b[0marg\u001b[0m\u001b[1;33m.\u001b[0m\u001b[0m_values\u001b[0m\u001b[1;33m,\u001b[0m \u001b[0mformat\u001b[0m\u001b[1;33m)\u001b[0m\u001b[1;33m\u001b[0m\u001b[1;33m\u001b[0m\u001b[0m\n\u001b[0m\u001b[0;32m    729\u001b[0m             \u001b[0mresult\u001b[0m \u001b[1;33m=\u001b[0m \u001b[0marg\u001b[0m\u001b[1;33m.\u001b[0m\u001b[0m_constructor\u001b[0m\u001b[1;33m(\u001b[0m\u001b[0mvalues\u001b[0m\u001b[1;33m,\u001b[0m \u001b[0mindex\u001b[0m\u001b[1;33m=\u001b[0m\u001b[0marg\u001b[0m\u001b[1;33m.\u001b[0m\u001b[0mindex\u001b[0m\u001b[1;33m,\u001b[0m \u001b[0mname\u001b[0m\u001b[1;33m=\u001b[0m\u001b[0marg\u001b[0m\u001b[1;33m.\u001b[0m\u001b[0mname\u001b[0m\u001b[1;33m)\u001b[0m\u001b[1;33m\u001b[0m\u001b[1;33m\u001b[0m\u001b[0m\n\u001b[0;32m    730\u001b[0m     \u001b[1;32melif\u001b[0m \u001b[0misinstance\u001b[0m\u001b[1;33m(\u001b[0m\u001b[0marg\u001b[0m\u001b[1;33m,\u001b[0m \u001b[1;33m(\u001b[0m\u001b[0mABCDataFrame\u001b[0m\u001b[1;33m,\u001b[0m \u001b[0mabc\u001b[0m\u001b[1;33m.\u001b[0m\u001b[0mMutableMapping\u001b[0m\u001b[1;33m)\u001b[0m\u001b[1;33m)\u001b[0m\u001b[1;33m:\u001b[0m\u001b[1;33m\u001b[0m\u001b[1;33m\u001b[0m\u001b[0m\n",
      "\u001b[1;32m~\\anaconda3\\lib\\site-packages\\pandas\\core\\tools\\datetimes.py\u001b[0m in \u001b[0;36m_convert_listlike_datetimes\u001b[1;34m(arg, format, name, tz, unit, errors, infer_datetime_format, dayfirst, yearfirst, exact)\u001b[0m\n\u001b[0;32m    438\u001b[0m         \u001b[1;32massert\u001b[0m \u001b[0mformat\u001b[0m \u001b[1;32mis\u001b[0m \u001b[1;32mNone\u001b[0m \u001b[1;32mor\u001b[0m \u001b[0minfer_datetime_format\u001b[0m\u001b[1;33m\u001b[0m\u001b[1;33m\u001b[0m\u001b[0m\n\u001b[0;32m    439\u001b[0m         \u001b[0mutc\u001b[0m \u001b[1;33m=\u001b[0m \u001b[0mtz\u001b[0m \u001b[1;33m==\u001b[0m \u001b[1;34m\"utc\"\u001b[0m\u001b[1;33m\u001b[0m\u001b[1;33m\u001b[0m\u001b[0m\n\u001b[1;32m--> 440\u001b[1;33m         result, tz_parsed = objects_to_datetime64ns(\n\u001b[0m\u001b[0;32m    441\u001b[0m             \u001b[0marg\u001b[0m\u001b[1;33m,\u001b[0m\u001b[1;33m\u001b[0m\u001b[1;33m\u001b[0m\u001b[0m\n\u001b[0;32m    442\u001b[0m             \u001b[0mdayfirst\u001b[0m\u001b[1;33m=\u001b[0m\u001b[0mdayfirst\u001b[0m\u001b[1;33m,\u001b[0m\u001b[1;33m\u001b[0m\u001b[1;33m\u001b[0m\u001b[0m\n",
      "\u001b[1;32m~\\anaconda3\\lib\\site-packages\\pandas\\core\\arrays\\datetimes.py\u001b[0m in \u001b[0;36mobjects_to_datetime64ns\u001b[1;34m(data, dayfirst, yearfirst, utc, errors, require_iso8601, allow_object)\u001b[0m\n\u001b[0;32m   1846\u001b[0m \u001b[1;33m\u001b[0m\u001b[0m\n\u001b[0;32m   1847\u001b[0m     \u001b[1;32mtry\u001b[0m\u001b[1;33m:\u001b[0m\u001b[1;33m\u001b[0m\u001b[1;33m\u001b[0m\u001b[0m\n\u001b[1;32m-> 1848\u001b[1;33m         result, tz_parsed = tslib.array_to_datetime(\n\u001b[0m\u001b[0;32m   1849\u001b[0m             \u001b[0mdata\u001b[0m\u001b[1;33m,\u001b[0m\u001b[1;33m\u001b[0m\u001b[1;33m\u001b[0m\u001b[0m\n\u001b[0;32m   1850\u001b[0m             \u001b[0merrors\u001b[0m\u001b[1;33m=\u001b[0m\u001b[0merrors\u001b[0m\u001b[1;33m,\u001b[0m\u001b[1;33m\u001b[0m\u001b[1;33m\u001b[0m\u001b[0m\n",
      "\u001b[1;32mpandas\\_libs\\tslib.pyx\u001b[0m in \u001b[0;36mpandas._libs.tslib.array_to_datetime\u001b[1;34m()\u001b[0m\n",
      "\u001b[1;32mpandas\\_libs\\tslib.pyx\u001b[0m in \u001b[0;36mpandas._libs.tslib.array_to_datetime\u001b[1;34m()\u001b[0m\n",
      "\u001b[1;32mpandas\\_libs\\tslibs\\parsing.pyx\u001b[0m in \u001b[0;36mpandas._libs.tslibs.parsing.parse_datetime_string\u001b[1;34m()\u001b[0m\n",
      "\u001b[1;32m~\\anaconda3\\lib\\site-packages\\dateutil\\parser\\_parser.py\u001b[0m in \u001b[0;36mparse\u001b[1;34m(timestr, parserinfo, **kwargs)\u001b[0m\n\u001b[0;32m   1369\u001b[0m         \u001b[0myour\u001b[0m \u001b[0msystem\u001b[0m\u001b[1;33m.\u001b[0m\u001b[1;33m\u001b[0m\u001b[1;33m\u001b[0m\u001b[0m\n\u001b[0;32m   1370\u001b[0m     \"\"\"\n\u001b[1;32m-> 1371\u001b[1;33m     \u001b[1;32mif\u001b[0m \u001b[0mparserinfo\u001b[0m\u001b[1;33m:\u001b[0m\u001b[1;33m\u001b[0m\u001b[1;33m\u001b[0m\u001b[0m\n\u001b[0m\u001b[0;32m   1372\u001b[0m         \u001b[1;32mreturn\u001b[0m \u001b[0mparser\u001b[0m\u001b[1;33m(\u001b[0m\u001b[0mparserinfo\u001b[0m\u001b[1;33m)\u001b[0m\u001b[1;33m.\u001b[0m\u001b[0mparse\u001b[0m\u001b[1;33m(\u001b[0m\u001b[0mtimestr\u001b[0m\u001b[1;33m,\u001b[0m \u001b[1;33m**\u001b[0m\u001b[0mkwargs\u001b[0m\u001b[1;33m)\u001b[0m\u001b[1;33m\u001b[0m\u001b[1;33m\u001b[0m\u001b[0m\n\u001b[0;32m   1373\u001b[0m     \u001b[1;32melse\u001b[0m\u001b[1;33m:\u001b[0m\u001b[1;33m\u001b[0m\u001b[1;33m\u001b[0m\u001b[0m\n",
      "\u001b[1;31mKeyboardInterrupt\u001b[0m: "
     ]
    }
   ],
   "source": [
    "train['datetime'] = pd.to_datetime(train['pickup_datetime'])"
   ]
  },
  {
   "cell_type": "code",
   "execution_count": 47,
   "metadata": {},
   "outputs": [
    {
     "ename": "AttributeError",
     "evalue": "Can only use .dt accessor with datetimelike values",
     "output_type": "error",
     "traceback": [
      "\u001b[1;31m---------------------------------------------------------------------------\u001b[0m",
      "\u001b[1;31mAttributeError\u001b[0m                            Traceback (most recent call last)",
      "\u001b[1;32m<ipython-input-47-a7de6a72e472>\u001b[0m in \u001b[0;36m<module>\u001b[1;34m\u001b[0m\n\u001b[1;32m----> 1\u001b[1;33m \u001b[0mtrain\u001b[0m\u001b[1;33m[\u001b[0m\u001b[1;34m'Year'\u001b[0m\u001b[1;33m]\u001b[0m \u001b[1;33m=\u001b[0m \u001b[0mtrain\u001b[0m\u001b[1;33m[\u001b[0m\u001b[1;34m'pickup_datetime'\u001b[0m\u001b[1;33m]\u001b[0m\u001b[1;33m.\u001b[0m\u001b[0mdt\u001b[0m\u001b[1;33m.\u001b[0m\u001b[0myear\u001b[0m\u001b[1;33m\u001b[0m\u001b[1;33m\u001b[0m\u001b[0m\n\u001b[0m\u001b[0;32m      2\u001b[0m \u001b[0mtrain\u001b[0m\u001b[1;33m[\u001b[0m\u001b[1;34m'Month'\u001b[0m\u001b[1;33m]\u001b[0m \u001b[1;33m=\u001b[0m \u001b[0mtrain\u001b[0m\u001b[1;33m[\u001b[0m\u001b[1;34m'pickup_datetime'\u001b[0m\u001b[1;33m]\u001b[0m\u001b[1;33m.\u001b[0m\u001b[0mdt\u001b[0m\u001b[1;33m.\u001b[0m\u001b[0mmonth\u001b[0m\u001b[1;33m\u001b[0m\u001b[1;33m\u001b[0m\u001b[0m\n\u001b[0;32m      3\u001b[0m \u001b[0mtrain\u001b[0m\u001b[1;33m[\u001b[0m\u001b[1;34m'Date'\u001b[0m\u001b[1;33m]\u001b[0m \u001b[1;33m=\u001b[0m \u001b[0mtrain\u001b[0m\u001b[1;33m[\u001b[0m\u001b[1;34m'pickup_datetime'\u001b[0m\u001b[1;33m]\u001b[0m\u001b[1;33m.\u001b[0m\u001b[0mdt\u001b[0m\u001b[1;33m.\u001b[0m\u001b[0mday\u001b[0m\u001b[1;33m\u001b[0m\u001b[1;33m\u001b[0m\u001b[0m\n\u001b[0;32m      4\u001b[0m \u001b[0mtrain\u001b[0m\u001b[1;33m[\u001b[0m\u001b[1;34m'Day of Week'\u001b[0m\u001b[1;33m]\u001b[0m \u001b[1;33m=\u001b[0m \u001b[0mtrain\u001b[0m\u001b[1;33m[\u001b[0m\u001b[1;34m'pickup_datetime'\u001b[0m\u001b[1;33m]\u001b[0m\u001b[1;33m.\u001b[0m\u001b[0mdt\u001b[0m\u001b[1;33m.\u001b[0m\u001b[0mdayofweek\u001b[0m\u001b[1;33m\u001b[0m\u001b[1;33m\u001b[0m\u001b[0m\n\u001b[0;32m      5\u001b[0m \u001b[0mtrain\u001b[0m\u001b[1;33m[\u001b[0m\u001b[1;34m'Hour'\u001b[0m\u001b[1;33m]\u001b[0m \u001b[1;33m=\u001b[0m \u001b[0mtrain\u001b[0m\u001b[1;33m[\u001b[0m\u001b[1;34m'pickup_datetime'\u001b[0m\u001b[1;33m]\u001b[0m\u001b[1;33m.\u001b[0m\u001b[0mdt\u001b[0m\u001b[1;33m.\u001b[0m\u001b[0mhour\u001b[0m\u001b[1;33m\u001b[0m\u001b[1;33m\u001b[0m\u001b[0m\n",
      "\u001b[1;32m~\\anaconda3\\lib\\site-packages\\pandas\\core\\generic.py\u001b[0m in \u001b[0;36m__getattr__\u001b[1;34m(self, name)\u001b[0m\n\u001b[0;32m   5268\u001b[0m             \u001b[1;32mor\u001b[0m \u001b[0mname\u001b[0m \u001b[1;32min\u001b[0m \u001b[0mself\u001b[0m\u001b[1;33m.\u001b[0m\u001b[0m_accessors\u001b[0m\u001b[1;33m\u001b[0m\u001b[1;33m\u001b[0m\u001b[0m\n\u001b[0;32m   5269\u001b[0m         ):\n\u001b[1;32m-> 5270\u001b[1;33m             \u001b[1;32mreturn\u001b[0m \u001b[0mobject\u001b[0m\u001b[1;33m.\u001b[0m\u001b[0m__getattribute__\u001b[0m\u001b[1;33m(\u001b[0m\u001b[0mself\u001b[0m\u001b[1;33m,\u001b[0m \u001b[0mname\u001b[0m\u001b[1;33m)\u001b[0m\u001b[1;33m\u001b[0m\u001b[1;33m\u001b[0m\u001b[0m\n\u001b[0m\u001b[0;32m   5271\u001b[0m         \u001b[1;32melse\u001b[0m\u001b[1;33m:\u001b[0m\u001b[1;33m\u001b[0m\u001b[1;33m\u001b[0m\u001b[0m\n\u001b[0;32m   5272\u001b[0m             \u001b[1;32mif\u001b[0m \u001b[0mself\u001b[0m\u001b[1;33m.\u001b[0m\u001b[0m_info_axis\u001b[0m\u001b[1;33m.\u001b[0m\u001b[0m_can_hold_identifiers_and_holds_name\u001b[0m\u001b[1;33m(\u001b[0m\u001b[0mname\u001b[0m\u001b[1;33m)\u001b[0m\u001b[1;33m:\u001b[0m\u001b[1;33m\u001b[0m\u001b[1;33m\u001b[0m\u001b[0m\n",
      "\u001b[1;32m~\\anaconda3\\lib\\site-packages\\pandas\\core\\accessor.py\u001b[0m in \u001b[0;36m__get__\u001b[1;34m(self, obj, cls)\u001b[0m\n\u001b[0;32m    185\u001b[0m             \u001b[1;31m# we're accessing the attribute of the class, i.e., Dataset.geo\u001b[0m\u001b[1;33m\u001b[0m\u001b[1;33m\u001b[0m\u001b[1;33m\u001b[0m\u001b[0m\n\u001b[0;32m    186\u001b[0m             \u001b[1;32mreturn\u001b[0m \u001b[0mself\u001b[0m\u001b[1;33m.\u001b[0m\u001b[0m_accessor\u001b[0m\u001b[1;33m\u001b[0m\u001b[1;33m\u001b[0m\u001b[0m\n\u001b[1;32m--> 187\u001b[1;33m         \u001b[0maccessor_obj\u001b[0m \u001b[1;33m=\u001b[0m \u001b[0mself\u001b[0m\u001b[1;33m.\u001b[0m\u001b[0m_accessor\u001b[0m\u001b[1;33m(\u001b[0m\u001b[0mobj\u001b[0m\u001b[1;33m)\u001b[0m\u001b[1;33m\u001b[0m\u001b[1;33m\u001b[0m\u001b[0m\n\u001b[0m\u001b[0;32m    188\u001b[0m         \u001b[1;31m# Replace the property with the accessor object. Inspired by:\u001b[0m\u001b[1;33m\u001b[0m\u001b[1;33m\u001b[0m\u001b[1;33m\u001b[0m\u001b[0m\n\u001b[0;32m    189\u001b[0m         \u001b[1;31m# http://www.pydanny.com/cached-property.html\u001b[0m\u001b[1;33m\u001b[0m\u001b[1;33m\u001b[0m\u001b[1;33m\u001b[0m\u001b[0m\n",
      "\u001b[1;32m~\\anaconda3\\lib\\site-packages\\pandas\\core\\indexes\\accessors.py\u001b[0m in \u001b[0;36m__new__\u001b[1;34m(cls, data)\u001b[0m\n\u001b[0;32m    336\u001b[0m             \u001b[1;32mreturn\u001b[0m \u001b[0mDatetimeProperties\u001b[0m\u001b[1;33m(\u001b[0m\u001b[0mdata\u001b[0m\u001b[1;33m,\u001b[0m \u001b[0morig\u001b[0m\u001b[1;33m)\u001b[0m\u001b[1;33m\u001b[0m\u001b[1;33m\u001b[0m\u001b[0m\n\u001b[0;32m    337\u001b[0m \u001b[1;33m\u001b[0m\u001b[0m\n\u001b[1;32m--> 338\u001b[1;33m         \u001b[1;32mraise\u001b[0m \u001b[0mAttributeError\u001b[0m\u001b[1;33m(\u001b[0m\u001b[1;34m\"Can only use .dt accessor with datetimelike values\"\u001b[0m\u001b[1;33m)\u001b[0m\u001b[1;33m\u001b[0m\u001b[1;33m\u001b[0m\u001b[0m\n\u001b[0m",
      "\u001b[1;31mAttributeError\u001b[0m: Can only use .dt accessor with datetimelike values"
     ]
    }
   ],
   "source": [
    "train['Year'] = train['pickup_datetime'].dt.year\n",
    "train['Month'] = train['pickup_datetime'].dt.month\n",
    "train['Date'] = train['pickup_datetime'].dt.day\n",
    "train['Day of Week'] = train['pickup_datetime'].dt.dayofweek\n",
    "train['Hour'] = train['pickup_datetime'].dt.hour"
   ]
  },
  {
   "cell_type": "code",
   "execution_count": 49,
   "metadata": {},
   "outputs": [
    {
     "name": "stdout",
     "output_type": "stream",
     "text": [
      "<class 'pandas.core.frame.DataFrame'>\n",
      "Int64Index: 55418213 entries, 0 to 55423479\n",
      "Data columns (total 9 columns):\n",
      " #   Column             Dtype  \n",
      "---  ------             -----  \n",
      " 0   Unnamed: 0         int64  \n",
      " 1   key                object \n",
      " 2   fare_amount        float64\n",
      " 3   pickup_datetime    object \n",
      " 4   pickup_longitude   float64\n",
      " 5   pickup_latitude    float64\n",
      " 6   dropoff_longitude  float64\n",
      " 7   dropoff_latitude   float64\n",
      " 8   passenger_count    int64  \n",
      "dtypes: float64(5), int64(2), object(2)\n",
      "memory usage: 4.1+ GB\n"
     ]
    }
   ],
   "source": [
    "train.info()"
   ]
  },
  {
   "cell_type": "markdown",
   "metadata": {},
   "source": [
    "1. passenger num"
   ]
  },
  {
   "cell_type": "code",
   "execution_count": null,
   "metadata": {},
   "outputs": [],
   "source": [
    "plt.figure(figsize=(15,7))\n",
    "plt.hist(train['passenger_count'], bins=15)\n",
    "plt.xlabel('No. of Passengers')\n",
    "plt.ylabel('빈도수')"
   ]
  },
  {
   "cell_type": "code",
   "execution_count": null,
   "metadata": {},
   "outputs": [],
   "source": [
    "#fare_amount에 영향을 줄까 ?\n",
    "\n",
    "plt.figure(figsize=(15,7))\n",
    "plt.scatter(x=train['passenger_count'], y=train['fare_amount'], s=1.5)\n",
    "plt.xlabel('No. of Passengers')\n",
    "plt.ylabel('Fare')"
   ]
  },
  {
   "cell_type": "markdown",
   "metadata": {},
   "source": [
    "2. 날짜요소가 fare_amount에 영향을 줄까 ?"
   ]
  },
  {
   "cell_type": "code",
   "execution_count": null,
   "metadata": {},
   "outputs": [],
   "source": [
    "#날짜 빈도수\n",
    "\n",
    "plt.figure(figsize=(15,7))\n",
    "plt.hist(train['Date'], bins=100)\n",
    "plt.xlabel('Date')\n",
    "plt.ylabel('빈도수')"
   ]
  },
  {
   "cell_type": "code",
   "execution_count": null,
   "metadata": {},
   "outputs": [],
   "source": [
    "# 날짜 - fare_amount\n",
    "plt.figure(figsize=(15,7))\n",
    "plt.scatter(x=train['Date'], y=train['fare_amount'], s=1.5)\n",
    "plt.xlabel('Date')\n",
    "plt.ylabel('Fare')"
   ]
  },
  {
   "cell_type": "code",
   "execution_count": null,
   "metadata": {},
   "outputs": [],
   "source": [
    "# 시간 빈도수\n",
    "plt.figure(figsize=(15,7))\n",
    "plt.hist(train['Hour'], bins=100)\n",
    "plt.xlabel('Hour')\n",
    "plt.ylabel('빈도수')"
   ]
  },
  {
   "cell_type": "code",
   "execution_count": null,
   "metadata": {},
   "outputs": [],
   "source": [
    "# 시간 - fare_amount\n",
    "\n",
    "plt.figure(figsize=(15,7))\n",
    "plt.scatter(x=train['Hour'], y=train['fare_amount'], s=1.5)\n",
    "plt.xlabel('Hour')\n",
    "plt.ylabel('Fare')"
   ]
  },
  {
   "cell_type": "code",
   "execution_count": null,
   "metadata": {},
   "outputs": [],
   "source": [
    "# 요일 빈도수\n",
    "\n",
    "plt.figure(figsize=(15,7))\n",
    "plt.hist(train['Day of Week'], bins=100)\n",
    "plt.xlabel('Day of Week')\n",
    "plt.ylabel('빈도수')"
   ]
  },
  {
   "cell_type": "code",
   "execution_count": null,
   "metadata": {},
   "outputs": [],
   "source": [
    "# 요일 - fare_amount\n",
    "plt.figure(figsize=(15,7))\n",
    "plt.scatter(x=train['Day of Week'], y=train['fare_amount'], s=1.5)\n",
    "plt.xlabel('Day of Week')\n",
    "plt.ylabel('Fare')"
   ]
  },
  {
   "cell_type": "code",
   "execution_count": null,
   "metadata": {},
   "outputs": [],
   "source": [
    "#distance"
   ]
  },
  {
   "attachments": {
    "image.png": {
     "image/png": "[encoded data removed]"
    }
   },
   "cell_type": "markdown",
   "metadata": {},
   "source": [
    "![image.png](attachment:image.png)"
   ]
  },
  {
   "cell_type": "markdown",
   "metadata": {},
   "source": [
    "평일 AM 6 ~ PM 4 <br>\n",
    "평일 PM 4 ~ PM 8 <br>\n",
    "평일 PM 8 ~ AM 6 <br>\n",
    "주말"
   ]
  }
 ],
 "metadata": {
  "kernelspec": {
   "display_name": "Python 3",
   "language": "python",
   "name": "python3"
  },
  "language_info": {
   "codemirror_mode": {
    "name": "ipython",
    "version": 3
   },
   "file_extension": ".py",
   "mimetype": "text/x-python",
   "name": "python",
   "nbconvert_exporter": "python",
   "pygments_lexer": "ipython3",
   "version": "3.8.5"
  }
 },
 "nbformat": 4,
 "nbformat_minor": 4
}
