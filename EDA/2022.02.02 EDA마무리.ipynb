{
 "cells": [
  {
   "cell_type": "code",
   "execution_count": 1,
   "metadata": {},
   "outputs": [],
   "source": [
    "import pandas as pd"
   ]
  },
  {
   "cell_type": "code",
   "execution_count": 21,
   "metadata": {},
   "outputs": [],
   "source": [
    "train_df = pd.read_csv('drop_train.csv',nrows=5_000_000)"
   ]
  },
  {
   "cell_type": "code",
   "execution_count": 22,
   "metadata": {},
   "outputs": [],
   "source": [
    "# 승객수 6명\n",
    "train_df = train_df[train_df['passenger_count']<=6]"
   ]
  },
  {
   "cell_type": "code",
   "execution_count": 5,
   "metadata": {},
   "outputs": [],
   "source": [
    "test = pd.read_csv('test.csv')"
   ]
  },
  {
   "cell_type": "code",
   "execution_count": 10,
   "metadata": {},
   "outputs": [
    {
     "data": {
      "text/html": [
       "<div>\n",
       "<style scoped>\n",
       "    .dataframe tbody tr th:only-of-type {\n",
       "        vertical-align: middle;\n",
       "    }\n",
       "\n",
       "    .dataframe tbody tr th {\n",
       "        vertical-align: top;\n",
       "    }\n",
       "\n",
       "    .dataframe thead th {\n",
       "        text-align: right;\n",
       "    }\n",
       "</style>\n",
       "<table border=\"1\" class=\"dataframe\">\n",
       "  <thead>\n",
       "    <tr style=\"text-align: right;\">\n",
       "      <th></th>\n",
       "      <th>key</th>\n",
       "      <th>pickup_datetime</th>\n",
       "      <th>pickup_longitude</th>\n",
       "      <th>pickup_latitude</th>\n",
       "      <th>dropoff_longitude</th>\n",
       "      <th>dropoff_latitude</th>\n",
       "      <th>passenger_count</th>\n",
       "    </tr>\n",
       "  </thead>\n",
       "  <tbody>\n",
       "  </tbody>\n",
       "</table>\n",
       "</div>"
      ],
      "text/plain": [
       "Empty DataFrame\n",
       "Columns: [key, pickup_datetime, pickup_longitude, pickup_latitude, dropoff_longitude, dropoff_latitude, passenger_count]\n",
       "Index: []"
      ]
     },
     "execution_count": 10,
     "metadata": {},
     "output_type": "execute_result"
    }
   ],
   "source": [
    "test[test['pickup_latitude']>180]\n",
    "# test에서는 상식적인 위도 경도 선을 벗어나는 데이터 x --> train에서 위도 -90~90, 경도 -180~180"
   ]
  },
  {
   "cell_type": "code",
   "execution_count": 23,
   "metadata": {},
   "outputs": [],
   "source": [
    "# 위도, 경도 이상치 제거\n",
    "train_df = train_df.drop((train_df[train_df['pickup_latitude']<-90]).index, axis=0)\n",
    "train_df = train_df.drop((train_df[train_df['pickup_latitude']>90]).index, axis=0)"
   ]
  },
  {
   "cell_type": "code",
   "execution_count": 25,
   "metadata": {},
   "outputs": [],
   "source": [
    "train_df = train_df.drop((train_df[train_df['dropoff_latitude']<-90]).index, axis=0)\n",
    "train_df = train_df.drop((train_df[train_df['dropoff_latitude']>90]).index, axis=0)\n",
    "train_df = train_df.drop((train_df[train_df['pickup_longitude']<-180]).index, axis=0)\n",
    "train_df = train_df.drop((train_df[train_df['pickup_longitude']>180]).index, axis=0)\n",
    "train_df = train_df.drop((train_df[train_df['dropoff_longitude']<-180]).index, axis=0)\n",
    "train_df = train_df.drop((train_df[train_df['dropoff_longitude']>180]).index, axis=0)"
   ]
  },
  {
   "cell_type": "code",
   "execution_count": null,
   "metadata": {},
   "outputs": [],
   "source": [
    "#경도는 0 이상이면 x, 위도는 0이하이면 x\n",
    "#오앗 ~ 최고 ~"
   ]
  },
  {
   "cell_type": "code",
   "execution_count": 32,
   "metadata": {},
   "outputs": [],
   "source": [
    "# 위도, 경도 이상치 제거\n",
    "train_df = train_df.drop((train_df[train_df['pickup_latitude']<=0]).index, axis=0)\n",
    "train_df = train_df.drop((train_df[train_df['dropoff_latitude']<=0]).index, axis=0)\n",
    "\n",
    "train_df = train_df.drop((train_df[train_df['pickup_longitude']>=0]).index, axis=0)\n",
    "train_df = train_df.drop((train_df[train_df['dropoff_longitude']>=0]).index, axis=0)"
   ]
  },
  {
   "cell_type": "code",
   "execution_count": 33,
   "metadata": {
    "scrolled": true
   },
   "outputs": [
    {
     "data": {
      "text/html": [
       "<div>\n",
       "<style scoped>\n",
       "    .dataframe tbody tr th:only-of-type {\n",
       "        vertical-align: middle;\n",
       "    }\n",
       "\n",
       "    .dataframe tbody tr th {\n",
       "        vertical-align: top;\n",
       "    }\n",
       "\n",
       "    .dataframe thead th {\n",
       "        text-align: right;\n",
       "    }\n",
       "</style>\n",
       "<table border=\"1\" class=\"dataframe\">\n",
       "  <thead>\n",
       "    <tr style=\"text-align: right;\">\n",
       "      <th></th>\n",
       "      <th>Unnamed: 0</th>\n",
       "      <th>key</th>\n",
       "      <th>fare_amount</th>\n",
       "      <th>pickup_datetime</th>\n",
       "      <th>pickup_longitude</th>\n",
       "      <th>pickup_latitude</th>\n",
       "      <th>dropoff_longitude</th>\n",
       "      <th>dropoff_latitude</th>\n",
       "      <th>passenger_count</th>\n",
       "    </tr>\n",
       "  </thead>\n",
       "  <tbody>\n",
       "    <tr>\n",
       "      <th>0</th>\n",
       "      <td>0</td>\n",
       "      <td>2009-06-15 17:26:21.0000001</td>\n",
       "      <td>4.5</td>\n",
       "      <td>2009-06-15 17:26:21 UTC</td>\n",
       "      <td>-73.844311</td>\n",
       "      <td>40.721319</td>\n",
       "      <td>-73.841610</td>\n",
       "      <td>40.712278</td>\n",
       "      <td>1</td>\n",
       "    </tr>\n",
       "    <tr>\n",
       "      <th>1</th>\n",
       "      <td>1</td>\n",
       "      <td>2010-01-05 16:52:16.0000002</td>\n",
       "      <td>16.9</td>\n",
       "      <td>2010-01-05 16:52:16 UTC</td>\n",
       "      <td>-74.016048</td>\n",
       "      <td>40.711303</td>\n",
       "      <td>-73.979268</td>\n",
       "      <td>40.782004</td>\n",
       "      <td>1</td>\n",
       "    </tr>\n",
       "    <tr>\n",
       "      <th>2</th>\n",
       "      <td>2</td>\n",
       "      <td>2011-08-18 00:35:00.00000049</td>\n",
       "      <td>5.7</td>\n",
       "      <td>2011-08-18 00:35:00 UTC</td>\n",
       "      <td>-73.982738</td>\n",
       "      <td>40.761270</td>\n",
       "      <td>-73.991242</td>\n",
       "      <td>40.750562</td>\n",
       "      <td>2</td>\n",
       "    </tr>\n",
       "    <tr>\n",
       "      <th>3</th>\n",
       "      <td>3</td>\n",
       "      <td>2012-04-21 04:30:42.0000001</td>\n",
       "      <td>7.7</td>\n",
       "      <td>2012-04-21 04:30:42 UTC</td>\n",
       "      <td>-73.987130</td>\n",
       "      <td>40.733143</td>\n",
       "      <td>-73.991567</td>\n",
       "      <td>40.758092</td>\n",
       "      <td>1</td>\n",
       "    </tr>\n",
       "    <tr>\n",
       "      <th>4</th>\n",
       "      <td>4</td>\n",
       "      <td>2010-03-09 07:51:00.000000135</td>\n",
       "      <td>5.3</td>\n",
       "      <td>2010-03-09 07:51:00 UTC</td>\n",
       "      <td>-73.968095</td>\n",
       "      <td>40.768008</td>\n",
       "      <td>-73.956655</td>\n",
       "      <td>40.783762</td>\n",
       "      <td>1</td>\n",
       "    </tr>\n",
       "    <tr>\n",
       "      <th>...</th>\n",
       "      <td>...</td>\n",
       "      <td>...</td>\n",
       "      <td>...</td>\n",
       "      <td>...</td>\n",
       "      <td>...</td>\n",
       "      <td>...</td>\n",
       "      <td>...</td>\n",
       "      <td>...</td>\n",
       "      <td>...</td>\n",
       "    </tr>\n",
       "    <tr>\n",
       "      <th>4999995</th>\n",
       "      <td>5000031</td>\n",
       "      <td>2013-03-23 12:10:56.0000001</td>\n",
       "      <td>15.0</td>\n",
       "      <td>2013-03-23 12:10:56 UTC</td>\n",
       "      <td>-74.000049</td>\n",
       "      <td>40.732998</td>\n",
       "      <td>-73.953992</td>\n",
       "      <td>40.766921</td>\n",
       "      <td>1</td>\n",
       "    </tr>\n",
       "    <tr>\n",
       "      <th>4999996</th>\n",
       "      <td>5000032</td>\n",
       "      <td>2013-02-10 18:26:06.0000002</td>\n",
       "      <td>7.5</td>\n",
       "      <td>2013-02-10 18:26:06 UTC</td>\n",
       "      <td>-73.966006</td>\n",
       "      <td>40.762430</td>\n",
       "      <td>-73.980664</td>\n",
       "      <td>40.764354</td>\n",
       "      <td>1</td>\n",
       "    </tr>\n",
       "    <tr>\n",
       "      <th>4999997</th>\n",
       "      <td>5000033</td>\n",
       "      <td>2015-05-25 22:32:49.0000004</td>\n",
       "      <td>7.5</td>\n",
       "      <td>2015-05-25 22:32:49 UTC</td>\n",
       "      <td>-74.004662</td>\n",
       "      <td>40.742188</td>\n",
       "      <td>-73.989403</td>\n",
       "      <td>40.729233</td>\n",
       "      <td>1</td>\n",
       "    </tr>\n",
       "    <tr>\n",
       "      <th>4999998</th>\n",
       "      <td>5000034</td>\n",
       "      <td>2010-02-16 18:37:00.00000055</td>\n",
       "      <td>10.5</td>\n",
       "      <td>2010-02-16 18:37:00 UTC</td>\n",
       "      <td>-74.003178</td>\n",
       "      <td>40.732828</td>\n",
       "      <td>-73.977775</td>\n",
       "      <td>40.749392</td>\n",
       "      <td>1</td>\n",
       "    </tr>\n",
       "    <tr>\n",
       "      <th>4999999</th>\n",
       "      <td>5000035</td>\n",
       "      <td>2012-01-19 11:08:00.00000047</td>\n",
       "      <td>4.9</td>\n",
       "      <td>2012-01-19 11:08:00 UTC</td>\n",
       "      <td>-73.983017</td>\n",
       "      <td>40.755485</td>\n",
       "      <td>-73.977965</td>\n",
       "      <td>40.751257</td>\n",
       "      <td>1</td>\n",
       "    </tr>\n",
       "  </tbody>\n",
       "</table>\n",
       "<p>4897309 rows × 9 columns</p>\n",
       "</div>"
      ],
      "text/plain": [
       "         Unnamed: 0                            key  fare_amount  \\\n",
       "0                 0    2009-06-15 17:26:21.0000001          4.5   \n",
       "1                 1    2010-01-05 16:52:16.0000002         16.9   \n",
       "2                 2   2011-08-18 00:35:00.00000049          5.7   \n",
       "3                 3    2012-04-21 04:30:42.0000001          7.7   \n",
       "4                 4  2010-03-09 07:51:00.000000135          5.3   \n",
       "...             ...                            ...          ...   \n",
       "4999995     5000031    2013-03-23 12:10:56.0000001         15.0   \n",
       "4999996     5000032    2013-02-10 18:26:06.0000002          7.5   \n",
       "4999997     5000033    2015-05-25 22:32:49.0000004          7.5   \n",
       "4999998     5000034   2010-02-16 18:37:00.00000055         10.5   \n",
       "4999999     5000035   2012-01-19 11:08:00.00000047          4.9   \n",
       "\n",
       "                 pickup_datetime  pickup_longitude  pickup_latitude  \\\n",
       "0        2009-06-15 17:26:21 UTC        -73.844311        40.721319   \n",
       "1        2010-01-05 16:52:16 UTC        -74.016048        40.711303   \n",
       "2        2011-08-18 00:35:00 UTC        -73.982738        40.761270   \n",
       "3        2012-04-21 04:30:42 UTC        -73.987130        40.733143   \n",
       "4        2010-03-09 07:51:00 UTC        -73.968095        40.768008   \n",
       "...                          ...               ...              ...   \n",
       "4999995  2013-03-23 12:10:56 UTC        -74.000049        40.732998   \n",
       "4999996  2013-02-10 18:26:06 UTC        -73.966006        40.762430   \n",
       "4999997  2015-05-25 22:32:49 UTC        -74.004662        40.742188   \n",
       "4999998  2010-02-16 18:37:00 UTC        -74.003178        40.732828   \n",
       "4999999  2012-01-19 11:08:00 UTC        -73.983017        40.755485   \n",
       "\n",
       "         dropoff_longitude  dropoff_latitude  passenger_count  \n",
       "0               -73.841610         40.712278                1  \n",
       "1               -73.979268         40.782004                1  \n",
       "2               -73.991242         40.750562                2  \n",
       "3               -73.991567         40.758092                1  \n",
       "4               -73.956655         40.783762                1  \n",
       "...                    ...               ...              ...  \n",
       "4999995         -73.953992         40.766921                1  \n",
       "4999996         -73.980664         40.764354                1  \n",
       "4999997         -73.989403         40.729233                1  \n",
       "4999998         -73.977775         40.749392                1  \n",
       "4999999         -73.977965         40.751257                1  \n",
       "\n",
       "[4897309 rows x 9 columns]"
      ]
     },
     "execution_count": 33,
     "metadata": {},
     "output_type": "execute_result"
    }
   ],
   "source": [
    "train_df"
   ]
  },
  {
   "cell_type": "code",
   "execution_count": 40,
   "metadata": {},
   "outputs": [
    {
     "data": {
      "text/plain": [
       "(4897309, 9)"
      ]
     },
     "execution_count": 40,
     "metadata": {},
     "output_type": "execute_result"
    }
   ],
   "source": [
    "train_df.shape"
   ]
  },
  {
   "cell_type": "code",
   "execution_count": 45,
   "metadata": {},
   "outputs": [],
   "source": [
    "train_df2 = train_df"
   ]
  },
  {
   "cell_type": "code",
   "execution_count": 42,
   "metadata": {},
   "outputs": [
    {
     "data": {
      "text/plain": [
       "(4897309, 9)"
      ]
     },
     "execution_count": 42,
     "metadata": {},
     "output_type": "execute_result"
    }
   ],
   "source": [
    "train_df2.shape"
   ]
  },
  {
   "attachments": {
    "image.png": {
     "image/png": "[encoded data removed]"
    }
   },
   "cell_type": "markdown",
   "metadata": {},
   "source": [
    "![image.png](attachment:image.png)"
   ]
  },
  {
   "cell_type": "code",
   "execution_count": 36,
   "metadata": {},
   "outputs": [
    {
     "data": {
      "text/html": [
       "<div>\n",
       "<style scoped>\n",
       "    .dataframe tbody tr th:only-of-type {\n",
       "        vertical-align: middle;\n",
       "    }\n",
       "\n",
       "    .dataframe tbody tr th {\n",
       "        vertical-align: top;\n",
       "    }\n",
       "\n",
       "    .dataframe thead th {\n",
       "        text-align: right;\n",
       "    }\n",
       "</style>\n",
       "<table border=\"1\" class=\"dataframe\">\n",
       "  <thead>\n",
       "    <tr style=\"text-align: right;\">\n",
       "      <th></th>\n",
       "      <th>Unnamed: 0</th>\n",
       "      <th>key</th>\n",
       "      <th>fare_amount</th>\n",
       "      <th>pickup_datetime</th>\n",
       "      <th>pickup_longitude</th>\n",
       "      <th>pickup_latitude</th>\n",
       "      <th>dropoff_longitude</th>\n",
       "      <th>dropoff_latitude</th>\n",
       "      <th>passenger_count</th>\n",
       "    </tr>\n",
       "  </thead>\n",
       "  <tbody>\n",
       "    <tr>\n",
       "      <th>0</th>\n",
       "      <td>0</td>\n",
       "      <td>2009-06-15 17:26:21.0000001</td>\n",
       "      <td>4.5</td>\n",
       "      <td>2009-06-15 17:26:21 UTC</td>\n",
       "      <td>-73.844311</td>\n",
       "      <td>40.721319</td>\n",
       "      <td>-73.841610</td>\n",
       "      <td>40.712278</td>\n",
       "      <td>1</td>\n",
       "    </tr>\n",
       "    <tr>\n",
       "      <th>1</th>\n",
       "      <td>1</td>\n",
       "      <td>2010-01-05 16:52:16.0000002</td>\n",
       "      <td>16.9</td>\n",
       "      <td>2010-01-05 16:52:16 UTC</td>\n",
       "      <td>-74.016048</td>\n",
       "      <td>40.711303</td>\n",
       "      <td>-73.979268</td>\n",
       "      <td>40.782004</td>\n",
       "      <td>1</td>\n",
       "    </tr>\n",
       "    <tr>\n",
       "      <th>2</th>\n",
       "      <td>2</td>\n",
       "      <td>2011-08-18 00:35:00.00000049</td>\n",
       "      <td>5.7</td>\n",
       "      <td>2011-08-18 00:35:00 UTC</td>\n",
       "      <td>-73.982738</td>\n",
       "      <td>40.761270</td>\n",
       "      <td>-73.991242</td>\n",
       "      <td>40.750562</td>\n",
       "      <td>2</td>\n",
       "    </tr>\n",
       "    <tr>\n",
       "      <th>3</th>\n",
       "      <td>3</td>\n",
       "      <td>2012-04-21 04:30:42.0000001</td>\n",
       "      <td>7.7</td>\n",
       "      <td>2012-04-21 04:30:42 UTC</td>\n",
       "      <td>-73.987130</td>\n",
       "      <td>40.733143</td>\n",
       "      <td>-73.991567</td>\n",
       "      <td>40.758092</td>\n",
       "      <td>1</td>\n",
       "    </tr>\n",
       "    <tr>\n",
       "      <th>4</th>\n",
       "      <td>4</td>\n",
       "      <td>2010-03-09 07:51:00.000000135</td>\n",
       "      <td>5.3</td>\n",
       "      <td>2010-03-09 07:51:00 UTC</td>\n",
       "      <td>-73.968095</td>\n",
       "      <td>40.768008</td>\n",
       "      <td>-73.956655</td>\n",
       "      <td>40.783762</td>\n",
       "      <td>1</td>\n",
       "    </tr>\n",
       "    <tr>\n",
       "      <th>...</th>\n",
       "      <td>...</td>\n",
       "      <td>...</td>\n",
       "      <td>...</td>\n",
       "      <td>...</td>\n",
       "      <td>...</td>\n",
       "      <td>...</td>\n",
       "      <td>...</td>\n",
       "      <td>...</td>\n",
       "      <td>...</td>\n",
       "    </tr>\n",
       "    <tr>\n",
       "      <th>4999995</th>\n",
       "      <td>5000031</td>\n",
       "      <td>2013-03-23 12:10:56.0000001</td>\n",
       "      <td>15.0</td>\n",
       "      <td>2013-03-23 12:10:56 UTC</td>\n",
       "      <td>-74.000049</td>\n",
       "      <td>40.732998</td>\n",
       "      <td>-73.953992</td>\n",
       "      <td>40.766921</td>\n",
       "      <td>1</td>\n",
       "    </tr>\n",
       "    <tr>\n",
       "      <th>4999996</th>\n",
       "      <td>5000032</td>\n",
       "      <td>2013-02-10 18:26:06.0000002</td>\n",
       "      <td>7.5</td>\n",
       "      <td>2013-02-10 18:26:06 UTC</td>\n",
       "      <td>-73.966006</td>\n",
       "      <td>40.762430</td>\n",
       "      <td>-73.980664</td>\n",
       "      <td>40.764354</td>\n",
       "      <td>1</td>\n",
       "    </tr>\n",
       "    <tr>\n",
       "      <th>4999997</th>\n",
       "      <td>5000033</td>\n",
       "      <td>2015-05-25 22:32:49.0000004</td>\n",
       "      <td>7.5</td>\n",
       "      <td>2015-05-25 22:32:49 UTC</td>\n",
       "      <td>-74.004662</td>\n",
       "      <td>40.742188</td>\n",
       "      <td>-73.989403</td>\n",
       "      <td>40.729233</td>\n",
       "      <td>1</td>\n",
       "    </tr>\n",
       "    <tr>\n",
       "      <th>4999998</th>\n",
       "      <td>5000034</td>\n",
       "      <td>2010-02-16 18:37:00.00000055</td>\n",
       "      <td>10.5</td>\n",
       "      <td>2010-02-16 18:37:00 UTC</td>\n",
       "      <td>-74.003178</td>\n",
       "      <td>40.732828</td>\n",
       "      <td>-73.977775</td>\n",
       "      <td>40.749392</td>\n",
       "      <td>1</td>\n",
       "    </tr>\n",
       "    <tr>\n",
       "      <th>4999999</th>\n",
       "      <td>5000035</td>\n",
       "      <td>2012-01-19 11:08:00.00000047</td>\n",
       "      <td>4.9</td>\n",
       "      <td>2012-01-19 11:08:00 UTC</td>\n",
       "      <td>-73.983017</td>\n",
       "      <td>40.755485</td>\n",
       "      <td>-73.977965</td>\n",
       "      <td>40.751257</td>\n",
       "      <td>1</td>\n",
       "    </tr>\n",
       "  </tbody>\n",
       "</table>\n",
       "<p>4897003 rows × 9 columns</p>\n",
       "</div>"
      ],
      "text/plain": [
       "         Unnamed: 0                            key  fare_amount  \\\n",
       "0                 0    2009-06-15 17:26:21.0000001          4.5   \n",
       "1                 1    2010-01-05 16:52:16.0000002         16.9   \n",
       "2                 2   2011-08-18 00:35:00.00000049          5.7   \n",
       "3                 3    2012-04-21 04:30:42.0000001          7.7   \n",
       "4                 4  2010-03-09 07:51:00.000000135          5.3   \n",
       "...             ...                            ...          ...   \n",
       "4999995     5000031    2013-03-23 12:10:56.0000001         15.0   \n",
       "4999996     5000032    2013-02-10 18:26:06.0000002          7.5   \n",
       "4999997     5000033    2015-05-25 22:32:49.0000004          7.5   \n",
       "4999998     5000034   2010-02-16 18:37:00.00000055         10.5   \n",
       "4999999     5000035   2012-01-19 11:08:00.00000047          4.9   \n",
       "\n",
       "                 pickup_datetime  pickup_longitude  pickup_latitude  \\\n",
       "0        2009-06-15 17:26:21 UTC        -73.844311        40.721319   \n",
       "1        2010-01-05 16:52:16 UTC        -74.016048        40.711303   \n",
       "2        2011-08-18 00:35:00 UTC        -73.982738        40.761270   \n",
       "3        2012-04-21 04:30:42 UTC        -73.987130        40.733143   \n",
       "4        2010-03-09 07:51:00 UTC        -73.968095        40.768008   \n",
       "...                          ...               ...              ...   \n",
       "4999995  2013-03-23 12:10:56 UTC        -74.000049        40.732998   \n",
       "4999996  2013-02-10 18:26:06 UTC        -73.966006        40.762430   \n",
       "4999997  2015-05-25 22:32:49 UTC        -74.004662        40.742188   \n",
       "4999998  2010-02-16 18:37:00 UTC        -74.003178        40.732828   \n",
       "4999999  2012-01-19 11:08:00 UTC        -73.983017        40.755485   \n",
       "\n",
       "         dropoff_longitude  dropoff_latitude  passenger_count  \n",
       "0               -73.841610         40.712278                1  \n",
       "1               -73.979268         40.782004                1  \n",
       "2               -73.991242         40.750562                2  \n",
       "3               -73.991567         40.758092                1  \n",
       "4               -73.956655         40.783762                1  \n",
       "...                    ...               ...              ...  \n",
       "4999995         -73.953992         40.766921                1  \n",
       "4999996         -73.980664         40.764354                1  \n",
       "4999997         -73.989403         40.729233                1  \n",
       "4999998         -73.977775         40.749392                1  \n",
       "4999999         -73.977965         40.751257                1  \n",
       "\n",
       "[4897003 rows x 9 columns]"
      ]
     },
     "execution_count": 36,
     "metadata": {},
     "output_type": "execute_result"
    }
   ],
   "source": [
    "train_df2"
   ]
  },
  {
   "cell_type": "code",
   "execution_count": null,
   "metadata": {},
   "outputs": [],
   "source": []
  },
  {
   "cell_type": "code",
   "execution_count": 46,
   "metadata": {},
   "outputs": [],
   "source": [
    "# 위도, 경도 이상치 제거 - 위 사진 기준\n",
    "train_df2 = train_df2.drop((train_df2[train_df2['pickup_latitude']<=39]).index, axis=0)\n",
    "train_df2 = train_df2.drop((train_df2[train_df2['pickup_latitude']>=46]).index, axis=0)\n",
    "train_df2 = train_df2.drop((train_df2[train_df2['dropoff_latitude']<=39]).index, axis=0)\n",
    "train_df2 = train_df2.drop((train_df2[train_df2['dropoff_latitude']>=46]).index, axis=0)\n",
    "\n",
    "train_df2 = train_df2.drop((train_df2[train_df2['pickup_longitude']>=-71]).index, axis=0)\n",
    "train_df2 = train_df2.drop((train_df2[train_df2['pickup_longitude']<=-80]).index, axis=0)\n",
    "train_df2 = train_df2.drop((train_df2[train_df2['dropoff_longitude']>=-71]).index, axis=0)\n",
    "train_df2 = train_df2.drop((train_df2[train_df2['dropoff_longitude']<=-80]).index, axis=0)"
   ]
  },
  {
   "cell_type": "code",
   "execution_count": 47,
   "metadata": {},
   "outputs": [
    {
     "data": {
      "text/plain": [
       "(4896064, 9)"
      ]
     },
     "execution_count": 47,
     "metadata": {},
     "output_type": "execute_result"
    }
   ],
   "source": [
    "train_df2.shape"
   ]
  },
  {
   "cell_type": "code",
   "execution_count": 54,
   "metadata": {},
   "outputs": [],
   "source": [
    "#fare_amount가 0보다 작은 것 제외\n",
    "train_df2 = train_df2.drop(train_df2[train_df2['fare_amount']<0].index, axis=0)"
   ]
  },
  {
   "cell_type": "code",
   "execution_count": 55,
   "metadata": {
    "scrolled": true
   },
   "outputs": [
    {
     "data": {
      "text/plain": [
       "(4895877, 9)"
      ]
     },
     "execution_count": 55,
     "metadata": {},
     "output_type": "execute_result"
    }
   ],
   "source": [
    "train_df2.shape"
   ]
  },
  {
   "cell_type": "code",
   "execution_count": 64,
   "metadata": {},
   "outputs": [],
   "source": [
    "train_df3 = train_df2[:1000]\n"
   ]
  },
  {
   "cell_type": "code",
   "execution_count": 65,
   "metadata": {},
   "outputs": [
    {
     "data": {
      "text/plain": [
       "(1000, 9)"
      ]
     },
     "execution_count": 65,
     "metadata": {},
     "output_type": "execute_result"
    }
   ],
   "source": [
    "train_df3.shape"
   ]
  },
  {
   "cell_type": "code",
   "execution_count": 89,
   "metadata": {},
   "outputs": [
    {
     "data": {
      "text/html": [
       "<div>\n",
       "<style scoped>\n",
       "    .dataframe tbody tr th:only-of-type {\n",
       "        vertical-align: middle;\n",
       "    }\n",
       "\n",
       "    .dataframe tbody tr th {\n",
       "        vertical-align: top;\n",
       "    }\n",
       "\n",
       "    .dataframe thead th {\n",
       "        text-align: right;\n",
       "    }\n",
       "</style>\n",
       "<table border=\"1\" class=\"dataframe\">\n",
       "  <thead>\n",
       "    <tr style=\"text-align: right;\">\n",
       "      <th></th>\n",
       "      <th>pickup_longitude</th>\n",
       "      <th>pickup_latitude</th>\n",
       "    </tr>\n",
       "  </thead>\n",
       "  <tbody>\n",
       "    <tr>\n",
       "      <th>0</th>\n",
       "      <td>-73.844311</td>\n",
       "      <td>40.721319</td>\n",
       "    </tr>\n",
       "    <tr>\n",
       "      <th>1</th>\n",
       "      <td>-74.016048</td>\n",
       "      <td>40.711303</td>\n",
       "    </tr>\n",
       "    <tr>\n",
       "      <th>2</th>\n",
       "      <td>-73.982738</td>\n",
       "      <td>40.761270</td>\n",
       "    </tr>\n",
       "    <tr>\n",
       "      <th>3</th>\n",
       "      <td>-73.987130</td>\n",
       "      <td>40.733143</td>\n",
       "    </tr>\n",
       "    <tr>\n",
       "      <th>4</th>\n",
       "      <td>-73.968095</td>\n",
       "      <td>40.768008</td>\n",
       "    </tr>\n",
       "  </tbody>\n",
       "</table>\n",
       "</div>"
      ],
      "text/plain": [
       "   pickup_longitude  pickup_latitude\n",
       "0        -73.844311        40.721319\n",
       "1        -74.016048        40.711303\n",
       "2        -73.982738        40.761270\n",
       "3        -73.987130        40.733143\n",
       "4        -73.968095        40.768008"
      ]
     },
     "execution_count": 89,
     "metadata": {},
     "output_type": "execute_result"
    }
   ],
   "source": [
    "#거리계산\n",
    "\n",
    "pickup=train_df3[['pickup_longitude','pickup_latitude']]\n",
    "pickup = pd.DataFrame(pickup)\n",
    "pickup.head()"
   ]
  },
  {
   "cell_type": "code",
   "execution_count": 93,
   "metadata": {},
   "outputs": [
    {
     "data": {
      "text/html": [
       "<div>\n",
       "<style scoped>\n",
       "    .dataframe tbody tr th:only-of-type {\n",
       "        vertical-align: middle;\n",
       "    }\n",
       "\n",
       "    .dataframe tbody tr th {\n",
       "        vertical-align: top;\n",
       "    }\n",
       "\n",
       "    .dataframe thead th {\n",
       "        text-align: right;\n",
       "    }\n",
       "</style>\n",
       "<table border=\"1\" class=\"dataframe\">\n",
       "  <thead>\n",
       "    <tr style=\"text-align: right;\">\n",
       "      <th></th>\n",
       "      <th>dropoff_longitude</th>\n",
       "      <th>dropoff_latitude</th>\n",
       "    </tr>\n",
       "  </thead>\n",
       "  <tbody>\n",
       "    <tr>\n",
       "      <th>0</th>\n",
       "      <td>-73.841610</td>\n",
       "      <td>40.712278</td>\n",
       "    </tr>\n",
       "    <tr>\n",
       "      <th>1</th>\n",
       "      <td>-73.979268</td>\n",
       "      <td>40.782004</td>\n",
       "    </tr>\n",
       "    <tr>\n",
       "      <th>2</th>\n",
       "      <td>-73.991242</td>\n",
       "      <td>40.750562</td>\n",
       "    </tr>\n",
       "    <tr>\n",
       "      <th>3</th>\n",
       "      <td>-73.991567</td>\n",
       "      <td>40.758092</td>\n",
       "    </tr>\n",
       "    <tr>\n",
       "      <th>4</th>\n",
       "      <td>-73.956655</td>\n",
       "      <td>40.783762</td>\n",
       "    </tr>\n",
       "  </tbody>\n",
       "</table>\n",
       "</div>"
      ],
      "text/plain": [
       "   dropoff_longitude  dropoff_latitude\n",
       "0         -73.841610         40.712278\n",
       "1         -73.979268         40.782004\n",
       "2         -73.991242         40.750562\n",
       "3         -73.991567         40.758092\n",
       "4         -73.956655         40.783762"
      ]
     },
     "execution_count": 93,
     "metadata": {},
     "output_type": "execute_result"
    }
   ],
   "source": [
    "dropoff=train_df3[['dropoff_longitude','dropoff_latitude']]\n",
    "dropoff=pd.DataFrame(dropoff)\n",
    "dropoff.head()"
   ]
  },
  {
   "cell_type": "code",
   "execution_count": 91,
   "metadata": {},
   "outputs": [],
   "source": [
    "distance = []"
   ]
  },
  {
   "cell_type": "code",
   "execution_count": 61,
   "metadata": {},
   "outputs": [
    {
     "name": "stdout",
     "output_type": "stream",
     "text": [
      "Collecting geopy\n",
      "  Downloading geopy-2.2.0-py3-none-any.whl (118 kB)\n",
      "Collecting geographiclib<2,>=1.49\n",
      "  Downloading geographiclib-1.52-py3-none-any.whl (38 kB)\n",
      "Installing collected packages: geographiclib, geopy\n",
      "Successfully installed geographiclib-1.52 geopy-2.2.0"
     ]
    },
    {
     "name": "stderr",
     "output_type": "stream",
     "text": [
      "WARNING: Ignoring invalid distribution -tatsmodels (c:\\users\\jisuj\\anaconda3\\lib\\site-packages)\n",
      "WARNING: Ignoring invalid distribution -tatsmodels (c:\\users\\jisuj\\anaconda3\\lib\\site-packages)\n",
      "WARNING: Ignoring invalid distribution -tatsmodels (c:\\users\\jisuj\\anaconda3\\lib\\site-packages)\n",
      "WARNING: Ignoring invalid distribution -tatsmodels (c:\\users\\jisuj\\anaconda3\\lib\\site-packages)\n",
      "WARNING: Ignoring invalid distribution -tatsmodels (c:\\users\\jisuj\\anaconda3\\lib\\site-packages)\n",
      "WARNING: Ignoring invalid distribution -tatsmodels (c:\\users\\jisuj\\anaconda3\\lib\\site-packages)\n",
      "WARNING: Ignoring invalid distribution -tatsmodels (c:\\users\\jisuj\\anaconda3\\lib\\site-packages)\n",
      "WARNING: Ignoring invalid distribution -tatsmodels (c:\\users\\jisuj\\anaconda3\\lib\\site-packages)\n",
      "WARNING: You are using pip version 21.3.1; however, version 22.0.2 is available.\n",
      "You should consider upgrading via the 'c:\\users\\jisuj\\anaconda3\\python.exe -m pip install --upgrade pip' command.\n"
     ]
    },
    {
     "name": "stdout",
     "output_type": "stream",
     "text": [
      "\n"
     ]
    }
   ],
   "source": [
    "! pip install geopy"
   ]
  },
  {
   "cell_type": "code",
   "execution_count": 83,
   "metadata": {},
   "outputs": [],
   "source": [
    "from geopy import distance"
   ]
  },
  {
   "cell_type": "code",
   "execution_count": 70,
   "metadata": {},
   "outputs": [
    {
     "data": {
      "text/html": [
       "<div>\n",
       "<style scoped>\n",
       "    .dataframe tbody tr th:only-of-type {\n",
       "        vertical-align: middle;\n",
       "    }\n",
       "\n",
       "    .dataframe tbody tr th {\n",
       "        vertical-align: top;\n",
       "    }\n",
       "\n",
       "    .dataframe thead th {\n",
       "        text-align: right;\n",
       "    }\n",
       "</style>\n",
       "<table border=\"1\" class=\"dataframe\">\n",
       "  <thead>\n",
       "    <tr style=\"text-align: right;\">\n",
       "      <th></th>\n",
       "      <th>pickup_longitude</th>\n",
       "      <th>pickup_latitude</th>\n",
       "    </tr>\n",
       "  </thead>\n",
       "  <tbody>\n",
       "    <tr>\n",
       "      <th>0</th>\n",
       "      <td>-73.844311</td>\n",
       "      <td>40.721319</td>\n",
       "    </tr>\n",
       "    <tr>\n",
       "      <th>1</th>\n",
       "      <td>-74.016048</td>\n",
       "      <td>40.711303</td>\n",
       "    </tr>\n",
       "    <tr>\n",
       "      <th>2</th>\n",
       "      <td>-73.982738</td>\n",
       "      <td>40.761270</td>\n",
       "    </tr>\n",
       "    <tr>\n",
       "      <th>3</th>\n",
       "      <td>-73.987130</td>\n",
       "      <td>40.733143</td>\n",
       "    </tr>\n",
       "    <tr>\n",
       "      <th>4</th>\n",
       "      <td>-73.968095</td>\n",
       "      <td>40.768008</td>\n",
       "    </tr>\n",
       "    <tr>\n",
       "      <th>...</th>\n",
       "      <td>...</td>\n",
       "      <td>...</td>\n",
       "    </tr>\n",
       "    <tr>\n",
       "      <th>1020</th>\n",
       "      <td>-73.955771</td>\n",
       "      <td>40.768360</td>\n",
       "    </tr>\n",
       "    <tr>\n",
       "      <th>1021</th>\n",
       "      <td>-73.985617</td>\n",
       "      <td>40.763165</td>\n",
       "    </tr>\n",
       "    <tr>\n",
       "      <th>1022</th>\n",
       "      <td>-73.985878</td>\n",
       "      <td>40.756633</td>\n",
       "    </tr>\n",
       "    <tr>\n",
       "      <th>1023</th>\n",
       "      <td>-73.973026</td>\n",
       "      <td>40.786796</td>\n",
       "    </tr>\n",
       "    <tr>\n",
       "      <th>1024</th>\n",
       "      <td>-74.004532</td>\n",
       "      <td>40.707465</td>\n",
       "    </tr>\n",
       "  </tbody>\n",
       "</table>\n",
       "<p>1000 rows × 2 columns</p>\n",
       "</div>"
      ],
      "text/plain": [
       "      pickup_longitude  pickup_latitude\n",
       "0           -73.844311        40.721319\n",
       "1           -74.016048        40.711303\n",
       "2           -73.982738        40.761270\n",
       "3           -73.987130        40.733143\n",
       "4           -73.968095        40.768008\n",
       "...                ...              ...\n",
       "1020        -73.955771        40.768360\n",
       "1021        -73.985617        40.763165\n",
       "1022        -73.985878        40.756633\n",
       "1023        -73.973026        40.786796\n",
       "1024        -74.004532        40.707465\n",
       "\n",
       "[1000 rows x 2 columns]"
      ]
     },
     "execution_count": 70,
     "metadata": {},
     "output_type": "execute_result"
    }
   ],
   "source": [
    "pickup"
   ]
  },
  {
   "cell_type": "code",
   "execution_count": 96,
   "metadata": {},
   "outputs": [
    {
     "ename": "AttributeError",
     "evalue": "'list' object has no attribute 'distance'",
     "output_type": "error",
     "traceback": [
      "\u001b[1;31m---------------------------------------------------------------------------\u001b[0m",
      "\u001b[1;31mAttributeError\u001b[0m                            Traceback (most recent call last)",
      "\u001b[1;32m<ipython-input-96-7dbe2963ddd3>\u001b[0m in \u001b[0;36m<module>\u001b[1;34m\u001b[0m\n\u001b[1;32m----> 1\u001b[1;33m \u001b[0mdistance\u001b[0m\u001b[1;33m.\u001b[0m\u001b[0mdistance\u001b[0m\u001b[1;33m(\u001b[0m\u001b[0mpickup\u001b[0m\u001b[1;33m.\u001b[0m\u001b[0mvalues\u001b[0m\u001b[1;33m[\u001b[0m\u001b[1;36m1\u001b[0m\u001b[1;33m]\u001b[0m\u001b[1;33m,\u001b[0m\u001b[0mdropoff\u001b[0m\u001b[1;33m.\u001b[0m\u001b[0mvalues\u001b[0m\u001b[1;33m[\u001b[0m\u001b[1;36m1\u001b[0m\u001b[1;33m]\u001b[0m\u001b[1;33m)\u001b[0m\u001b[1;33m.\u001b[0m\u001b[0mm\u001b[0m\u001b[1;33m\u001b[0m\u001b[1;33m\u001b[0m\u001b[0m\n\u001b[0m",
      "\u001b[1;31mAttributeError\u001b[0m: 'list' object has no attribute 'distance'"
     ]
    }
   ],
   "source": [
    "distance.distance(pickup.values[1],dropoff.values[1]).m"
   ]
  },
  {
   "cell_type": "code",
   "execution_count": 94,
   "metadata": {},
   "outputs": [
    {
     "ename": "AttributeError",
     "evalue": "'list' object has no attribute 'distance'",
     "output_type": "error",
     "traceback": [
      "\u001b[1;31m---------------------------------------------------------------------------\u001b[0m",
      "\u001b[1;31mAttributeError\u001b[0m                            Traceback (most recent call last)",
      "\u001b[1;32m<ipython-input-94-f7c1445f635d>\u001b[0m in \u001b[0;36m<module>\u001b[1;34m\u001b[0m\n\u001b[0;32m      2\u001b[0m \u001b[1;33m\u001b[0m\u001b[0m\n\u001b[0;32m      3\u001b[0m \u001b[1;32mfor\u001b[0m \u001b[0mi\u001b[0m \u001b[1;32min\u001b[0m \u001b[0mrange\u001b[0m\u001b[1;33m(\u001b[0m\u001b[0mlen\u001b[0m\u001b[1;33m(\u001b[0m\u001b[0mdropoff\u001b[0m\u001b[1;33m.\u001b[0m\u001b[0mindex\u001b[0m\u001b[1;33m)\u001b[0m\u001b[1;33m)\u001b[0m \u001b[1;33m:\u001b[0m\u001b[1;33m\u001b[0m\u001b[1;33m\u001b[0m\u001b[0m\n\u001b[1;32m----> 4\u001b[1;33m  \u001b[0mresult\u001b[0m \u001b[1;33m=\u001b[0m \u001b[0mdistance\u001b[0m\u001b[1;33m.\u001b[0m\u001b[0mdistance\u001b[0m\u001b[1;33m(\u001b[0m\u001b[0mpickup\u001b[0m\u001b[1;33m.\u001b[0m\u001b[0mvalues\u001b[0m\u001b[1;33m[\u001b[0m\u001b[0mi\u001b[0m\u001b[1;33m]\u001b[0m\u001b[1;33m,\u001b[0m\u001b[0mdropoff\u001b[0m\u001b[1;33m.\u001b[0m\u001b[0mvalues\u001b[0m\u001b[1;33m[\u001b[0m\u001b[0mi\u001b[0m\u001b[1;33m]\u001b[0m\u001b[1;33m)\u001b[0m\u001b[1;33m.\u001b[0m\u001b[0mm\u001b[0m\u001b[1;33m\u001b[0m\u001b[1;33m\u001b[0m\u001b[0m\n\u001b[0m\u001b[0;32m      5\u001b[0m  \u001b[0mdist\u001b[0m\u001b[1;33m.\u001b[0m\u001b[0mappend\u001b[0m\u001b[1;33m(\u001b[0m\u001b[0mresult\u001b[0m\u001b[1;33m)\u001b[0m\u001b[1;33m\u001b[0m\u001b[1;33m\u001b[0m\u001b[0m\n\u001b[0;32m      6\u001b[0m \u001b[0mprint\u001b[0m\u001b[1;33m(\u001b[0m\u001b[0mdist\u001b[0m\u001b[1;33m)\u001b[0m\u001b[1;33m\u001b[0m\u001b[1;33m\u001b[0m\u001b[0m\n",
      "\u001b[1;31mAttributeError\u001b[0m: 'list' object has no attribute 'distance'"
     ]
    }
   ],
   "source": [
    "dist=[]\n",
    "\n",
    "for i in range(len(dropoff.index)) : \n",
    " result = distance.distance(pickup.values[i],dropoff.values[i]).m\n",
    " dist.append(result)\n",
    "print(dist)\n"
   ]
  },
  {
   "cell_type": "code",
   "execution_count": 87,
   "metadata": {},
   "outputs": [
    {
     "data": {
      "text/html": [
       "<div>\n",
       "<style scoped>\n",
       "    .dataframe tbody tr th:only-of-type {\n",
       "        vertical-align: middle;\n",
       "    }\n",
       "\n",
       "    .dataframe tbody tr th {\n",
       "        vertical-align: top;\n",
       "    }\n",
       "\n",
       "    .dataframe thead th {\n",
       "        text-align: right;\n",
       "    }\n",
       "</style>\n",
       "<table border=\"1\" class=\"dataframe\">\n",
       "  <thead>\n",
       "    <tr style=\"text-align: right;\">\n",
       "      <th></th>\n",
       "      <th>0</th>\n",
       "    </tr>\n",
       "  </thead>\n",
       "  <tbody>\n",
       "    <tr>\n",
       "      <th>0</th>\n",
       "      <td>412.061196</td>\n",
       "    </tr>\n",
       "    <tr>\n",
       "      <th>1</th>\n",
       "      <td>4646.229208</td>\n",
       "    </tr>\n",
       "    <tr>\n",
       "      <th>2</th>\n",
       "      <td>1004.797031</td>\n",
       "    </tr>\n",
       "    <tr>\n",
       "      <th>3</th>\n",
       "      <td>914.153776</td>\n",
       "    </tr>\n",
       "    <tr>\n",
       "      <th>4</th>\n",
       "      <td>1366.163592</td>\n",
       "    </tr>\n",
       "  </tbody>\n",
       "</table>\n",
       "</div>"
      ],
      "text/plain": [
       "             0\n",
       "0   412.061196\n",
       "1  4646.229208\n",
       "2  1004.797031\n",
       "3   914.153776\n",
       "4  1366.163592"
      ]
     },
     "execution_count": 87,
     "metadata": {},
     "output_type": "execute_result"
    }
   ],
   "source": [
    "dist=pd.DataFrame(dist)\n",
    "#4895877\n",
    "dist.head()"
   ]
  },
  {
   "cell_type": "code",
   "execution_count": 88,
   "metadata": {},
   "outputs": [
    {
     "data": {
      "text/plain": [
       "(1000, 1)"
      ]
     },
     "execution_count": 88,
     "metadata": {},
     "output_type": "execute_result"
    }
   ],
   "source": [
    "dist.shape"
   ]
  },
  {
   "cell_type": "code",
   "execution_count": 50,
   "metadata": {},
   "outputs": [],
   "source": [
    "import seaborn as sns"
   ]
  },
  {
   "cell_type": "code",
   "execution_count": 51,
   "metadata": {},
   "outputs": [
    {
     "data": {
      "text/plain": [
       "<AxesSubplot:>"
      ]
     },
     "execution_count": 51,
     "metadata": {},
     "output_type": "execute_result"
    },
    {
     "data": {
      "image/png": "[encoded data removed]",
      "text/plain": [
       "<Figure size 432x288 with 1 Axes>"
      ]
     },
     "metadata": {
      "needs_background": "light"
     },
     "output_type": "display_data"
    }
   ],
   "source": [
    "sns.boxplot(data=train_df2['fare_amount'])"
   ]
  },
  {
   "cell_type": "code",
   "execution_count": 52,
   "metadata": {},
   "outputs": [
    {
     "data": {
      "text/html": [
       "<div>\n",
       "<style scoped>\n",
       "    .dataframe tbody tr th:only-of-type {\n",
       "        vertical-align: middle;\n",
       "    }\n",
       "\n",
       "    .dataframe tbody tr th {\n",
       "        vertical-align: top;\n",
       "    }\n",
       "\n",
       "    .dataframe thead th {\n",
       "        text-align: right;\n",
       "    }\n",
       "</style>\n",
       "<table border=\"1\" class=\"dataframe\">\n",
       "  <thead>\n",
       "    <tr style=\"text-align: right;\">\n",
       "      <th></th>\n",
       "      <th>Unnamed: 0</th>\n",
       "      <th>key</th>\n",
       "      <th>fare_amount</th>\n",
       "      <th>pickup_datetime</th>\n",
       "      <th>pickup_longitude</th>\n",
       "      <th>pickup_latitude</th>\n",
       "      <th>dropoff_longitude</th>\n",
       "      <th>dropoff_latitude</th>\n",
       "      <th>passenger_count</th>\n",
       "    </tr>\n",
       "  </thead>\n",
       "  <tbody>\n",
       "    <tr>\n",
       "      <th>4894670</th>\n",
       "      <td>4894706</td>\n",
       "      <td>2015-02-09 15:22:07.00000013</td>\n",
       "      <td>952.0</td>\n",
       "      <td>2015-02-09 15:22:07 UTC</td>\n",
       "      <td>-73.996712</td>\n",
       "      <td>40.757793</td>\n",
       "      <td>-73.78289</td>\n",
       "      <td>40.643925</td>\n",
       "      <td>2</td>\n",
       "    </tr>\n",
       "  </tbody>\n",
       "</table>\n",
       "</div>"
      ],
      "text/plain": [
       "         Unnamed: 0                           key  fare_amount  \\\n",
       "4894670     4894706  2015-02-09 15:22:07.00000013        952.0   \n",
       "\n",
       "                 pickup_datetime  pickup_longitude  pickup_latitude  \\\n",
       "4894670  2015-02-09 15:22:07 UTC        -73.996712        40.757793   \n",
       "\n",
       "         dropoff_longitude  dropoff_latitude  passenger_count  \n",
       "4894670          -73.78289         40.643925                2  "
      ]
     },
     "execution_count": 52,
     "metadata": {},
     "output_type": "execute_result"
    }
   ],
   "source": [
    "train_df2[train_df2['fare_amount']>=800]"
   ]
  },
  {
   "cell_type": "code",
   "execution_count": 53,
   "metadata": {},
   "outputs": [
    {
     "data": {
      "text/html": [
       "<div>\n",
       "<style scoped>\n",
       "    .dataframe tbody tr th:only-of-type {\n",
       "        vertical-align: middle;\n",
       "    }\n",
       "\n",
       "    .dataframe tbody tr th {\n",
       "        vertical-align: top;\n",
       "    }\n",
       "\n",
       "    .dataframe thead th {\n",
       "        text-align: right;\n",
       "    }\n",
       "</style>\n",
       "<table border=\"1\" class=\"dataframe\">\n",
       "  <thead>\n",
       "    <tr style=\"text-align: right;\">\n",
       "      <th></th>\n",
       "      <th>Unnamed: 0</th>\n",
       "      <th>key</th>\n",
       "      <th>fare_amount</th>\n",
       "      <th>pickup_datetime</th>\n",
       "      <th>pickup_longitude</th>\n",
       "      <th>pickup_latitude</th>\n",
       "      <th>dropoff_longitude</th>\n",
       "      <th>dropoff_latitude</th>\n",
       "      <th>passenger_count</th>\n",
       "    </tr>\n",
       "  </thead>\n",
       "  <tbody>\n",
       "    <tr>\n",
       "      <th>0</th>\n",
       "      <td>0</td>\n",
       "      <td>2009-06-15 17:26:21.0000001</td>\n",
       "      <td>4.5</td>\n",
       "      <td>2009-06-15 17:26:21 UTC</td>\n",
       "      <td>-73.844311</td>\n",
       "      <td>40.721319</td>\n",
       "      <td>-73.841610</td>\n",
       "      <td>40.712278</td>\n",
       "      <td>1</td>\n",
       "    </tr>\n",
       "    <tr>\n",
       "      <th>1</th>\n",
       "      <td>1</td>\n",
       "      <td>2010-01-05 16:52:16.0000002</td>\n",
       "      <td>16.9</td>\n",
       "      <td>2010-01-05 16:52:16 UTC</td>\n",
       "      <td>-74.016048</td>\n",
       "      <td>40.711303</td>\n",
       "      <td>-73.979268</td>\n",
       "      <td>40.782004</td>\n",
       "      <td>1</td>\n",
       "    </tr>\n",
       "    <tr>\n",
       "      <th>2</th>\n",
       "      <td>2</td>\n",
       "      <td>2011-08-18 00:35:00.00000049</td>\n",
       "      <td>5.7</td>\n",
       "      <td>2011-08-18 00:35:00 UTC</td>\n",
       "      <td>-73.982738</td>\n",
       "      <td>40.761270</td>\n",
       "      <td>-73.991242</td>\n",
       "      <td>40.750562</td>\n",
       "      <td>2</td>\n",
       "    </tr>\n",
       "    <tr>\n",
       "      <th>3</th>\n",
       "      <td>3</td>\n",
       "      <td>2012-04-21 04:30:42.0000001</td>\n",
       "      <td>7.7</td>\n",
       "      <td>2012-04-21 04:30:42 UTC</td>\n",
       "      <td>-73.987130</td>\n",
       "      <td>40.733143</td>\n",
       "      <td>-73.991567</td>\n",
       "      <td>40.758092</td>\n",
       "      <td>1</td>\n",
       "    </tr>\n",
       "    <tr>\n",
       "      <th>4</th>\n",
       "      <td>4</td>\n",
       "      <td>2010-03-09 07:51:00.000000135</td>\n",
       "      <td>5.3</td>\n",
       "      <td>2010-03-09 07:51:00 UTC</td>\n",
       "      <td>-73.968095</td>\n",
       "      <td>40.768008</td>\n",
       "      <td>-73.956655</td>\n",
       "      <td>40.783762</td>\n",
       "      <td>1</td>\n",
       "    </tr>\n",
       "    <tr>\n",
       "      <th>...</th>\n",
       "      <td>...</td>\n",
       "      <td>...</td>\n",
       "      <td>...</td>\n",
       "      <td>...</td>\n",
       "      <td>...</td>\n",
       "      <td>...</td>\n",
       "      <td>...</td>\n",
       "      <td>...</td>\n",
       "      <td>...</td>\n",
       "    </tr>\n",
       "    <tr>\n",
       "      <th>4999995</th>\n",
       "      <td>5000031</td>\n",
       "      <td>2013-03-23 12:10:56.0000001</td>\n",
       "      <td>15.0</td>\n",
       "      <td>2013-03-23 12:10:56 UTC</td>\n",
       "      <td>-74.000049</td>\n",
       "      <td>40.732998</td>\n",
       "      <td>-73.953992</td>\n",
       "      <td>40.766921</td>\n",
       "      <td>1</td>\n",
       "    </tr>\n",
       "    <tr>\n",
       "      <th>4999996</th>\n",
       "      <td>5000032</td>\n",
       "      <td>2013-02-10 18:26:06.0000002</td>\n",
       "      <td>7.5</td>\n",
       "      <td>2013-02-10 18:26:06 UTC</td>\n",
       "      <td>-73.966006</td>\n",
       "      <td>40.762430</td>\n",
       "      <td>-73.980664</td>\n",
       "      <td>40.764354</td>\n",
       "      <td>1</td>\n",
       "    </tr>\n",
       "    <tr>\n",
       "      <th>4999997</th>\n",
       "      <td>5000033</td>\n",
       "      <td>2015-05-25 22:32:49.0000004</td>\n",
       "      <td>7.5</td>\n",
       "      <td>2015-05-25 22:32:49 UTC</td>\n",
       "      <td>-74.004662</td>\n",
       "      <td>40.742188</td>\n",
       "      <td>-73.989403</td>\n",
       "      <td>40.729233</td>\n",
       "      <td>1</td>\n",
       "    </tr>\n",
       "    <tr>\n",
       "      <th>4999998</th>\n",
       "      <td>5000034</td>\n",
       "      <td>2010-02-16 18:37:00.00000055</td>\n",
       "      <td>10.5</td>\n",
       "      <td>2010-02-16 18:37:00 UTC</td>\n",
       "      <td>-74.003178</td>\n",
       "      <td>40.732828</td>\n",
       "      <td>-73.977775</td>\n",
       "      <td>40.749392</td>\n",
       "      <td>1</td>\n",
       "    </tr>\n",
       "    <tr>\n",
       "      <th>4999999</th>\n",
       "      <td>5000035</td>\n",
       "      <td>2012-01-19 11:08:00.00000047</td>\n",
       "      <td>4.9</td>\n",
       "      <td>2012-01-19 11:08:00 UTC</td>\n",
       "      <td>-73.983017</td>\n",
       "      <td>40.755485</td>\n",
       "      <td>-73.977965</td>\n",
       "      <td>40.751257</td>\n",
       "      <td>1</td>\n",
       "    </tr>\n",
       "  </tbody>\n",
       "</table>\n",
       "<p>4895926 rows × 9 columns</p>\n",
       "</div>"
      ],
      "text/plain": [
       "         Unnamed: 0                            key  fare_amount  \\\n",
       "0                 0    2009-06-15 17:26:21.0000001          4.5   \n",
       "1                 1    2010-01-05 16:52:16.0000002         16.9   \n",
       "2                 2   2011-08-18 00:35:00.00000049          5.7   \n",
       "3                 3    2012-04-21 04:30:42.0000001          7.7   \n",
       "4                 4  2010-03-09 07:51:00.000000135          5.3   \n",
       "...             ...                            ...          ...   \n",
       "4999995     5000031    2013-03-23 12:10:56.0000001         15.0   \n",
       "4999996     5000032    2013-02-10 18:26:06.0000002          7.5   \n",
       "4999997     5000033    2015-05-25 22:32:49.0000004          7.5   \n",
       "4999998     5000034   2010-02-16 18:37:00.00000055         10.5   \n",
       "4999999     5000035   2012-01-19 11:08:00.00000047          4.9   \n",
       "\n",
       "                 pickup_datetime  pickup_longitude  pickup_latitude  \\\n",
       "0        2009-06-15 17:26:21 UTC        -73.844311        40.721319   \n",
       "1        2010-01-05 16:52:16 UTC        -74.016048        40.711303   \n",
       "2        2011-08-18 00:35:00 UTC        -73.982738        40.761270   \n",
       "3        2012-04-21 04:30:42 UTC        -73.987130        40.733143   \n",
       "4        2010-03-09 07:51:00 UTC        -73.968095        40.768008   \n",
       "...                          ...               ...              ...   \n",
       "4999995  2013-03-23 12:10:56 UTC        -74.000049        40.732998   \n",
       "4999996  2013-02-10 18:26:06 UTC        -73.966006        40.762430   \n",
       "4999997  2015-05-25 22:32:49 UTC        -74.004662        40.742188   \n",
       "4999998  2010-02-16 18:37:00 UTC        -74.003178        40.732828   \n",
       "4999999  2012-01-19 11:08:00 UTC        -73.983017        40.755485   \n",
       "\n",
       "         dropoff_longitude  dropoff_latitude  passenger_count  \n",
       "0               -73.841610         40.712278                1  \n",
       "1               -73.979268         40.782004                1  \n",
       "2               -73.991242         40.750562                2  \n",
       "3               -73.991567         40.758092                1  \n",
       "4               -73.956655         40.783762                1  \n",
       "...                    ...               ...              ...  \n",
       "4999995         -73.953992         40.766921                1  \n",
       "4999996         -73.980664         40.764354                1  \n",
       "4999997         -73.989403         40.729233                1  \n",
       "4999998         -73.977775         40.749392                1  \n",
       "4999999         -73.977965         40.751257                1  \n",
       "\n",
       "[4895926 rows x 9 columns]"
      ]
     },
     "execution_count": 53,
     "metadata": {},
     "output_type": "execute_result"
    }
   ],
   "source": [
    "train_df2[train_df2['fare_amount']<=200]"
   ]
  },
  {
   "cell_type": "code",
   "execution_count": 97,
   "metadata": {},
   "outputs": [
    {
     "name": "stdout",
     "output_type": "stream",
     "text": [
      "<class 'pandas.core.frame.DataFrame'>\n",
      "Int64Index: 4895877 entries, 0 to 4999999\n",
      "Data columns (total 9 columns):\n",
      " #   Column             Dtype  \n",
      "---  ------             -----  \n",
      " 0   Unnamed: 0         int64  \n",
      " 1   key                object \n",
      " 2   fare_amount        float64\n",
      " 3   pickup_datetime    object \n",
      " 4   pickup_longitude   float64\n",
      " 5   pickup_latitude    float64\n",
      " 6   dropoff_longitude  float64\n",
      " 7   dropoff_latitude   float64\n",
      " 8   passenger_count    int64  \n",
      "dtypes: float64(5), int64(2), object(2)\n",
      "memory usage: 373.5+ MB\n"
     ]
    }
   ],
   "source": [
    "train_df2.info()"
   ]
  },
  {
   "cell_type": "markdown",
   "metadata": {},
   "source": [
    "1. 오늘 한 내용 전체 데이터로 돌려보기 (시간 좀 걸릴거같아요)! -> shape 공유\n",
    "2. 거리 계산, fare_amount와 관계\n",
    "3. 전처리 -> 시간 쪼개는거(년도, 월, 일, 시간, (요일),시간(시)) , 파생변수, taxi_amount\n",
    "4. boost bagging -> xgboost, randomforest, svm, gbm"
   ]
  }
 ],
 "metadata": {
  "kernelspec": {
   "display_name": "Python 3",
   "language": "python",
   "name": "python3"
  },
  "language_info": {
   "codemirror_mode": {
    "name": "ipython",
    "version": 3
   },
   "file_extension": ".py",
   "mimetype": "text/x-python",
   "name": "python",
   "nbconvert_exporter": "python",
   "pygments_lexer": "ipython3",
   "version": "3.8.5"
  }
 },
 "nbformat": 4,
 "nbformat_minor": 4
}
