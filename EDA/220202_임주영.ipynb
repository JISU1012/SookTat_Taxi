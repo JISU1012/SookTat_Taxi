{
 "cells": [
  {
   "cell_type": "code",
   "execution_count": 1,
   "metadata": {},
   "outputs": [],
   "source": [
    "import numpy as np \n",
    "import pandas as pd \n",
    "import matplotlib.pyplot as plt \n",
    "import seaborn as sns"
   ]
  },
  {
   "cell_type": "code",
   "execution_count": 2,
   "metadata": {},
   "outputs": [
    {
     "data": {
      "text/html": [
       "<div>\n",
       "<style scoped>\n",
       "    .dataframe tbody tr th:only-of-type {\n",
       "        vertical-align: middle;\n",
       "    }\n",
       "\n",
       "    .dataframe tbody tr th {\n",
       "        vertical-align: top;\n",
       "    }\n",
       "\n",
       "    .dataframe thead th {\n",
       "        text-align: right;\n",
       "    }\n",
       "</style>\n",
       "<table border=\"1\" class=\"dataframe\">\n",
       "  <thead>\n",
       "    <tr style=\"text-align: right;\">\n",
       "      <th></th>\n",
       "      <th>key</th>\n",
       "      <th>fare_amount</th>\n",
       "      <th>pickup_datetime</th>\n",
       "      <th>pickup_longitude</th>\n",
       "      <th>pickup_latitude</th>\n",
       "      <th>dropoff_longitude</th>\n",
       "      <th>dropoff_latitude</th>\n",
       "      <th>passenger_count</th>\n",
       "    </tr>\n",
       "  </thead>\n",
       "  <tbody>\n",
       "    <tr>\n",
       "      <th>0</th>\n",
       "      <td>2009-06-15 17:26:21.0000001</td>\n",
       "      <td>4.5</td>\n",
       "      <td>2009-06-15 17:26:21 UTC</td>\n",
       "      <td>-73.844311</td>\n",
       "      <td>40.721319</td>\n",
       "      <td>-73.841610</td>\n",
       "      <td>40.712278</td>\n",
       "      <td>1</td>\n",
       "    </tr>\n",
       "    <tr>\n",
       "      <th>1</th>\n",
       "      <td>2010-01-05 16:52:16.0000002</td>\n",
       "      <td>16.9</td>\n",
       "      <td>2010-01-05 16:52:16 UTC</td>\n",
       "      <td>-74.016048</td>\n",
       "      <td>40.711303</td>\n",
       "      <td>-73.979268</td>\n",
       "      <td>40.782004</td>\n",
       "      <td>1</td>\n",
       "    </tr>\n",
       "    <tr>\n",
       "      <th>2</th>\n",
       "      <td>2011-08-18 00:35:00.00000049</td>\n",
       "      <td>5.7</td>\n",
       "      <td>2011-08-18 00:35:00 UTC</td>\n",
       "      <td>-73.982738</td>\n",
       "      <td>40.761270</td>\n",
       "      <td>-73.991242</td>\n",
       "      <td>40.750562</td>\n",
       "      <td>2</td>\n",
       "    </tr>\n",
       "    <tr>\n",
       "      <th>3</th>\n",
       "      <td>2012-04-21 04:30:42.0000001</td>\n",
       "      <td>7.7</td>\n",
       "      <td>2012-04-21 04:30:42 UTC</td>\n",
       "      <td>-73.987130</td>\n",
       "      <td>40.733143</td>\n",
       "      <td>-73.991567</td>\n",
       "      <td>40.758092</td>\n",
       "      <td>1</td>\n",
       "    </tr>\n",
       "    <tr>\n",
       "      <th>4</th>\n",
       "      <td>2010-03-09 07:51:00.000000135</td>\n",
       "      <td>5.3</td>\n",
       "      <td>2010-03-09 07:51:00 UTC</td>\n",
       "      <td>-73.968095</td>\n",
       "      <td>40.768008</td>\n",
       "      <td>-73.956655</td>\n",
       "      <td>40.783762</td>\n",
       "      <td>1</td>\n",
       "    </tr>\n",
       "    <tr>\n",
       "      <th>...</th>\n",
       "      <td>...</td>\n",
       "      <td>...</td>\n",
       "      <td>...</td>\n",
       "      <td>...</td>\n",
       "      <td>...</td>\n",
       "      <td>...</td>\n",
       "      <td>...</td>\n",
       "      <td>...</td>\n",
       "    </tr>\n",
       "    <tr>\n",
       "      <th>55423851</th>\n",
       "      <td>2014-03-15 03:28:00.00000070</td>\n",
       "      <td>14.0</td>\n",
       "      <td>2014-03-15 03:28:00 UTC</td>\n",
       "      <td>-74.005272</td>\n",
       "      <td>40.740027</td>\n",
       "      <td>-73.963280</td>\n",
       "      <td>40.762555</td>\n",
       "      <td>1</td>\n",
       "    </tr>\n",
       "    <tr>\n",
       "      <th>55423852</th>\n",
       "      <td>2009-03-24 20:46:20.0000002</td>\n",
       "      <td>4.2</td>\n",
       "      <td>2009-03-24 20:46:20 UTC</td>\n",
       "      <td>-73.957784</td>\n",
       "      <td>40.765530</td>\n",
       "      <td>-73.951640</td>\n",
       "      <td>40.773959</td>\n",
       "      <td>1</td>\n",
       "    </tr>\n",
       "    <tr>\n",
       "      <th>55423853</th>\n",
       "      <td>2011-04-02 22:04:24.0000004</td>\n",
       "      <td>14.1</td>\n",
       "      <td>2011-04-02 22:04:24 UTC</td>\n",
       "      <td>-73.970505</td>\n",
       "      <td>40.752325</td>\n",
       "      <td>-73.960537</td>\n",
       "      <td>40.797342</td>\n",
       "      <td>1</td>\n",
       "    </tr>\n",
       "    <tr>\n",
       "      <th>55423854</th>\n",
       "      <td>2011-10-26 05:57:51.0000002</td>\n",
       "      <td>28.9</td>\n",
       "      <td>2011-10-26 05:57:51 UTC</td>\n",
       "      <td>-73.980901</td>\n",
       "      <td>40.764629</td>\n",
       "      <td>-73.870605</td>\n",
       "      <td>40.773963</td>\n",
       "      <td>1</td>\n",
       "    </tr>\n",
       "    <tr>\n",
       "      <th>55423855</th>\n",
       "      <td>2014-12-12 11:33:00.00000015</td>\n",
       "      <td>7.5</td>\n",
       "      <td>2014-12-12 11:33:00 UTC</td>\n",
       "      <td>-73.969722</td>\n",
       "      <td>40.797668</td>\n",
       "      <td>-73.970885</td>\n",
       "      <td>40.783313</td>\n",
       "      <td>1</td>\n",
       "    </tr>\n",
       "  </tbody>\n",
       "</table>\n",
       "<p>55423856 rows × 8 columns</p>\n",
       "</div>"
      ],
      "text/plain": [
       "                                    key  fare_amount          pickup_datetime  \\\n",
       "0           2009-06-15 17:26:21.0000001          4.5  2009-06-15 17:26:21 UTC   \n",
       "1           2010-01-05 16:52:16.0000002         16.9  2010-01-05 16:52:16 UTC   \n",
       "2          2011-08-18 00:35:00.00000049          5.7  2011-08-18 00:35:00 UTC   \n",
       "3           2012-04-21 04:30:42.0000001          7.7  2012-04-21 04:30:42 UTC   \n",
       "4         2010-03-09 07:51:00.000000135          5.3  2010-03-09 07:51:00 UTC   \n",
       "...                                 ...          ...                      ...   \n",
       "55423851   2014-03-15 03:28:00.00000070         14.0  2014-03-15 03:28:00 UTC   \n",
       "55423852    2009-03-24 20:46:20.0000002          4.2  2009-03-24 20:46:20 UTC   \n",
       "55423853    2011-04-02 22:04:24.0000004         14.1  2011-04-02 22:04:24 UTC   \n",
       "55423854    2011-10-26 05:57:51.0000002         28.9  2011-10-26 05:57:51 UTC   \n",
       "55423855   2014-12-12 11:33:00.00000015          7.5  2014-12-12 11:33:00 UTC   \n",
       "\n",
       "          pickup_longitude  pickup_latitude  dropoff_longitude  \\\n",
       "0               -73.844311        40.721319         -73.841610   \n",
       "1               -74.016048        40.711303         -73.979268   \n",
       "2               -73.982738        40.761270         -73.991242   \n",
       "3               -73.987130        40.733143         -73.991567   \n",
       "4               -73.968095        40.768008         -73.956655   \n",
       "...                    ...              ...                ...   \n",
       "55423851        -74.005272        40.740027         -73.963280   \n",
       "55423852        -73.957784        40.765530         -73.951640   \n",
       "55423853        -73.970505        40.752325         -73.960537   \n",
       "55423854        -73.980901        40.764629         -73.870605   \n",
       "55423855        -73.969722        40.797668         -73.970885   \n",
       "\n",
       "          dropoff_latitude  passenger_count  \n",
       "0                40.712278                1  \n",
       "1                40.782004                1  \n",
       "2                40.750562                2  \n",
       "3                40.758092                1  \n",
       "4                40.783762                1  \n",
       "...                    ...              ...  \n",
       "55423851         40.762555                1  \n",
       "55423852         40.773959                1  \n",
       "55423853         40.797342                1  \n",
       "55423854         40.773963                1  \n",
       "55423855         40.783313                1  \n",
       "\n",
       "[55423856 rows x 8 columns]"
      ]
     },
     "execution_count": 2,
     "metadata": {},
     "output_type": "execute_result"
    }
   ],
   "source": [
    "train_df = pd.read_csv(\"train.csv\")\n",
    "train_df"
   ]
  },
  {
   "cell_type": "markdown",
   "metadata": {},
   "source": [
    "### EDA"
   ]
  },
  {
   "cell_type": "markdown",
   "metadata": {},
   "source": [
    "#### 1. 데이터 타입 확인"
   ]
  },
  {
   "cell_type": "code",
   "execution_count": 3,
   "metadata": {},
   "outputs": [
    {
     "name": "stdout",
     "output_type": "stream",
     "text": [
      "<class 'pandas.core.frame.DataFrame'>\n",
      "RangeIndex: 55423856 entries, 0 to 55423855\n",
      "Data columns (total 8 columns):\n",
      " #   Column             Dtype  \n",
      "---  ------             -----  \n",
      " 0   key                object \n",
      " 1   fare_amount        float64\n",
      " 2   pickup_datetime    object \n",
      " 3   pickup_longitude   float64\n",
      " 4   pickup_latitude    float64\n",
      " 5   dropoff_longitude  float64\n",
      " 6   dropoff_latitude   float64\n",
      " 7   passenger_count    int64  \n",
      "dtypes: float64(5), int64(1), object(2)\n",
      "memory usage: 3.3+ GB\n"
     ]
    }
   ],
   "source": [
    "train_df.info()"
   ]
  },
  {
   "cell_type": "code",
   "execution_count": 5,
   "metadata": {},
   "outputs": [
    {
     "data": {
      "text/plain": [
       "(55423856, 8)"
      ]
     },
     "execution_count": 5,
     "metadata": {},
     "output_type": "execute_result"
    }
   ],
   "source": [
    "train_df.shape"
   ]
  },
  {
   "cell_type": "markdown",
   "metadata": {},
   "source": [
    "#### 2. 통계값 활용"
   ]
  },
  {
   "cell_type": "code",
   "execution_count": 4,
   "metadata": {},
   "outputs": [
    {
     "data": {
      "text/html": [
       "<div>\n",
       "<style scoped>\n",
       "    .dataframe tbody tr th:only-of-type {\n",
       "        vertical-align: middle;\n",
       "    }\n",
       "\n",
       "    .dataframe tbody tr th {\n",
       "        vertical-align: top;\n",
       "    }\n",
       "\n",
       "    .dataframe thead th {\n",
       "        text-align: right;\n",
       "    }\n",
       "</style>\n",
       "<table border=\"1\" class=\"dataframe\">\n",
       "  <thead>\n",
       "    <tr style=\"text-align: right;\">\n",
       "      <th></th>\n",
       "      <th>fare_amount</th>\n",
       "      <th>pickup_longitude</th>\n",
       "      <th>pickup_latitude</th>\n",
       "      <th>dropoff_longitude</th>\n",
       "      <th>dropoff_latitude</th>\n",
       "      <th>passenger_count</th>\n",
       "    </tr>\n",
       "  </thead>\n",
       "  <tbody>\n",
       "    <tr>\n",
       "      <th>count</th>\n",
       "      <td>5.542386e+07</td>\n",
       "      <td>5.542386e+07</td>\n",
       "      <td>5.542386e+07</td>\n",
       "      <td>5.542348e+07</td>\n",
       "      <td>5.542348e+07</td>\n",
       "      <td>5.542386e+07</td>\n",
       "    </tr>\n",
       "    <tr>\n",
       "      <th>mean</th>\n",
       "      <td>1.134505e+01</td>\n",
       "      <td>-7.250968e+01</td>\n",
       "      <td>3.991979e+01</td>\n",
       "      <td>-7.251121e+01</td>\n",
       "      <td>3.992068e+01</td>\n",
       "      <td>1.685380e+00</td>\n",
       "    </tr>\n",
       "    <tr>\n",
       "      <th>std</th>\n",
       "      <td>2.071083e+01</td>\n",
       "      <td>1.284888e+01</td>\n",
       "      <td>9.642353e+00</td>\n",
       "      <td>1.278220e+01</td>\n",
       "      <td>9.633346e+00</td>\n",
       "      <td>1.327664e+00</td>\n",
       "    </tr>\n",
       "    <tr>\n",
       "      <th>min</th>\n",
       "      <td>-3.000000e+02</td>\n",
       "      <td>-3.442060e+03</td>\n",
       "      <td>-3.492264e+03</td>\n",
       "      <td>-3.442025e+03</td>\n",
       "      <td>-3.547887e+03</td>\n",
       "      <td>0.000000e+00</td>\n",
       "    </tr>\n",
       "    <tr>\n",
       "      <th>25%</th>\n",
       "      <td>6.000000e+00</td>\n",
       "      <td>-7.399207e+01</td>\n",
       "      <td>4.073493e+01</td>\n",
       "      <td>-7.399140e+01</td>\n",
       "      <td>4.073403e+01</td>\n",
       "      <td>1.000000e+00</td>\n",
       "    </tr>\n",
       "    <tr>\n",
       "      <th>50%</th>\n",
       "      <td>8.500000e+00</td>\n",
       "      <td>-7.398180e+01</td>\n",
       "      <td>4.075265e+01</td>\n",
       "      <td>-7.398015e+01</td>\n",
       "      <td>4.075316e+01</td>\n",
       "      <td>1.000000e+00</td>\n",
       "    </tr>\n",
       "    <tr>\n",
       "      <th>75%</th>\n",
       "      <td>1.250000e+01</td>\n",
       "      <td>-7.396708e+01</td>\n",
       "      <td>4.076713e+01</td>\n",
       "      <td>-7.396367e+01</td>\n",
       "      <td>4.076810e+01</td>\n",
       "      <td>2.000000e+00</td>\n",
       "    </tr>\n",
       "    <tr>\n",
       "      <th>max</th>\n",
       "      <td>9.396336e+04</td>\n",
       "      <td>3.457626e+03</td>\n",
       "      <td>3.408790e+03</td>\n",
       "      <td>3.457622e+03</td>\n",
       "      <td>3.537133e+03</td>\n",
       "      <td>2.080000e+02</td>\n",
       "    </tr>\n",
       "  </tbody>\n",
       "</table>\n",
       "</div>"
      ],
      "text/plain": [
       "        fare_amount  pickup_longitude  pickup_latitude  dropoff_longitude  \\\n",
       "count  5.542386e+07      5.542386e+07     5.542386e+07       5.542348e+07   \n",
       "mean   1.134505e+01     -7.250968e+01     3.991979e+01      -7.251121e+01   \n",
       "std    2.071083e+01      1.284888e+01     9.642353e+00       1.278220e+01   \n",
       "min   -3.000000e+02     -3.442060e+03    -3.492264e+03      -3.442025e+03   \n",
       "25%    6.000000e+00     -7.399207e+01     4.073493e+01      -7.399140e+01   \n",
       "50%    8.500000e+00     -7.398180e+01     4.075265e+01      -7.398015e+01   \n",
       "75%    1.250000e+01     -7.396708e+01     4.076713e+01      -7.396367e+01   \n",
       "max    9.396336e+04      3.457626e+03     3.408790e+03       3.457622e+03   \n",
       "\n",
       "       dropoff_latitude  passenger_count  \n",
       "count      5.542348e+07     5.542386e+07  \n",
       "mean       3.992068e+01     1.685380e+00  \n",
       "std        9.633346e+00     1.327664e+00  \n",
       "min       -3.547887e+03     0.000000e+00  \n",
       "25%        4.073403e+01     1.000000e+00  \n",
       "50%        4.075316e+01     1.000000e+00  \n",
       "75%        4.076810e+01     2.000000e+00  \n",
       "max        3.537133e+03     2.080000e+02  "
      ]
     },
     "execution_count": 4,
     "metadata": {},
     "output_type": "execute_result"
    }
   ],
   "source": [
    "train_df.describe()"
   ]
  },
  {
   "cell_type": "markdown",
   "metadata": {},
   "source": [
    "#### 3. 결측치 확인"
   ]
  },
  {
   "cell_type": "code",
   "execution_count": 7,
   "metadata": {},
   "outputs": [
    {
     "data": {
      "text/html": [
       "<div>\n",
       "<style scoped>\n",
       "    .dataframe tbody tr th:only-of-type {\n",
       "        vertical-align: middle;\n",
       "    }\n",
       "\n",
       "    .dataframe tbody tr th {\n",
       "        vertical-align: top;\n",
       "    }\n",
       "\n",
       "    .dataframe thead th {\n",
       "        text-align: right;\n",
       "    }\n",
       "</style>\n",
       "<table border=\"1\" class=\"dataframe\">\n",
       "  <thead>\n",
       "    <tr style=\"text-align: right;\">\n",
       "      <th></th>\n",
       "      <th>key</th>\n",
       "      <th>fare_amount</th>\n",
       "      <th>pickup_datetime</th>\n",
       "      <th>pickup_longitude</th>\n",
       "      <th>pickup_latitude</th>\n",
       "      <th>dropoff_longitude</th>\n",
       "      <th>dropoff_latitude</th>\n",
       "      <th>passenger_count</th>\n",
       "    </tr>\n",
       "  </thead>\n",
       "  <tbody>\n",
       "    <tr>\n",
       "      <th>0</th>\n",
       "      <td>False</td>\n",
       "      <td>False</td>\n",
       "      <td>False</td>\n",
       "      <td>False</td>\n",
       "      <td>False</td>\n",
       "      <td>False</td>\n",
       "      <td>False</td>\n",
       "      <td>False</td>\n",
       "    </tr>\n",
       "    <tr>\n",
       "      <th>1</th>\n",
       "      <td>False</td>\n",
       "      <td>False</td>\n",
       "      <td>False</td>\n",
       "      <td>False</td>\n",
       "      <td>False</td>\n",
       "      <td>False</td>\n",
       "      <td>False</td>\n",
       "      <td>False</td>\n",
       "    </tr>\n",
       "    <tr>\n",
       "      <th>2</th>\n",
       "      <td>False</td>\n",
       "      <td>False</td>\n",
       "      <td>False</td>\n",
       "      <td>False</td>\n",
       "      <td>False</td>\n",
       "      <td>False</td>\n",
       "      <td>False</td>\n",
       "      <td>False</td>\n",
       "    </tr>\n",
       "    <tr>\n",
       "      <th>3</th>\n",
       "      <td>False</td>\n",
       "      <td>False</td>\n",
       "      <td>False</td>\n",
       "      <td>False</td>\n",
       "      <td>False</td>\n",
       "      <td>False</td>\n",
       "      <td>False</td>\n",
       "      <td>False</td>\n",
       "    </tr>\n",
       "    <tr>\n",
       "      <th>4</th>\n",
       "      <td>False</td>\n",
       "      <td>False</td>\n",
       "      <td>False</td>\n",
       "      <td>False</td>\n",
       "      <td>False</td>\n",
       "      <td>False</td>\n",
       "      <td>False</td>\n",
       "      <td>False</td>\n",
       "    </tr>\n",
       "    <tr>\n",
       "      <th>...</th>\n",
       "      <td>...</td>\n",
       "      <td>...</td>\n",
       "      <td>...</td>\n",
       "      <td>...</td>\n",
       "      <td>...</td>\n",
       "      <td>...</td>\n",
       "      <td>...</td>\n",
       "      <td>...</td>\n",
       "    </tr>\n",
       "    <tr>\n",
       "      <th>55423851</th>\n",
       "      <td>False</td>\n",
       "      <td>False</td>\n",
       "      <td>False</td>\n",
       "      <td>False</td>\n",
       "      <td>False</td>\n",
       "      <td>False</td>\n",
       "      <td>False</td>\n",
       "      <td>False</td>\n",
       "    </tr>\n",
       "    <tr>\n",
       "      <th>55423852</th>\n",
       "      <td>False</td>\n",
       "      <td>False</td>\n",
       "      <td>False</td>\n",
       "      <td>False</td>\n",
       "      <td>False</td>\n",
       "      <td>False</td>\n",
       "      <td>False</td>\n",
       "      <td>False</td>\n",
       "    </tr>\n",
       "    <tr>\n",
       "      <th>55423853</th>\n",
       "      <td>False</td>\n",
       "      <td>False</td>\n",
       "      <td>False</td>\n",
       "      <td>False</td>\n",
       "      <td>False</td>\n",
       "      <td>False</td>\n",
       "      <td>False</td>\n",
       "      <td>False</td>\n",
       "    </tr>\n",
       "    <tr>\n",
       "      <th>55423854</th>\n",
       "      <td>False</td>\n",
       "      <td>False</td>\n",
       "      <td>False</td>\n",
       "      <td>False</td>\n",
       "      <td>False</td>\n",
       "      <td>False</td>\n",
       "      <td>False</td>\n",
       "      <td>False</td>\n",
       "    </tr>\n",
       "    <tr>\n",
       "      <th>55423855</th>\n",
       "      <td>False</td>\n",
       "      <td>False</td>\n",
       "      <td>False</td>\n",
       "      <td>False</td>\n",
       "      <td>False</td>\n",
       "      <td>False</td>\n",
       "      <td>False</td>\n",
       "      <td>False</td>\n",
       "    </tr>\n",
       "  </tbody>\n",
       "</table>\n",
       "<p>55423856 rows × 8 columns</p>\n",
       "</div>"
      ],
      "text/plain": [
       "            key  fare_amount  pickup_datetime  pickup_longitude  \\\n",
       "0         False        False            False             False   \n",
       "1         False        False            False             False   \n",
       "2         False        False            False             False   \n",
       "3         False        False            False             False   \n",
       "4         False        False            False             False   \n",
       "...         ...          ...              ...               ...   \n",
       "55423851  False        False            False             False   \n",
       "55423852  False        False            False             False   \n",
       "55423853  False        False            False             False   \n",
       "55423854  False        False            False             False   \n",
       "55423855  False        False            False             False   \n",
       "\n",
       "          pickup_latitude  dropoff_longitude  dropoff_latitude  \\\n",
       "0                   False              False             False   \n",
       "1                   False              False             False   \n",
       "2                   False              False             False   \n",
       "3                   False              False             False   \n",
       "4                   False              False             False   \n",
       "...                   ...                ...               ...   \n",
       "55423851            False              False             False   \n",
       "55423852            False              False             False   \n",
       "55423853            False              False             False   \n",
       "55423854            False              False             False   \n",
       "55423855            False              False             False   \n",
       "\n",
       "          passenger_count  \n",
       "0                   False  \n",
       "1                   False  \n",
       "2                   False  \n",
       "3                   False  \n",
       "4                   False  \n",
       "...                   ...  \n",
       "55423851            False  \n",
       "55423852            False  \n",
       "55423853            False  \n",
       "55423854            False  \n",
       "55423855            False  \n",
       "\n",
       "[55423856 rows x 8 columns]"
      ]
     },
     "execution_count": 7,
     "metadata": {},
     "output_type": "execute_result"
    }
   ],
   "source": [
    "train_df.isnull()"
   ]
  },
  {
   "cell_type": "code",
   "execution_count": 8,
   "metadata": {},
   "outputs": [
    {
     "data": {
      "text/plain": [
       "key                    0\n",
       "fare_amount            0\n",
       "pickup_datetime        0\n",
       "pickup_longitude       0\n",
       "pickup_latitude        0\n",
       "dropoff_longitude    376\n",
       "dropoff_latitude     376\n",
       "passenger_count        0\n",
       "dtype: int64"
      ]
     },
     "execution_count": 8,
     "metadata": {},
     "output_type": "execute_result"
    }
   ],
   "source": [
    "train_df.isnull().sum()"
   ]
  },
  {
   "cell_type": "markdown",
   "metadata": {},
   "source": [
    "-> 결측치(376개)는 전체 데이터(55,423,856개)의 약 0.0007%로 삭제"
   ]
  },
  {
   "cell_type": "code",
   "execution_count": 11,
   "metadata": {},
   "outputs": [],
   "source": [
    "train_df.dropna(inplace=True)"
   ]
  },
  {
   "cell_type": "code",
   "execution_count": 12,
   "metadata": {},
   "outputs": [
    {
     "data": {
      "text/plain": [
       "key                  0\n",
       "fare_amount          0\n",
       "pickup_datetime      0\n",
       "pickup_longitude     0\n",
       "pickup_latitude      0\n",
       "dropoff_longitude    0\n",
       "dropoff_latitude     0\n",
       "passenger_count      0\n",
       "dtype: int64"
      ]
     },
     "execution_count": 12,
     "metadata": {},
     "output_type": "execute_result"
    }
   ],
   "source": [
    "train_df.isnull().sum()"
   ]
  },
  {
   "cell_type": "code",
   "execution_count": 13,
   "metadata": {},
   "outputs": [
    {
     "data": {
      "text/plain": [
       "(55423480, 8)"
      ]
     },
     "execution_count": 13,
     "metadata": {},
     "output_type": "execute_result"
    }
   ],
   "source": [
    "train_df.shape"
   ]
  },
  {
   "cell_type": "markdown",
   "metadata": {},
   "source": [
    "-> 55,423,856개 -> 55,423,480개 (376개 삭제)"
   ]
  },
  {
   "cell_type": "markdown",
   "metadata": {},
   "source": [
    "#### 4. 중복된 데이터"
   ]
  },
  {
   "cell_type": "code",
   "execution_count": 10,
   "metadata": {},
   "outputs": [
    {
     "data": {
      "text/plain": [
       "0"
      ]
     },
     "execution_count": 10,
     "metadata": {},
     "output_type": "execute_result"
    }
   ],
   "source": [
    "train_df.duplicated().sum()"
   ]
  },
  {
   "cell_type": "markdown",
   "metadata": {},
   "source": [
    "#### 5. 이상치 확인"
   ]
  },
  {
   "cell_type": "code",
   "execution_count": 3,
   "metadata": {},
   "outputs": [
    {
     "data": {
      "text/plain": [
       "<AxesSubplot:>"
      ]
     },
     "execution_count": 3,
     "metadata": {},
     "output_type": "execute_result"
    },
    {
     "data": {
      "image/png": "[encoded data removed]",
      "text/plain": [
       "<Figure size 432x288 with 1 Axes>"
      ]
     },
     "metadata": {
      "needs_background": "light"
     },
     "output_type": "display_data"
    }
   ],
   "source": [
    "sns.boxplot(data=train_df)"
   ]
  },
  {
   "cell_type": "markdown",
   "metadata": {},
   "source": [
    "1) fare_amount"
   ]
  },
  {
   "cell_type": "code",
   "execution_count": 4,
   "metadata": {},
   "outputs": [
    {
     "data": {
      "text/plain": [
       "<AxesSubplot:>"
      ]
     },
     "execution_count": 4,
     "metadata": {},
     "output_type": "execute_result"
    },
    {
     "data": {
      "image/png": "[encoded data removed]",
      "text/plain": [
       "<Figure size 432x288 with 1 Axes>"
      ]
     },
     "metadata": {
      "needs_background": "light"
     },
     "output_type": "display_data"
    }
   ],
   "source": [
    "sns.boxplot(data=train_df['fare_amount'])"
   ]
  },
  {
   "cell_type": "markdown",
   "metadata": {},
   "source": [
    "> LA 택시 기본요금 : $2.85\n",
    "- 이후 추가 요금 : 1/9 마일당 30센트(1마일 당 $2.70)\n",
    "\n",
    "\n",
    "> 뉴욕 택시 기본요금 : $2.5\n",
    "- 이후 추가 요금 : 1마일에 $2.5 추가, 정차 1분 경과시 $0.5 추가\n",
    "\n",
    "\n",
    "> 러시아워 요금 : 평일 오후 4시~8시까지 기본 요금이 $1 추가된 $3.5\n",
    "\n",
    "\n",
    "> 팁은 기본적으로 금액의 10~20%\n",
    "\n",
    "https://kin.naver.com/qna/detail.naver?d1id=9&dirId=9020201&docId=345570482&qb=66+46rWtIO2DneyLnCDquLDrs7jsmpTquIg=&enc=utf8&section=kin.ext&rank=1&search_sort=0&spq=0"
   ]
  },
  {
   "cell_type": "code",
   "execution_count": 27,
   "metadata": {},
   "outputs": [
    {
     "data": {
      "text/plain": [
       "3834"
      ]
     },
     "execution_count": 27,
     "metadata": {},
     "output_type": "execute_result"
    }
   ],
   "source": [
    "# 택시 요금 0달러 이하인 데이터\n",
    "\n",
    "(train_df['fare_amount'] <= 0).sum()"
   ]
  },
  {
   "cell_type": "markdown",
   "metadata": {},
   "source": [
    "-> 논리적으로 존재할 수 없는 값이므로 삭제"
   ]
  },
  {
   "cell_type": "code",
   "execution_count": 28,
   "metadata": {},
   "outputs": [],
   "source": [
    "fareUnder0 = train_df[train_df['fare_amount'] <= 0].index\n",
    "\n",
    "train_df.drop(fareUnder0, inplace=True)"
   ]
  },
  {
   "cell_type": "code",
   "execution_count": 29,
   "metadata": {},
   "outputs": [
    {
     "data": {
      "text/plain": [
       "(55419577, 8)"
      ]
     },
     "execution_count": 29,
     "metadata": {},
     "output_type": "execute_result"
    }
   ],
   "source": [
    "train_df.shape"
   ]
  },
  {
   "cell_type": "markdown",
   "metadata": {},
   "source": [
    "-> 55,423,411개 -> 55,419,577개 (3,834개 삭제)"
   ]
  },
  {
   "cell_type": "code",
   "execution_count": 31,
   "metadata": {},
   "outputs": [
    {
     "data": {
      "text/plain": [
       "6.5"
      ]
     },
     "execution_count": 31,
     "metadata": {},
     "output_type": "execute_result"
    }
   ],
   "source": [
    "# 4분위수, IQR 계산\n",
    "\n",
    "q1 = train_df['fare_amount'].quantile(0.25)\n",
    "q2 = train_df['fare_amount'].quantile(0.5)\n",
    "q3 = train_df['fare_amount'].quantile(0.75)\n",
    "\n",
    "iqr = q3 - q1\n",
    "iqr"
   ]
  },
  {
   "cell_type": "code",
   "execution_count": 32,
   "metadata": {},
   "outputs": [
    {
     "name": "stdout",
     "output_type": "stream",
     "text": [
      "-3.75\n",
      "22.25\n"
     ]
    }
   ],
   "source": [
    "# outlier cutoff, lower/upper bound 계산\n",
    "\n",
    "cut_off = iqr * 1.5\n",
    "\n",
    "lower = q1 - cut_off\n",
    "upper = q3 + cut_off\n",
    "\n",
    "print(lower)\n",
    "print(upper)"
   ]
  },
  {
   "cell_type": "code",
   "execution_count": 33,
   "metadata": {},
   "outputs": [],
   "source": [
    "# 1사분위와 4사분위에 속해있는 데이터 각각 저장    \n",
    "\n",
    "data1 = train_df[train_df['fare_amount'] > upper]\n",
    "data2 = train_df[train_df['fare_amount'] < lower]"
   ]
  },
  {
   "cell_type": "code",
   "execution_count": 34,
   "metadata": {},
   "outputs": [
    {
     "data": {
      "text/plain": [
       "4773250"
      ]
     },
     "execution_count": 34,
     "metadata": {},
     "output_type": "execute_result"
    }
   ],
   "source": [
    "# 이상치 개수\n",
    "\n",
    "data1.shape[0] + data2.shape[0]"
   ]
  },
  {
   "cell_type": "markdown",
   "metadata": {},
   "source": [
    "-> 이상치(4,773,250개)는 전체 데이터(55,419,577개)의 약 8.613%로 다른 통계값으로 대체"
   ]
  },
  {
   "cell_type": "code",
   "execution_count": 38,
   "metadata": {},
   "outputs": [
    {
     "data": {
      "text/plain": [
       "Int64Index([      31,       32,       35,       54,       56,       77,\n",
       "                 105,      112,      118,      132,\n",
       "            ...\n",
       "            55423720, 55423726, 55423750, 55423755, 55423775, 55423795,\n",
       "            55423824, 55423828, 55423835, 55423854],\n",
       "           dtype='int64', length=4773250)"
      ]
     },
     "execution_count": 38,
     "metadata": {},
     "output_type": "execute_result"
    }
   ],
   "source": [
    "data1.index"
   ]
  },
  {
   "cell_type": "code",
   "execution_count": 37,
   "metadata": {},
   "outputs": [
    {
     "name": "stdout",
     "output_type": "stream",
     "text": [
      "11.346242184598474\n",
      "8.5\n"
     ]
    }
   ],
   "source": [
    "print(train_df['fare_amount'].mean())\n",
    "print(train_df['fare_amount'].median())"
   ]
  },
  {
   "cell_type": "markdown",
   "metadata": {},
   "source": [
    "-> 평균(약 11.3 달러) 과 중앙값(8.5 달러) 중 어떤 값으로 대체??"
   ]
  },
  {
   "cell_type": "code",
   "execution_count": null,
   "metadata": {},
   "outputs": [],
   "source": []
  },
  {
   "cell_type": "markdown",
   "metadata": {},
   "source": [
    "2) pickup_datetime"
   ]
  },
  {
   "cell_type": "code",
   "execution_count": null,
   "metadata": {},
   "outputs": [],
   "source": [
    "# object 타입"
   ]
  },
  {
   "cell_type": "markdown",
   "metadata": {},
   "source": [
    "3) pickup_longitude"
   ]
  },
  {
   "cell_type": "code",
   "execution_count": 17,
   "metadata": {},
   "outputs": [
    {
     "data": {
      "text/plain": [
       "<AxesSubplot:>"
      ]
     },
     "execution_count": 17,
     "metadata": {},
     "output_type": "execute_result"
    },
    {
     "data": {
      "image/png": "[encoded data removed]",
      "text/plain": [
       "<Figure size 432x288 with 1 Axes>"
      ]
     },
     "metadata": {
      "needs_background": "light"
     },
     "output_type": "display_data"
    }
   ],
   "source": [
    "sns.boxplot(data=train_df['pickup_longitude'])"
   ]
  },
  {
   "cell_type": "markdown",
   "metadata": {},
   "source": [
    "4) pickup_latitude"
   ]
  },
  {
   "cell_type": "code",
   "execution_count": 15,
   "metadata": {},
   "outputs": [
    {
     "data": {
      "text/plain": [
       "<AxesSubplot:>"
      ]
     },
     "execution_count": 15,
     "metadata": {},
     "output_type": "execute_result"
    },
    {
     "data": {
      "image/png": "[encoded data removed]",
      "text/plain": [
       "<Figure size 432x288 with 1 Axes>"
      ]
     },
     "metadata": {
      "needs_background": "light"
     },
     "output_type": "display_data"
    }
   ],
   "source": [
    "sns.boxplot(data=train_df['pickup_latitude'])"
   ]
  },
  {
   "cell_type": "markdown",
   "metadata": {},
   "source": [
    "5) dropoff_longitude"
   ]
  },
  {
   "cell_type": "code",
   "execution_count": null,
   "metadata": {},
   "outputs": [],
   "source": []
  },
  {
   "cell_type": "markdown",
   "metadata": {},
   "source": [
    "6) dropoff_latitude"
   ]
  },
  {
   "cell_type": "code",
   "execution_count": null,
   "metadata": {},
   "outputs": [],
   "source": []
  },
  {
   "cell_type": "markdown",
   "metadata": {},
   "source": [
    "7) passenger_count  "
   ]
  },
  {
   "cell_type": "code",
   "execution_count": 5,
   "metadata": {},
   "outputs": [
    {
     "data": {
      "text/plain": [
       "<AxesSubplot:>"
      ]
     },
     "execution_count": 5,
     "metadata": {},
     "output_type": "execute_result"
    },
    {
     "data": {
      "image/png": "[encoded data removed]",
      "text/plain": [
       "<Figure size 432x288 with 1 Axes>"
      ]
     },
     "metadata": {
      "needs_background": "light"
     },
     "output_type": "display_data"
    }
   ],
   "source": [
    "sns.boxplot(data=train_df['passenger_count'])"
   ]
  },
  {
   "cell_type": "code",
   "execution_count": 16,
   "metadata": {},
   "outputs": [
    {
     "data": {
      "text/plain": [
       "69"
      ]
     },
     "execution_count": 16,
     "metadata": {},
     "output_type": "execute_result"
    }
   ],
   "source": [
    "(train_df['passenger_count'] > 10).sum()"
   ]
  },
  {
   "cell_type": "markdown",
   "metadata": {},
   "source": [
    "-> 승객 수 10명 초과인 데이터(69개)를 이상치로 처리; 전체 데이터(55,423,480개)의 약 0.0001%로 삭제"
   ]
  },
  {
   "cell_type": "code",
   "execution_count": 18,
   "metadata": {},
   "outputs": [],
   "source": [
    "passengerOver10 = train_df[train_df['passenger_count'] > 10].index\n",
    "\n",
    "train_df.drop(passengerOver10, inplace=True)"
   ]
  },
  {
   "cell_type": "code",
   "execution_count": 19,
   "metadata": {},
   "outputs": [
    {
     "data": {
      "text/plain": [
       "0"
      ]
     },
     "execution_count": 19,
     "metadata": {},
     "output_type": "execute_result"
    }
   ],
   "source": [
    "(train_df['passenger_count'] > 10).sum()"
   ]
  },
  {
   "cell_type": "code",
   "execution_count": 20,
   "metadata": {},
   "outputs": [
    {
     "data": {
      "text/plain": [
       "(55423411, 8)"
      ]
     },
     "execution_count": 20,
     "metadata": {},
     "output_type": "execute_result"
    }
   ],
   "source": [
    "train_df.shape"
   ]
  },
  {
   "cell_type": "markdown",
   "metadata": {},
   "source": [
    "-> 55,423,480개 -> 55,423,411개 (69개 삭제)"
   ]
  },
  {
   "cell_type": "markdown",
   "metadata": {},
   "source": [
    "--------------------------------------------------------"
   ]
  },
  {
   "cell_type": "markdown",
   "metadata": {},
   "source": [
    "#### 6. 속성 간의 관계"
   ]
  },
  {
   "cell_type": "markdown",
   "metadata": {},
   "source": [
    "* pickup_longitude와 pickup_latitude / dropoff_longitude와 dropoff_latitude -> (위도,경도) 좌표 -> 거리 계산\n",
    "* pickup_datetime -> 교통 혼잡도 예측 (ex. 출퇴근 시간)\n",
    "* passenger_count -> 1인당 택시비(?)"
   ]
  },
  {
   "cell_type": "code",
   "execution_count": 6,
   "metadata": {},
   "outputs": [
    {
     "data": {
      "text/html": [
       "<div>\n",
       "<style scoped>\n",
       "    .dataframe tbody tr th:only-of-type {\n",
       "        vertical-align: middle;\n",
       "    }\n",
       "\n",
       "    .dataframe tbody tr th {\n",
       "        vertical-align: top;\n",
       "    }\n",
       "\n",
       "    .dataframe thead th {\n",
       "        text-align: right;\n",
       "    }\n",
       "</style>\n",
       "<table border=\"1\" class=\"dataframe\">\n",
       "  <thead>\n",
       "    <tr style=\"text-align: right;\">\n",
       "      <th></th>\n",
       "      <th>fare_amount</th>\n",
       "      <th>pickup_longitude</th>\n",
       "      <th>pickup_latitude</th>\n",
       "      <th>dropoff_longitude</th>\n",
       "      <th>dropoff_latitude</th>\n",
       "      <th>passenger_count</th>\n",
       "    </tr>\n",
       "  </thead>\n",
       "  <tbody>\n",
       "    <tr>\n",
       "      <th>fare_amount</th>\n",
       "      <td>1.000000</td>\n",
       "      <td>0.004133</td>\n",
       "      <td>-0.003120</td>\n",
       "      <td>0.004493</td>\n",
       "      <td>-0.003426</td>\n",
       "      <td>0.006131</td>\n",
       "    </tr>\n",
       "    <tr>\n",
       "      <th>pickup_longitude</th>\n",
       "      <td>0.004133</td>\n",
       "      <td>1.000000</td>\n",
       "      <td>-0.489448</td>\n",
       "      <td>0.728499</td>\n",
       "      <td>-0.476756</td>\n",
       "      <td>0.000787</td>\n",
       "    </tr>\n",
       "    <tr>\n",
       "      <th>pickup_latitude</th>\n",
       "      <td>-0.003120</td>\n",
       "      <td>-0.489448</td>\n",
       "      <td>1.000000</td>\n",
       "      <td>-0.458834</td>\n",
       "      <td>0.523991</td>\n",
       "      <td>-0.001732</td>\n",
       "    </tr>\n",
       "    <tr>\n",
       "      <th>dropoff_longitude</th>\n",
       "      <td>0.004493</td>\n",
       "      <td>0.728499</td>\n",
       "      <td>-0.458834</td>\n",
       "      <td>1.000000</td>\n",
       "      <td>-0.505088</td>\n",
       "      <td>0.001164</td>\n",
       "    </tr>\n",
       "    <tr>\n",
       "      <th>dropoff_latitude</th>\n",
       "      <td>-0.003426</td>\n",
       "      <td>-0.476756</td>\n",
       "      <td>0.523991</td>\n",
       "      <td>-0.505088</td>\n",
       "      <td>1.000000</td>\n",
       "      <td>-0.001807</td>\n",
       "    </tr>\n",
       "    <tr>\n",
       "      <th>passenger_count</th>\n",
       "      <td>0.006131</td>\n",
       "      <td>0.000787</td>\n",
       "      <td>-0.001732</td>\n",
       "      <td>0.001164</td>\n",
       "      <td>-0.001807</td>\n",
       "      <td>1.000000</td>\n",
       "    </tr>\n",
       "  </tbody>\n",
       "</table>\n",
       "</div>"
      ],
      "text/plain": [
       "                   fare_amount  pickup_longitude  pickup_latitude  \\\n",
       "fare_amount           1.000000          0.004133        -0.003120   \n",
       "pickup_longitude      0.004133          1.000000        -0.489448   \n",
       "pickup_latitude      -0.003120         -0.489448         1.000000   \n",
       "dropoff_longitude     0.004493          0.728499        -0.458834   \n",
       "dropoff_latitude     -0.003426         -0.476756         0.523991   \n",
       "passenger_count       0.006131          0.000787        -0.001732   \n",
       "\n",
       "                   dropoff_longitude  dropoff_latitude  passenger_count  \n",
       "fare_amount                 0.004493         -0.003426         0.006131  \n",
       "pickup_longitude            0.728499         -0.476756         0.000787  \n",
       "pickup_latitude            -0.458834          0.523991        -0.001732  \n",
       "dropoff_longitude           1.000000         -0.505088         0.001164  \n",
       "dropoff_latitude           -0.505088          1.000000        -0.001807  \n",
       "passenger_count             0.001164         -0.001807         1.000000  "
      ]
     },
     "execution_count": 6,
     "metadata": {},
     "output_type": "execute_result"
    }
   ],
   "source": [
    "train_df.corr()"
   ]
  },
  {
   "cell_type": "code",
   "execution_count": 3,
   "metadata": {},
   "outputs": [
    {
     "data": {
      "text/plain": [
       "<AxesSubplot:>"
      ]
     },
     "execution_count": 3,
     "metadata": {},
     "output_type": "execute_result"
    },
    {
     "data": {
      "image/png": "[encoded data removed]",
      "text/plain": [
       "<Figure size 432x288 with 2 Axes>"
      ]
     },
     "metadata": {
      "needs_background": "light"
     },
     "output_type": "display_data"
    }
   ],
   "source": [
    "sns.heatmap(train_df.corr(), annot=True)"
   ]
  },
  {
   "cell_type": "code",
   "execution_count": 7,
   "metadata": {},
   "outputs": [
    {
     "data": {
      "text/plain": [
       "<AxesSubplot:xlabel='pickup_longitude', ylabel='pickup_latitude'>"
      ]
     },
     "execution_count": 7,
     "metadata": {},
     "output_type": "execute_result"
    },
    {
     "data": {
      "image/png": "[encoded data removed]",
      "text/plain": [
       "<Figure size 432x288 with 1 Axes>"
      ]
     },
     "metadata": {
      "needs_background": "light"
     },
     "output_type": "display_data"
    }
   ],
   "source": [
    "train_df.plot(x='pickup_longitude', y='pickup_latitude', kind='scatter')"
   ]
  },
  {
   "cell_type": "code",
   "execution_count": 8,
   "metadata": {},
   "outputs": [
    {
     "data": {
      "text/plain": [
       "<AxesSubplot:xlabel='dropoff_longitude', ylabel='dropoff_latitude'>"
      ]
     },
     "execution_count": 8,
     "metadata": {},
     "output_type": "execute_result"
    },
    {
     "data": {
      "image/png": "[encoded data removed]",
      "text/plain": [
       "<Figure size 432x288 with 1 Axes>"
      ]
     },
     "metadata": {
      "needs_background": "light"
     },
     "output_type": "display_data"
    }
   ],
   "source": [
    "train_df.plot(x='dropoff_longitude', y='dropoff_latitude', kind='scatter', color='orange')"
   ]
  },
  {
   "cell_type": "markdown",
   "metadata": {},
   "source": [
    "======================================================================================================================="
   ]
  },
  {
   "cell_type": "markdown",
   "metadata": {},
   "source": [
    "### 전처리"
   ]
  },
  {
   "cell_type": "markdown",
   "metadata": {},
   "source": [
    "#### 1. 파생변수 - 날짜데이터 자르기 -> 날짜 + 시간 변수로 나누기"
   ]
  },
  {
   "cell_type": "markdown",
   "metadata": {},
   "source": [
    "pickup_datetime : 2009-06-15 17:26:21 UTC"
   ]
  },
  {
   "cell_type": "code",
   "execution_count": null,
   "metadata": {},
   "outputs": [],
   "source": [
    "datetime = train_df['pickup_datetime'].str.split(pat='', n=3, expand=True)\n",
    "datetime"
   ]
  },
  {
   "cell_type": "code",
   "execution_count": 7,
   "metadata": {},
   "outputs": [
    {
     "data": {
      "text/html": [
       "<div>\n",
       "<style scoped>\n",
       "    .dataframe tbody tr th:only-of-type {\n",
       "        vertical-align: middle;\n",
       "    }\n",
       "\n",
       "    .dataframe tbody tr th {\n",
       "        vertical-align: top;\n",
       "    }\n",
       "\n",
       "    .dataframe thead th {\n",
       "        text-align: right;\n",
       "    }\n",
       "</style>\n",
       "<table border=\"1\" class=\"dataframe\">\n",
       "  <thead>\n",
       "    <tr style=\"text-align: right;\">\n",
       "      <th></th>\n",
       "      <th>pickup_datetime</th>\n",
       "    </tr>\n",
       "  </thead>\n",
       "  <tbody>\n",
       "    <tr>\n",
       "      <th>0</th>\n",
       "      <td>[2009-06-15, 17:26:21, UTC]</td>\n",
       "    </tr>\n",
       "    <tr>\n",
       "      <th>1</th>\n",
       "      <td>[2010-01-05, 16:52:16, UTC]</td>\n",
       "    </tr>\n",
       "    <tr>\n",
       "      <th>2</th>\n",
       "      <td>[2011-08-18, 00:35:00, UTC]</td>\n",
       "    </tr>\n",
       "    <tr>\n",
       "      <th>3</th>\n",
       "      <td>[2012-04-21, 04:30:42, UTC]</td>\n",
       "    </tr>\n",
       "    <tr>\n",
       "      <th>4</th>\n",
       "      <td>[2010-03-09, 07:51:00, UTC]</td>\n",
       "    </tr>\n",
       "    <tr>\n",
       "      <th>...</th>\n",
       "      <td>...</td>\n",
       "    </tr>\n",
       "    <tr>\n",
       "      <th>55423851</th>\n",
       "      <td>[2014-03-15, 03:28:00, UTC]</td>\n",
       "    </tr>\n",
       "    <tr>\n",
       "      <th>55423852</th>\n",
       "      <td>[2009-03-24, 20:46:20, UTC]</td>\n",
       "    </tr>\n",
       "    <tr>\n",
       "      <th>55423853</th>\n",
       "      <td>[2011-04-02, 22:04:24, UTC]</td>\n",
       "    </tr>\n",
       "    <tr>\n",
       "      <th>55423854</th>\n",
       "      <td>[2011-10-26, 05:57:51, UTC]</td>\n",
       "    </tr>\n",
       "    <tr>\n",
       "      <th>55423855</th>\n",
       "      <td>[2014-12-12, 11:33:00, UTC]</td>\n",
       "    </tr>\n",
       "  </tbody>\n",
       "</table>\n",
       "<p>55423856 rows × 1 columns</p>\n",
       "</div>"
      ],
      "text/plain": [
       "                      pickup_datetime\n",
       "0         [2009-06-15, 17:26:21, UTC]\n",
       "1         [2010-01-05, 16:52:16, UTC]\n",
       "2         [2011-08-18, 00:35:00, UTC]\n",
       "3         [2012-04-21, 04:30:42, UTC]\n",
       "4         [2010-03-09, 07:51:00, UTC]\n",
       "...                               ...\n",
       "55423851  [2014-03-15, 03:28:00, UTC]\n",
       "55423852  [2009-03-24, 20:46:20, UTC]\n",
       "55423853  [2011-04-02, 22:04:24, UTC]\n",
       "55423854  [2011-10-26, 05:57:51, UTC]\n",
       "55423855  [2014-12-12, 11:33:00, UTC]\n",
       "\n",
       "[55423856 rows x 1 columns]"
      ]
     },
     "execution_count": 7,
     "metadata": {},
     "output_type": "execute_result"
    }
   ],
   "source": [
    "datetime = pd.DataFrame(datetime)"
   ]
  },
  {
   "cell_type": "code",
   "execution_count": null,
   "metadata": {},
   "outputs": [],
   "source": []
  },
  {
   "cell_type": "code",
   "execution_count": null,
   "metadata": {},
   "outputs": [],
   "source": []
  },
  {
   "cell_type": "markdown",
   "metadata": {},
   "source": [
    "#### 2. 추가변수 - 거리 계산"
   ]
  },
  {
   "cell_type": "code",
   "execution_count": 8,
   "metadata": {},
   "outputs": [
    {
     "name": "stdout",
     "output_type": "stream",
     "text": [
      "Collecting haversine\n",
      "  Downloading haversine-2.5.1-py2.py3-none-any.whl (6.1 kB)\n",
      "Installing collected packages: haversine\n",
      "Successfully installed haversine-2.5.1\n",
      "Note: you may need to restart the kernel to use updated packages.\n"
     ]
    },
    {
     "name": "stderr",
     "output_type": "stream",
     "text": [
      "WARNING: Ignoring invalid distribution -illow (c:\\users\\jooya\\appdata\\local\\programs\\python\\python38\\lib\\site-packages)\n",
      "WARNING: Ignoring invalid distribution -illow (c:\\users\\jooya\\appdata\\local\\programs\\python\\python38\\lib\\site-packages)\n",
      "WARNING: Ignoring invalid distribution -illow (c:\\users\\jooya\\appdata\\local\\programs\\python\\python38\\lib\\site-packages)\n",
      "WARNING: Ignoring invalid distribution -illow (c:\\users\\jooya\\appdata\\local\\programs\\python\\python38\\lib\\site-packages)\n",
      "WARNING: Ignoring invalid distribution -illow (c:\\users\\jooya\\appdata\\local\\programs\\python\\python38\\lib\\site-packages)\n",
      "WARNING: Ignoring invalid distribution -illow (c:\\users\\jooya\\appdata\\local\\programs\\python\\python38\\lib\\site-packages)\n"
     ]
    }
   ],
   "source": [
    "pip install haversine"
   ]
  },
  {
   "cell_type": "code",
   "execution_count": 9,
   "metadata": {},
   "outputs": [],
   "source": [
    "from haversine import haversine"
   ]
  },
  {
   "cell_type": "code",
   "execution_count": null,
   "metadata": {},
   "outputs": [],
   "source": [
    "'''\n",
    "lyon = (45.7597, 4.8422) # (lat, lon)\n",
    "paris = (48.8567, 2.3508)\n",
    "\n",
    "haversine(lyon, paris)\n",
    ">> 392.2172595594006  # in kilometers\n",
    "\n",
    "haversine(lyon, paris, unit='mi')\n",
    ">> 243.71201856934454  # in miles\n",
    "\n",
    "haversine(lyon, paris, unit='nmi')\n",
    ">> 211.78037755311516  # in nautical miles\n",
    "'''"
   ]
  },
  {
   "cell_type": "markdown",
   "metadata": {},
   "source": [
    "https://gaussian37.github.io/python-etc-%EC%9C%84%EB%8F%84,%EA%B2%BD%EB%8F%84-%EA%B0%84-%EA%B1%B0%EB%A6%AC/"
   ]
  },
  {
   "cell_type": "markdown",
   "metadata": {},
   "source": [
    "===================================================================================="
   ]
  },
  {
   "cell_type": "code",
   "execution_count": 11,
   "metadata": {},
   "outputs": [],
   "source": [
    "sample=train_df.sample(n=5000)"
   ]
  },
  {
   "cell_type": "code",
   "execution_count": 12,
   "metadata": {},
   "outputs": [
    {
     "data": {
      "text/html": [
       "<div>\n",
       "<style scoped>\n",
       "    .dataframe tbody tr th:only-of-type {\n",
       "        vertical-align: middle;\n",
       "    }\n",
       "\n",
       "    .dataframe tbody tr th {\n",
       "        vertical-align: top;\n",
       "    }\n",
       "\n",
       "    .dataframe thead th {\n",
       "        text-align: right;\n",
       "    }\n",
       "</style>\n",
       "<table border=\"1\" class=\"dataframe\">\n",
       "  <thead>\n",
       "    <tr style=\"text-align: right;\">\n",
       "      <th></th>\n",
       "      <th>pickup_longitude</th>\n",
       "      <th>pickup_latitude</th>\n",
       "    </tr>\n",
       "  </thead>\n",
       "  <tbody>\n",
       "    <tr>\n",
       "      <th>28864017</th>\n",
       "      <td>-73.978945</td>\n",
       "      <td>40.777317</td>\n",
       "    </tr>\n",
       "    <tr>\n",
       "      <th>46447492</th>\n",
       "      <td>-73.993408</td>\n",
       "      <td>40.751968</td>\n",
       "    </tr>\n",
       "    <tr>\n",
       "      <th>25498343</th>\n",
       "      <td>-73.952355</td>\n",
       "      <td>40.786502</td>\n",
       "    </tr>\n",
       "    <tr>\n",
       "      <th>3049179</th>\n",
       "      <td>-73.982923</td>\n",
       "      <td>40.781832</td>\n",
       "    </tr>\n",
       "    <tr>\n",
       "      <th>7686625</th>\n",
       "      <td>-73.971315</td>\n",
       "      <td>40.750957</td>\n",
       "    </tr>\n",
       "  </tbody>\n",
       "</table>\n",
       "</div>"
      ],
      "text/plain": [
       "          pickup_longitude  pickup_latitude\n",
       "28864017        -73.978945        40.777317\n",
       "46447492        -73.993408        40.751968\n",
       "25498343        -73.952355        40.786502\n",
       "3049179         -73.982923        40.781832\n",
       "7686625         -73.971315        40.750957"
      ]
     },
     "execution_count": 12,
     "metadata": {},
     "output_type": "execute_result"
    }
   ],
   "source": [
    "pickup = sample[['pickup_longitude','pickup_latitude']]\n",
    "pd.DataFrame(pickup)\n",
    "pickup.head()"
   ]
  },
  {
   "cell_type": "code",
   "execution_count": 13,
   "metadata": {},
   "outputs": [
    {
     "data": {
      "text/html": [
       "<div>\n",
       "<style scoped>\n",
       "    .dataframe tbody tr th:only-of-type {\n",
       "        vertical-align: middle;\n",
       "    }\n",
       "\n",
       "    .dataframe tbody tr th {\n",
       "        vertical-align: top;\n",
       "    }\n",
       "\n",
       "    .dataframe thead th {\n",
       "        text-align: right;\n",
       "    }\n",
       "</style>\n",
       "<table border=\"1\" class=\"dataframe\">\n",
       "  <thead>\n",
       "    <tr style=\"text-align: right;\">\n",
       "      <th></th>\n",
       "      <th>dropoff_longitude</th>\n",
       "      <th>dropoff_latitude</th>\n",
       "    </tr>\n",
       "  </thead>\n",
       "  <tbody>\n",
       "    <tr>\n",
       "      <th>28864017</th>\n",
       "      <td>-73.993695</td>\n",
       "      <td>40.746755</td>\n",
       "    </tr>\n",
       "    <tr>\n",
       "      <th>46447492</th>\n",
       "      <td>-73.978302</td>\n",
       "      <td>40.752567</td>\n",
       "    </tr>\n",
       "    <tr>\n",
       "      <th>25498343</th>\n",
       "      <td>-73.967817</td>\n",
       "      <td>40.800362</td>\n",
       "    </tr>\n",
       "    <tr>\n",
       "      <th>3049179</th>\n",
       "      <td>-73.971343</td>\n",
       "      <td>40.795105</td>\n",
       "    </tr>\n",
       "    <tr>\n",
       "      <th>7686625</th>\n",
       "      <td>-73.987985</td>\n",
       "      <td>40.734582</td>\n",
       "    </tr>\n",
       "  </tbody>\n",
       "</table>\n",
       "</div>"
      ],
      "text/plain": [
       "          dropoff_longitude  dropoff_latitude\n",
       "28864017         -73.993695         40.746755\n",
       "46447492         -73.978302         40.752567\n",
       "25498343         -73.967817         40.800362\n",
       "3049179          -73.971343         40.795105\n",
       "7686625          -73.987985         40.734582"
      ]
     },
     "execution_count": 13,
     "metadata": {},
     "output_type": "execute_result"
    }
   ],
   "source": [
    "dropoff = sample[['dropoff_longitude','dropoff_latitude']]\n",
    "pd.DataFrame(dropoff)\n",
    "dropoff.head()"
   ]
  },
  {
   "cell_type": "code",
   "execution_count": 14,
   "metadata": {},
   "outputs": [],
   "source": [
    "distance = []"
   ]
  },
  {
   "cell_type": "code",
   "execution_count": 15,
   "metadata": {},
   "outputs": [
    {
     "name": "stderr",
     "output_type": "stream",
     "text": [
      "WARNING: Ignoring invalid distribution -illow (c:\\users\\jooya\\appdata\\local\\programs\\python\\python38\\lib\\site-packages)"
     ]
    },
    {
     "name": "stdout",
     "output_type": "stream",
     "text": [
      "Collecting geopy\n",
      "  Downloading geopy-2.2.0-py3-none-any.whl (118 kB)\n",
      "Collecting geographiclib<2,>=1.49\n",
      "  Downloading geographiclib-1.52-py3-none-any.whl (38 kB)\n",
      "Installing collected packages: geographiclib, geopy\n",
      "Successfully installed geographiclib-1.52 geopy-2.2.0\n"
     ]
    },
    {
     "name": "stderr",
     "output_type": "stream",
     "text": [
      "\n",
      "WARNING: Ignoring invalid distribution -illow (c:\\users\\jooya\\appdata\\local\\programs\\python\\python38\\lib\\site-packages)\n",
      "WARNING: Ignoring invalid distribution -illow (c:\\users\\jooya\\appdata\\local\\programs\\python\\python38\\lib\\site-packages)\n",
      "WARNING: Ignoring invalid distribution -illow (c:\\users\\jooya\\appdata\\local\\programs\\python\\python38\\lib\\site-packages)\n",
      "WARNING: Ignoring invalid distribution -illow (c:\\users\\jooya\\appdata\\local\\programs\\python\\python38\\lib\\site-packages)\n",
      "WARNING: Ignoring invalid distribution -illow (c:\\users\\jooya\\appdata\\local\\programs\\python\\python38\\lib\\site-packages)\n",
      "WARNING: Ignoring invalid distribution -illow (c:\\users\\jooya\\appdata\\local\\programs\\python\\python38\\lib\\site-packages)\n",
      "WARNING: Ignoring invalid distribution -illow (c:\\users\\jooya\\appdata\\local\\programs\\python\\python38\\lib\\site-packages)\n",
      "WARNING: You are using pip version 21.3.1; however, version 22.0.2 is available.\n",
      "You should consider upgrading via the 'c:\\users\\jooya\\appdata\\local\\programs\\python\\python38\\python.exe -m pip install --upgrade pip' command.\n"
     ]
    }
   ],
   "source": [
    "! pip install geopy"
   ]
  },
  {
   "cell_type": "code",
   "execution_count": 16,
   "metadata": {},
   "outputs": [],
   "source": [
    "from geopy.distance import distance"
   ]
  },
  {
   "cell_type": "code",
   "execution_count": 17,
   "metadata": {},
   "outputs": [
    {
     "name": "stdout",
     "output_type": "stream",
     "text": [
      "[1896.4115351348714, 1686.075344419448, 1777.8762328892185, 1355.623156733049, 1927.7282757323214, 1325.795765545255, 1886.9278468201785, 1280.8799377825817, 4067.625887123399, 595.3495084829351, 3134.4151527130866, 452.47863104761694, 530.8135838010161, 1227.7679977929802, 12695.643201625708, 1167.1720602744151, 3717.1684536552657, 2609.666068197585, 2378.1818998779027, 364.05179603665005, 2026.7635961504097, 1863.7034322814181, 0.0, 7427.43772548147, 0.0, 1962.9323197207973, 300.32110238637387, 2715.6794648782634, 1298.1556979910138, 2158.371935409761, 3238.777430221083, 212.32803110445047, 1373.8012723196168, 1153.339914748058, 736.8157879234411, 1118.8979817105912, 1817.6563944108727, 3635.625059357136, 2824.6614310469495, 417.64859114272286, 1702.0891926857082, 576.9586221257287, 2186.260523812924, 2496.207202811026, 1327.2926329464347, 1362.932632937577, 362.9830926069533, 369.3632153435537, 327.3652880677983, 13390.056046149997, 1032.476336134277, 808.1264642531027, 260.29238713726363, 866.6247723845038, 1796.3599035383231, 1559.7148179204776, 1992.2050910392538, 2779.9031295657355, 2444.3806628466173, 2075.7668439453587, 854.8622521667546, 2297.696015005726, 1770.300473632617, 0.0, 383.9228335174196, 1694.5708911504466, 346.03862398019993, 1154.7923073067016, 985.6847955220887, 415.35505232451004, 931.9325687032714, 12457.175795303314, 13294.540868206317, 3379.402988705801, 790.078004562209, 1466.3062416572457, 1241.1507813600483, 1805.6012048981395, 2472.933861095917, 3825.161210590269, 307.3186290306692, 1140.0253334561078, 1004.0444345333741, 2768.3436578881588, 2536.5340712194698, 1285.0031321093572, 2076.375305067141, 1029.6865604607651, 6205.397479592, 1103.0543959336574, 6027.142467813241, 386.9881434086262, 1867.4487274264645, 1135.2915261252194, 2378.5911469929106, 926.0816996050655, 487.849955516063, 1021.5991844934866, 3195.2428310562273, 2473.6110862749974, 9192.698313534704, 373.5987830039486, 2517.4805690075195, 8084.1503507248935, 1466.8803829778103, 1691.5508763030223, 762.8868865157721, 9674.404002159132, 1532.4525843499591, 17720.59023459606, 1596.854160812432, 5821.974633277461, 1205.1201582822744, 4032.141680489101, 1601.9877570291383, 13147.39695603294, 3878.9293876011775, 2497.9161397057537, 600.354049633069, 536.3436888538877, 6961.801019768505, 12185.320515330273, 2042.9676526578228, 965.1016214562865, 859.3815341076809, 1859.101991329114, 1238.962987598942, 666.247526812664, 602.2322957196035, 701.8158707468127, 4953.984872818222, 604.7701399057062, 2790.948098585573, 2759.18140817209, 1177.8895302938902, 937.2906506065459, 2471.005701675291, 4754.533042796356, 0.0, 1693.8150314945424, 1294.9675452872577, 698.5636916029582, 384.0904667657481, 146.63769315384476, 1585.829532897016, 1030.523810396859, 5114.483309849949, 1552.4145152902363, 1264.6324956153264, 2442.061938567853, 11979.5947243363, 164.0465207937997, 1017.7208126731745, 3336.5510164344805, 1478.2158693060223, 1954.9429393308822, 1347.926069165799, 2694.245373002666, 3210.775842116514, 1088.4737552051458, 2145.5370542835312, 1676.7172796464881, 2751.017533938726, 4754.713000041208, 851.7099097559476, 0.0, 905.2856327382436, 967.293649070047, 6411.042692711345, 1067.3607579596107, 0.0, 1072.3679677797784, 919.9429861983813, 546.9398253533045, 3705.0156681243725, 22439.525290856756, 1991.4326025496132, 3961.0924759411264, 525.4391704874803, 132.95237586964606, 15253.021570688508, 1503.1068988417114, 2290.3122087160596, 2811.253771852763, 703.3333106413006, 1692.1541091975066, 1826.1288442068023, 1024.595966604137, 1118.0191802757488, 4028.253101320279, 16468.003390125996, 6748.147101759345, 2227.4255996944967, 826.6762505476601, 1949.7986953697782, 16472.278467977743, 28025.36322494438, 611.7878524803807, 2201.43491276684, 2451.3448628916553, 0.0, 3300.862090509777, 1318.5975588151823, 13278.473237056458, 1735.7012139430055, 2798.7779195775233, 1575.5256538977737, 349.78378922373344, 2273.0670997071547, 1023.6805507754367, 353.3475379278437, 886.9546964673091, 7322.905495210084, 20711.087244983086, 2509.2876076932275, 913.2745685804051, 3054.7421999158205, 967.4882382163585, 625.7534723572502, 12125.659617283523, 649.1385020061542, 592.942534064577, 2138.379689240175, 3911.880824516258, 627.4842671166404, 2533.355570810765, 3851.802138971422, 10095.665004197359, 12391.31401308468, 9209.525426650147, 1120.368423487919, 2461.416454588372, 1443.152694127916, 15060.648340568097, 5751.858797152632, 1350.164078563933, 1871.6717189619442, 1535.2383743208113, 1933.6905368458995, 1261.841145414816, 3527.5299997726975, 314.45621925578365, 14.214187772634707, 1253.8075381063816, 782.9098710230984, 13150.470504521547, 1732.6763061477775, 15071.168775733024, 246.98000023540789, 4917.494819353685, 6569.610776094953, 2084.327936158024, 1078.418047626722, 834.8999661502191, 0.0, 805.5237977475875, 4146.3772965576645, 20818.809258848934, 594.4269331688336, 600.5828196198247, 1273.7917586435742, 69.93780393306652, 1348.2477376843422, 370.14563616963585, 14216.308752058834, 1133.6311335336832, 591.1037335912865, 1660.4913758498283, 1395.8968510990455, 981.8558864765972, 800.8804787782814, 462.4311374524769, 808.5819139240648, 5687.4608304074845, 1391.8476664637733, 3948.923606649181, 764.8109797747653, 652.0818954361158, 2954.663306235789, 87.45805161516047, 797.5581145572665, 13520.494563335807, 2940.0202310828167, 948.7564241711258, 1922.2170705987962, 2132.153549444908, 2742.4999491508465, 1252.956304164267, 880.2087015842375, 10571.547443643765, 2539.275651495033, 5209.630973753121, 414.2021890036836, 664.3601695796632, 2560.2589277927127, 7626.865468765166, 2267.923326281144, 487.32985947666594, 460.8949175841364, 603.4269688254758, 729.5659130386103, 2917.858011064241, 878.7847219288907, 424.05541612903136, 5807.865461750534, 2095.2652363609363, 1057.7329913363665, 1301.4312933959118, 2422.98771567392, 4657.533506718294, 1164.6128466651617, 1821.042920096863, 1776.0300524680924, 378.5487231521181, 1989.300505559765, 1228.017128942037, 1661.9554280057582, 1880.4903310102225, 0.0, 5456.737761505231, 1384.6336287746074, 6726.938863366334, 478.36174826117133, 1155.44579441518, 1527.3907964979126, 2827.966307573478, 163.5331742081927, 3931.9993803108523, 21363.159708060677, 22140.293742715032, 1573.9029831179516, 740.1678943745155, 574.7811609496019, 2014.4796337382593, 4784.760628536711, 5234.880179830144, 295.46452370127975, 2322.4965035570344, 270.4079017352091, 16161.430741873872, 1332.0683603570333, 2544.603326909864, 891.2078180667411, 4257.304448764542, 1680.9251732040552, 2976.1593175507282, 2558.359387333592, 700.6416881096234, 0.0, 646.7183468665102, 1184.6345027151115, 1754.2764583265937, 1857.67339024118, 2296.773455113397, 7815.64720910865, 1339.3329673128217, 1681.955425874399, 1872.476091201821, 12083.846585086341, 1992.8110374407584, 262.57613311383665, 2532.154266352283, 12.317305169959601, 469.45660348611995, 3418.313098769333, 1779.2106272903893, 2115.1994310217756, 3628.764111793815, 535.3011282354197, 423.7389196594671, 1338.774623201547, 1656.5862160134488, 428.28689318566325, 193.91647926545824, 1642.730924991787, 15760.961890584653, 1136.3741610530435, 504.268349194934, 1112.453291223834, 1429.4449023018371, 4579.957026811518, 3223.3351572139372, 407.9022476354002, 11246.374214172265, 5265.20993383414, 2618.0529993481605, 1587.3289521333236, 4122.63470673747, 1213.030813989939, 1019.0577828576155, 3622.5529912736215, 636.2821359137016, 2788.96689196504, 3956.1008038352606, 1241.9138472094223, 2861.3515970440594, 16623.594184427697, 2645.8324822012632, 927.7296676957095, 12705.569272479404, 2406.6277486472713, 954.7564667496141, 3278.8683356304923, 1352.2661391728195, 7514.3194417441, 1734.082737160809, 2205.9168387052728, 963.1036677119735, 422.78242727469546, 1644.6567537486371, 691.5193606676577, 2079.1177454046506, 712.2430978219763, 1322.3008130169794, 455.1959918588926, 2155.1176898815797, 1176.4169059965548, 2698.8274388126347, 1068.1015952472278, 1678.8949499362548, 1121.507714748735, 624.157832305192, 678.1868494399422, 1922.5288414199279, 0.0, 0.0, 1776.2170266061537, 2491.0210948033273, 839.4854785277986, 1127.0547195439044, 3237.053948080264, 3273.664601202435, 3531.4692963705597, 2769.5826004283813, 1158.740424192656, 1251.4613697745917, 14698.149773721441, 23045.7590170836, 5699.628801976811, 777.5339907455523, 725.0436792903754, 1610.6752347972365, 2338.437524675219, 9020.734869257869, 646.8400516873089, 1489.9438149779032, 1183.336064599073, 1771.4724387365493, 502.62952542939234, 555.35949659815, 0.0, 938.2500559770333, 1581.3062462996074, 3628.3091863243612, 3197.747926924318, 568.6713788863435, 4938.50183405395, 4437.973843031887, 3528.491035837822, 2182.3333625497016, 2248.938079905894, 4081.0853658031815, 632.5248178015958, 2966.009748151183, 1252.9703252766574, 4352.725027916697, 2021.2698035680448, 1579.527038341452, 2395.5581963005925, 4317.943620508249, 0.0, 616.8668570996244, 900.121899246052, 671.357679907739, 1256.8492916083512, 1398.381367494943, 450.17977787587404, 2983.3117250318546, 11118.340725663988, 609.081675755893, 1261.3380603277985, 0.0, 199.72920619524294, 925.0539429071372, 933.4073011119107, 4651.256400209658, 310.111061156755, 1239.9326288111174, 2281.020794030373, 334.9502571541817, 1560.8930906368785, 516.758061605303, 1507.0579669316587, 13247.782207486873, 272.30773515794436, 1573.2029209819398, 4005.162820763779, 5010.245742982144, 3912.7196587552044, 355.8316199079191, 2737.9812217946464, 2827.269847649447, 1380.9662272196042, 458.77774506619755, 1765.5863190259008, 1123.368979314812, 1228.4472003310684, 2506.7537352145832, 2225.470678878985, 1273.2773116301566, 992.9322278825649, 2806.6913268457583, 360.3502586993462, 632.2793466056538, 0.0, 324.85693027377596, 4975.717966119581, 1711.2598028210775, 2252.253803090256, 24520.406007010624, 950.5579661647272, 1994.4426560383886, 2231.3044548946937, 2481.646452093952, 20878.091522989704, 1119.963143621971, 313.96513913719485, 1092.6669058319653, 1103.7439252176423, 3433.247210471987, 814.0281648340111, 587.8546754687636, 5755.449933199554, 5219.947314060442, 1008.324961924278, 2935.51493395635, 1364.6216328901583, 1821.6075067883032, 4197.92454326166, 1386.3674456738822, 537.2198931925997, 691.4670814740916, 1293.5051965541859, 1146.0958121374842, 152.7830503872104, 3463.7486623478108, 592.2469940635574, 395.3356559887616, 493.2445801856761, 744.1623417032152, 1504.78606963585, 1052.0700206161316, 577.3852018450527, 881.3367085502035, 957.6680002201219, 1076.1746514667864, 509.87444432113006, 0.0, 3684.501065627976, 2457.750288185989, 2186.461308848498, 1916.6871060292988, 674.783629156801, 310.24846270122026, 4158.92304859313, 5691.128677454663, 615.0322620257933, 55.01472502738566, 1218.8035501141655, 1692.2794340107475, 449.7558460681302, 1628.419190910258, 908.6393258095002, 872.7577719789825, 1371.2971019609915, 429.4615875281696, 12511.140579600924, 1983.612659919591, 4796.109618485371, 1449.7985900913436, 1575.8784674388535, 612.9660517377782, 1029.6582910722814, 535.2080161799839, 4241.564489846579, 0.0, 6441.496854056431, 958.4842867874853, 1377.8247575303792, 12939.957178987539, 654.1823789267504, 1457.8594997509263, 12768.270499444525, 0.0, 12980.139126121348, 346.45923267280284, 20364.54595437247, 1182.2559539142628, 2256.160771115457, 1061.7118314157751, 2271.919581484831, 4091.365975397726, 4059.5289617774934, 10374.52078702602, 732.1880332536421, 400.09658186064786, 2007.699918205255, 2036.551359851193, 2918.7631594536247, 1241.6505033440405, 1405.6262607361805, 737.9202821660703, 2301.5617850464746, 1819.6763936583668, 11393.699558268436, 299.53044389634204, 1247.213174920634, 1695.4484281376178, 6629.169786049936, 681.3853842409267, 1190.8063324045027, 1221.5265805798724, 1836.7469761074778, 2511.872799282505, 1213.6082762899075, 893.4234700356593, 1644.9135523054024, 1161.914625902489, 0.0, 5684.916380808329, 1218.9987416235792, 5151.6882891960995, 2811.8002509831094, 1817.6573124448105, 635.6886533034728, 918.8648257830642, 2287.4810656175487, 5959.222436641875, 192.8068835365881, 5136.056653563457, 1734.2392763138055, 3081.1131143984862, 965.870309237929, 1530.42848191947, 1376.9692641841789, 1321.6694922490553, 772.0929722456748, 2417.9737630363093, 1203.2545831311604, 355.42515327405306, 12983.810598436245, 1348.9555849249489, 606.8630209524239, 421.6851689556771, 1422.9471457627942, 2042.2754987747096, 626.669280992212, 1691.9216294607847, 704.874405646397, 1903.2223540057312, 889.2859343099586, 2947.8094943701817, 1029.9215229664358, 2354.5440540799186, 18409.72475713836, 1466.3792004836953, 1022.1998373996099, 0.0, 2780.769110950751, 984.4634868867141, 363.25942134745446, 1731.4294621719328, 1375.4853975247013, 2151.6435316419897, 280.5105550948852, 4403.523016850617, 1002.5852232205767, 1711.187905274358, 1561.0594164507372, 2309.5950849226633, 1187.9110657882602, 0.0, 0.0, 1283.8078010676306, 1247.9620272161042, 489.6412752678782, 2955.0359395675086, 2303.9888226982043, 12626.992817623075, 3404.5147688075986, 6961.167476344618, 1745.4901970762373, 925.8486957735157, 2235.195682942376, 938.8637025601989, 813.4183381848794, 968.8222928183322, 1250.7184244367247, 1284.4021065025365, 713.5684751415282, 5083.8158757948695, 1778.07759671959, 0.0, 3145.704978725357, 2559.890547162665, 1925.8905896992817, 10890.207226436414, 699.237665315651, 4814.796475187551, 4940.933251419675, 917.2266435673473, 4339.846199562139, 442.78917305807613, 469.7675455965987, 1625.427988896999, 1175.0759840763708, 2421.689921632364, 0.0, 876.8120127939608, 159.1863077410689, 198.85079193500192, 711.8657269076762, 656.1086145762995, 3582.5469478395903, 2456.9107003100426, 1488.783774905844, 653.0310105988418, 503.30495627446226, 2135.324027126844, 592.3702622840073, 1290.8101371290234, 1596.454634447585, 1715.4065819162938, 348.51944515367734, 4126.177281167156, 846.5041446291445, 4859.689827689545, 2534.1799212673063, 908.9369253500478, 2326.6945885512923, 6287.301502044948, 2390.720617615446, 559.0403759889434, 922.9076905983704, 576.5915072608666, 374.8569670209527, 1005.0031537132793, 13286.665837922, 1669.8284788043925, 972.1567958224638, 2451.059099462432, 837.7273104717735, 1023.5909935324111, 802.3335099450212, 962.7658066311742, 18551.171970801726, 206.63773862071403, 1689.967724996767, 1551.356228394749, 785.92115956694, 1424.9178346076594, 0.0, 417.98824446856275, 148.4474497147013, 1587.094083389129, 1911.1371420659814, 3024.4169960093814, 16335.071343217347, 10139.416216428022, 499.7674245359206, 463.68788657031666, 1390.964554675715, 99.94922583648162, 672.4152180717967, 703.807667856667, 989.2373505172559, 3682.026362310271, 3589.621402024108, 1266.1046555371856, 7393.272840429446, 3268.8175452134947, 0.0, 2849.548959459666, 2624.885803385844, 23699.3688042491, 1929.7098688689448, 1707.6680959814894, 621.8242901976308, 0.0, 826.077926014842, 2441.9738582608147, 1469.191664512345, 1572.3078615989216, 543.4221256462987, 0.0, 741.3568153390999, 1157.2996846612082, 651.3703765519545, 3999.293622178345, 3062.8403395113146, 1894.8019065375374, 640.8952620024735, 2451.532149870946, 2823.284091306532, 333.7486958302939, 7657.021446863733, 2003.0608233641267, 2727.1726630862845, 1793.2425966350481, 2472.8279840909327, 1731.0222441867145, 0.0, 593.7576132432876, 1075.7116532125979, 2415.853256658405, 12576.214469828425, 307.01182432034875, 19641.275755241903, 845.0231507272005, 881.2327391418517, 2077.982052928063, 1908.4300816789992, 909.9767378944401, 1658.9646974555103, 3970.665941047156, 625.1827605929366, 3339.117164305632, 4541.753618063831, 5719.703959757769, 13324.57827368791, 2644.520759993823, 271.96800924497984, 291.15536987815875, 844.1379213392325, 2892.0561188494607, 1195.8808109883432, 3378.716494005794, 203.1377845650316, 2837.947953666021, 0.0, 2665.307781534393, 2209.0575308335865, 2443.398029882641, 241.61161871411792, 2285.29999711431, 475.1618130210554, 13038.268696137542, 2196.39751494379, 1583.990516877645, 21943.50025103047, 892.5837349443999, 1784.9215383209134, 2416.878613006657, 1761.2576145889261, 1832.261265308039, 1247.1569509770088, 1462.0636117754564, 960.8854006186664, 552.8498780477503, 388.8106171820745, 2499.18461926426, 2065.184687021499, 3140.6617075236554, 686.4845243976404, 2136.018595591518, 1005.9488765384648, 2555.566571752108, 21874.353509987366, 681.828775530648, 1120.350734588326, 0.0, 632.4167121187144, 2999.433690406564, 1747.2116104003953, 3710.6509749608344, 252.08792261685176, 3611.067520303194, 232.555812210851, 849.3611095463099, 574.2916933136529, 2827.047144988814, 980.3201822745085, 1042.3347029204403, 2693.0444340777162, 648.8540705870901, 995.3566772804713, 3497.9926642463797, 3782.849118473185, 753.4913380090015, 12705.585464873187, 3719.8373671642726, 2872.9369506719745, 2090.4239290397786, 1884.7844076950382, 1303.4429810149409, 380.3868263903281, 1249.2363417925874, 2280.0665563309863, 992.6190561739386, 713.8662800841382, 2538.123931728227, 844.5090017355037, 4812.757126995509, 1429.5826655281305, 1606.1704809549965, 644.2785270862003, 12971.815790786219, 2098.7348575409355, 967.7669048128946, 4790.470789544013, 0.0, 2740.617476575851, 5716.936188955508, 1012.2987609585861, 8829.750196699348, 1928.564377495638, 2388.242680898672, 3185.227837897787, 791.2882793577605, 1421.097046333139, 897.6727825124175, 20590.707268632654, 1673.2006535085523, 2139.2585800248476, 17.105584304452954, 2917.8512575342866, 706.2712485301047, 1082.9962019629468, 101.58250589511225, 346.89742826892683, 2862.934020299403, 1044.8062724688732, 1823.4780693358086, 1094.1948045015324, 2358.334368517298, 1173.8300315737204, 572.6822928181809, 1441.2244002738112, 3191.742498453398, 556.0986569413901, 1637.2088661719672, 5579.62081754264, 527.6342027081074, 2986.6451983085394, 789.0637564347188, 766.1157905024905, 20806.663423136382, 1171.4947691775635, 713.829723692634, 1127.2892233395146, 1144.5581560574096, 714.3122015528602, 1152.8631264429462, 390.58138796635114, 250.82587493425513, 984.8053091852805, 1749.0720570010828, 2020.5474476180739, 5704.150426283841, 1477.7191636896305, 2465.7947766772245, 957.1985731277535, 2081.1301913480384, 963.2680379015165, 1715.9649452707745, 1661.8025557911653, 641.0849089961243, 1960.9198369072224, 3011.6137810418904, 1826.6108451946434, 5285.983048505979, 769.6755588054605, 1718.073379041659, 3357.643681527486, 1301.8638663080706, 1016.770079062209, 1522.5047419852724, 541.1501183616331, 5349.930397876218, 850.1253434965611, 1822.8120025262865, 3796.0532453857413, 1815.488500418544, 617.7335937091631, 3215.468366220109, 3127.0550470352587, 7987.794582073245, 1340.2890850601402, 2763.162598509132, 987.1348007116031, 541.682211502554, 606.5449036780019, 1510.9367232074408, 670.0466277001019, 1501.3213969443163, 926.2653080002679, 2554.9670815557247, 1422.9196193641928, 851.4313697809123, 874.1681220695616, 832.9544275305419, 2422.764491861138, 2571.7991693301747, 1387.7500030322676, 2661.4424120479403, 993.1781096428518, 2011.468189485324, 317.731904307154, 1050.476462956535, 6380.929080832957, 2160.441920043342, 4095.7650822633314, 760.6164794121189, 6641.581063090776, 3225.0371081684243, 4296.87520153315, 1145.2429457604403, 861.2261389112746, 470.34354772665444, 1024.6334729111652, 606.8594594620374, 3249.5896331022805, 0.4722338844293179, 2323.4159076447177, 1146.545434513119, 4051.1908367994643, 4189.3551465664905, 2990.651154517844, 2049.985128516759, 2345.4411690541037, 737.0755338825709, 212.91600757044694, 2381.1293141937185, 3705.875605037145, 2253.7766060145827, 4139.483219079129, 10728.903493795931, 2100.4557969007433, 3054.3411589371162, 965.300659324401, 3455.4956179449696, 5122.597306085142, 8656602.667833533, 565.7598002917855, 1623.5056644872436, 2615.3483920851295, 15110.04564438008, 578.5596856719067, 3085.404764250308, 989.1935470593305, 1550.9239723952398, 216.3869038855906, 0.0, 1564.046676559415, 1679.454867224361, 5578.148386377082, 3159.7028989782566, 571.3161715052686, 4007.2742676786966, 2450.6495173565463, 386.10627405447104, 566.0517585629477, 18049.848711955707, 2564.4089794966617, 1644.35430889792, 428.8473372941866, 929.2357250334161, 1310.094290687606, 1668.5663645711047, 1476.3659771768998, 997.9695111933228, 902.1289532009889, 2469.9817972101055, 662.5439384260686, 4357.20589804489, 2456.367325320581, 1335.0129618606575, 2303.0575288434634, 1487.9317960422677, 1177.2159084998502, 913.2988595629218, 3416.071450685582, 8656603.811276583, 822.4017439183372, 1660.9048268205172, 2046.9592122738893, 836.3053683300795, 583.5915440542176, 1395.313059788766, 2578.5159045523988, 4049.0009609958192, 1346.21058384343, 2235.0924265522463, 1550.6151123328652, 1179.4242449825567, 516.923504697551, 0.0, 814.5711346520715, 2167.998486281507, 961.4755053991353, 1225.7851647215225, 1696.3230364083743, 2305.632681273805, 5063.411071420413, 3632.9855745962755, 1190.4708486531683, 2903.4200752709767, 2947.5360657022015, 1510.3730014820114, 2795.6734355437047, 3945.8939283232153, 2294.6095339805975, 1511.9733403864568, 1888.5543442194778, 1160.4765051296818, 3631.531728032624, 798.7443881054315, 6623.2966891428505, 1266.374386330126, 665.7510345182782, 1216.375066216726, 1002.192047240329, 1373.6811520970548, 988.8069042120658, 3235.2070830674293, 1188.297638417895, 1757.0061512666425, 4304.62322032469, 1560.8242058266248, 777.4416768403605, 686.4282716201286, 8214352.952543746, 1631.792716941708, 1420.7114796992369, 4427.465463622479, 3940.883220418536, 15127.672988754, 22067.72365552814, 2859.828180639235, 1836.7876681438097, 1791.8906794721222, 7012.114858997061, 965.0880546076987, 748.4239270293925, 2917.466417089104, 5407.522893048871, 968.6418526872428, 0.0, 646.6556596700623, 1123.384809270682, 1580.4881288440433, 17253.343780301875, 1014.8993795382371, 4616.875798293951, 589.5639386542184, 1117.751343674219, 593.8507145685298, 1339.184460703145, 376.88531109330853, 1668.1931584658457, 1068.0451697425387, 2172.105552688145, 1423.2177454549922, 399.05608766534027, 4632.93490386102, 5027.508477327295, 1375.8413336550338, 3110.4983632148574, 296.8556838867978, 1001.8976162361477, 1095.4249469811714, 1204.5207044843205, 2635.499275642737, 11964.622876395393, 409.15745717126015, 1657.9560473489182, 499.0623336163127, 3487.0716147933344, 224.68747131283274, 11056.266537898591, 848.5425410839056, 402.6781631026537, 1818.0074476377636, 12741.681912265949, 2357.1816279812665, 3523.6851999980986, 730.8430826627969, 2163.617478918878, 1895.7573236911685, 1269.4853136102852, 6917.7732966747035, 695.1909731790239, 2873.5577542298706, 22314.77191780467, 485.6349087548129, 2165.7221653123465, 1517.0731110724257, 5127.795993945691, 18037.76805924008, 528.6984693838782, 2716.6358312345833, 2383.501621032214, 979.9923267989575, 1545.9830045247018, 1883.0017432888712, 3176.6854388934867, 1772.6086006932178, 581.9280307790591, 642.7291012804994, 567.0697926178568, 448.4626996568567, 1219.9788161922406, 1689.78776209028, 572.1940066745308, 0.0, 1398.4212284511243, 1477.9903797593875, 3245.329940780526, 1743.8342432389227, 11528.523799460576, 3004.91391012119, 1856.336996942923, 2564.805012480093, 346.5038545278581, 1228.513363860033, 1625.5462356184728, 516.874127860582, 1566.0572917861714, 1415.4455460500467, 1265.9444412822959, 10306.752857049725, 1150.2376257544536, 745.5332823438152, 16509.234032164728, 528.2111001020733, 2231.7253397903696, 404.191306475092, 452.37415585352863, 2252.748982258186, 1862.1669845643898, 835.9628347620711, 2691.9084955698813, 3100.4629952691644, 1957.1852061327136, 3912.5903181889694, 553.1405969934627, 493.0834441776629, 1592.7121623287176, 1423.3129646431257, 306.8738236751264, 1292.4250490039885, 6659.95657511025, 6594.735633410382, 1585.2188516523804, 2743.0684652179457, 326.94307768400427, 757.2369574262763, 200.96246274026194, 1248.3452528794805, 3609.012896986938, 825.0874266200896, 405.5427147899363, 813.8715601496012, 413.58190233590784, 1963.0378600502884, 1759.037931079223, 1392.2442330538004, 8657047.587429827, 2521.002974679442, 4586.003359242752, 736.45313241756, 1560.2192286173897, 1126.1990127111658, 0.0, 1126.761379108883, 2582.7835260370184, 1740.259322432099, 4209.419577000372, 400.535016712772, 4537.0329163978695, 3157.3031087148875, 1214.2653758969368, 0.0, 1612.3407785215418, 838.8972495215697, 742.2778637105824, 1583.5643475106176, 748.3843344000022, 2646.762967752513, 3146.304910280695, 1877.4514725830281, 11208.667200821892, 0.0, 538.3194124648027, 2941.093191488369, 880.3882371046457, 11588.465214557384, 871.2088153914533, 24855.127372010542, 1841.1804577681683, 1247.7452625784251, 1127.0539507292362, 1507.8754486219216, 297.32728084383547, 5481.656168314088, 855.8901035773874, 1960.3403870120112, 3018.559475839757, 1039.3410074068443, 2106.5645677869884, 3142.9496926325437, 295.69444910082495, 3757.505319436533, 3768.3275260715845, 2568.3287529842873, 1434.3253136204705, 16810.107381838854, 1994.7129334362528, 2125.538798707408, 5147.772735344738, 4163.5291482111115, 707.3451653169777, 1264.1785904500684, 994.3545811520167, 2880.6867240449355, 623.9211195157033, 6153.375484621213, 1972.6262879107735, 2460.884169244019, 3261.841886804362, 6152.120620796586, 509.5808149563356, 5213.185297026541, 585.5038135140517, 3694.946760968877, 1214.039694610896, 1895.9939519030108, 16666.452129883313, 8319.93317760593, 1770.293285519933, 607.8447559521953, 1868.4449757426125, 500.81870705664943, 13626.463594067971, 6087.332356251759, 0.0, 2315.5816220904353, 0.0, 1065.194895540814, 1754.024694746907, 3288.2593078987875, 1044.2613289702754, 11447.19518897414, 1816.6422543591098, 405.1317948926638, 2124.5593175648064, 2684.8833050392072, 817.9423363017745, 1730.700640202524, 3547.9905763098127, 131.6234990487189, 2901.6892562012517, 1317.9161226994472, 259.47848679612906, 897.9998575661883, 1666.27294043126, 2144.4274608944543, 855.5316866335373, 3064.4889375105863, 3542.670831758981, 3175.1395764285785, 1283.1314981801593, 3455.703338102651, 786.7667618968027, 2939.930540706775, 504.8729401932278, 1864.1053372968847, 1580.7702278637764, 1766.9539939999536, 1227.6894630542572, 2289.1197123590528, 1352.1072633624565, 4412.863797726631, 765.3207629663827, 22441.047992239564, 7639.242744257336, 1120.2968810523398, 663.4314567697244, 1571.9618385382576, 2797.4051351798043, 3583.4131202930475, 1089.949813187608, 807.034144890327, 369.15206300768114, 455.95220595163806, 959.4796771471936, 1266.264819897843, 1265.4828581056333, 774.4818059917084, 2071.1404055659345, 2737.4934774175526, 0.0, 22244.6972432478, 2832.8190625675034, 1565.5873669665705, 382.72083537150746, 18810.750951298265, 1925.5845618030444, 768.0402173431783, 1683.0014079798518, 1947.34695173213, 3847.1836573350256, 1795.2285402198117, 7042.845739068023, 1532.516425250196, 2070.0008371186614, 2549.169678634134, 14835.629044227611, 147.18265103018288, 1468.753276755606, 585.7233430997877, 818.134708863346, 2150.2543443357613, 757.6986574320556, 1885.6233479222326, 1205.4650581725216, 2599.5904965021646, 3611.36036545774, 1860.8608023446243, 18896.893857233947, 20783.026775604754, 3303.7745656567563, 678.3186858434656, 243.89944531613816, 1004.088502080565, 88.18437712778666, 7727.708461741719, 5981.859951152823, 1148.915459476373, 3017.6819934317223, 2117.6493090358863, 860.3676251646518, 553.5345763590009, 673.2364009781584, 851.0120037232401, 783.2411091590684, 0.0, 2541.55679179913, 2221.988748539199, 2576.0417563247897, 299.5850380552152, 1832.895238028224, 1670.549278922157, 421.5364605724312, 632.353096924372, 1389.0390302778897, 1567.7914031672467, 1768.832699547047, 3232.340969366221, 1443.1528373315402, 2733.6838971455504, 914.4829214831708, 860.3086765249394, 262.57741899304176, 828.7391795751336, 952.8254210109282, 4990.6667581567635, 359.11165274204745, 963.8485677584596, 1564.488988583541, 771.8120453995381, 727.2915490157721, 1930.3976352585137, 967.5651874136654, 789.1106106225915, 1796.7273480362094, 669.4478632066847, 6810.5686631441495, 3403.8531066548617, 2572.6939684845565, 15706.886829990326, 1275.6545661406765, 1448.4738070481553, 1208.58976286111, 731.327716798883, 1987.4622007349128, 2158.888820233098, 802.1500975987398, 1310.543600644985, 3465.613960491152, 856.2782875692559, 2098.7962364343007, 2764.8649844299093, 1401.597232721969, 3605.5686703905985, 470.2811867131812, 629.447010515864, 1649.4399622310445, 907.4189074602618, 7153.941715408785, 933.3274699199369, 754.6734203970368, 3153.6332489210736, 1007.4798764349322, 1440.1309719721162, 1970.2210052734033, 492.21628651214945, 1767.714402304982, 1369.8907441550245, 1230.840016121042, 605.9669317890332, 840.9453759027662, 15.466115513860716, 2058.9443120123096, 899.8039550301854, 22522.902285860862, 566.7671144263588, 0.0, 1461.5963845768022, 759.0113078076456, 357.0099121158559, 718.0838228154951, 1175.415506117019, 375.87542174001123, 6251.543840053803, 9486.188339926763, 514.5041779093182, 4550.578751509915, 1789.8912542476157, 763.2803027014058, 973.5958352880767, 1150.6841663223124, 2233.733737167559, 5498.809768454831, 3755.5272144012843, 19735.18473590853, 20942.378231987776, 1398.7453196843, 1384.8033273355118, 3020.545441932484, 1855.3866995430403, 418.382349064818, 12320.04559243552, 0.0, 2023.9125059642556, 1423.6608762759365, 1999.1393840983744, 160.7369640081295, 2127.7334265589243, 1346.3219999110208, 841.9040771681856, 2006.0015221822769, 0.0, 669.4985816246996, 5028.6793878712315, 514.2157564373821, 1016.0056969299593, 2096.8423751401383, 0.0, 2562.2299985114305, 1010.3743330172758, 416.2434451330177, 0.0, 1428.7738976180729, 1376.1674571952976, 7054.12423861232, 1492.0569458905256, 1273.5797116166432, 25163.05078491746, 2893.548783796906, 725.837790429411, 1941.8876999159459, 477.9997679584013, 435.89115166657314, 5047.168350885268, 1404.8455547320218, 4206.910166426061, 1096.7891025023412, 1290.6605263209992, 24589.36764096901, 12778.987875913595, 561.4931198888396, 0.0, 1140.098498365076, 340.7838025309528, 4345.310200814762, 1388.5810145166727, 526.5868287703366, 1123.7343524806586, 16019.964170730593, 2898.3283605039496, 448.04910434416365, 3436.448708807963, 1287.4621262119897, 16645.047403769375, 898.7927142172933, 1671.1723617559455, 5847.113494735029, 0.0, 5046.250935117865, 5308.465018145354, 240.7278732754423, 11175.84818099847, 699.7401668191685, 3779.5282652444525, 0.0, 1436.0401346921199, 1022.5560463368571, 1509.8111976500857, 1432.6267130315748, 902.5710903739165, 2811.2395653588646, 2107.778395069356, 5041.1103810939885, 2355.0195505957663, 1076.6834825842454, 4837.518751227173, 1974.7392145838726, 4111.971889071911, 657.044146226457, 0.0, 2037.8491338019944, 931.1230992283233, 1230.8775519016763, 1463.3391785496854, 1140.6555534862932, 22724.43405731203, 1730.8345339116938, 615.4677262928802, 1296.2388627289254, 1137.3669038033693, 12947.648605666682, 539.4889888557273, 13339.168333006333, 328.4591082772839, 527.528575905945, 4176.751555643308, 1935.4934635827672, 5205.424754715463, 0.0, 2696.133392287073, 1006.321738909767, 2177.467050366804, 884.832354870301, 1001.4085688043142, 1623.963014651855, 3496.2967459809724, 1839.6535481615363, 6.7979822628881825, 3234.63508713219, 2035.1537988261139, 3118.5420404313154, 4180.942693009203, 3032.1383440322634, 1160.7581435571235, 2038.427722360216, 0.0, 0.0, 2334.3441951611594, 1373.1006535708802, 2490.6052395124634, 1852.677806966948, 1710.9840477494436, 1643.8877574053722, 2684.0590927796443, 1108.504207095682, 1057.9617339880062, 398.34042824442935, 1982.6718800129552, 1816.381100795354, 597.202445271756, 838.151178500619, 369.30691289592306, 668.5179833360711, 5591.952054176666, 613.9589569885649, 2891.5262958748613, 1401.7366528183113, 370.96706525189126, 3632.350230152422, 2247.2648826920995, 1160.440673869021, 455.23712104743333, 145.47069311732, 368.71956722887955, 13099.298079146585, 784.5923649350051, 1931.205873079254, 0.0, 1441.977407443906, 3751.9742875125635, 2847.3067576674766, 725.9178171743874, 0.0, 0.0, 13159.958115838404, 6280.921734649739, 20172.495969534953, 662.118244801346, 2913.2586690762887, 3330.898749569895, 2456.2257572186863, 1259.4304074092397, 924.4343844809025, 2379.9579221885183, 461.2583600441892, 2626.4416090998807, 1959.1610943516, 879.6977765358776, 611.1413374312143, 1712.4402393343034, 271.4304655873464, 1909.605925510156, 1917.7937797994457, 2789.732118227476, 3664.631452319611, 1350.8689719581025, 1312.9083880691276, 4048.816912414589, 0.6952860435490688, 2019.5773811482413, 2642.460749349896, 3425.5843892771404, 1446.8905676885202, 5247.848955935247, 9085.743920899255, 669.2937482616597, 833.0828884352412, 777.7092091765221, 1208.0301065806352, 1184.2847053838725, 1923.273293443138, 4168.043862534524, 9965.5333353879, 837.8033099903547, 1079.4032457188548, 0.0, 387.94363859443484, 1493.1739818890112, 6244.776531193113, 520.931224344009, 3543.1915952447775, 3834.311352339635, 2213.530461236565, 1094.4221621019135, 1191.1382146934802, 638.2148140705182, 500.50310156530963, 1448.6936180016203, 12318.014131549697, 2220.204412315085, 687.157249254234, 165.70080369993352, 1202.2575330102438, 2137.378710683889, 23429.53722439494, 1127.6820474757856, 803.9721202051943, 4463.510801624812, 3045.427860992215, 390.33220239312556, 0.0, 3391.731353990701, 11948.259233147455, 5404.302026459583, 1679.0201128978506, 288.76935655734184, 1516.0559387562773, 0.0, 13680.563621863408, 0.0, 1682.3104521515716, 3480.724462312122, 510.4695963415271, 696.7275104662245, 22854.0255195425, 1364.241280823588, 4135.074018705071, 1253.5899317042997, 492.3631525864794, 1248.5872787303047, 2672.1193921863096, 8651084.262286548, 2226.1179690763192, 2200.8225943196135, 1062.9381410244046, 3271.895661050067, 720.4252732871737, 452.762841434049, 404.55201276241945, 3708.406417226234, 12165.333376508339, 1467.2580590898417, 4286.626476569529, 539.242288615358, 2228.974553509897, 2711.659769418967, 418.97595376302155, 2230.8189013580077, 3595.4477098288335, 5600.359939190471, 1672.0930185707066, 965.1653061154697, 509.4745492488901, 1139.699026316955, 1441.149515356636, 5710.541189196087, 2233.805267744093, 2566.9963818539914, 2699.6534308449527, 925.6231214881224, 1693.6463302896063, 398.98067479039946, 8146.389304192594, 962.9472051794934, 1257.0641906437304, 2020.3339595491582, 0.0, 492.4217488600646, 1453.0495748838118, 443.9983329662043, 1070.5432689308386, 11460.735618991568, 2612.5499448548244, 2259.3925393919317, 1132.765992039497, 756.2195175819281, 2085.893400626784, 630.8770508597253, 3707.980880914208, 14803.888937378973, 2395.5350997984124, 1452.8344252581496, 1061.871593762497, 302.051822884924, 1942.2638694028972, 1108.8997083094516, 0.0, 1149.7391771059456, 3680.1186465938076, 1400.2234789250265, 1127.128816169156, 1786.9324622230527, 893.4739278511483, 1129.9554275371133, 2063.767020358975, 3242.291900585941, 3485.3482185926578, 2409.8291679970666, 740.8584578545309, 360.57376992361463, 1985.7965800290478, 3161.528325934841, 2053.35805389871, 599.8165988999224, 584.8414691751888, 5016.727085033741, 999.7312299846487, 389.1210921914319, 279.98116176935275, 1091.7790102678514, 1001.6886774818319, 2722.6114901795627, 5073.553015045755, 2206.4023270250436, 1303.0550249351268, 948.0117052255221, 400.91959692588796, 3016.5972513278984, 499.0703659352109, 1012.2685142002175, 1830.4860727288785, 4715.228250792874, 914.5632772976007, 263.10766046752104, 4680.169583701969, 1890.4009478923606, 306.3234198492636, 9106.514855177524, 2673.153706853047, 1756.182112355566, 9205.27587449801, 2024.3966944937188, 1711.1496038602274, 1166.3344128363221, 0.0, 3393.1887433331476, 2175.358416197558, 1703.8575716141697, 1212.215995591952, 3630.0610566118658, 1895.3139382892418, 741.0916362260596, 22302.183092716892, 12146.79382631724, 5047.807923463411, 1010.0286833045125, 479.6167065255579, 3654.0056009526015, 639.4807119392798, 0.11160721651024161, 3840.6621474487915, 1038.3655832511438, 269.39647091591524, 286.9302377638962, 332.15213263573094, 862.0224976674582, 982.2385064633731, 1154.8402003245856, 1997.1949581278684, 1495.4420014357224, 0.0, 0.0, 2180.485583412067, 3153.6268519881683, 4159.661155300548, 2752.9373853986026, 3882.013392037667, 1056.276091455176, 1577.9498019109544, 1165.7050048788744, 3927.0912872255794, 4222.926757640197, 1779.8500949534566, 2182.3037484174724, 1685.3825683039634, 1515.4082716057235, 10929.187342715395, 463.964978851699, 843.8336430004427, 1349.1375191905074, 2119.346080993281, 574.3074327341685, 290.200765154167, 1386.5901689732082, 1040.9236715858951, 1633.9507558434807, 98286.71203415484, 558.4820229308639, 5728.418005172924, 997.4431410479258, 1468.0678916304114, 6378.823847385119, 1396.7835088531642, 2638.413238057403, 4975.624828521685, 22110.625284399717, 1696.106052995047, 1916.8007999210718, 1082.4446222109088, 341.6851503045635, 1602.5795823870312, 1103.437894603144, 3153.2182879209336, 2143.938594854046, 949.7165934431707, 1132.070559155995, 1396.7901831481843, 2357.566471735477, 1646.6079776307406, 2826.043161349489, 340.3617662960516, 495.8982482541209, 1489.744913599319, 1581.729838059987, 3362.3294172868386, 511.29053576981653, 5215.192800349131, 840.8801599919801, 1474.0541323035075, 1083.7265348687504, 863.4483573268284, 13328.329648612313, 1260.674843959296, 597.6323691548354, 350.2554937975128, 941.3502218473403, 600.6764130907773, 517.8941377357999, 1862.502204417208, 2939.5636252677737, 1596.813995016272, 312.22074076416976, 1013.52257604347, 1660.1700263168382, 1415.8213674216192, 628.2819704186473, 3861.5993890927634, 2979.9303053075137, 637.6799850709222, 2963.434319440271, 211.2550219024145, 0.0, 1092.1398421409392, 729.1610148949723, 2147.2617908424136, 2715.339281544789, 2485.4012210980277, 952.2569484311039, 1035.3408047353776, 384.669952452348, 1395.674199835888, 4245.852274219793, 3637.4554473770813, 9100.576382011941, 2255.6583982043603, 680.1436125127051, 2604.2367900870327, 1141.8058087453721, 4691.219747295142, 471.55735178280065, 2185.8364098787415, 422.6486355233591, 1632.691677505949, 2566.521202785142, 3564.061195270979, 1047.066892114716, 0.0, 487.2838435687226, 1718.4010637365886, 1152.9238785679365, 2592.6406542960926, 0.0, 3637.18207326357, 246.37323685976753, 1960.052245798342, 137.46184810511815, 2177.514647710404, 2697.310019272461, 176.03534401247347, 908.6010136967573, 2044.3981089815181, 1683.556129609319, 11412.026752899636, 1194.096594065404, 3386.0100722457673, 2672.7701623985754, 1844.1770978621955, 2960.616439818531, 3980.045949288279, 327.1140406991836, 8655288.488446249, 874.7506436423935, 1022.1195096855107, 12027.764322657618, 1660.336791861298, 2837.624263164113, 1699.5815680697096, 963.7967359219845, 1201.0249453768588, 3040.474464312905, 431.20723606245923, 4348.089078922003, 2296.777788101854, 2228.498762367908, 509.8805068294923, 215.33367345143657, 734.3006446238869, 1605.1355032125664, 1652.6801883695668, 4923.479830562949, 3069.9001752683916, 791.7747888650284, 629.9659454009035, 2931.9958231495493, 5206.95931401168, 1063.2481402831945, 939.1737926879769, 2904.445543300499, 1465.907332445405, 455.5401498660756, 107.19301218935823, 956.4254601527078, 1423.758962504555, 2376.8762445409966, 1164.071559326418, 1588.412920161185, 1105.3776746467433, 19.60772275864127, 1057.8521390952658, 25449.126627055222, 2036.3636908575397, 205.9876926889535, 22020.450190926545, 1649.5821227175206, 1209.8072091070856, 2309.073234422725, 4244.569088297379, 881.363138908263, 525.1197551108176, 1191.1284121963458, 1763.9166273160554, 77.66074712988423, 1482.1821529037243, 7609.7916222662, 1370.1940570863196, 2791.161115250524, 21696.22944220914, 848.6870251965834, 3153.0752035997225, 1388.9364692603338, 1940.5318542361208, 1426.3532132442185, 704.8661418271479, 1116.7721504031142, 761.7138128308438, 723.987132124615, 2385.012812936611, 2726.1643184936947, 1827.913548882377, 595.252826633985, 1802.767042463192, 12919.206765122331, 3121.9976119791295, 1899.5328651535567, 3236.5529529076903, 4214.326054712234, 594.1656448604177, 1868.91524771067, 619.0619747935123, 2240.2837144473224, 922.6280902996638, 1421.6833391279285, 1864.3333195184243, 4924.843868426007, 0.0, 23841.268833845665, 7704.483022547373, 2819.13949020522, 1538.5506579711664, 974.0308594789442, 692.5855446156258, 1423.9892905365782, 2979.1198045502465, 3324.5020309941365, 1826.0750664177865, 1408.614658885747, 679.954739176829, 844.091500793739, 2515.3310430142596, 21106.32146612144, 2667.2577466282005, 2074.1103278707774, 1472.2081594298868, 946.8374246864777, 1079.4991495198715, 13236.373499311336, 1103.9842409270934, 5721.738127362303, 893.6650083085325, 3185.9107832501577, 0.0, 1544.4641011517424, 969.1761231596317, 768.4211833602933, 2746.476131778244, 1353.6346863356214, 6353.626062915802, 2498.047911360342, 2797.4951487267094, 0.0, 641.9505559276279, 2500.141890572582, 772.0562843838502, 1314.9363506433351, 307.89847492679945, 885.3804393342315, 1893.1352827435605, 830.2171888857473, 804.3468638583195, 1008.1711941479234, 4732.415813222642, 2018.8356404143751, 555.5161662085382, 2092.3693928249877, 0.0, 954.1742493309831, 20841.92760312046, 7313.7743575637305, 463.20149004803335, 354.1814191065792, 3455.1320284160056, 1192.6544354357552, 549.4004865641365, 1007.0873349254208, 0.0, 9143.941819792464, 2174.066880074769, 1248.4732738893692, 2527.1662797195713, 1206.6606372087654, 6204.415816247905, 1507.2431820755737, 520.294182638117, 3440.4661262498475, 3346.74006364547, 1997.7095129979562, 989.0442759219717, 1144.341207262817, 2106.6627475840774, 3960.1187087701132, 2160.1850712908886, 2435.4245200697233, 772.602312459785, 200.7641474171572, 782.1797484261411, 1106.1361422075595, 4418.096852964523, 1004.1096826077487, 1943.1415897356153, 1026.6606886644, 946.804573216291, 650.3630935208828, 1009.3719268596866, 3776.7910003457896, 1135.678704262076, 447.65341222093446, 11562.39762280516, 3509.830251419547, 297.6036943533275, 1172.0235413237772, 12332.65068411654, 1066.6135754824757, 0.0, 1975.3978046638158, 3065.189154529505, 1983.9196873609192, 591.4710340682682, 1548.4389135044512, 1086.4447570161913, 3352.5707090482647, 1763.3192343856092, 425.43052136026427, 1101.7707649395525, 4389.411418446835, 2002.99145558973, 2324.4978362165702, 4557.760843217479, 856.5666690209558, 1565.0647839752394, 7777.534211602396, 1694.2181336235287, 1872.129128222561, 346.235260538137, 0.0, 1423.727397627164, 23492.02413902973, 11844.925483995155, 757.1625159415375, 1272.8650953647125, 520.7285343426653, 1426.2022375013555, 2171.4683163724276, 2340.496316416766, 825.6992454569696, 2288.1770719181586, 20793.561655987214, 2396.716753567616, 988.3324582243466, 1392.716860648844, 2767.7080240724727, 11688.640050043527, 2830.6389700525046, 2581.2443954389587, 1204.5364781977516, 424.0429881548871, 1632.2980771980685, 1874.557689636331, 11067.2351101628, 16822.735509543636, 1875.4349633165996, 14650.188126641226, 3504.4707829091, 4011.590078419417, 1091.3470877311013, 2322.4252242023044, 760.3440229361601, 8530.6187675064, 692.1336591977475, 2353.834459717832, 0.06144686905988324, 1351.1822125777862, 1740.0870663052171, 321.48492649003833, 1571.2082213563062, 3758.6023283769287, 2658.636325250893, 150494.50527201308, 1836.5782715434507, 738.7627471496805, 3693.9636092228047, 1261.65445263344, 2170.8553532273268, 12557.60707526452, 980.2828676798453, 2049.301963267276, 1069.027707755031, 1181.4454848467683, 535.9024041584586, 789.1208431278222, 12024.327927526341, 560.9002113395627, 1214.7271664315033, 347.4002116857102, 1438.4956399300106, 2874.3672799317583, 1065.465707762923, 331.4760767084466, 2044.48549201609, 424.25805393388936, 556.6927516555623, 864.9646434302842, 6718.355252098207, 873.3647170013887, 860.5913852579737, 1523.5482613128802, 8715.064102145003, 493.4842137523005, 0.0, 1849.6349749360174, 1301.6023386111356, 1992.9958166227548, 5195.691978184053, 3153.952718060663, 5207.037176205554, 335.8855776419861, 816.947622461854, 1221.8594234803986, 984.0949903360907, 299.6929668940506, 1546.8842081271882, 622.2928175617554, 1215.0276810037403, 2950.7476353069264, 1126.408841600572, 2448.7582651479684, 873.2881603936869, 568.2290502559614, 763.3985993120585, 3102.2230620601003, 16.51976396583926, 911.7056064460584, 946.5316375215718, 2450.155758970889, 3867.2770268087434, 774.1912139380668, 306.54985940833217, 5700.524123307166, 81.53546089079094, 2501.271974715258, 1199.5094000020115, 3316.7134026936683, 1088.5696962711309, 2473.612598955495, 1951.9774082917424, 755.4748684602602, 1553.776306717524, 3196.1237730722337, 2319.3337885281135, 320.11592751502496, 1101.1887506941118, 2926.45638080013, 1817.203189319762, 701.7401468067998, 3464.77076648091, 1087.7076738612136, 2771.8442719500495, 1601.7192843784449, 1137.9020401030566, 2537.532028083183, 1544.6029446340208, 11422.985669682534, 427.70618127681, 992.3822287067701, 382.292102651029, 2613.2396599214517, 1907.1149996369293, 1104.083932510471, 1903.0773011985516, 2712.7122480324642, 2491.6674144367867, 474.80924413751393, 1337.4726710541725, 1570.0923037250202, 1418.568179208279, 2018.9401468868623, 771.3658838582811, 1809.5664329401905, 687.0789162219344, 2177.3296806126964, 843.9249575675675, 1732.8872008453834, 708.738265240282, 1337.319704639583, 669.5912986806356, 1106.285580323016, 2047.453700357094, 8744.965507085786, 1446.3503212910007, 2349.40457523764, 705.4262193331684, 5717.156407063162, 12205.477481766507, 319.0196332784556, 1821.5508755861629, 4029.1901924128783, 4723.633275495464, 134.08189624975464, 2334.627247028946, 0.0, 567.7485050969461, 1969.2805365845893, 1970.0090808399384, 5099.685307089149, 1651.2308738192985, 0.0, 1210.176230699917, 160.3873831002979, 1520.0614252903201, 757.8125576066562, 834.9282417921464, 1741.5687289746656, 1253.0466756825224, 1321.8938349235953, 1133.571502875085, 350.78529049599894, 572.8226767646709, 3586.013180740634, 571.9515189421003, 3123.269537990766, 1543.2483281439354, 661.2367552457509, 403.61049566417086, 4109.115604058046, 2242.4543100420983, 2571.7411996269625, 3731.043650282526, 937.5189664969583, 221.49607142407535, 260.76778438870616, 1234.4297719262988, 5649.67400881521, 2927.8642268305157, 1158.0614107155657, 1410.246880514702, 414.83334632997435, 1367.394924662716, 2853.01611745629, 2455.3415440757153, 14992.259938862979, 1724.4159080508969, 1179.870016486575, 2181.448448549231, 6429.386519497206, 2972.1454195601314, 1075.0400517421647, 831.8086073502394, 2215.963735136285, 2393.5166177082942, 316.38901024351617, 2280.8008970540336, 1447.8431477605934, 3544.0792702725903, 3116.174744862711, 551.0541712194081, 2504.1986409996707, 693.1907745293978, 1648.435523567412, 4520.067280633361, 1068.7917217629085, 4396.91380799, 162800.08716885032, 2038.5133780401677, 2299.0563943440684, 1191.838150119916, 903.8228405877402, 0.0, 963.2535045891635, 1347.7172438019525, 795.3967463641243, 2104.789387790299, 640.9587182219929, 2147.4934445854346, 1075.2311793799665, 1551.0958488328404, 941.0857978063895, 0.0, 925.1193813570274, 5183.701253276783, 387.6467338213653, 1253.0393344254653, 977.0408867074893, 1698.787629394273, 0.0, 2516.7041777542736, 2851.183400475393, 2432.841165617564, 1711.1377037082, 3364.925751783388, 587.1461034025731, 14449.07549792553, 1663.4718455526236, 2930.825599525227, 1007.2383925593855, 17225.513881754883, 973.545054917377, 20152.433398810866, 3355.9926245684596, 1247.510087582808, 3132.9147851553867, 10744.796019388597, 2110.8850185638757, 1268.8489036450487, 472.1129967199682, 1390.9964678815884, 1095.9420215224827, 187.509404961904, 1123.7367848017661, 3997.592132017871, 620.4179035760815, 1572.192505515549, 526.0877979746026, 1277.8050533498297, 2895.4365607489513, 526.1691587359929, 652.5586035324718, 1438.9802367228156, 1881.944138488882, 8121.126912259701, 975.520489822789, 1047.0032484338603, 3951.358153581651, 1325.977520501115, 395.15796466622726, 3621.521920187918, 21703.97777092012, 2470.3656020836747, 1848.490632029271, 617.9696556668785, 467.863869928197, 9032.468177468003, 317.7741046449354, 6009.827723025292, 1671.7038015552807, 3029.90309292937, 22385.963186354176, 2889.568323578417, 1497.0635016502408, 16191.473078528383, 816.5859550444437, 1575.443714102782, 1372.3547070656334, 1254.0725876041606, 3370.938337048796, 2799.940449567742, 1439.184076822279, 1197.5348484293022, 1828.1154337411497, 1303.726078847573, 0.0, 217.2332853677879, 3772.1516169808233, 13397.280183070341, 0.0, 2808.125172509583, 757.456637268484, 544.9657285798496, 2131.2533101985778, 506.7045649918709, 1237.788130906119, 595.8796810738249, 4655.465460561809, 1521.903899940355, 406.61034748491863, 872.3202726325785, 399.5485031999136, 1628.868696007066, 2827.084697125389, 4039.932125337301, 19076.770076810895, 751.9237265020738, 2079.2087653664107, 2668.1133815081535, 2728.2825153807953, 3423.709191814905, 1708.8823134981662, 12817.259137261446, 254.94984059340376, 287.6503225567958, 2985.985596559242, 5474.96596584493, 5254.537570618035, 2970.689221767663, 173.6091293023803, 3743.1364323035973, 1323.677579739983, 1774.8764048335584, 5538.83344794362, 5497.366971727288, 833.355637048293, 1759.144170070317, 508.02362847328163, 1984.8054515555698, 986.7809209034441, 378.16388222155007, 1602.045610004836, 913.5965284403846, 12074.421457471331, 144.41558729249493, 9666.409031016517, 2006.4185099716467, 2314.5019612268134, 737.3040167068058, 0.0, 815.1267835193086, 0.0, 695.7678491130059, 2963.3817189095957, 1750.185361442987, 9342.69937527918, 227.87628898578214, 1268.8026134842164, 2038.4640067282191, 980.4286247809736, 968.157154962092, 1100.4631382092377, 1365.5480142847755, 1016.7777959880088, 2115.3663520928503, 3894.623771161336, 21159.388782715338, 268.2597690453936, 2260.507494112978, 2352.4761388743136, 18655.60129533498, 1485.621567000232, 1170.9918503054828, 4324.2364840395185, 2215.700810623191, 2544.657740229242, 518.2560176932665, 2770.350316412061, 582.6469868943158, 801.3985614581175, 2823.1526519822073, 1421.0088820172616, 1797.683670369757, 2574.790901905305, 1842.5413586291686, 584.1917551929221, 5543.842340081269, 324.4293772271235, 2517.5185468642503, 1900.843267569896, 6658.31910225232, 1781.163176644388, 1123.1488401825932, 2855.715499604249, 892.121951492697, 2239.3751851212655, 2159.213680920854, 830.7949536421286, 708.9780168080331, 356.9529121612535, 1634.0281262758888, 886.7132251018298, 2618.138713594685, 2326.3148259622985, 1925.2668834700323, 4222.141886191921, 5097.826404749967, 6260.369430148727, 606.7405592831458, 913.003260834114, 2531.6543296548157, 1305.0841646302295, 2215.187017350786, 1287.4704242880864, 1665.908601624732, 2938.395148631401, 1451.216540707318, 423.8366138208234, 778.8003511485383, 1641.2027038247552, 511.62834211816676, 0.0, 2934.271980986574, 2291.8105231801633, 3445.8772557095695, 341.34119713719804, 2928.9888256210374, 4354.826229491349, 1436.0326963075684, 1386.1716585471638, 2140.8191930211046, 3211.0529778183327, 3335.9790822181963, 1297.4820420052322, 463.00344317883315, 1385.5580652317992, 970.2436466923889, 1527.8474592514492, 988.78296512606, 410.13121098426325, 2673.0828494609837, 576.2327594344846, 2952.777526301782, 1871.5533747643174, 3266.4508257188427, 56.444229751077216, 1210.8703041383606, 18839.198710748213, 3621.2114829636826, 945.2769307631385, 2306.840608596977, 3643.645849714399, 1707.1192585689437, 1274.7818694262694, 314.1208293607176, 660.2210778915633, 1749.8296953046686, 443.745871468917, 326.45991377468147, 3890.201440047336, 910.4577815369952, 2775.2384054309555, 3251.4307915614536, 2633.151731162218, 308.7530818145016, 425.5338487835709, 2600.8052886107766, 7255.345284120902, 3887.6927780963065, 1368.1955021063334, 13423.968364065906, 2038.0052500441789, 4713.184514696566, 4118.20932067951, 4035.2288771115122, 12596.219731532241, 10731.588508844925, 384.65238558712394, 2995.9179237210087, 2920.5692421422596, 1239.6779505002494, 569.7137944551959, 2997.5319330391294, 842.2821256156423, 4432.811349769905, 4165.210436011133, 3118.150382604629, 383.62479830199874, 3435.8014462130286, 924.2645526207453, 820.6148436995678, 5201.054021207824, 3340.032000630571, 2686.358609600673, 684.8051329574851, 1710.7551833647635, 2793.591070355038, 1805.33972743747, 889.1107955618812, 2153.301650559667, 742.2834287181464, 807.3725544938252, 385.29607921351965, 2643.2091691793285, 1760.972318871562, 4076.281766626013, 3100.8130860998667, 697.0938471683983, 2336.444966454208, 1083.8721845022756, 1845.3068965604302, 1342.7642931774596, 2203.012956617425, 1474.8951272887016, 714.1529607777919, 2289.1958591116686, 1149.8033603694962, 2215.9667184973073, 658.5115534960672, 695.4849530583205, 3230.324362549093, 12944.739676474659, 3508.032418965429, 970.1989226325337, 1612.4122532542813, 6507.673043280108, 1968.957768591708, 1492.483060127738, 3068.18636866721, 848.8319714669619, 657.5948082877993, 523.3764537430391, 1008.7429129429606, 522.8756316792702, 2901.4388702676288, 1521.4471959569282, 1925.0690437254393, 2038.5991664209469, 15189.584189276024, 6795.532621199096, 898.4133717905045, 21278.323881703596, 1086.5673283351769, 829.1331142438733, 3434.8564326234987, 1182.740158467275, 659.3900299804919, 1010.2047573892652, 1838.6325652283488, 600.908144547534, 12488.481914437938, 440.8991376148924, 714.83596990747, 940.4380486829181, 4044.3713239777044, 1187.3410182538191, 199.02048363922654, 569.9441666585188, 2173.584531507629, 391.62274671286104, 1276.9091516104463, 538.6657487622695, 1137.757944945131, 2016.4041902065217, 7647.764881568313, 700.9421432410038, 3879.6412572839154, 3442.241832964944, 1273.4993981038685, 319.1393474823512, 7034.990200621539, 7910.547129061254, 3350.0836506714104, 3731.4651613647147, 308.5758626901026, 1830.1620268737327, 1048.8164515335257, 262.0183717461336, 6278.219645465933, 0.0, 3357.10928343354, 2884.447747539188, 2524.0929205070906, 369.8693652800186, 11825.413414536604, 2849.3146671775316, 2260.1712259013148, 764.74816474568, 674.4275465428861, 3594.1991067941135, 3969.4448376233763, 884.6733593804894, 2821.1750815822443, 3111.3740487372575, 2563.261205599479, 660.8659108581052, 720.10366882415, 764.2603824141984, 927.3259320510201, 612.856545086549, 0.0, 1337.6077389171785, 729.2637405799019, 1800.055974151701, 2601.4814875654697, 1414.3815138566918, 0.0, 2305.2868750307075, 5447.215168691596, 1561.0678342538006, 2993.8159277390223, 1550.3876590329292, 1502.7685704416085, 2152.7809576492973, 1244.7750962682676, 286.3664515376501, 3364.0235811140915, 305.8171356237968, 1263.3595774821595, 1200.5471244105383, 2550.3125320913946, 1231.2324246063026, 1243.7527241268297, 4313.143210833383, 6880.627277747289, 549.014830411869, 944.6373887112661, 459.0033478031104, 362.3903328606927, 1426.5543886598837, 2305.871881424241, 1034.566877390261, 1106.7362973584573, 1312.6231683050855, 2151.2103965314104, 12046.841231529792, 11132.931686593758, 2418.6664601604193, 728.5798681152078, 2484.8711234891584, 1400.9021216971234, 1405.2198339868148, 3809.079872665955, 6162.047431729918, 163.66354523853082, 654.2968968831705, 306.70419497721787, 2057.512199357038, 1032.1417356268694, 6708.867551590047, 4435.535741651946, 622.5589843011494, 6220.908472564755, 1097.7737675403673, 917.9073036609788, 4652.186308191064, 1850.2156760120797, 1250.4453946032384, 10805.756694282773, 698.5184989225746, 2822.5925526635606, 759.2603329049866, 4167.630582132796, 1666.9228987155834, 1584.9137004093056, 1101.6710971882467, 777.6782829973076, 0.0, 8658250.134762634, 2598.8942955932976, 12524.548879710626, 1878.418315125635, 2550.5953493493453, 1760.2271159701831, 2036.168563800255, 0.0, 863.2035041175355, 1287.416412205422, 1532.1988015491627, 2332.36606378566, 1354.8296296350775, 2075.740168346632, 1.0273108926351735, 4651.4763456175015, 252.48775153580206, 1253.3135823548255, 1094.6193367630706, 3357.9736276340955, 1585.0136392231489, 22020.895137049323, 1745.790851041094, 2472.0282240979927, 2390.594292146559, 1787.9389548517856, 1122.7130151793049, 383.73923649605155, 3114.1807727216633, 4625.855323680095, 2237.1146552233004, 354.9444580120514, 3877.162663419323, 11118.675901470024, 505.5520854091853, 1107.0446719436695, 1456.0975075878382, 1829.0935852787409, 4157.777920227612, 0.11160771216264564, 1906.3076875814954, 12308.539540229225, 3130.1164327479464, 846.0707296030147, 21670.84117956703, 845.3754278495425, 1070.4225759834333, 497.60764788244694, 3012.8866232445457, 0.0, 2495.382796126988, 1519.8700621516896, 1637.8186620947597, 647.3433381677329, 491.9313048342995, 1220.8268390331941, 1984.3525067724752, 2060.1234278639818, 1826.3946208886891, 1653.8472973181565, 350.5155739887555, 2591.0010854522266, 3723.984349876364, 335.68311463695835, 941.7902850278382, 1646.0771324807376, 595.4133087545708, 1226.1861007375226, 962.3190135133527, 470.55326734983583, 12027.657687717114, 22228.310911653425, 3428.808562116633, 11143.61815028395, 1710.5282783894154, 22371.27966934545, 1660.6365273290357, 907.6384059682666, 3702.0100270489265, 471.4669276658942, 3925.7716485675373, 2779.818066005784, 2248.2239331351943, 2443.7393602085235, 776.183042522871, 5344.827339728815, 1753.4631369248232, 4910.723726855237, 3902.77323742418, 6693.575869586836, 510.4795168549715, 1815.9960447728754, 12735.84693612091, 554.0718285144767, 2761.403935547204, 937.577019216343, 2303.972283088339, 14199.407491033026, 2059.959399722538, 3227.491142529252, 0.0, 1551.85319858968, 739.3493067608832, 13292.21285274902, 220.88767430479783, 757.4413341542542, 2023.8446299473871, 2049.338800686031, 850.4997475617698, 1329.138397166228, 306.7030197235387, 1054.4472760683116, 398.1329086703988, 3355.115114133152, 1264.6699932630243, 818.9191542893329, 3629.477172831569, 1000.2421378026103, 1582.9922850048627, 0.0, 1621.7678530095184, 593.8732490916178, 1169.7476044533996, 1996.4950151084372, 2387.380774514125, 837.8595746626197, 593.0525332135311, 1478.8272588602695, 1655.9294694867303, 1355.576939278538, 5624.2728251347335, 3474.0895855694507, 5221.873455479872, 1837.8463174106214, 1625.7631567079889, 520.4021155061754, 1168.39293161873, 2535.739750347566, 207.98775672090875, 841.9001734889354, 1295.7292902291138, 865.809099662952, 4280.605011151788, 1417.3239633724327, 2524.585769318385, 2437.1114952958237, 1698.9607361294882, 8210210.807231211, 1314.545016164719, 2493.878160599891, 0.0, 7459.30711855111, 747.1826712402786, 400.73175704214225, 2983.7811247280547, 765.4706574474683, 4986.790267368956, 8638875.73034276, 283.01167404858893, 1174.8515866118678, 1749.373260355028, 3134.2964900690145, 2125.1592504706296, 5151.493862862414, 14217.708775962219, 3421.1348104718622, 2447.084757383807, 1761.8019468219218, 876.2219484740212, 383.66363040217044, 1276.004792349286, 648.9807031955314, 634.3202771277727, 3169.906563409904, 0.0, 1623.1530713332654, 785.8315144616591, 2509.056493664708, 843.8730876707259, 0.0, 822.7324722325747, 1151.8628152967258, 326.07586368884296, 567.811356577876, 474.81181324434783, 3185.7273979349575, 1961.1248630460143, 1693.1168349212892, 2241.731039466512, 1838.1089104635912, 1285.0588524416453, 2897.7406862748976, 376.8445378075128, 4471.688757129455, 759.6764096954138, 2646.6192113702377, 144.76406941207927, 615.3934056598022, 280.0745550837816, 1444.4067132596235, 8847.109771569081, 3301.9688591316794, 1668.060470207346, 4682.266758443191, 2348.3300447670313, 363.15104334337883, 847.7747292317915, 2583.8194355987152, 0.0, 597.7978202973858, 651.1081324065241, 3639.135784835413, 3698.47613594119, 4063.5951357139365, 22620.324214633012, 1730.904223969194, 2449.329605355695, 2358.8372859568026, 1119.7143692870195, 1612.2271929711303, 3749.977764056458, 5471.310037058679, 236.57794114831245, 407.89656901636573, 0.0, 1789.4658221817397, 245.11038976238893, 695.1471687283749, 2133.5401030121016, 304.1527348281191, 3422.0455487853023, 1984.7037889923588, 2159.827269475924, 380.26429263858506, 6994.875019521386, 709.5111236640042, 3277.2418238389882, 1271.56813719952, 1198.4501658205463, 287.34097564838186, 1426.8338814765452, 1204.1203536216767, 1921.80833569351, 3370.1733319142627, 284.3815736301144, 389.3248198394871, 4763.415301047705, 1682.7279993792486, 1947.1435373660086, 459.58971921933073, 1190.6737550750913, 1240.2803776966377, 9102.564874239717, 1234.2998986149773, 0.0, 2076.368636915028, 1230.8169895111653, 1927.3121261931117, 2401.5610238262366, 252.13400855203116, 1157.9797330046144, 689.2286390610697, 1136.6511047811648, 791.2754657206058, 3146.694702841212, 1398.5344854036111, 1647.5755102982769, 1970.7103349877357, 1351.879643878581, 1021.4385176702539, 404.2505349325242, 1608.5437086913614, 1082.8587810039605, 13170.528657965795, 1884.4509941402562, 533.7008882782657, 14397.102502360443, 718.7351901178888, 1510.5005514797313, 1070.1085389030886, 415.99881773290264, 16406.87026047412, 427.9504919242309, 1087.8610314782052, 1307.391877600956, 1205.6081890599821, 1236.8615805534923, 24783.82516497435, 3847.5263320742847, 1274.4989291384788, 1517.840096161894, 3779.4828755432673, 1466.2260925549829, 591.0173492228399, 1994.5368035258102, 1497.27852884523, 4166.789796015123, 743.0927846818247, 981.7284860111173, 1377.9837952038229, 20597.506653006454, 1346.413817385403, 2070.7647686492783, 359.7215396913228, 1438.1149476495632, 1933.0920350419096, 1698.5400388020742, 2431.325484756594, 1023.0442264592061, 3377.508721529529, 2226.05042016418, 383.95954404470586, 1216.8576197306302, 2300.157681382137, 13352.729798482871, 1539.0666481803578, 1228.407086048229, 1883.8852964258924, 1081.359765690528, 444.26836462968106, 1572.2954175534564, 1907.3266320279915, 1475.3335110397527, 1460.290156074161, 390.4523823227559, 2484.6867220747254, 1281.6412717298726, 15133.482391274842, 2060.701379099874, 3842.865279629023, 1836.0804040878468, 2265.3389294396534, 9758.845911217464, 1547.5623726987044, 1015.8275370952867, 1230.8252265050833, 3436.1457190017086, 7182.6793343857835, 2360.5746311285084, 1332.9376019156275, 19815.7983669374, 2294.125123433888, 1178.0231382041065, 2011.8101604750707, 1687.9582083919947, 1009.5047536145767, 460.8075883810544, 3068.6095689811887, 3694.32268476727, 1053.4720033120404, 1651.3073606978453, 5384.982236884763, 1532.0552603500341, 745.7402637628977, 1054.4094237595602, 1257.0426688449973, 1577.0677258078701, 1323.9248614647206, 6394.949837269757, 2785.599835100266, 2289.197306498335, 1103.4916233803824, 2868.7622442824654, 1515.5770035681405, 4162.804104057918, 867.628125260124, 1285.1464193327079, 1819.265506211823, 0.919124515444923, 890.1855805230266, 3025.966569899458, 2557.845439246347, 1498.4222412555937, 505.189975346277, 1234.9143108136548, 3103.909149320714, 1132.0949423211084, 1403.7447004579733, 2160.515577057416, 477.3008087735659, 1762.474461995665, 434.30207522791875, 1396.9916323108318, 3961.5958466355482, 0.0, 796.0175839418623, 774.7162579149067, 1450.7736584684887, 946.4954061954513, 3403.913092995286, 2655.269444850356, 5127.351832889566, 2578.076034529683, 1361.452698744841, 1075.0808854108475, 11397.307543345016, 538.3700235509006, 925.6946869397319, 4941.073004228986, 1223.2956103498443, 2267.976876643644, 11916.363900506061, 1683.8668765460923, 2774.2677568979393, 1101.7553788436799, 2004.8672815593407, 1462.2860677320537, 797.5421183937513, 569.9529758250632, 955.9562888091019, 12726.15002994174, 3308.896338798814, 1850.8641527313218, 1281.1880191711173, 569.0967169450851, 712.0531329843526, 1329.5378577261704, 3561.3625979058097, 2083.7253246133673, 0.0, 509.9497019234268, 0.0, 2662.171979688675, 697.8192866947452, 7183.1714016100395, 7662.669090287741, 1016.5620544885852, 3586.6567959638687, 1979.9311539084058, 2113.438072077833, 529.7786606144845, 347.5852334506157, 900.4364411279211, 2916.381253579448, 4227.498946514687, 2043.5107026479575, 1124.1329748280284, 1743.9225525698507, 284.5786268914455, 465.2962538335896, 954.4490251212487, 4567.876252127072, 3362.244104309024, 1703.057970688656, 1718.021342123861, 2378.5077491790976, 1613.2253619059354, 1137.293144941236, 564.0695878740003, 2431.224111502701, 1143.4123919093736, 3119.8131517659554, 1383.838553962425, 3592.839761448611, 2206.3195855925615, 854.5442678902822, 5031.248479571995, 1834.2262755041154, 1138.838771948381, 1670.1400478040887, 206.73526078165958, 0.0, 656.6075671041635, 2145.959425825247, 766.0734143183141, 857.7043965214018, 1029.864129147922, 345.74998860000574, 8355.571781360599, 1632.5172942169384, 25099.302352207236, 2855.9163009961426, 1886.0040371670525, 1609.6590809190607, 2043.9084333404717, 23538.35005581266, 952.4850150770125, 473.7562557641106, 1640.5668945909279, 2710.222477173485, 15610.045807665085, 1007.9889095400652, 3251.6332033058407, 12354.096513970166, 3623.160755471495, 2054.0238148816347, 1114.3765901268166, 5328.746848249421, 13.994535647525494, 1394.7242037319622, 2696.206933853505, 1019.739655507775, 4894.248556065319, 1239.6066831533024, 949.0311812478681, 1159.1524103662377, 1034.487425892966, 634.3314454986415, 1375.4359365068888, 985.9534623572752, 1655.9401401799016, 297.48279823494374, 2063.4555449940863, 1621.933688948893, 2163.85055835678, 972.6432694486874, 1227.7227943001872, 1459.6032209177615, 1843.0044994327543, 886.9535050257192, 1831.9921245255648, 1503.921775758595, 14874.065804270276, 2269.3277986841, 10120.42150309468, 22779.241907865184, 2648.615991915909, 6778.962747551189, 96.98703832114687, 1428.3471585113575, 3589.7128221377548, 5555.543623231941, 2084.0406526784564, 534.6333765265098, 1779.0396382766507, 2769.609630300663, 1064.5251030275303, 0.0, 775.5540844482118, 784.5254018450172, 7.3470863927897865, 20856.409180431812, 0.0, 2740.2525045077064, 852.3962699474027, 2761.8029414312277, 3108.6027163168696, 949.3028965779067, 1932.5374597064972, 5427.877265752265, 2348.1768271214455, 1238.9875966812722, 5760.360150309843, 14861.692413209976, 3184.0887884271406, 1885.2563700740773, 213.19930721615768, 160.94131264958094, 894.6365040420199, 675.8258360905864, 1390.6770854464492, 22989.424291677915, 611.4754990774085, 2442.149211485535, 1023.7436079123299, 511.29427797918004, 1637.9120882828065, 1714.8650493445994, 523.9240084171623, 369.8899286031195, 693.5172275370908, 1084.7163173439478, 576.4813189981913, 2302.0641171327834, 1.9013463315415018, 3254.7428159658575, 210.8947364426189, 1357.4357916830454, 1173.9282092393432, 275.15900412005334, 444.6467557647451, 243.89975228762663, 762.8648619478214, 10995.238365531266, 3972.936919531032, 96002.19970816639, 587.9639383762222, 3356.00012564538, 688.3557104734028, 554.4227848040215, 1511.9329752044605, 3794.5827079180203, 3596.9362998363476, 837.7238682157966, 678.6787707811764, 1095.1565273048327, 4046.7442796771634, 1607.2544119879028, 1304.5818652898508, 2111.8171200209777, 4699.284197585143, 1650.9979430259464, 1797.6785867442945, 1137.9553337242228, 315.32075879988787, 2043.0697844488232, 1438.5446291722506, 1337.5827213153482, 1230.0417653234965, 1215.675270727229, 849.1668888708601, 1130.5015070686568, 3673.1509736510743, 1304.2688215565415, 750.6992174263386, 3937.3773759143205, 2901.4839844378143, 2538.242952430818, 0.0, 1067.3999278544363, 3718.5456268965663, 0.0, 967.9938899542325, 1786.2370524466894, 1255.0414180882924, 2032.3054814202578, 2085.7915623063473, 1905.09972686734, 3386.184155154112, 278.0407396964592, 2171.4303960465313, 1340.0764683759382, 3518.4837390845446, 1501.1038299054192, 3401.5214174298917, 926.0190974043672, 1522.1020426465639, 4524.754988058571, 331.4459990875779, 2452.3764131815506, 3729.049969658759, 919.5046858414462, 1781.1198948019683, 1670.264336825278, 3337.635685025988, 1091.8334054139866, 1282.7216133905358, 1019.3437821000662, 1997.3367004731288, 1204.0400061844355, 1398.5785298873134, 4393.021744673978, 274.78248708561233, 2163.6203289912933, 3931.5732046476173, 2730.4847323324, 1234.2878821327668, 3746.3345145668827, 321.889598983864, 450.84216090872656, 1821.9566570828026, 1565.3571216711828, 2488.850196285224, 1402.1300883424462, 980.968760856158, 727.4343552293627, 652.3223333665761, 7617.314367103174, 478.01191681984596, 1783.9966538219182, 825.0784948666876, 11541.474682982187, 1053.215578357715, 617.1888667371173, 503.2471129714101, 994.1674305730369, 11209.496442153863, 417.2528130342269, 3153.092381304314, 472.3707556325297, 592.4113206700194, 1364.1852444962592, 686.8546255671391, 681.0073857060099, 3727.0178225545715, 174.14039833971856, 1447.3178133096676, 2003.7098268976888, 957.9891637861485, 1062.8956085958723, 1807.6691996957172, 13411.006579951005, 13410.333259591584, 810.2027920230865, 1404.7765201392663, 7688.02352436856, 471.91455486083976, 0.0, 7370.245172444637, 3837.3690817646943, 2480.9350553615195, 4434.082762427446, 2890.739052467552, 2073.1615219009914, 2609.1208756408787, 2970.60327503517, 1422.919937185447, 2603.738040632328, 0.0, 0.0, 3701.3151697616145, 1558.1561383738697, 2259.5689232417226, 771.1712976970992, 2595.670461447693, 696.2202370047323, 346.4327073687736, 692.7089174823653, 2372.874444737706, 740.6005392074369, 1333.6574985184532, 0.0, 5402.636856180019, 2330.4710267339005, 1201.0942462101611, 457.34314521116664, 3760.9037852014976, 23366.42599810119, 679.104028389368, 2766.3741273358974, 2507.3646303892274, 0.0, 3568.8859326228544, 5018.051490433616, 3829.4137160490814, 3591.9508405179117, 1503.6517607448295, 2551.097838996834, 11595.883609359105, 2523.1553040862077, 892.8577154741206, 2487.0449476831354, 339.98891171314517, 1872.3648572614497, 1482.6985564232564, 1378.357822528522, 709.0734004320627, 348.3640879009504, 1335.7639638505107, 484.1240698884804, 11432.21641167097, 4421.290655493566, 1968.1696493298296, 805.4851026277059, 2063.248397905989, 28.05138830559135, 580.6764643614458, 3573.297259543, 4380.2344892353085, 279.6823919783429, 1011.771223279339, 891.720558675329, 1138.5052875241172, 5223.5666525512615, 600.6125800590531, 1661.326064344851, 0.0, 3172.9019174655896, 146.7402493548943, 1940.7770450453445, 2543.9359900877785, 1170.166214576166, 0.0, 4794.830437234532, 434.4128791877495, 771.2997723460271, 0.0, 973.4517879898381, 0.0, 11692.949321049677, 21876.982097583976, 4317.195307722796, 587.801556061026, 1662.7131996994794, 6959.526341865607, 7045.584131637196, 1161.208320310953, 943.9123384089955, 2907.868329497516, 1360.4834851980856, 2427.579409623276, 3199.242642894689, 5330.722909994224, 312.40375233640026, 3165.8128166647175, 4049.091012093647, 334.2389630807146, 4802.077657862262, 12025.533433874843, 799.9093625004464, 1723.2148738044814, 2736.4421684378476, 23521.16909163933, 890.8773621471564, 243.15548661110827, 571.7489490796127, 3686.498105007771, 641.6692217024927, 1031.285417824297, 646.2982976633778, 1117.90186791706, 1895.4066819047694, 291.75139677101447, 1068.404065129527, 820.8118408589539, 2355.254467976112, 677.0599632253768, 4032.853246510043, 1468.8171939582912, 1433.4063998122426, 1269.3679054213972, 318.31676837647956, 2451.855416264108, 215.26451502230256, 536.3388328849123, 6787.393608877755, 1662.0604143733863, 1333.7445873756333, 1160.8509647836106, 1625.6716094870928, 2046.7592373092907, 639.3038354285756, 950.931702562899, 2848.984418267501, 1428.0549086180804, 4429.660715431868, 3647.8744673565384, 43.678639270536976, 2318.6189273413747, 1195.6196142869874, 4002.154887447636, 2854.3604238894486, 1999.0636088253964, 774.7289704353128, 194.1080361159598, 1155.888322973304, 1902.08307241802, 2488.359090066083, 716.0519736493543, 2379.0584876475496, 1598.201273015299, 4106.016490636157, 0.0, 241.9848416601642, 554.9663019463624, 338.80454535023557, 387.05357817248785, 1153.0309996035555, 1196.188984888446, 2269.845912508752, 480.9272468391488, 1373.8593229687149, 1090.5916612986853, 977.5564025716869, 494.65851082982545, 2423.849527576691, 2664.050587355186, 159.20578978263123, 1328.9199852585941, 3777.3403860858084, 1236.2791961041687, 3645.478601262956, 1228.0386699050257, 737.4484241195526, 1493.535924578062, 816.2374138304056, 2756.9632687285916, 932.8240982372336, 398.93886634427633, 1365.8218577423752, 2928.923720298259, 2017.622404540377, 798.1937975091787, 12341.131993455327, 1986.6103395980113, 1736.9107143305503, 11714.699432774283, 1195.7570226026946, 6221.046582001792, 5170.2349144156115, 1804.3465656713006, 882.0696154671483, 3054.9391801867996, 632.9851498375081, 1896.1080706754615, 3757.8628150777004, 546.1064532550446, 1966.823414123965, 1216.0086612098926, 358.31437879475675, 1146.6942310174238, 543.490731567439, 656.8940189902895, 0.0, 662.9157729147147, 1383.8074159809821, 2338.4142644945036, 2788.33731871, 1411.6112190375459, 1516.3719739710345, 1182.4771181010435, 541.1758651302462, 15819.223375094389, 1888.1939144585028, 1020.5909746740862, 2477.6514487716486, 16211.930641348656, 3938.9513422510636, 1252.9572997625394, 1021.2749484305588, 1477.8119358290194, 1673.054648439298, 1969.2158604898036, 1061.8212747852797, 875.0448045750792, 1447.5762186103984, 1112.8652415082022, 4741.886801032211, 1957.0042313254828, 1681.2650429101486, 291.14466974898284, 2191.7022915647335, 1202.6610101892018, 4094.89642828535, 5056.827483579052, 682.4690392082533, 958.7393517294139, 648.4317064872947, 260.56060391760053, 1505.4573313976055, 255.81329840100813, 942.1547324491339, 4738.2519597900055, 363.19604700395826, 3320.924264568453, 1365.1195143719226, 955.4136884322539, 11742.75097884114, 5584.396642089326, 440.43615954610203, 3055.1531468486296, 326.4550113670311, 1626.5983290760219, 1235.6077174397872, 1063.0296121227987, 507.51050671746856, 204.17033257227905, 1233.6555399426816, 7130.717088602087, 2992.651461067802, 769.5442956135988, 2699.970740504699, 311.6850040445037, 1288.2493272773377, 2411.549010428353, 1597.5790132318525, 322.18290570389337, 2993.095024698788, 1567.3639660576127, 1752.643056221723, 7482.05803411519, 3581.8218341057795, 1350.1225708667082, 5240.182861523138, 1667.8827676169667, 731.6606181380704, 5223.2591267490025, 1343.3891934509377, 831.8753942561024, 1687.0134442888454, 2092.8848436353496, 1762.8059177570394, 1551.3499025258334, 2625.6308599090166, 1191.993744800842, 3591.675643442523, 1031.5073717254588, 1605.2396358245692, 617.3727674740591, 4435.5379598373165, 22209.825003029404, 1431.3760555262706, 1565.6446227478598, 1818.7212109499696, 2819.37508914839, 2411.258822585921, 2877.014625918783, 8846.306007598636, 1282.9837071254194, 2448.059084893329, 3918.5357956009907, 1966.795630015917, 3595.258433768973, 7508.2575949149605, 1337.1401915935053, 1227.442351532815, 4271.653339275605, 6610.234837217479, 1203.8114453772212, 1882.8734061788437, 4707.109396780404, 6450.5509518500985, 2147.8503877278813, 2519.374278642981, 2297.956885414137, 1370.6174537440822, 21327.76104193304, 1673.1032703281885, 1899.1576324227944, 2855.7921905997437, 12719.156314479942, 12599.881974558146, 2238.6287923075342, 1133.613897392944, 354.8540249912856, 637.0192272071806, 885.7519542688136, 3703.1399197161263, 2053.1127561430167, 0.23505747305280503, 2270.932092129618, 3862.1655657070264, 2732.4794288106254, 269.03719519832987, 984.2210354986163, 1279.8081809389903, 428.82654473369837, 13230.635053612526, 707.7104059618239, 901.6516794489414, 1061.1035111018793, 1312.8576456974158, 1241.058806753906, 2071.8696311467766, 585.6432181250748, 3686.9644305665697, 13329.71152721853, 1448.9650808161418, 2065.245439981585, 3256.2309615221825, 3741.2279720559022, 1066.4192161394699, 3252.0016607543407, 21633.95390081392, 6756.234412210029, 749.982836400214, 561.9857416759804, 956.753774929763, 4111.768690555443, 921.6631899234255, 3288.218087507928, 2791.5326331731553, 718.4558300980156, 1370.4658679642228, 411.7530352203478, 1675.9238454766737, 3718.980383003757, 915.2077579780611, 2694.333570056267, 4008.6781476184265, 1592.4578939284336, 334.51152314335206, 5026.901001730222, 3333.033496170493, 371.18466780254863, 2034.65830366572, 1353.461765376293, 2614.8581714772163, 4788.85553394412, 2438.081687263638, 3238.4695178116253, 690.5635590761711, 614.8058361065281, 112.96369790361943, 417.49729067676634, 2253.4507012679824, 3741.48765996441, 0.0, 2302.755120643907, 1493.5563623712223, 1301.1448258388582, 386.3953303729105, 738.8621870377337, 11225.014080758901, 2544.337798393611, 3503.0912656722185, 2762.8227443201376, 981.510355872813, 520.9377959086831, 2757.1632046687237, 2938.6777624546326, 3533.44681376267, 19792.44518831588, 1302.5070316498054, 1880.4615521668316, 10190.214438009061, 469.5071619812786, 2715.418338355365, 2784.3598894148136, 3780.4769155676245, 1961.3694700837461, 2144.611625471878, 3937.2210810427523, 285.92863823352417, 4175.632875132784, 21.20534219069636, 264.22222009366436, 3056.2068794444303, 4518.833377150577, 213.55419769944118, 2025.99525111684, 1125.906081756175, 1653.6037264994002, 1368.0887574745718, 1896.0759568926417, 701.004707753675, 1308.187728394678, 1980.4056350267138, 815.9729841097314, 4561.795881649112, 474.4272279498161, 4570.3171914419745, 1737.9692067194974, 2372.1599456849694, 418.9328647610881, 5346.404579385928, 3936.525643802897, 1618.520708291656, 1047.6992137696573, 2213.949110887472, 4175.535027254749, 5893.359118952288, 1923.1252554132313, 932.9977074074056, 400.69222188221687, 1820.1103533788203, 1831.3565606314212, 21523.619742411374, 12837.548331685291, 3404.221897088465, 10036.662441788507, 1722.4328062443117, 2466.569838573439, 14758.252386550394, 1196.7026290396516, 3575.1096778876067, 2064.747373555169, 986.0127141778306, 1846.8999892468755, 444.2799152953033, 4288.289066554645, 257.73882990664725, 2990.955516606741, 3623.0986082967656, 2440.4898950303204, 1619.6883557594413, 1751.4384875273124, 925.8557648225666, 648.8902853211418, 1461.395752936614, 1215.492942081857, 4607.657668383429, 1241.0161088839845, 2576.326100680892, 1164.315364569707, 1387.1762259400018, 1955.1473265435357, 2955.9595505733696, 302.5781594661165, 5113.307640882253, 1436.205121378362, 560.1029503523243, 13384.88257630769, 3852.6239076674015, 22919.196606905363, 2702.5091135554235, 3189.124368411335, 4941.205761902547, 2037.3359802226369, 872.4008435579611, 3850.7404730835433, 619.2934097305252, 856.6305331971009, 192.74412309986275, 1721.1917251867694, 1904.6578605664215, 904.7050481671313, 4973.876359021159, 4553.514703318349, 9116.30510423175, 232.35100211864156, 1383.7533577096942, 4562.655650967246, 1520.4999288160843, 591.0920429863875, 1108.6056751453407, 380.73258394940416, 7768.2860147384035, 1615.5454597866012, 749.9937750091075, 8654665.430386612, 960.0311825760216, 562.6674755734409, 841.6949846472189, 1391.435008960918, 462.6011933602978, 5339.610400158611, 1869.960743083227, 780.5471593062375, 0.0, 2646.8534379285043, 3258.956306707695, 677.1293138640408, 2387.255515238004, 986.1263886936127, 597.9020032567988, 271.0670558718903, 560.8714885550455, 1244.2622034003227, 3023.91863376196, 1398.5955556394645, 2135.84084852687, 815.8433072940925, 840.6385593328417, 827.8078825936167, 733.2081478941732, 2423.6713410005077, 1762.7408867354554, 3215.4734939014156, 3608.808837105657, 1476.5930265489073, 0.0, 2265.485273744232, 3211.504609163287, 459.9200116284846, 1164.440402690783, 2823.9461936438265, 2334.9692254448087, 1187.8693432655818, 1119.4133419019563, 0.0, 1655.4067017855605, 1163.181348340788, 1945.037789167266, 1286.9396231232583, 23701.824127661388, 1634.8624224017863, 1539.6666804031868, 581.9668226643189, 21870.743194830466, 3282.417123849084, 1619.544558437085, 653.6585657784967, 2196.936329421054, 4731.2683236400035, 2281.2020855155583, 8842.629636832215, 565.4221874324213, 1399.5049532453647, 2959.3973501632436, 324.9945548900171, 1740.4073778595969, 2715.9297530603753, 572.0557354272843, 4999.386246698859, 284.056372847191, 13100.787655678485, 3236.5194716789842, 0.0, 2341.568646851918, 975.1301074263691, 4212.196297502065, 1937.2940297621287, 2987.070516824808, 820.5093779550865, 1351.7278948918677, 3803.7067734447905, 1145.2939375229416, 3990.2175395372465, 2197.134363741999, 1.1947308384108495, 5942.820308199351, 931.5119606368785, 1003.723003002106, 3109.067800018644, 245.14064634413307, 713.0986855655748, 4142.334432860333, 7946.785250930001, 890.7513562376347, 2571.8107010490166, 682.552723632384, 2930.420313608677, 1571.3523473211148, 0.0, 3035.485075455811, 456.62448750976876, 596.2589813837592, 971.7235204385279, 1375.3766578289487, 2984.4370019057856, 1945.6840426151962, 442.6906823893182, 2982.626565827605, 1717.8737432356806, 1026.5299841818694, 6474.991400215967, 1688.5936031159551, 537.8173086791448, 4243.04765578073, 530.5736788405835, 1751.750379849026, 1972.8407001536734, 3617.3547144763547, 3461.0564155813804, 440.9526129976784, 810.5540786276379, 1140.3467498116786, 1430.7416562578712, 1695.465031184307, 6918.635452516444, 3394.881507348087, 4026.0678759175994, 2958.268508980431, 2114.9857524761, 1536.3664492452642, 7425.953194918718, 5688.4131040830825, 1328.2421168112535, 1031.6776662026102, 1104.3659100857558, 4750.4742383149205, 2022.8761594990413, 2847.8168246181936, 1064.3921065984089, 3831.8334205326587, 1347.3288876044355, 5204.814039518971, 574.5197558715294, 452.07455626699215, 1079.050673877373, 1029.7586190649856, 1615.0971247302625, 4151.582397893048, 5089.339456535477, 8629201.50912683, 12026.150169116872, 423.2986490328707, 1540.2345186803936, 780.2821099748311, 2037.8218700811526, 840.5549274913711, 916.422141772307, 3091.2179941032173, 1039.8721962358097, 1005.1388552391352, 1086.2606952754388, 1982.0197853321988, 3103.1508985518503, 214.58676440637666, 595.0682798771005, 0.0, 81.86312085906133, 4052.1524209749105, 2705.924240380886, 4643.78342995198, 1220.9720253769647, 1414.040072035444, 2730.9917105687587, 583.7307593176652, 4517.447032826298, 2890.3607132955435, 13250.471267662382, 9264.782770878714, 2265.0969349866773, 1517.9226708047368, 2882.8867474186995, 519.1743940877603, 0.0, 2499.1313094928337, 8868.096621673998, 4582.538433624867, 2602.381283360557, 749.1717993536884, 0.0, 22321.9181927369, 275.18308766248254, 1580.2085514952655, 1307.2734564541936, 1617.5429774310312, 2178.580008346781, 1472.4128439488527, 0.0, 20622.426678976728, 1058.6391555161895, 2115.263423391391, 3430.854273392601, 1267.4630412655922, 760.8240481748732, 586.9988174568786, 2622.3372388420307, 841.4102579783919, 229.97006577968648, 2217.5630710146174, 538.4849739565087, 0.0, 1382.1169026876926, 1423.4558534884989, 3270.042899342631, 3625.247984439525, 282.27500657944404, 1255.901982862062, 2495.8195832769275, 8220.221030939018, 1230.3627766392563, 3002.947883156927, 8016.534419542592, 446.57431946260107, 5609.169056686545, 14155.55384007496, 990.3275114920477, 1015.4389088707467, 7542.753362280427, 1316.73827527027, 607.6167275556933, 1784.5517168527124, 794.992409060215, 450.06989352830163, 3944.7245124459123, 606.9010806621028, 1621.3337148021565, 2027.5840541054984, 3117.345459930621, 1708.53163818309, 768.6044001653738, 851.7439760345068, 25833.863720116828, 1050.9256715892068, 8654446.702172684, 5643.754889750805, 2276.0088308395175, 421.62644941809145, 916.5347616468392, 827.2199853163735, 1001.7838956690317, 1503.8997753146184, 2698.878844972926, 749.7597775660441, 1644.1868112675409, 49.018367237771315, 1945.353038924422, 419.66131090888933, 949.672931970176, 4139.78446202189, 959.5172437371994, 1125.8456565449972, 2830.902006856674, 4826.416164591527, 944.0390882923122, 2949.3402427709425, 631.6554290900601, 599.718147760056, 23484.848725564272, 4810.00415374293, 4925.1463311569105, 2679.0471385177166, 3425.573692670724, 12179.374113681475, 13466.932619474117, 0.0, 1472.1886836879792, 2021.5930085803593, 1201.5504175544465, 300.5906382605855, 672.4046489368782, 1028.6056532405464, 593.6567454363969, 2568.1292851129574, 965.7703539651625, 1411.4478622216507, 10662.569353143144, 4227.618964889064, 5297.692710433508, 3802.7945486790095, 0.0, 889.7166645582676, 2018.9753258988774, 446.11077145994597, 465.732823333459, 857.828971324107, 6181.971991820086, 2245.462178265542, 1884.8027595624187, 580.8563571768566, 466.0761532821795, 21103.78988460057, 3381.6533773531137, 930.2448925084518, 5345.075175846093, 5134.8284293186225, 372.58903016946954, 13682.2167630225, 1951.0290216543444, 5079.685455071555, 2738.6669149238082, 230.39113481372547, 1499.0260349292157, 2788.6896614796888, 918.5350265089421, 1105.2243422470838, 103.06026510271985, 7473.507273953194, 902.0418425370704, 734.636636799041, 1172.0746298818144, 3293.1078214104855, 903.22902167848, 787.4774673906843, 14264.09486099765, 560.738370038425, 598.9444540130517, 0.0, 15122.65700962193, 1167.123000537185, 601.5105321825858, 5327.246461220068, 1496.0893769364677, 1015.4463287777238, 448.2329320222437, 7315.990754492973, 1371.358194619843, 317.321810895162, 1969.0859596591595, 1565.1719503725683, 199.73636007047563, 868.4998617399714, 432.8544878181672, 2509.0454781516764, 783.7773521410339, 1439.8302208422797, 25498.930200093026, 3915.2858220098638, 1928.472534843983, 1127.7158967443377, 1440.8455024368254, 507.7042351343421, 896.5169737011349, 2545.620040857849, 434.59207362396165, 1666.2194248624598, 4390.898622486927, 145.7710845187438, 499.52159380106156, 1849.8207000274037, 4484.733529119355, 1286.9377516699083, 18531.959446122146, 435.37389774214955, 6755.415892707215, 225.70014529417568, 387.8951040368193, 2813.588517908473, 534.8288885652541, 595.3207364430737, 9249.1881786271, 1278.6622482670623, 1448.270220813126, 2981.8057529108087, 457.1265527977646, 2666.888120959414, 3904.5199549592767, 3823.076306446161, 2811.0343163149987, 870.5353851733589, 306.13414683247026, 672.8202358299042, 628.3418709390178, 1052.003535386301, 4432.005420657193, 879.70955159976, 828.9552757018018, 1468.4774432244012, 3652.2099206691873, 0.0, 0.0, 965.943599156679, 928.2548172925793, 175.06326170539015, 496.1755930162594, 247.33914927042818, 1121.854894070337, 1222.981936642719, 12951.998734483133, 2241.623544007892, 1033.6861263308922, 560.2004605952791, 1936.0745401293364, 2687.0765645109564, 329.1056465463598, 729.7334768854963, 1859.0582280298356, 1692.964125161415, 599.2733049328704, 3006.121047094403, 22363.40367911304, 1967.6965930354788, 0.0, 1475.8345723415614, 4054.918214521499, 2851.6867379400455, 22496.143423503254, 1457.1892813629825, 2567.602948011103, 267.2235440558592, 1472.1778524230085, 1100.1029586763061, 673.9389729792707, 1796.493792239776, 2252.2713803051756, 773.5368699402534, 1137.5055065666834, 1073.8742516600316, 1173.9452152953559, 403.81153293284723, 1541.2952601505463, 1230.4007402224383, 3703.093664422018, 3344.6358038703775, 1963.6067874265166, 872.3403033045506, 0.0, 3442.3786904590193, 404.20048543915186, 2050.1894778338174, 1943.8737779273047, 1693.474296926532, 3792.5616039007973, 2267.368545037311, 1384.6443755496844, 1511.017874560833, 1727.4826329652853, 1960.7864606546955, 3037.558030373844, 2040.3026555870026, 784.3303015574835, 3255.83073479013, 509.9277599040689, 2483.528076166624, 675.8773806001387, 5311.377654692315, 3425.326010147654, 4921.8080094981015, 641.0240956383353, 1516.5346956675587, 1298.7302446211602, 1092.7039916546082, 1079.1213146614923, 1912.7458711374006, 1080.5686605103615, 707.9262999063793, 2332.972158155608, 1419.903782850638, 2415.030470972748, 1667.1440616062907, 290.5737994905506, 424.50238607009135, 1263.946620249106, 821.8523252092533, 373.17197688384823, 1211.3018966776144, 612.0375583968713, 3330.2019543314996, 3517.592988043229, 355.94424196138505, 2856.7046161711232, 297.17442646734713, 1029.3555374355983, 2216.6045770073843, 763.2996855133424, 1350.8730820175638, 1491.5118282050453, 470.97237115397434, 13050.931333234792, 934.984247273331, 2067.9822527076076, 23836.76796040116, 1077.5708373450823, 1568.0462425333446, 2268.4106906123566, 1791.2004862226877, 1035.6528641977827, 643.9280416293949, 8284.172152588271, 13094.313943996583, 4673.861457623583, 2654.5447450884526, 1068.9190053650775, 3224.977260902386, 226.16853137147896, 1083.5504530237843, 1039.5420609331288, 3238.1475490711273, 5326.518203952158, 13240.160268013673, 1389.9369414821413, 1406.0218961879661, 481.46961747949473, 2195.414978692673, 1556.4353977323103, 421.8141425744609, 10335.467555980853, 5426.878304666165, 1555.3886307468013, 21130.965502239425, 2117.800375829586, 1371.2712226507988, 1636.2211197155298, 2209.059686588413, 405.15641458699645, 918.8440392976221, 3502.4836045639286, 3383.8190336424523, 3981.7250784025123, 775.2876591186349, 1257.0469213525898, 3128.5582531162217, 4529.142032028307, 2154.1698876384708, 932.3708433646558, 1030.8340041712772, 1275.3263802564527, 0.0, 838.8299488774426, 925.3611517718567, 20027.60967253437, 3321.9177361508996, 0.0, 2486.401789366671, 3539.7146846991254, 498.9051149978415, 2426.3379178313244, 1616.1705441184547, 713.3837545821608, 1321.1460930763135, 180.82270510731732, 2501.7497506580207, 3771.8943329403455, 317.82664238694514, 1493.2482154727097, 19755.06014257075, 1335.4201666921117, 0.0, 3291.6721677985606, 2955.9032796088613, 19572.405906334683, 1467.3487146966756, 1314.3613449269415, 1047.1479510405288, 4054.275175888594, 761.5828115783709, 663.7958473576817, 3885.032309872716, 1226.8153131622842, 0.0, 2623.8222109772764, 1792.8433240332038, 1057.4500414604593, 4370.4803940863085, 600.0006704105195, 895.3399816021437, 1496.7682271640426, 1365.4210202743984, 1085.0672237298277, 1678.910553594685, 4863.304785049526, 1702.0092502971652, 1141.917118388644, 514.7627670742543, 2108.8932635761607, 1516.1840565550137, 2136.1555400053708, 1339.9903583540947, 4337.203143309217, 1609.921927573793, 1745.649833791195, 1265.9136552996579, 540.7258108515555, 1371.6859152968912, 537.2798277635482, 4173.107884444571, 637.7935739289402, 1984.7672497888902, 1487.4545814556984, 3599.6324249008358, 13225.004679132178, 2171.2817101240953, 1548.22886956317, 970.7217941173171, 323.04873266706454, 247.71537243523008, 988.0368348401215, 1318.171966534043, 2376.4055263013024, 408.6180081142294, 680.3586040793776, 1283.8718073160549, 1168.460938328777, 4899.977261235706, 1901.1766173443336, 12757.913107129158, 343.19830719914427, 1527.9966627137424, 1151.9128311404502, 1923.6064127135323, 1979.1420623481604, 345.64540342232084, 16352.523369122157, 1083.3462106615318, 1150.2665099973021, 416.7001783650285, 334.6189025550377, 0.0, 864.6531082003066, 14379.35170124176, 833.5940301528285, 3148.106400113256, 985.7928839388503, 8050.183034162982, 1425.132828495306, 15203.023097361585, 1672.278797910404, 388.85734384592155, 6286.077574683612, 412.4728231651149, 3316.5783409104615, 3021.0378504097353, 515.3847395412109, 1158.8696433755538, 3552.984770493876, 192.0753845369572, 17565.830281922044, 7537.976794197596, 430.0308497921119, 408.74106904531686, 753.4027100738392, 297.8958796970353, 296.06569302819827, 184.4703600353147, 2392.7779174614407, 580.702148965636, 1424.426750780475, 3556.0431711798515, 5249.138149498107, 619.146055525586, 3058.7785757108413, 1078.685737832354, 901.6663018721426, 7149.2200895724745, 5117.994729382012, 1542.8805466585845, 1049.982946012259, 2556.532222835725, 13571.221712860895, 3126.9850410103872, 380.57565332328466, 671.4458892827646, 0.0, 15950.558207116916, 745.985336755918, 1226.5532358433964, 104.369824990476, 4153.764226657442, 2515.9498860436424, 834.5837064411335, 857.0375514025644, 2339.4702259987944, 1661.1614378550005, 2287.776262092422, 1465.5869343649292, 6486.727745318784, 781.421961092158, 2876.417358804161, 586.5859014903477, 866.5140441914779, 652.8886119048547, 583.9488642205605, 685.3941685768925, 1876.6146460218058, 504.99775074424605, 2258.763683685105, 3499.8008747545264, 1184.5038331369626, 2996.584058744351, 808.6139604833552, 1805.9076807538522, 292.0918027763173, 3996.992511638993, 24834.128434219543, 749.8592190914128, 1181.208028428001, 378.473977893324, 775.7920554755547, 407.14536296546237, 0.0, 921.2846680504398, 2388.3298553712652, 10550.51285683035, 635.4227043146337, 8087.314715291522, 1227.1988647413502, 1927.829851151243, 700.6645280821808, 618.2399589907961, 747.6489113508837, 3313.62009204362, 528.8853942988251, 1570.234145430448, 8656659.019831587, 2394.9500052327744, 2194.4865078941816, 701.1111362993729, 1638.1052758629091, 2334.932845206173, 3629.145589175156, 1264.84085814991, 178.58292223224416, 1106.2167431319574, 1136.4957091673432, 940.6183192521409, 2218.30381409281, 3474.478453029966, 4932.265799641825, 823.0002554500129, 823.7690508308492, 755.1388643727397, 2897.247307616774, 5116.031399505111, 874.1034032988146, 957.794129104471, 637.9592043172038, 610.9733626913596, 1842.6243409659535, 1224.7663622521407, 1948.3101008708795, 1462.5492611687166, 1643.5135693098755, 14587.099654263458, 1180.2545759928128, 3161.005902219106, 1502.0433905249272, 1129.3520731726792, 899.2088046892297, 4175.134299279831, 1465.1023574441715, 1191.96805603017, 0.7371766496717767, 873.1589907963493, 846.4396901229557, 325.32820747880186, 905.837526935676, 574.8787741190828, 1174.9140043000273, 482.7125198393147, 2148.7899846099053, 2131.7607593859425, 1972.3844465888026, 233.66542175865445, 3101.510664993773, 766.989060517788, 1098.8696532210943, 1985.2825493564721, 6621.339455410348, 4370.657745146225, 4492.136191787902, 475.61359438070394, 1553.3709849456416, 1475.0611355849785, 4318.626482280302, 4826.272984198075, 919.3969369366084, 13520.430024008569, 5038.768211087998, 2908.371600921534, 6598.543060141362, 804.237771411154, 651.1224503789558, 3141.307849804919, 448.9975023894267, 1670.3458734611859, 1413.0064819741312, 1650.4896632852774, 784.5877724721597, 381.91128698994805, 780.6007123821544, 3848.70439050986, 27.92908826311736, 2357.9245192811104, 0.0, 4980.534825805739, 2801.856845633878, 841.5891913845529, 1916.0509822168744, 14657.445241760133, 820.0496754915994, 874.6772380929502, 1213.412172839051, 2126.1952210620366, 1934.0346012531006, 1733.3540634061471, 1994.2458671545703, 3339.193136905967, 1910.044294875931, 3763.1381820498, 869.8941181720497, 952.3993021061383, 1443.8176936455961, 21980.21107842514, 2044.8334200282857, 455.09232898412307, 851.9625468837628, 485.500805641176, 2261.5130653627543, 1119.2852583679153, 19152.648938254257, 2242.2228692383064, 3528.8964865373864, 2328.917191185508, 1902.1098122285478, 1318.8876103729613, 3072.5649305637317, 1041.7306855384193, 4108.816261107106, 1468.2659137284136, 1315.0736912019436, 3125.073169381337, 1143.8816302584303, 106.84525698581477, 0.0, 1253.3023095085443, 664.6392831029906, 1965.1454861905042, 2396.6758046566665, 1657.4231087854128, 4559.3843932811305, 0.0, 3555.075554443316, 1515.8510470504496, 2161.5007958120605, 1363.3021733949563, 0.0, 18221.969806860685, 3906.4999193996273, 773.5366743699292, 770.7684691534444, 1755.6756061873982, 3660.61071172688, 670.5355026874237, 1356.4360159554287, 474.7828999033546, 848.1686426057149, 184.52459092547275, 645.3157577912801, 5849.503149255542, 943.5219746577673, 841.4439688093039, 228.18015731167336, 867.6853036068123, 1076.5416995265537]\n"
     ]
    }
   ],
   "source": [
    "dist = []\n",
    "for i in range(len(dropoff.index)):\n",
    "    result = distance(pickup.values[i], dropoff.values[i]).m\n",
    "    dist.append(result)\n",
    "print(dist)"
   ]
  },
  {
   "cell_type": "code",
   "execution_count": 18,
   "metadata": {},
   "outputs": [
    {
     "data": {
      "text/html": [
       "<div>\n",
       "<style scoped>\n",
       "    .dataframe tbody tr th:only-of-type {\n",
       "        vertical-align: middle;\n",
       "    }\n",
       "\n",
       "    .dataframe tbody tr th {\n",
       "        vertical-align: top;\n",
       "    }\n",
       "\n",
       "    .dataframe thead th {\n",
       "        text-align: right;\n",
       "    }\n",
       "</style>\n",
       "<table border=\"1\" class=\"dataframe\">\n",
       "  <thead>\n",
       "    <tr style=\"text-align: right;\">\n",
       "      <th></th>\n",
       "      <th>0</th>\n",
       "    </tr>\n",
       "  </thead>\n",
       "  <tbody>\n",
       "    <tr>\n",
       "      <th>0</th>\n",
       "      <td>1896.411535</td>\n",
       "    </tr>\n",
       "    <tr>\n",
       "      <th>1</th>\n",
       "      <td>1686.075344</td>\n",
       "    </tr>\n",
       "    <tr>\n",
       "      <th>2</th>\n",
       "      <td>1777.876233</td>\n",
       "    </tr>\n",
       "    <tr>\n",
       "      <th>3</th>\n",
       "      <td>1355.623157</td>\n",
       "    </tr>\n",
       "    <tr>\n",
       "      <th>4</th>\n",
       "      <td>1927.728276</td>\n",
       "    </tr>\n",
       "  </tbody>\n",
       "</table>\n",
       "</div>"
      ],
      "text/plain": [
       "             0\n",
       "0  1896.411535\n",
       "1  1686.075344\n",
       "2  1777.876233\n",
       "3  1355.623157\n",
       "4  1927.728276"
      ]
     },
     "execution_count": 18,
     "metadata": {},
     "output_type": "execute_result"
    }
   ],
   "source": [
    "dist = pd.DataFrame(dist)\n",
    "dist.head()"
   ]
  },
  {
   "cell_type": "code",
   "execution_count": 20,
   "metadata": {},
   "outputs": [
    {
     "data": {
      "text/plain": [
       "<AxesSubplot:>"
      ]
     },
     "execution_count": 20,
     "metadata": {},
     "output_type": "execute_result"
    },
    {
     "data": {
      "image/png": "[encoded data removed]",
      "text/plain": [
       "<Figure size 432x288 with 1 Axes>"
      ]
     },
     "metadata": {
      "needs_background": "light"
     },
     "output_type": "display_data"
    }
   ],
   "source": [
    "sns.boxplot(data=dist)"
   ]
  },
  {
   "cell_type": "code",
   "execution_count": null,
   "metadata": {},
   "outputs": [],
   "source": []
  },
  {
   "cell_type": "code",
   "execution_count": null,
   "metadata": {},
   "outputs": [],
   "source": []
  },
  {
   "cell_type": "code",
   "execution_count": null,
   "metadata": {},
   "outputs": [],
   "source": []
  }
 ],
 "metadata": {
  "kernelspec": {
   "display_name": "Python 3",
   "language": "python",
   "name": "python3"
  },
  "language_info": {
   "codemirror_mode": {
    "name": "ipython",
    "version": 3
   },
   "file_extension": ".py",
   "mimetype": "text/x-python",
   "name": "python",
   "nbconvert_exporter": "python",
   "pygments_lexer": "ipython3",
   "version": "3.8.5"
  }
 },
 "nbformat": 4,
 "nbformat_minor": 4
}
