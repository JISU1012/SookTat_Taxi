{
 "cells": [
  {
   "cell_type": "code",
   "execution_count": 4,
   "metadata": {},
   "outputs": [],
   "source": [
    "import numpy as np \n",
    "import pandas as pd \n",
    "import matplotlib.pyplot as plt \n",
    "import seaborn as sns"
   ]
  },
  {
   "cell_type": "code",
   "execution_count": 2,
   "metadata": {},
   "outputs": [],
   "source": [
    "eda_df = pd.read_csv(\"E:\\eda.csv\")"
   ]
  },
  {
   "cell_type": "code",
   "execution_count": 3,
   "metadata": {},
   "outputs": [],
   "source": [
    "eda_df.drop(['Unnamed: 0'], axis = 1, inplace = True)"
   ]
  },
  {
   "cell_type": "code",
   "execution_count": 5,
   "metadata": {},
   "outputs": [],
   "source": [
    "eda_df.to_csv(\"E:\\eda2.csv\")"
   ]
  },
  {
   "cell_type": "code",
   "execution_count": 5,
   "metadata": {},
   "outputs": [],
   "source": [
    "eda2_df = pd.read_csv(\"E:\\eda2.csv\")"
   ]
  },
  {
   "cell_type": "code",
   "execution_count": 6,
   "metadata": {},
   "outputs": [
    {
     "data": {
      "text/plain": [
       "(54268870, 9)"
      ]
     },
     "execution_count": 6,
     "metadata": {},
     "output_type": "execute_result"
    }
   ],
   "source": [
    "eda2_df.shape"
   ]
  },
  {
   "cell_type": "code",
   "execution_count": 7,
   "metadata": {},
   "outputs": [
    {
     "data": {
      "text/html": [
       "<div>\n",
       "<style scoped>\n",
       "    .dataframe tbody tr th:only-of-type {\n",
       "        vertical-align: middle;\n",
       "    }\n",
       "\n",
       "    .dataframe tbody tr th {\n",
       "        vertical-align: top;\n",
       "    }\n",
       "\n",
       "    .dataframe thead th {\n",
       "        text-align: right;\n",
       "    }\n",
       "</style>\n",
       "<table border=\"1\" class=\"dataframe\">\n",
       "  <thead>\n",
       "    <tr style=\"text-align: right;\">\n",
       "      <th></th>\n",
       "      <th>Unnamed: 0</th>\n",
       "      <th>key</th>\n",
       "      <th>fare_amount</th>\n",
       "      <th>pickup_datetime</th>\n",
       "      <th>pickup_longitude</th>\n",
       "      <th>pickup_latitude</th>\n",
       "      <th>dropoff_longitude</th>\n",
       "      <th>dropoff_latitude</th>\n",
       "      <th>passenger_count</th>\n",
       "    </tr>\n",
       "  </thead>\n",
       "  <tbody>\n",
       "    <tr>\n",
       "      <th>24326570</th>\n",
       "      <td>24326570</td>\n",
       "      <td>2010-08-24 05:50:23.0000001</td>\n",
       "      <td>26.67</td>\n",
       "      <td>2010-08-24 05:50:23 UTC</td>\n",
       "      <td>-73.984636</td>\n",
       "      <td>40.739336</td>\n",
       "      <td>-73.865106</td>\n",
       "      <td>40.770507</td>\n",
       "      <td>1</td>\n",
       "    </tr>\n",
       "    <tr>\n",
       "      <th>15460357</th>\n",
       "      <td>15460357</td>\n",
       "      <td>2015-01-23 19:02:56.0000003</td>\n",
       "      <td>5.00</td>\n",
       "      <td>2015-01-23 19:02:56 UTC</td>\n",
       "      <td>-73.957306</td>\n",
       "      <td>40.774166</td>\n",
       "      <td>-73.949165</td>\n",
       "      <td>40.780125</td>\n",
       "      <td>1</td>\n",
       "    </tr>\n",
       "    <tr>\n",
       "      <th>30274361</th>\n",
       "      <td>30274361</td>\n",
       "      <td>2011-12-12 23:57:02.0000005</td>\n",
       "      <td>6.10</td>\n",
       "      <td>2011-12-12 23:57:02 UTC</td>\n",
       "      <td>-73.972704</td>\n",
       "      <td>40.758788</td>\n",
       "      <td>-73.979171</td>\n",
       "      <td>40.740311</td>\n",
       "      <td>1</td>\n",
       "    </tr>\n",
       "    <tr>\n",
       "      <th>39732450</th>\n",
       "      <td>39732450</td>\n",
       "      <td>2014-06-03 22:42:05.0000003</td>\n",
       "      <td>22.00</td>\n",
       "      <td>2014-06-03 22:42:05 UTC</td>\n",
       "      <td>-73.943904</td>\n",
       "      <td>40.776312</td>\n",
       "      <td>-73.943904</td>\n",
       "      <td>40.776312</td>\n",
       "      <td>1</td>\n",
       "    </tr>\n",
       "    <tr>\n",
       "      <th>30661055</th>\n",
       "      <td>30661055</td>\n",
       "      <td>2010-06-24 11:15:00.000000118</td>\n",
       "      <td>4.50</td>\n",
       "      <td>2010-06-24 11:15:00 UTC</td>\n",
       "      <td>-73.983073</td>\n",
       "      <td>40.744320</td>\n",
       "      <td>-73.975443</td>\n",
       "      <td>40.749762</td>\n",
       "      <td>1</td>\n",
       "    </tr>\n",
       "    <tr>\n",
       "      <th>8545721</th>\n",
       "      <td>8545721</td>\n",
       "      <td>2010-12-02 08:00:00.00000080</td>\n",
       "      <td>5.30</td>\n",
       "      <td>2010-12-02 08:00:00 UTC</td>\n",
       "      <td>-73.948160</td>\n",
       "      <td>40.774573</td>\n",
       "      <td>-73.959675</td>\n",
       "      <td>40.773937</td>\n",
       "      <td>1</td>\n",
       "    </tr>\n",
       "    <tr>\n",
       "      <th>15228641</th>\n",
       "      <td>15228641</td>\n",
       "      <td>2010-12-03 08:47:00.000000226</td>\n",
       "      <td>11.70</td>\n",
       "      <td>2010-12-03 08:47:00 UTC</td>\n",
       "      <td>-73.968517</td>\n",
       "      <td>40.759865</td>\n",
       "      <td>-73.991083</td>\n",
       "      <td>40.750402</td>\n",
       "      <td>1</td>\n",
       "    </tr>\n",
       "    <tr>\n",
       "      <th>31433307</th>\n",
       "      <td>31433307</td>\n",
       "      <td>2013-10-11 22:15:15.0000004</td>\n",
       "      <td>8.00</td>\n",
       "      <td>2013-10-11 22:15:15 UTC</td>\n",
       "      <td>-73.995277</td>\n",
       "      <td>40.765127</td>\n",
       "      <td>-74.005657</td>\n",
       "      <td>40.741220</td>\n",
       "      <td>2</td>\n",
       "    </tr>\n",
       "    <tr>\n",
       "      <th>27259266</th>\n",
       "      <td>27259266</td>\n",
       "      <td>2015-04-25 20:39:39.0000004</td>\n",
       "      <td>14.50</td>\n",
       "      <td>2015-04-25 20:39:39 UTC</td>\n",
       "      <td>-74.008720</td>\n",
       "      <td>40.716145</td>\n",
       "      <td>-73.997025</td>\n",
       "      <td>40.762520</td>\n",
       "      <td>1</td>\n",
       "    </tr>\n",
       "    <tr>\n",
       "      <th>14330339</th>\n",
       "      <td>14330339</td>\n",
       "      <td>2013-04-30 10:44:00.00000026</td>\n",
       "      <td>41.33</td>\n",
       "      <td>2013-04-30 10:44:00 UTC</td>\n",
       "      <td>-73.873052</td>\n",
       "      <td>40.774027</td>\n",
       "      <td>-73.976572</td>\n",
       "      <td>40.758105</td>\n",
       "      <td>1</td>\n",
       "    </tr>\n",
       "  </tbody>\n",
       "</table>\n",
       "</div>"
      ],
      "text/plain": [
       "          Unnamed: 0                            key  fare_amount  \\\n",
       "24326570    24326570    2010-08-24 05:50:23.0000001        26.67   \n",
       "15460357    15460357    2015-01-23 19:02:56.0000003         5.00   \n",
       "30274361    30274361    2011-12-12 23:57:02.0000005         6.10   \n",
       "39732450    39732450    2014-06-03 22:42:05.0000003        22.00   \n",
       "30661055    30661055  2010-06-24 11:15:00.000000118         4.50   \n",
       "8545721      8545721   2010-12-02 08:00:00.00000080         5.30   \n",
       "15228641    15228641  2010-12-03 08:47:00.000000226        11.70   \n",
       "31433307    31433307    2013-10-11 22:15:15.0000004         8.00   \n",
       "27259266    27259266    2015-04-25 20:39:39.0000004        14.50   \n",
       "14330339    14330339   2013-04-30 10:44:00.00000026        41.33   \n",
       "\n",
       "                  pickup_datetime  pickup_longitude  pickup_latitude  \\\n",
       "24326570  2010-08-24 05:50:23 UTC        -73.984636        40.739336   \n",
       "15460357  2015-01-23 19:02:56 UTC        -73.957306        40.774166   \n",
       "30274361  2011-12-12 23:57:02 UTC        -73.972704        40.758788   \n",
       "39732450  2014-06-03 22:42:05 UTC        -73.943904        40.776312   \n",
       "30661055  2010-06-24 11:15:00 UTC        -73.983073        40.744320   \n",
       "8545721   2010-12-02 08:00:00 UTC        -73.948160        40.774573   \n",
       "15228641  2010-12-03 08:47:00 UTC        -73.968517        40.759865   \n",
       "31433307  2013-10-11 22:15:15 UTC        -73.995277        40.765127   \n",
       "27259266  2015-04-25 20:39:39 UTC        -74.008720        40.716145   \n",
       "14330339  2013-04-30 10:44:00 UTC        -73.873052        40.774027   \n",
       "\n",
       "          dropoff_longitude  dropoff_latitude  passenger_count  \n",
       "24326570         -73.865106         40.770507                1  \n",
       "15460357         -73.949165         40.780125                1  \n",
       "30274361         -73.979171         40.740311                1  \n",
       "39732450         -73.943904         40.776312                1  \n",
       "30661055         -73.975443         40.749762                1  \n",
       "8545721          -73.959675         40.773937                1  \n",
       "15228641         -73.991083         40.750402                1  \n",
       "31433307         -74.005657         40.741220                2  \n",
       "27259266         -73.997025         40.762520                1  \n",
       "14330339         -73.976572         40.758105                1  "
      ]
     },
     "execution_count": 7,
     "metadata": {},
     "output_type": "execute_result"
    }
   ],
   "source": [
    "sample_df = eda2_df.sample(n=10)\n",
    "sample_df"
   ]
  },
  {
   "cell_type": "code",
   "execution_count": null,
   "metadata": {},
   "outputs": [],
   "source": [
    "# eda2_df = pd.read_csv(\"E:\\eda2.csv\", index_col = 0)"
   ]
  },
  {
   "cell_type": "code",
   "execution_count": 8,
   "metadata": {},
   "outputs": [
    {
     "data": {
      "text/html": [
       "<div>\n",
       "<style scoped>\n",
       "    .dataframe tbody tr th:only-of-type {\n",
       "        vertical-align: middle;\n",
       "    }\n",
       "\n",
       "    .dataframe tbody tr th {\n",
       "        vertical-align: top;\n",
       "    }\n",
       "\n",
       "    .dataframe thead th {\n",
       "        text-align: right;\n",
       "    }\n",
       "</style>\n",
       "<table border=\"1\" class=\"dataframe\">\n",
       "  <thead>\n",
       "    <tr style=\"text-align: right;\">\n",
       "      <th></th>\n",
       "      <th>key</th>\n",
       "      <th>fare_amount</th>\n",
       "      <th>pickup_datetime</th>\n",
       "      <th>pickup_longitude</th>\n",
       "      <th>pickup_latitude</th>\n",
       "      <th>dropoff_longitude</th>\n",
       "      <th>dropoff_latitude</th>\n",
       "      <th>passenger_count</th>\n",
       "    </tr>\n",
       "  </thead>\n",
       "  <tbody>\n",
       "    <tr>\n",
       "      <th>24326570</th>\n",
       "      <td>2010-08-24 05:50:23.0000001</td>\n",
       "      <td>26.67</td>\n",
       "      <td>2010-08-24 05:50:23 UTC</td>\n",
       "      <td>-73.984636</td>\n",
       "      <td>40.739336</td>\n",
       "      <td>-73.865106</td>\n",
       "      <td>40.770507</td>\n",
       "      <td>1</td>\n",
       "    </tr>\n",
       "    <tr>\n",
       "      <th>15460357</th>\n",
       "      <td>2015-01-23 19:02:56.0000003</td>\n",
       "      <td>5.00</td>\n",
       "      <td>2015-01-23 19:02:56 UTC</td>\n",
       "      <td>-73.957306</td>\n",
       "      <td>40.774166</td>\n",
       "      <td>-73.949165</td>\n",
       "      <td>40.780125</td>\n",
       "      <td>1</td>\n",
       "    </tr>\n",
       "    <tr>\n",
       "      <th>30274361</th>\n",
       "      <td>2011-12-12 23:57:02.0000005</td>\n",
       "      <td>6.10</td>\n",
       "      <td>2011-12-12 23:57:02 UTC</td>\n",
       "      <td>-73.972704</td>\n",
       "      <td>40.758788</td>\n",
       "      <td>-73.979171</td>\n",
       "      <td>40.740311</td>\n",
       "      <td>1</td>\n",
       "    </tr>\n",
       "    <tr>\n",
       "      <th>39732450</th>\n",
       "      <td>2014-06-03 22:42:05.0000003</td>\n",
       "      <td>22.00</td>\n",
       "      <td>2014-06-03 22:42:05 UTC</td>\n",
       "      <td>-73.943904</td>\n",
       "      <td>40.776312</td>\n",
       "      <td>-73.943904</td>\n",
       "      <td>40.776312</td>\n",
       "      <td>1</td>\n",
       "    </tr>\n",
       "    <tr>\n",
       "      <th>30661055</th>\n",
       "      <td>2010-06-24 11:15:00.000000118</td>\n",
       "      <td>4.50</td>\n",
       "      <td>2010-06-24 11:15:00 UTC</td>\n",
       "      <td>-73.983073</td>\n",
       "      <td>40.744320</td>\n",
       "      <td>-73.975443</td>\n",
       "      <td>40.749762</td>\n",
       "      <td>1</td>\n",
       "    </tr>\n",
       "    <tr>\n",
       "      <th>8545721</th>\n",
       "      <td>2010-12-02 08:00:00.00000080</td>\n",
       "      <td>5.30</td>\n",
       "      <td>2010-12-02 08:00:00 UTC</td>\n",
       "      <td>-73.948160</td>\n",
       "      <td>40.774573</td>\n",
       "      <td>-73.959675</td>\n",
       "      <td>40.773937</td>\n",
       "      <td>1</td>\n",
       "    </tr>\n",
       "    <tr>\n",
       "      <th>15228641</th>\n",
       "      <td>2010-12-03 08:47:00.000000226</td>\n",
       "      <td>11.70</td>\n",
       "      <td>2010-12-03 08:47:00 UTC</td>\n",
       "      <td>-73.968517</td>\n",
       "      <td>40.759865</td>\n",
       "      <td>-73.991083</td>\n",
       "      <td>40.750402</td>\n",
       "      <td>1</td>\n",
       "    </tr>\n",
       "    <tr>\n",
       "      <th>31433307</th>\n",
       "      <td>2013-10-11 22:15:15.0000004</td>\n",
       "      <td>8.00</td>\n",
       "      <td>2013-10-11 22:15:15 UTC</td>\n",
       "      <td>-73.995277</td>\n",
       "      <td>40.765127</td>\n",
       "      <td>-74.005657</td>\n",
       "      <td>40.741220</td>\n",
       "      <td>2</td>\n",
       "    </tr>\n",
       "    <tr>\n",
       "      <th>27259266</th>\n",
       "      <td>2015-04-25 20:39:39.0000004</td>\n",
       "      <td>14.50</td>\n",
       "      <td>2015-04-25 20:39:39 UTC</td>\n",
       "      <td>-74.008720</td>\n",
       "      <td>40.716145</td>\n",
       "      <td>-73.997025</td>\n",
       "      <td>40.762520</td>\n",
       "      <td>1</td>\n",
       "    </tr>\n",
       "    <tr>\n",
       "      <th>14330339</th>\n",
       "      <td>2013-04-30 10:44:00.00000026</td>\n",
       "      <td>41.33</td>\n",
       "      <td>2013-04-30 10:44:00 UTC</td>\n",
       "      <td>-73.873052</td>\n",
       "      <td>40.774027</td>\n",
       "      <td>-73.976572</td>\n",
       "      <td>40.758105</td>\n",
       "      <td>1</td>\n",
       "    </tr>\n",
       "  </tbody>\n",
       "</table>\n",
       "</div>"
      ],
      "text/plain": [
       "                                    key  fare_amount          pickup_datetime  \\\n",
       "24326570    2010-08-24 05:50:23.0000001        26.67  2010-08-24 05:50:23 UTC   \n",
       "15460357    2015-01-23 19:02:56.0000003         5.00  2015-01-23 19:02:56 UTC   \n",
       "30274361    2011-12-12 23:57:02.0000005         6.10  2011-12-12 23:57:02 UTC   \n",
       "39732450    2014-06-03 22:42:05.0000003        22.00  2014-06-03 22:42:05 UTC   \n",
       "30661055  2010-06-24 11:15:00.000000118         4.50  2010-06-24 11:15:00 UTC   \n",
       "8545721    2010-12-02 08:00:00.00000080         5.30  2010-12-02 08:00:00 UTC   \n",
       "15228641  2010-12-03 08:47:00.000000226        11.70  2010-12-03 08:47:00 UTC   \n",
       "31433307    2013-10-11 22:15:15.0000004         8.00  2013-10-11 22:15:15 UTC   \n",
       "27259266    2015-04-25 20:39:39.0000004        14.50  2015-04-25 20:39:39 UTC   \n",
       "14330339   2013-04-30 10:44:00.00000026        41.33  2013-04-30 10:44:00 UTC   \n",
       "\n",
       "          pickup_longitude  pickup_latitude  dropoff_longitude  \\\n",
       "24326570        -73.984636        40.739336         -73.865106   \n",
       "15460357        -73.957306        40.774166         -73.949165   \n",
       "30274361        -73.972704        40.758788         -73.979171   \n",
       "39732450        -73.943904        40.776312         -73.943904   \n",
       "30661055        -73.983073        40.744320         -73.975443   \n",
       "8545721         -73.948160        40.774573         -73.959675   \n",
       "15228641        -73.968517        40.759865         -73.991083   \n",
       "31433307        -73.995277        40.765127         -74.005657   \n",
       "27259266        -74.008720        40.716145         -73.997025   \n",
       "14330339        -73.873052        40.774027         -73.976572   \n",
       "\n",
       "          dropoff_latitude  passenger_count  \n",
       "24326570         40.770507                1  \n",
       "15460357         40.780125                1  \n",
       "30274361         40.740311                1  \n",
       "39732450         40.776312                1  \n",
       "30661055         40.749762                1  \n",
       "8545721          40.773937                1  \n",
       "15228641         40.750402                1  \n",
       "31433307         40.741220                2  \n",
       "27259266         40.762520                1  \n",
       "14330339         40.758105                1  "
      ]
     },
     "execution_count": 8,
     "metadata": {},
     "output_type": "execute_result"
    }
   ],
   "source": [
    "sample_df.drop(['Unnamed: 0'], axis = 1, inplace = True)\n",
    "sample_df"
   ]
  },
  {
   "cell_type": "markdown",
   "metadata": {},
   "source": [
    "### 1. 파생변수 - 날짜데이터 자르기 -> 날짜 + 시간 변수로 나누기"
   ]
  },
  {
   "cell_type": "code",
   "execution_count": null,
   "metadata": {},
   "outputs": [],
   "source": [
    "# UTC (세계표준시)"
   ]
  },
  {
   "cell_type": "code",
   "execution_count": 9,
   "metadata": {},
   "outputs": [
    {
     "data": {
      "text/plain": [
       "24326570   2010-08-24 05:50:23\n",
       "15460357   2015-01-23 19:02:56\n",
       "30274361   2011-12-12 23:57:02\n",
       "39732450   2014-06-03 22:42:05\n",
       "30661055   2010-06-24 11:15:00\n",
       "8545721    2010-12-02 08:00:00\n",
       "15228641   2010-12-03 08:47:00\n",
       "31433307   2013-10-11 22:15:15\n",
       "27259266   2015-04-25 20:39:39\n",
       "14330339   2013-04-30 10:44:00\n",
       "Name: time, dtype: datetime64[ns]"
      ]
     },
     "execution_count": 9,
     "metadata": {},
     "output_type": "execute_result"
    }
   ],
   "source": [
    "sample_df['time'] = pd.to_datetime(sample_df.pickup_datetime, format='%Y-%m-%d %H:%M:%S UTC')\n",
    "sample_df['time']"
   ]
  },
  {
   "cell_type": "markdown",
   "metadata": {},
   "source": [
    "Datetime 으로 변환 https://www.delftstack.com/ko/howto/python-pandas/how-to-convert-dataframe-column-to-datetime-in-pandas/"
   ]
  },
  {
   "cell_type": "code",
   "execution_count": 10,
   "metadata": {},
   "outputs": [],
   "source": [
    "# 날짜 추출하기\n",
    "sample_df['log_date'] = sample_df['time'].dt.date\n",
    " \n",
    "# 시간 추출하기\n",
    "sample_df['log_time'] = sample_df['time'].dt.time\n",
    " \n",
    "# 시 추출하기\n",
    "sample_df['log_hour'] = sample_df['time'].dt.hour\n",
    " \n",
    "# 분 추출하기\n",
    "sample_df['log_min'] = sample_df['time'].dt.minute"
   ]
  },
  {
   "cell_type": "code",
   "execution_count": 11,
   "metadata": {},
   "outputs": [
    {
     "data": {
      "text/html": [
       "<div>\n",
       "<style scoped>\n",
       "    .dataframe tbody tr th:only-of-type {\n",
       "        vertical-align: middle;\n",
       "    }\n",
       "\n",
       "    .dataframe tbody tr th {\n",
       "        vertical-align: top;\n",
       "    }\n",
       "\n",
       "    .dataframe thead th {\n",
       "        text-align: right;\n",
       "    }\n",
       "</style>\n",
       "<table border=\"1\" class=\"dataframe\">\n",
       "  <thead>\n",
       "    <tr style=\"text-align: right;\">\n",
       "      <th></th>\n",
       "      <th>time</th>\n",
       "      <th>log_date</th>\n",
       "      <th>log_time</th>\n",
       "      <th>log_hour</th>\n",
       "      <th>log_min</th>\n",
       "    </tr>\n",
       "  </thead>\n",
       "  <tbody>\n",
       "    <tr>\n",
       "      <th>24326570</th>\n",
       "      <td>2010-08-24 05:50:23</td>\n",
       "      <td>2010-08-24</td>\n",
       "      <td>05:50:23</td>\n",
       "      <td>5</td>\n",
       "      <td>50</td>\n",
       "    </tr>\n",
       "    <tr>\n",
       "      <th>15460357</th>\n",
       "      <td>2015-01-23 19:02:56</td>\n",
       "      <td>2015-01-23</td>\n",
       "      <td>19:02:56</td>\n",
       "      <td>19</td>\n",
       "      <td>2</td>\n",
       "    </tr>\n",
       "    <tr>\n",
       "      <th>30274361</th>\n",
       "      <td>2011-12-12 23:57:02</td>\n",
       "      <td>2011-12-12</td>\n",
       "      <td>23:57:02</td>\n",
       "      <td>23</td>\n",
       "      <td>57</td>\n",
       "    </tr>\n",
       "    <tr>\n",
       "      <th>39732450</th>\n",
       "      <td>2014-06-03 22:42:05</td>\n",
       "      <td>2014-06-03</td>\n",
       "      <td>22:42:05</td>\n",
       "      <td>22</td>\n",
       "      <td>42</td>\n",
       "    </tr>\n",
       "    <tr>\n",
       "      <th>30661055</th>\n",
       "      <td>2010-06-24 11:15:00</td>\n",
       "      <td>2010-06-24</td>\n",
       "      <td>11:15:00</td>\n",
       "      <td>11</td>\n",
       "      <td>15</td>\n",
       "    </tr>\n",
       "    <tr>\n",
       "      <th>8545721</th>\n",
       "      <td>2010-12-02 08:00:00</td>\n",
       "      <td>2010-12-02</td>\n",
       "      <td>08:00:00</td>\n",
       "      <td>8</td>\n",
       "      <td>0</td>\n",
       "    </tr>\n",
       "    <tr>\n",
       "      <th>15228641</th>\n",
       "      <td>2010-12-03 08:47:00</td>\n",
       "      <td>2010-12-03</td>\n",
       "      <td>08:47:00</td>\n",
       "      <td>8</td>\n",
       "      <td>47</td>\n",
       "    </tr>\n",
       "    <tr>\n",
       "      <th>31433307</th>\n",
       "      <td>2013-10-11 22:15:15</td>\n",
       "      <td>2013-10-11</td>\n",
       "      <td>22:15:15</td>\n",
       "      <td>22</td>\n",
       "      <td>15</td>\n",
       "    </tr>\n",
       "    <tr>\n",
       "      <th>27259266</th>\n",
       "      <td>2015-04-25 20:39:39</td>\n",
       "      <td>2015-04-25</td>\n",
       "      <td>20:39:39</td>\n",
       "      <td>20</td>\n",
       "      <td>39</td>\n",
       "    </tr>\n",
       "    <tr>\n",
       "      <th>14330339</th>\n",
       "      <td>2013-04-30 10:44:00</td>\n",
       "      <td>2013-04-30</td>\n",
       "      <td>10:44:00</td>\n",
       "      <td>10</td>\n",
       "      <td>44</td>\n",
       "    </tr>\n",
       "  </tbody>\n",
       "</table>\n",
       "</div>"
      ],
      "text/plain": [
       "                        time    log_date  log_time  log_hour  log_min\n",
       "24326570 2010-08-24 05:50:23  2010-08-24  05:50:23         5       50\n",
       "15460357 2015-01-23 19:02:56  2015-01-23  19:02:56        19        2\n",
       "30274361 2011-12-12 23:57:02  2011-12-12  23:57:02        23       57\n",
       "39732450 2014-06-03 22:42:05  2014-06-03  22:42:05        22       42\n",
       "30661055 2010-06-24 11:15:00  2010-06-24  11:15:00        11       15\n",
       "8545721  2010-12-02 08:00:00  2010-12-02  08:00:00         8        0\n",
       "15228641 2010-12-03 08:47:00  2010-12-03  08:47:00         8       47\n",
       "31433307 2013-10-11 22:15:15  2013-10-11  22:15:15        22       15\n",
       "27259266 2015-04-25 20:39:39  2015-04-25  20:39:39        20       39\n",
       "14330339 2013-04-30 10:44:00  2013-04-30  10:44:00        10       44"
      ]
     },
     "execution_count": 11,
     "metadata": {},
     "output_type": "execute_result"
    }
   ],
   "source": [
    "sample_df.iloc[:, 8:]"
   ]
  },
  {
   "cell_type": "markdown",
   "metadata": {},
   "source": [
    "to_datetime 활용 https://sarah0518.tistory.com/61"
   ]
  },
  {
   "cell_type": "markdown",
   "metadata": {},
   "source": [
    "시간, 날짜 데이터 변환 https://blog.doosikbae.com/89 "
   ]
  },
  {
   "cell_type": "code",
   "execution_count": 13,
   "metadata": {},
   "outputs": [],
   "source": [
    "# 연도 추출하기\n",
    "sample_df['log_year'] = sample_df['time'].dt.year\n",
    "\n",
    "\n",
    "# 월 추출하기\n",
    "sample_df['log_month'] = sample_df['time'].dt.month\n",
    "\n",
    "\n",
    "# 일 추출하기\n",
    "sample_df['log_day'] = sample_df['time'].dt.day"
   ]
  },
  {
   "cell_type": "code",
   "execution_count": 14,
   "metadata": {},
   "outputs": [
    {
     "data": {
      "text/html": [
       "<div>\n",
       "<style scoped>\n",
       "    .dataframe tbody tr th:only-of-type {\n",
       "        vertical-align: middle;\n",
       "    }\n",
       "\n",
       "    .dataframe tbody tr th {\n",
       "        vertical-align: top;\n",
       "    }\n",
       "\n",
       "    .dataframe thead th {\n",
       "        text-align: right;\n",
       "    }\n",
       "</style>\n",
       "<table border=\"1\" class=\"dataframe\">\n",
       "  <thead>\n",
       "    <tr style=\"text-align: right;\">\n",
       "      <th></th>\n",
       "      <th>time</th>\n",
       "      <th>log_date</th>\n",
       "      <th>log_time</th>\n",
       "      <th>log_hour</th>\n",
       "      <th>log_min</th>\n",
       "      <th>log_year</th>\n",
       "      <th>log_month</th>\n",
       "      <th>log_day</th>\n",
       "    </tr>\n",
       "  </thead>\n",
       "  <tbody>\n",
       "    <tr>\n",
       "      <th>24326570</th>\n",
       "      <td>2010-08-24 05:50:23</td>\n",
       "      <td>2010-08-24</td>\n",
       "      <td>05:50:23</td>\n",
       "      <td>5</td>\n",
       "      <td>50</td>\n",
       "      <td>2010</td>\n",
       "      <td>8</td>\n",
       "      <td>24</td>\n",
       "    </tr>\n",
       "    <tr>\n",
       "      <th>15460357</th>\n",
       "      <td>2015-01-23 19:02:56</td>\n",
       "      <td>2015-01-23</td>\n",
       "      <td>19:02:56</td>\n",
       "      <td>19</td>\n",
       "      <td>2</td>\n",
       "      <td>2015</td>\n",
       "      <td>1</td>\n",
       "      <td>23</td>\n",
       "    </tr>\n",
       "    <tr>\n",
       "      <th>30274361</th>\n",
       "      <td>2011-12-12 23:57:02</td>\n",
       "      <td>2011-12-12</td>\n",
       "      <td>23:57:02</td>\n",
       "      <td>23</td>\n",
       "      <td>57</td>\n",
       "      <td>2011</td>\n",
       "      <td>12</td>\n",
       "      <td>12</td>\n",
       "    </tr>\n",
       "    <tr>\n",
       "      <th>39732450</th>\n",
       "      <td>2014-06-03 22:42:05</td>\n",
       "      <td>2014-06-03</td>\n",
       "      <td>22:42:05</td>\n",
       "      <td>22</td>\n",
       "      <td>42</td>\n",
       "      <td>2014</td>\n",
       "      <td>6</td>\n",
       "      <td>3</td>\n",
       "    </tr>\n",
       "    <tr>\n",
       "      <th>30661055</th>\n",
       "      <td>2010-06-24 11:15:00</td>\n",
       "      <td>2010-06-24</td>\n",
       "      <td>11:15:00</td>\n",
       "      <td>11</td>\n",
       "      <td>15</td>\n",
       "      <td>2010</td>\n",
       "      <td>6</td>\n",
       "      <td>24</td>\n",
       "    </tr>\n",
       "    <tr>\n",
       "      <th>8545721</th>\n",
       "      <td>2010-12-02 08:00:00</td>\n",
       "      <td>2010-12-02</td>\n",
       "      <td>08:00:00</td>\n",
       "      <td>8</td>\n",
       "      <td>0</td>\n",
       "      <td>2010</td>\n",
       "      <td>12</td>\n",
       "      <td>2</td>\n",
       "    </tr>\n",
       "    <tr>\n",
       "      <th>15228641</th>\n",
       "      <td>2010-12-03 08:47:00</td>\n",
       "      <td>2010-12-03</td>\n",
       "      <td>08:47:00</td>\n",
       "      <td>8</td>\n",
       "      <td>47</td>\n",
       "      <td>2010</td>\n",
       "      <td>12</td>\n",
       "      <td>3</td>\n",
       "    </tr>\n",
       "    <tr>\n",
       "      <th>31433307</th>\n",
       "      <td>2013-10-11 22:15:15</td>\n",
       "      <td>2013-10-11</td>\n",
       "      <td>22:15:15</td>\n",
       "      <td>22</td>\n",
       "      <td>15</td>\n",
       "      <td>2013</td>\n",
       "      <td>10</td>\n",
       "      <td>11</td>\n",
       "    </tr>\n",
       "    <tr>\n",
       "      <th>27259266</th>\n",
       "      <td>2015-04-25 20:39:39</td>\n",
       "      <td>2015-04-25</td>\n",
       "      <td>20:39:39</td>\n",
       "      <td>20</td>\n",
       "      <td>39</td>\n",
       "      <td>2015</td>\n",
       "      <td>4</td>\n",
       "      <td>25</td>\n",
       "    </tr>\n",
       "    <tr>\n",
       "      <th>14330339</th>\n",
       "      <td>2013-04-30 10:44:00</td>\n",
       "      <td>2013-04-30</td>\n",
       "      <td>10:44:00</td>\n",
       "      <td>10</td>\n",
       "      <td>44</td>\n",
       "      <td>2013</td>\n",
       "      <td>4</td>\n",
       "      <td>30</td>\n",
       "    </tr>\n",
       "  </tbody>\n",
       "</table>\n",
       "</div>"
      ],
      "text/plain": [
       "                        time    log_date  log_time  log_hour  log_min  \\\n",
       "24326570 2010-08-24 05:50:23  2010-08-24  05:50:23         5       50   \n",
       "15460357 2015-01-23 19:02:56  2015-01-23  19:02:56        19        2   \n",
       "30274361 2011-12-12 23:57:02  2011-12-12  23:57:02        23       57   \n",
       "39732450 2014-06-03 22:42:05  2014-06-03  22:42:05        22       42   \n",
       "30661055 2010-06-24 11:15:00  2010-06-24  11:15:00        11       15   \n",
       "8545721  2010-12-02 08:00:00  2010-12-02  08:00:00         8        0   \n",
       "15228641 2010-12-03 08:47:00  2010-12-03  08:47:00         8       47   \n",
       "31433307 2013-10-11 22:15:15  2013-10-11  22:15:15        22       15   \n",
       "27259266 2015-04-25 20:39:39  2015-04-25  20:39:39        20       39   \n",
       "14330339 2013-04-30 10:44:00  2013-04-30  10:44:00        10       44   \n",
       "\n",
       "          log_year  log_month  log_day  \n",
       "24326570      2010          8       24  \n",
       "15460357      2015          1       23  \n",
       "30274361      2011         12       12  \n",
       "39732450      2014          6        3  \n",
       "30661055      2010          6       24  \n",
       "8545721       2010         12        2  \n",
       "15228641      2010         12        3  \n",
       "31433307      2013         10       11  \n",
       "27259266      2015          4       25  \n",
       "14330339      2013          4       30  "
      ]
     },
     "execution_count": 14,
     "metadata": {},
     "output_type": "execute_result"
    }
   ],
   "source": [
    "sample_df.iloc[:, 8:]"
   ]
  },
  {
   "cell_type": "markdown",
   "metadata": {},
   "source": [
    "### 1-1. 시간 변수 -> 그룹화"
   ]
  },
  {
   "cell_type": "code",
   "execution_count": null,
   "metadata": {},
   "outputs": [],
   "source": [
    "# 기본요금은 $2.50에 총 $0.80의 추가 요금\n",
    "# 5분의 1마일당, 혹은 교통 체증 시 60초당 $0.50이 가산\n",
    "# 택시에 4명까지 탈 수 O\n",
    "# 20:00부터 06:00까지 $0.50를 추가로 지불\n",
    "# 월요일부터 금요일 16:00~20:00까지 교통체증이 있는 시간대에도 $1의 할증"
   ]
  },
  {
   "cell_type": "markdown",
   "metadata": {},
   "source": [
    "#### 1. 07시~15시  / 16시~20시 / 20시~06시 그룹화 (이진변수)"
   ]
  },
  {
   "cell_type": "code",
   "execution_count": 25,
   "metadata": {},
   "outputs": [],
   "source": [
    "def is_7to15(x):\n",
    "    if (x >= 7) & (x <= 15):\n",
    "        return 1\n",
    "    else:\n",
    "        return 0"
   ]
  },
  {
   "cell_type": "code",
   "execution_count": 27,
   "metadata": {},
   "outputs": [
    {
     "data": {
      "text/plain": [
       "24326570    0\n",
       "15460357    0\n",
       "30274361    0\n",
       "39732450    0\n",
       "30661055    1\n",
       "8545721     1\n",
       "15228641    1\n",
       "31433307    0\n",
       "27259266    0\n",
       "14330339    1\n",
       "Name: 7to15, dtype: int64"
      ]
     },
     "execution_count": 27,
     "metadata": {},
     "output_type": "execute_result"
    }
   ],
   "source": [
    "sample_df['7to15'] = sample_df['log_hour'].apply(is_7to15)\n",
    "sample_df['7to15']"
   ]
  },
  {
   "cell_type": "code",
   "execution_count": 36,
   "metadata": {},
   "outputs": [],
   "source": [
    "def is_16to20(x):\n",
    "    if (x >= 16) & (x < 20):\n",
    "        return 1\n",
    "    else:\n",
    "        return 0"
   ]
  },
  {
   "cell_type": "code",
   "execution_count": 37,
   "metadata": {},
   "outputs": [
    {
     "data": {
      "text/plain": [
       "24326570    0\n",
       "15460357    1\n",
       "30274361    0\n",
       "39732450    0\n",
       "30661055    0\n",
       "8545721     0\n",
       "15228641    0\n",
       "31433307    0\n",
       "27259266    0\n",
       "14330339    0\n",
       "Name: 16to20, dtype: int64"
      ]
     },
     "execution_count": 37,
     "metadata": {},
     "output_type": "execute_result"
    }
   ],
   "source": [
    "sample_df['16to20'] = sample_df['log_hour'].apply(is_16to20)\n",
    "sample_df['16to20']"
   ]
  },
  {
   "cell_type": "code",
   "execution_count": 38,
   "metadata": {},
   "outputs": [],
   "source": [
    "def is_20to6(x):\n",
    "    if (x >= 20) | (x <= 6):\n",
    "        return 1\n",
    "    else:\n",
    "        return 0"
   ]
  },
  {
   "cell_type": "code",
   "execution_count": 39,
   "metadata": {},
   "outputs": [
    {
     "data": {
      "text/plain": [
       "24326570    1\n",
       "15460357    0\n",
       "30274361    1\n",
       "39732450    1\n",
       "30661055    0\n",
       "8545721     0\n",
       "15228641    0\n",
       "31433307    1\n",
       "27259266    1\n",
       "14330339    0\n",
       "Name: 20to6, dtype: int64"
      ]
     },
     "execution_count": 39,
     "metadata": {},
     "output_type": "execute_result"
    }
   ],
   "source": [
    "sample_df['20to6'] = sample_df['log_hour'].apply(is_20to6)\n",
    "sample_df['20to6']"
   ]
  },
  {
   "cell_type": "code",
   "execution_count": null,
   "metadata": {},
   "outputs": [],
   "source": [
    "# 20시 **분 -> 어느 그룹으로...?"
   ]
  },
  {
   "cell_type": "code",
   "execution_count": 40,
   "metadata": {},
   "outputs": [
    {
     "data": {
      "text/html": [
       "<div>\n",
       "<style scoped>\n",
       "    .dataframe tbody tr th:only-of-type {\n",
       "        vertical-align: middle;\n",
       "    }\n",
       "\n",
       "    .dataframe tbody tr th {\n",
       "        vertical-align: top;\n",
       "    }\n",
       "\n",
       "    .dataframe thead th {\n",
       "        text-align: right;\n",
       "    }\n",
       "</style>\n",
       "<table border=\"1\" class=\"dataframe\">\n",
       "  <thead>\n",
       "    <tr style=\"text-align: right;\">\n",
       "      <th></th>\n",
       "      <th>time</th>\n",
       "      <th>log_date</th>\n",
       "      <th>log_time</th>\n",
       "      <th>log_hour</th>\n",
       "      <th>log_min</th>\n",
       "      <th>log_year</th>\n",
       "      <th>log_month</th>\n",
       "      <th>log_day</th>\n",
       "      <th>7to15</th>\n",
       "      <th>16to20</th>\n",
       "      <th>20to6</th>\n",
       "    </tr>\n",
       "  </thead>\n",
       "  <tbody>\n",
       "    <tr>\n",
       "      <th>24326570</th>\n",
       "      <td>2010-08-24 05:50:23</td>\n",
       "      <td>2010-08-24</td>\n",
       "      <td>05:50:23</td>\n",
       "      <td>5</td>\n",
       "      <td>50</td>\n",
       "      <td>2010</td>\n",
       "      <td>8</td>\n",
       "      <td>24</td>\n",
       "      <td>0</td>\n",
       "      <td>0</td>\n",
       "      <td>1</td>\n",
       "    </tr>\n",
       "    <tr>\n",
       "      <th>15460357</th>\n",
       "      <td>2015-01-23 19:02:56</td>\n",
       "      <td>2015-01-23</td>\n",
       "      <td>19:02:56</td>\n",
       "      <td>19</td>\n",
       "      <td>2</td>\n",
       "      <td>2015</td>\n",
       "      <td>1</td>\n",
       "      <td>23</td>\n",
       "      <td>0</td>\n",
       "      <td>1</td>\n",
       "      <td>0</td>\n",
       "    </tr>\n",
       "    <tr>\n",
       "      <th>30274361</th>\n",
       "      <td>2011-12-12 23:57:02</td>\n",
       "      <td>2011-12-12</td>\n",
       "      <td>23:57:02</td>\n",
       "      <td>23</td>\n",
       "      <td>57</td>\n",
       "      <td>2011</td>\n",
       "      <td>12</td>\n",
       "      <td>12</td>\n",
       "      <td>0</td>\n",
       "      <td>0</td>\n",
       "      <td>1</td>\n",
       "    </tr>\n",
       "    <tr>\n",
       "      <th>39732450</th>\n",
       "      <td>2014-06-03 22:42:05</td>\n",
       "      <td>2014-06-03</td>\n",
       "      <td>22:42:05</td>\n",
       "      <td>22</td>\n",
       "      <td>42</td>\n",
       "      <td>2014</td>\n",
       "      <td>6</td>\n",
       "      <td>3</td>\n",
       "      <td>0</td>\n",
       "      <td>0</td>\n",
       "      <td>1</td>\n",
       "    </tr>\n",
       "    <tr>\n",
       "      <th>30661055</th>\n",
       "      <td>2010-06-24 11:15:00</td>\n",
       "      <td>2010-06-24</td>\n",
       "      <td>11:15:00</td>\n",
       "      <td>11</td>\n",
       "      <td>15</td>\n",
       "      <td>2010</td>\n",
       "      <td>6</td>\n",
       "      <td>24</td>\n",
       "      <td>1</td>\n",
       "      <td>0</td>\n",
       "      <td>0</td>\n",
       "    </tr>\n",
       "    <tr>\n",
       "      <th>8545721</th>\n",
       "      <td>2010-12-02 08:00:00</td>\n",
       "      <td>2010-12-02</td>\n",
       "      <td>08:00:00</td>\n",
       "      <td>8</td>\n",
       "      <td>0</td>\n",
       "      <td>2010</td>\n",
       "      <td>12</td>\n",
       "      <td>2</td>\n",
       "      <td>1</td>\n",
       "      <td>0</td>\n",
       "      <td>0</td>\n",
       "    </tr>\n",
       "    <tr>\n",
       "      <th>15228641</th>\n",
       "      <td>2010-12-03 08:47:00</td>\n",
       "      <td>2010-12-03</td>\n",
       "      <td>08:47:00</td>\n",
       "      <td>8</td>\n",
       "      <td>47</td>\n",
       "      <td>2010</td>\n",
       "      <td>12</td>\n",
       "      <td>3</td>\n",
       "      <td>1</td>\n",
       "      <td>0</td>\n",
       "      <td>0</td>\n",
       "    </tr>\n",
       "    <tr>\n",
       "      <th>31433307</th>\n",
       "      <td>2013-10-11 22:15:15</td>\n",
       "      <td>2013-10-11</td>\n",
       "      <td>22:15:15</td>\n",
       "      <td>22</td>\n",
       "      <td>15</td>\n",
       "      <td>2013</td>\n",
       "      <td>10</td>\n",
       "      <td>11</td>\n",
       "      <td>0</td>\n",
       "      <td>0</td>\n",
       "      <td>1</td>\n",
       "    </tr>\n",
       "    <tr>\n",
       "      <th>27259266</th>\n",
       "      <td>2015-04-25 20:39:39</td>\n",
       "      <td>2015-04-25</td>\n",
       "      <td>20:39:39</td>\n",
       "      <td>20</td>\n",
       "      <td>39</td>\n",
       "      <td>2015</td>\n",
       "      <td>4</td>\n",
       "      <td>25</td>\n",
       "      <td>0</td>\n",
       "      <td>0</td>\n",
       "      <td>1</td>\n",
       "    </tr>\n",
       "    <tr>\n",
       "      <th>14330339</th>\n",
       "      <td>2013-04-30 10:44:00</td>\n",
       "      <td>2013-04-30</td>\n",
       "      <td>10:44:00</td>\n",
       "      <td>10</td>\n",
       "      <td>44</td>\n",
       "      <td>2013</td>\n",
       "      <td>4</td>\n",
       "      <td>30</td>\n",
       "      <td>1</td>\n",
       "      <td>0</td>\n",
       "      <td>0</td>\n",
       "    </tr>\n",
       "  </tbody>\n",
       "</table>\n",
       "</div>"
      ],
      "text/plain": [
       "                        time    log_date  log_time  log_hour  log_min  \\\n",
       "24326570 2010-08-24 05:50:23  2010-08-24  05:50:23         5       50   \n",
       "15460357 2015-01-23 19:02:56  2015-01-23  19:02:56        19        2   \n",
       "30274361 2011-12-12 23:57:02  2011-12-12  23:57:02        23       57   \n",
       "39732450 2014-06-03 22:42:05  2014-06-03  22:42:05        22       42   \n",
       "30661055 2010-06-24 11:15:00  2010-06-24  11:15:00        11       15   \n",
       "8545721  2010-12-02 08:00:00  2010-12-02  08:00:00         8        0   \n",
       "15228641 2010-12-03 08:47:00  2010-12-03  08:47:00         8       47   \n",
       "31433307 2013-10-11 22:15:15  2013-10-11  22:15:15        22       15   \n",
       "27259266 2015-04-25 20:39:39  2015-04-25  20:39:39        20       39   \n",
       "14330339 2013-04-30 10:44:00  2013-04-30  10:44:00        10       44   \n",
       "\n",
       "          log_year  log_month  log_day  7to15  16to20  20to6  \n",
       "24326570      2010          8       24      0       0      1  \n",
       "15460357      2015          1       23      0       1      0  \n",
       "30274361      2011         12       12      0       0      1  \n",
       "39732450      2014          6        3      0       0      1  \n",
       "30661055      2010          6       24      1       0      0  \n",
       "8545721       2010         12        2      1       0      0  \n",
       "15228641      2010         12        3      1       0      0  \n",
       "31433307      2013         10       11      0       0      1  \n",
       "27259266      2015          4       25      0       0      1  \n",
       "14330339      2013          4       30      1       0      0  "
      ]
     },
     "execution_count": 40,
     "metadata": {},
     "output_type": "execute_result"
    }
   ],
   "source": [
    "sample_df.iloc[:, 8:]"
   ]
  },
  {
   "cell_type": "markdown",
   "metadata": {},
   "source": [
    "#### 2. log_hour가 20:00부터 06:00 사이인지 확인하는 변수 생성"
   ]
  },
  {
   "cell_type": "code",
   "execution_count": null,
   "metadata": {},
   "outputs": [],
   "source": [
    "# 20:00부터 06:00까지 $0.50를 추가로 지불\n",
    "# 월요일부터 금요일 16:00~20:00까지 교통체증이 있는 시간대에도 $1의 할증"
   ]
  },
  {
   "cell_type": "markdown",
   "metadata": {},
   "source": [
    "is_extracharge 함수 생성 : sample_df['20to6'] == 1 이거나 sample_df['16to20'] == 1 이면 추가금액 발생"
   ]
  },
  {
   "cell_type": "code",
   "execution_count": 41,
   "metadata": {},
   "outputs": [],
   "source": [
    "def is_extracharge(x):\n",
    "    if x == 1:\n",
    "        return 1\n",
    "    else:\n",
    "        return 0"
   ]
  },
  {
   "cell_type": "code",
   "execution_count": 48,
   "metadata": {},
   "outputs": [
    {
     "data": {
      "text/plain": [
       "24326570    0\n",
       "15460357    1\n",
       "30274361    0\n",
       "39732450    0\n",
       "30661055    0\n",
       "8545721     0\n",
       "15228641    0\n",
       "31433307    0\n",
       "27259266    0\n",
       "14330339    0\n",
       "Name: 16to20, dtype: int64"
      ]
     },
     "execution_count": 48,
     "metadata": {},
     "output_type": "execute_result"
    }
   ],
   "source": [
    "# sample_df['20to6'].apply(is_extracharge)\n",
    "# sample_df['16to20'].apply(is_extracharge)"
   ]
  },
  {
   "cell_type": "code",
   "execution_count": 49,
   "metadata": {},
   "outputs": [
    {
     "ename": "ValueError",
     "evalue": "The truth value of a Series is ambiguous. Use a.empty, a.bool(), a.item(), a.any() or a.all().",
     "output_type": "error",
     "traceback": [
      "\u001b[1;31m---------------------------------------------------------------------------\u001b[0m",
      "\u001b[1;31mValueError\u001b[0m                                Traceback (most recent call last)",
      "\u001b[1;32m<ipython-input-49-8cd71146271e>\u001b[0m in \u001b[0;36m<module>\u001b[1;34m\u001b[0m\n\u001b[1;32m----> 1\u001b[1;33m \u001b[1;32mif\u001b[0m \u001b[1;33m(\u001b[0m\u001b[0msample_df\u001b[0m\u001b[1;33m[\u001b[0m\u001b[1;34m'16to20'\u001b[0m\u001b[1;33m]\u001b[0m \u001b[1;33m==\u001b[0m \u001b[1;36m1\u001b[0m\u001b[1;33m)\u001b[0m \u001b[1;33m|\u001b[0m \u001b[1;33m(\u001b[0m\u001b[0msample_df\u001b[0m\u001b[1;33m[\u001b[0m\u001b[1;34m'20to6'\u001b[0m\u001b[1;33m]\u001b[0m \u001b[1;33m==\u001b[0m \u001b[1;36m1\u001b[0m\u001b[1;33m)\u001b[0m\u001b[1;33m:\u001b[0m\u001b[1;33m\u001b[0m\u001b[1;33m\u001b[0m\u001b[0m\n\u001b[0m\u001b[0;32m      2\u001b[0m     \u001b[0msample_df\u001b[0m\u001b[1;33m[\u001b[0m\u001b[1;34m'extracharge'\u001b[0m\u001b[1;33m]\u001b[0m \u001b[1;33m=\u001b[0m \u001b[1;36m1\u001b[0m\u001b[1;33m\u001b[0m\u001b[1;33m\u001b[0m\u001b[0m\n\u001b[0;32m      3\u001b[0m \u001b[1;32melse\u001b[0m\u001b[1;33m:\u001b[0m\u001b[1;33m\u001b[0m\u001b[1;33m\u001b[0m\u001b[0m\n\u001b[0;32m      4\u001b[0m     \u001b[0msample_df\u001b[0m\u001b[1;33m[\u001b[0m\u001b[1;34m'extracharge'\u001b[0m\u001b[1;33m]\u001b[0m \u001b[1;33m=\u001b[0m \u001b[1;36m0\u001b[0m\u001b[1;33m\u001b[0m\u001b[1;33m\u001b[0m\u001b[0m\n",
      "\u001b[1;32mc:\\users\\jooya\\appdata\\local\\programs\\python\\python38\\lib\\site-packages\\pandas\\core\\generic.py\u001b[0m in \u001b[0;36m__nonzero__\u001b[1;34m(self)\u001b[0m\n\u001b[0;32m   1327\u001b[0m \u001b[1;33m\u001b[0m\u001b[0m\n\u001b[0;32m   1328\u001b[0m     \u001b[1;32mdef\u001b[0m \u001b[0m__nonzero__\u001b[0m\u001b[1;33m(\u001b[0m\u001b[0mself\u001b[0m\u001b[1;33m)\u001b[0m\u001b[1;33m:\u001b[0m\u001b[1;33m\u001b[0m\u001b[1;33m\u001b[0m\u001b[0m\n\u001b[1;32m-> 1329\u001b[1;33m         raise ValueError(\n\u001b[0m\u001b[0;32m   1330\u001b[0m             \u001b[1;34mf\"The truth value of a {type(self).__name__} is ambiguous. \"\u001b[0m\u001b[1;33m\u001b[0m\u001b[1;33m\u001b[0m\u001b[0m\n\u001b[0;32m   1331\u001b[0m             \u001b[1;34m\"Use a.empty, a.bool(), a.item(), a.any() or a.all().\"\u001b[0m\u001b[1;33m\u001b[0m\u001b[1;33m\u001b[0m\u001b[0m\n",
      "\u001b[1;31mValueError\u001b[0m: The truth value of a Series is ambiguous. Use a.empty, a.bool(), a.item(), a.any() or a.all()."
     ]
    }
   ],
   "source": [
    "if (sample_df['16to20'] == 1) | (sample_df['20to6'] == 1):\n",
    "    sample_df['extracharge'] = 1\n",
    "else:\n",
    "    sample_df['extracharge'] = 0"
   ]
  },
  {
   "cell_type": "code",
   "execution_count": null,
   "metadata": {},
   "outputs": [],
   "source": []
  },
  {
   "cell_type": "code",
   "execution_count": null,
   "metadata": {},
   "outputs": [],
   "source": []
  },
  {
   "cell_type": "markdown",
   "metadata": {},
   "source": [
    "데이터프레임 함수 적용(apply, lambda) https://koreadatascientist.tistory.com/115"
   ]
  },
  {
   "cell_type": "code",
   "execution_count": null,
   "metadata": {},
   "outputs": [],
   "source": []
  },
  {
   "cell_type": "code",
   "execution_count": null,
   "metadata": {},
   "outputs": [],
   "source": []
  },
  {
   "cell_type": "markdown",
   "metadata": {},
   "source": [
    "### 1-2. 날짜 변수 -> 요일 알아보기"
   ]
  },
  {
   "cell_type": "code",
   "execution_count": null,
   "metadata": {},
   "outputs": [],
   "source": [
    "## -> 'add_fare_amount' 추가 변수 생성 (추가 지불액이 발생하는 시간대인지 확인 후 할증액 추가) "
   ]
  },
  {
   "cell_type": "code",
   "execution_count": 119,
   "metadata": {},
   "outputs": [
    {
     "data": {
      "text/plain": [
       "24503083       Sunday\n",
       "33587288       Sunday\n",
       "11603226    Wednesday\n",
       "53037963    Wednesday\n",
       "4027724       Tuesday\n",
       "Name: dayofweek, dtype: object"
      ]
     },
     "execution_count": 119,
     "metadata": {},
     "output_type": "execute_result"
    }
   ],
   "source": [
    "sample_df['dayofweek'] = sample_df['time'].dt.strftime(\"%A\")\n",
    "sample_df['dayofweek']"
   ]
  },
  {
   "cell_type": "markdown",
   "metadata": {},
   "source": [
    "https://flutterq.com/error-in-reading-stock-data-datetimeproperties-object-has-no-attribute-weekday_name-and-nonetype-object-has-no-attribute-to_csv/"
   ]
  },
  {
   "cell_type": "markdown",
   "metadata": {},
   "source": [
    "strftime() — 날짜/시간을 스트링으로 변환 \n",
    "https://www.ibm.com/docs/ko/i/7.3?topic=functions-strftime-convert-datetime-string"
   ]
  },
  {
   "cell_type": "markdown",
   "metadata": {},
   "source": [
    "#### 월요일~금요일인지 확인하는 변수 생성"
   ]
  },
  {
   "cell_type": "markdown",
   "metadata": {},
   "source": [
    "true(1) / false(0)"
   ]
  },
  {
   "cell_type": "code",
   "execution_count": 131,
   "metadata": {},
   "outputs": [
    {
     "data": {
      "text/plain": [
       "24503083    7\n",
       "33587288    7\n",
       "11603226    3\n",
       "53037963    3\n",
       "4027724     2\n",
       "Name: dayofweek2, dtype: object"
      ]
     },
     "execution_count": 131,
     "metadata": {},
     "output_type": "execute_result"
    }
   ],
   "source": [
    "# 요일[1,7]. 월요일(1) ~ 일요일(7)\n",
    "\n",
    "sample_df['dayofweek2'] = sample_df['time'].dt.strftime(\"%u\")\n",
    "sample_df['dayofweek2']"
   ]
  },
  {
   "cell_type": "code",
   "execution_count": null,
   "metadata": {},
   "outputs": [],
   "source": [
    "def is_weekday(x):\n",
    "    return x > 5"
   ]
  },
  {
   "cell_type": "code",
   "execution_count": null,
   "metadata": {},
   "outputs": [],
   "source": [
    "sample_df['isWeekday'] =  "
   ]
  },
  {
   "cell_type": "code",
   "execution_count": null,
   "metadata": {},
   "outputs": [],
   "source": []
  },
  {
   "cell_type": "code",
   "execution_count": null,
   "metadata": {},
   "outputs": [],
   "source": []
  },
  {
   "cell_type": "code",
   "execution_count": null,
   "metadata": {},
   "outputs": [],
   "source": []
  },
  {
   "cell_type": "markdown",
   "metadata": {},
   "source": [
    "#### 2. is_weekend 함수 생성"
   ]
  },
  {
   "cell_type": "code",
   "execution_count": 123,
   "metadata": {},
   "outputs": [],
   "source": [
    "from datetime import date"
   ]
  },
  {
   "cell_type": "code",
   "execution_count": 124,
   "metadata": {},
   "outputs": [
    {
     "data": {
      "text/plain": [
       "2"
      ]
     },
     "execution_count": 124,
     "metadata": {},
     "output_type": "execute_result"
    }
   ],
   "source": [
    "date(2020, 12, 2).weekday()"
   ]
  },
  {
   "cell_type": "code",
   "execution_count": 125,
   "metadata": {},
   "outputs": [
    {
     "name": "stdout",
     "output_type": "stream",
     "text": [
      "False\n"
     ]
    }
   ],
   "source": [
    "def is_weekend(d):\n",
    "    return d.weekday() > 4\n",
    "\n",
    "print(is_weekend(date(2020, 12, 2))) "
   ]
  },
  {
   "cell_type": "markdown",
   "metadata": {},
   "source": [
    "https://isss.tistory.com/685 : 파이썬으로 특정 날짜가 주말인지 체크하기"
   ]
  },
  {
   "cell_type": "code",
   "execution_count": null,
   "metadata": {},
   "outputs": [],
   "source": []
  },
  {
   "cell_type": "markdown",
   "metadata": {},
   "source": [
    "======================================================================================================================="
   ]
  },
  {
   "cell_type": "code",
   "execution_count": 2,
   "metadata": {},
   "outputs": [],
   "source": [
    "import numpy as np \n",
    "import pandas as pd \n",
    "import matplotlib.pyplot as plt \n",
    "import seaborn as sns"
   ]
  },
  {
   "cell_type": "code",
   "execution_count": 3,
   "metadata": {},
   "outputs": [
    {
     "ename": "MemoryError",
     "evalue": "Unable to allocate 828. MiB for an array with shape (2, 54268870) and data type int64",
     "output_type": "error",
     "traceback": [
      "\u001b[1;31m---------------------------------------------------------------------------\u001b[0m",
      "\u001b[1;31mMemoryError\u001b[0m                               Traceback (most recent call last)",
      "\u001b[1;32m<ipython-input-3-82f588c616e2>\u001b[0m in \u001b[0;36m<module>\u001b[1;34m\u001b[0m\n\u001b[1;32m----> 1\u001b[1;33m \u001b[0meda_df\u001b[0m \u001b[1;33m=\u001b[0m \u001b[0mpd\u001b[0m\u001b[1;33m.\u001b[0m\u001b[0mread_csv\u001b[0m\u001b[1;33m(\u001b[0m\u001b[1;34m\"E:\\eda.csv\"\u001b[0m\u001b[1;33m)\u001b[0m\u001b[1;33m\u001b[0m\u001b[1;33m\u001b[0m\u001b[0m\n\u001b[0m",
      "\u001b[1;32mc:\\users\\jooya\\appdata\\local\\programs\\python\\python38\\lib\\site-packages\\pandas\\io\\parsers.py\u001b[0m in \u001b[0;36mread_csv\u001b[1;34m(filepath_or_buffer, sep, delimiter, header, names, index_col, usecols, squeeze, prefix, mangle_dupe_cols, dtype, engine, converters, true_values, false_values, skipinitialspace, skiprows, skipfooter, nrows, na_values, keep_default_na, na_filter, verbose, skip_blank_lines, parse_dates, infer_datetime_format, keep_date_col, date_parser, dayfirst, cache_dates, iterator, chunksize, compression, thousands, decimal, lineterminator, quotechar, quoting, doublequote, escapechar, comment, encoding, dialect, error_bad_lines, warn_bad_lines, delim_whitespace, low_memory, memory_map, float_precision)\u001b[0m\n\u001b[0;32m    684\u001b[0m     )\n\u001b[0;32m    685\u001b[0m \u001b[1;33m\u001b[0m\u001b[0m\n\u001b[1;32m--> 686\u001b[1;33m     \u001b[1;32mreturn\u001b[0m \u001b[0m_read\u001b[0m\u001b[1;33m(\u001b[0m\u001b[0mfilepath_or_buffer\u001b[0m\u001b[1;33m,\u001b[0m \u001b[0mkwds\u001b[0m\u001b[1;33m)\u001b[0m\u001b[1;33m\u001b[0m\u001b[1;33m\u001b[0m\u001b[0m\n\u001b[0m\u001b[0;32m    687\u001b[0m \u001b[1;33m\u001b[0m\u001b[0m\n\u001b[0;32m    688\u001b[0m \u001b[1;33m\u001b[0m\u001b[0m\n",
      "\u001b[1;32mc:\\users\\jooya\\appdata\\local\\programs\\python\\python38\\lib\\site-packages\\pandas\\io\\parsers.py\u001b[0m in \u001b[0;36m_read\u001b[1;34m(filepath_or_buffer, kwds)\u001b[0m\n\u001b[0;32m    456\u001b[0m \u001b[1;33m\u001b[0m\u001b[0m\n\u001b[0;32m    457\u001b[0m     \u001b[1;32mtry\u001b[0m\u001b[1;33m:\u001b[0m\u001b[1;33m\u001b[0m\u001b[1;33m\u001b[0m\u001b[0m\n\u001b[1;32m--> 458\u001b[1;33m         \u001b[0mdata\u001b[0m \u001b[1;33m=\u001b[0m \u001b[0mparser\u001b[0m\u001b[1;33m.\u001b[0m\u001b[0mread\u001b[0m\u001b[1;33m(\u001b[0m\u001b[0mnrows\u001b[0m\u001b[1;33m)\u001b[0m\u001b[1;33m\u001b[0m\u001b[1;33m\u001b[0m\u001b[0m\n\u001b[0m\u001b[0;32m    459\u001b[0m     \u001b[1;32mfinally\u001b[0m\u001b[1;33m:\u001b[0m\u001b[1;33m\u001b[0m\u001b[1;33m\u001b[0m\u001b[0m\n\u001b[0;32m    460\u001b[0m         \u001b[0mparser\u001b[0m\u001b[1;33m.\u001b[0m\u001b[0mclose\u001b[0m\u001b[1;33m(\u001b[0m\u001b[1;33m)\u001b[0m\u001b[1;33m\u001b[0m\u001b[1;33m\u001b[0m\u001b[0m\n",
      "\u001b[1;32mc:\\users\\jooya\\appdata\\local\\programs\\python\\python38\\lib\\site-packages\\pandas\\io\\parsers.py\u001b[0m in \u001b[0;36mread\u001b[1;34m(self, nrows)\u001b[0m\n\u001b[0;32m   1209\u001b[0m             \u001b[0mnew_rows\u001b[0m \u001b[1;33m=\u001b[0m \u001b[0mlen\u001b[0m\u001b[1;33m(\u001b[0m\u001b[0mindex\u001b[0m\u001b[1;33m)\u001b[0m\u001b[1;33m\u001b[0m\u001b[1;33m\u001b[0m\u001b[0m\n\u001b[0;32m   1210\u001b[0m \u001b[1;33m\u001b[0m\u001b[0m\n\u001b[1;32m-> 1211\u001b[1;33m         \u001b[0mdf\u001b[0m \u001b[1;33m=\u001b[0m \u001b[0mDataFrame\u001b[0m\u001b[1;33m(\u001b[0m\u001b[0mcol_dict\u001b[0m\u001b[1;33m,\u001b[0m \u001b[0mcolumns\u001b[0m\u001b[1;33m=\u001b[0m\u001b[0mcolumns\u001b[0m\u001b[1;33m,\u001b[0m \u001b[0mindex\u001b[0m\u001b[1;33m=\u001b[0m\u001b[0mindex\u001b[0m\u001b[1;33m)\u001b[0m\u001b[1;33m\u001b[0m\u001b[1;33m\u001b[0m\u001b[0m\n\u001b[0m\u001b[0;32m   1212\u001b[0m \u001b[1;33m\u001b[0m\u001b[0m\n\u001b[0;32m   1213\u001b[0m         \u001b[0mself\u001b[0m\u001b[1;33m.\u001b[0m\u001b[0m_currow\u001b[0m \u001b[1;33m+=\u001b[0m \u001b[0mnew_rows\u001b[0m\u001b[1;33m\u001b[0m\u001b[1;33m\u001b[0m\u001b[0m\n",
      "\u001b[1;32mc:\\users\\jooya\\appdata\\local\\programs\\python\\python38\\lib\\site-packages\\pandas\\core\\frame.py\u001b[0m in \u001b[0;36m__init__\u001b[1;34m(self, data, index, columns, dtype, copy)\u001b[0m\n\u001b[0;32m    466\u001b[0m \u001b[1;33m\u001b[0m\u001b[0m\n\u001b[0;32m    467\u001b[0m         \u001b[1;32melif\u001b[0m \u001b[0misinstance\u001b[0m\u001b[1;33m(\u001b[0m\u001b[0mdata\u001b[0m\u001b[1;33m,\u001b[0m \u001b[0mdict\u001b[0m\u001b[1;33m)\u001b[0m\u001b[1;33m:\u001b[0m\u001b[1;33m\u001b[0m\u001b[1;33m\u001b[0m\u001b[0m\n\u001b[1;32m--> 468\u001b[1;33m             \u001b[0mmgr\u001b[0m \u001b[1;33m=\u001b[0m \u001b[0minit_dict\u001b[0m\u001b[1;33m(\u001b[0m\u001b[0mdata\u001b[0m\u001b[1;33m,\u001b[0m \u001b[0mindex\u001b[0m\u001b[1;33m,\u001b[0m \u001b[0mcolumns\u001b[0m\u001b[1;33m,\u001b[0m \u001b[0mdtype\u001b[0m\u001b[1;33m=\u001b[0m\u001b[0mdtype\u001b[0m\u001b[1;33m)\u001b[0m\u001b[1;33m\u001b[0m\u001b[1;33m\u001b[0m\u001b[0m\n\u001b[0m\u001b[0;32m    469\u001b[0m         \u001b[1;32melif\u001b[0m \u001b[0misinstance\u001b[0m\u001b[1;33m(\u001b[0m\u001b[0mdata\u001b[0m\u001b[1;33m,\u001b[0m \u001b[0mma\u001b[0m\u001b[1;33m.\u001b[0m\u001b[0mMaskedArray\u001b[0m\u001b[1;33m)\u001b[0m\u001b[1;33m:\u001b[0m\u001b[1;33m\u001b[0m\u001b[1;33m\u001b[0m\u001b[0m\n\u001b[0;32m    470\u001b[0m             \u001b[1;32mimport\u001b[0m \u001b[0mnumpy\u001b[0m\u001b[1;33m.\u001b[0m\u001b[0mma\u001b[0m\u001b[1;33m.\u001b[0m\u001b[0mmrecords\u001b[0m \u001b[1;32mas\u001b[0m \u001b[0mmrecords\u001b[0m\u001b[1;33m\u001b[0m\u001b[1;33m\u001b[0m\u001b[0m\n",
      "\u001b[1;32mc:\\users\\jooya\\appdata\\local\\programs\\python\\python38\\lib\\site-packages\\pandas\\core\\internals\\construction.py\u001b[0m in \u001b[0;36minit_dict\u001b[1;34m(data, index, columns, dtype)\u001b[0m\n\u001b[0;32m    281\u001b[0m             \u001b[0marr\u001b[0m \u001b[1;32mif\u001b[0m \u001b[1;32mnot\u001b[0m \u001b[0mis_datetime64tz_dtype\u001b[0m\u001b[1;33m(\u001b[0m\u001b[0marr\u001b[0m\u001b[1;33m)\u001b[0m \u001b[1;32melse\u001b[0m \u001b[0marr\u001b[0m\u001b[1;33m.\u001b[0m\u001b[0mcopy\u001b[0m\u001b[1;33m(\u001b[0m\u001b[1;33m)\u001b[0m \u001b[1;32mfor\u001b[0m \u001b[0marr\u001b[0m \u001b[1;32min\u001b[0m \u001b[0marrays\u001b[0m\u001b[1;33m\u001b[0m\u001b[1;33m\u001b[0m\u001b[0m\n\u001b[0;32m    282\u001b[0m         ]\n\u001b[1;32m--> 283\u001b[1;33m     \u001b[1;32mreturn\u001b[0m \u001b[0marrays_to_mgr\u001b[0m\u001b[1;33m(\u001b[0m\u001b[0marrays\u001b[0m\u001b[1;33m,\u001b[0m \u001b[0mdata_names\u001b[0m\u001b[1;33m,\u001b[0m \u001b[0mindex\u001b[0m\u001b[1;33m,\u001b[0m \u001b[0mcolumns\u001b[0m\u001b[1;33m,\u001b[0m \u001b[0mdtype\u001b[0m\u001b[1;33m=\u001b[0m\u001b[0mdtype\u001b[0m\u001b[1;33m)\u001b[0m\u001b[1;33m\u001b[0m\u001b[1;33m\u001b[0m\u001b[0m\n\u001b[0m\u001b[0;32m    284\u001b[0m \u001b[1;33m\u001b[0m\u001b[0m\n\u001b[0;32m    285\u001b[0m \u001b[1;33m\u001b[0m\u001b[0m\n",
      "\u001b[1;32mc:\\users\\jooya\\appdata\\local\\programs\\python\\python38\\lib\\site-packages\\pandas\\core\\internals\\construction.py\u001b[0m in \u001b[0;36marrays_to_mgr\u001b[1;34m(arrays, arr_names, index, columns, dtype, verify_integrity)\u001b[0m\n\u001b[0;32m     91\u001b[0m     \u001b[0maxes\u001b[0m \u001b[1;33m=\u001b[0m \u001b[1;33m[\u001b[0m\u001b[0mcolumns\u001b[0m\u001b[1;33m,\u001b[0m \u001b[0mindex\u001b[0m\u001b[1;33m]\u001b[0m\u001b[1;33m\u001b[0m\u001b[1;33m\u001b[0m\u001b[0m\n\u001b[0;32m     92\u001b[0m \u001b[1;33m\u001b[0m\u001b[0m\n\u001b[1;32m---> 93\u001b[1;33m     \u001b[1;32mreturn\u001b[0m \u001b[0mcreate_block_manager_from_arrays\u001b[0m\u001b[1;33m(\u001b[0m\u001b[0marrays\u001b[0m\u001b[1;33m,\u001b[0m \u001b[0marr_names\u001b[0m\u001b[1;33m,\u001b[0m \u001b[0maxes\u001b[0m\u001b[1;33m)\u001b[0m\u001b[1;33m\u001b[0m\u001b[1;33m\u001b[0m\u001b[0m\n\u001b[0m\u001b[0;32m     94\u001b[0m \u001b[1;33m\u001b[0m\u001b[0m\n\u001b[0;32m     95\u001b[0m \u001b[1;33m\u001b[0m\u001b[0m\n",
      "\u001b[1;32mc:\\users\\jooya\\appdata\\local\\programs\\python\\python38\\lib\\site-packages\\pandas\\core\\internals\\managers.py\u001b[0m in \u001b[0;36mcreate_block_manager_from_arrays\u001b[1;34m(arrays, names, axes)\u001b[0m\n\u001b[0;32m   1681\u001b[0m \u001b[1;33m\u001b[0m\u001b[0m\n\u001b[0;32m   1682\u001b[0m     \u001b[1;32mtry\u001b[0m\u001b[1;33m:\u001b[0m\u001b[1;33m\u001b[0m\u001b[1;33m\u001b[0m\u001b[0m\n\u001b[1;32m-> 1683\u001b[1;33m         \u001b[0mblocks\u001b[0m \u001b[1;33m=\u001b[0m \u001b[0mform_blocks\u001b[0m\u001b[1;33m(\u001b[0m\u001b[0marrays\u001b[0m\u001b[1;33m,\u001b[0m \u001b[0mnames\u001b[0m\u001b[1;33m,\u001b[0m \u001b[0maxes\u001b[0m\u001b[1;33m)\u001b[0m\u001b[1;33m\u001b[0m\u001b[1;33m\u001b[0m\u001b[0m\n\u001b[0m\u001b[0;32m   1684\u001b[0m         \u001b[0mmgr\u001b[0m \u001b[1;33m=\u001b[0m \u001b[0mBlockManager\u001b[0m\u001b[1;33m(\u001b[0m\u001b[0mblocks\u001b[0m\u001b[1;33m,\u001b[0m \u001b[0maxes\u001b[0m\u001b[1;33m)\u001b[0m\u001b[1;33m\u001b[0m\u001b[1;33m\u001b[0m\u001b[0m\n\u001b[0;32m   1685\u001b[0m         \u001b[0mmgr\u001b[0m\u001b[1;33m.\u001b[0m\u001b[0m_consolidate_inplace\u001b[0m\u001b[1;33m(\u001b[0m\u001b[1;33m)\u001b[0m\u001b[1;33m\u001b[0m\u001b[1;33m\u001b[0m\u001b[0m\n",
      "\u001b[1;32mc:\\users\\jooya\\appdata\\local\\programs\\python\\python38\\lib\\site-packages\\pandas\\core\\internals\\managers.py\u001b[0m in \u001b[0;36mform_blocks\u001b[1;34m(arrays, names, axes)\u001b[0m\n\u001b[0;32m   1751\u001b[0m \u001b[1;33m\u001b[0m\u001b[0m\n\u001b[0;32m   1752\u001b[0m     \u001b[1;32mif\u001b[0m \u001b[0mlen\u001b[0m\u001b[1;33m(\u001b[0m\u001b[0mitems_dict\u001b[0m\u001b[1;33m[\u001b[0m\u001b[1;34m\"IntBlock\"\u001b[0m\u001b[1;33m]\u001b[0m\u001b[1;33m)\u001b[0m\u001b[1;33m:\u001b[0m\u001b[1;33m\u001b[0m\u001b[1;33m\u001b[0m\u001b[0m\n\u001b[1;32m-> 1753\u001b[1;33m         \u001b[0mint_blocks\u001b[0m \u001b[1;33m=\u001b[0m \u001b[0m_multi_blockify\u001b[0m\u001b[1;33m(\u001b[0m\u001b[0mitems_dict\u001b[0m\u001b[1;33m[\u001b[0m\u001b[1;34m\"IntBlock\"\u001b[0m\u001b[1;33m]\u001b[0m\u001b[1;33m)\u001b[0m\u001b[1;33m\u001b[0m\u001b[1;33m\u001b[0m\u001b[0m\n\u001b[0m\u001b[0;32m   1754\u001b[0m         \u001b[0mblocks\u001b[0m\u001b[1;33m.\u001b[0m\u001b[0mextend\u001b[0m\u001b[1;33m(\u001b[0m\u001b[0mint_blocks\u001b[0m\u001b[1;33m)\u001b[0m\u001b[1;33m\u001b[0m\u001b[1;33m\u001b[0m\u001b[0m\n\u001b[0;32m   1755\u001b[0m \u001b[1;33m\u001b[0m\u001b[0m\n",
      "\u001b[1;32mc:\\users\\jooya\\appdata\\local\\programs\\python\\python38\\lib\\site-packages\\pandas\\core\\internals\\managers.py\u001b[0m in \u001b[0;36m_multi_blockify\u001b[1;34m(tuples, dtype)\u001b[0m\n\u001b[0;32m   1833\u001b[0m     \u001b[1;32mfor\u001b[0m \u001b[0mdtype\u001b[0m\u001b[1;33m,\u001b[0m \u001b[0mtup_block\u001b[0m \u001b[1;32min\u001b[0m \u001b[0mgrouper\u001b[0m\u001b[1;33m:\u001b[0m\u001b[1;33m\u001b[0m\u001b[1;33m\u001b[0m\u001b[0m\n\u001b[0;32m   1834\u001b[0m \u001b[1;33m\u001b[0m\u001b[0m\n\u001b[1;32m-> 1835\u001b[1;33m         \u001b[0mvalues\u001b[0m\u001b[1;33m,\u001b[0m \u001b[0mplacement\u001b[0m \u001b[1;33m=\u001b[0m \u001b[0m_stack_arrays\u001b[0m\u001b[1;33m(\u001b[0m\u001b[0mlist\u001b[0m\u001b[1;33m(\u001b[0m\u001b[0mtup_block\u001b[0m\u001b[1;33m)\u001b[0m\u001b[1;33m,\u001b[0m \u001b[0mdtype\u001b[0m\u001b[1;33m)\u001b[0m\u001b[1;33m\u001b[0m\u001b[1;33m\u001b[0m\u001b[0m\n\u001b[0m\u001b[0;32m   1836\u001b[0m \u001b[1;33m\u001b[0m\u001b[0m\n\u001b[0;32m   1837\u001b[0m         \u001b[0mblock\u001b[0m \u001b[1;33m=\u001b[0m \u001b[0mmake_block\u001b[0m\u001b[1;33m(\u001b[0m\u001b[0mvalues\u001b[0m\u001b[1;33m,\u001b[0m \u001b[0mplacement\u001b[0m\u001b[1;33m=\u001b[0m\u001b[0mplacement\u001b[0m\u001b[1;33m)\u001b[0m\u001b[1;33m\u001b[0m\u001b[1;33m\u001b[0m\u001b[0m\n",
      "\u001b[1;32mc:\\users\\jooya\\appdata\\local\\programs\\python\\python38\\lib\\site-packages\\pandas\\core\\internals\\managers.py\u001b[0m in \u001b[0;36m_stack_arrays\u001b[1;34m(tuples, dtype)\u001b[0m\n\u001b[0;32m   1861\u001b[0m     \u001b[0mshape\u001b[0m \u001b[1;33m=\u001b[0m \u001b[1;33m(\u001b[0m\u001b[0mlen\u001b[0m\u001b[1;33m(\u001b[0m\u001b[0marrays\u001b[0m\u001b[1;33m)\u001b[0m\u001b[1;33m,\u001b[0m\u001b[1;33m)\u001b[0m \u001b[1;33m+\u001b[0m \u001b[0m_shape_compat\u001b[0m\u001b[1;33m(\u001b[0m\u001b[0mfirst\u001b[0m\u001b[1;33m)\u001b[0m\u001b[1;33m\u001b[0m\u001b[1;33m\u001b[0m\u001b[0m\n\u001b[0;32m   1862\u001b[0m \u001b[1;33m\u001b[0m\u001b[0m\n\u001b[1;32m-> 1863\u001b[1;33m     \u001b[0mstacked\u001b[0m \u001b[1;33m=\u001b[0m \u001b[0mnp\u001b[0m\u001b[1;33m.\u001b[0m\u001b[0mempty\u001b[0m\u001b[1;33m(\u001b[0m\u001b[0mshape\u001b[0m\u001b[1;33m,\u001b[0m \u001b[0mdtype\u001b[0m\u001b[1;33m=\u001b[0m\u001b[0mdtype\u001b[0m\u001b[1;33m)\u001b[0m\u001b[1;33m\u001b[0m\u001b[1;33m\u001b[0m\u001b[0m\n\u001b[0m\u001b[0;32m   1864\u001b[0m     \u001b[1;32mfor\u001b[0m \u001b[0mi\u001b[0m\u001b[1;33m,\u001b[0m \u001b[0marr\u001b[0m \u001b[1;32min\u001b[0m \u001b[0menumerate\u001b[0m\u001b[1;33m(\u001b[0m\u001b[0marrays\u001b[0m\u001b[1;33m)\u001b[0m\u001b[1;33m:\u001b[0m\u001b[1;33m\u001b[0m\u001b[1;33m\u001b[0m\u001b[0m\n\u001b[0;32m   1865\u001b[0m         \u001b[0mstacked\u001b[0m\u001b[1;33m[\u001b[0m\u001b[0mi\u001b[0m\u001b[1;33m]\u001b[0m \u001b[1;33m=\u001b[0m \u001b[0m_asarray_compat\u001b[0m\u001b[1;33m(\u001b[0m\u001b[0marr\u001b[0m\u001b[1;33m)\u001b[0m\u001b[1;33m\u001b[0m\u001b[1;33m\u001b[0m\u001b[0m\n",
      "\u001b[1;31mMemoryError\u001b[0m: Unable to allocate 828. MiB for an array with shape (2, 54268870) and data type int64"
     ]
    }
   ],
   "source": [
    "eda_df = pd.read_csv(\"E:\\eda.csv\")"
   ]
  },
  {
   "cell_type": "code",
   "execution_count": null,
   "metadata": {},
   "outputs": [],
   "source": [
    "eda_df.drop(['Unnamed: 0'], axis = 1, inplace = True)"
   ]
  },
  {
   "cell_type": "code",
   "execution_count": null,
   "metadata": {},
   "outputs": [],
   "source": [
    "sample_df = eda_df.sample(n=20)\n",
    "sample_df"
   ]
  },
  {
   "cell_type": "code",
   "execution_count": null,
   "metadata": {},
   "outputs": [],
   "source": []
  },
  {
   "cell_type": "markdown",
   "metadata": {},
   "source": [
    "### 2. 추가변수 - 거리 계산"
   ]
  },
  {
   "cell_type": "code",
   "execution_count": 32,
   "metadata": {},
   "outputs": [
    {
     "data": {
      "text/html": [
       "<div>\n",
       "<style scoped>\n",
       "    .dataframe tbody tr th:only-of-type {\n",
       "        vertical-align: middle;\n",
       "    }\n",
       "\n",
       "    .dataframe tbody tr th {\n",
       "        vertical-align: top;\n",
       "    }\n",
       "\n",
       "    .dataframe thead th {\n",
       "        text-align: right;\n",
       "    }\n",
       "</style>\n",
       "<table border=\"1\" class=\"dataframe\">\n",
       "  <thead>\n",
       "    <tr style=\"text-align: right;\">\n",
       "      <th></th>\n",
       "      <th>pickup_longitude</th>\n",
       "      <th>pickup_latitude</th>\n",
       "    </tr>\n",
       "  </thead>\n",
       "  <tbody>\n",
       "    <tr>\n",
       "      <th>24503083</th>\n",
       "      <td>-73.981803</td>\n",
       "      <td>40.773136</td>\n",
       "    </tr>\n",
       "    <tr>\n",
       "      <th>33587288</th>\n",
       "      <td>-73.982838</td>\n",
       "      <td>40.756883</td>\n",
       "    </tr>\n",
       "    <tr>\n",
       "      <th>11603226</th>\n",
       "      <td>-73.966811</td>\n",
       "      <td>40.760868</td>\n",
       "    </tr>\n",
       "    <tr>\n",
       "      <th>53037963</th>\n",
       "      <td>-73.949603</td>\n",
       "      <td>40.776549</td>\n",
       "    </tr>\n",
       "    <tr>\n",
       "      <th>4027724</th>\n",
       "      <td>-73.790782</td>\n",
       "      <td>40.655597</td>\n",
       "    </tr>\n",
       "  </tbody>\n",
       "</table>\n",
       "</div>"
      ],
      "text/plain": [
       "          pickup_longitude  pickup_latitude\n",
       "24503083        -73.981803        40.773136\n",
       "33587288        -73.982838        40.756883\n",
       "11603226        -73.966811        40.760868\n",
       "53037963        -73.949603        40.776549\n",
       "4027724         -73.790782        40.655597"
      ]
     },
     "execution_count": 32,
     "metadata": {},
     "output_type": "execute_result"
    }
   ],
   "source": [
    "pickup = sample_df[['pickup_longitude','pickup_latitude']]\n",
    "pd.DataFrame(pickup)\n",
    "pickup"
   ]
  },
  {
   "cell_type": "code",
   "execution_count": 33,
   "metadata": {},
   "outputs": [
    {
     "data": {
      "text/html": [
       "<div>\n",
       "<style scoped>\n",
       "    .dataframe tbody tr th:only-of-type {\n",
       "        vertical-align: middle;\n",
       "    }\n",
       "\n",
       "    .dataframe tbody tr th {\n",
       "        vertical-align: top;\n",
       "    }\n",
       "\n",
       "    .dataframe thead th {\n",
       "        text-align: right;\n",
       "    }\n",
       "</style>\n",
       "<table border=\"1\" class=\"dataframe\">\n",
       "  <thead>\n",
       "    <tr style=\"text-align: right;\">\n",
       "      <th></th>\n",
       "      <th>dropoff_longitude</th>\n",
       "      <th>dropoff_latitude</th>\n",
       "    </tr>\n",
       "  </thead>\n",
       "  <tbody>\n",
       "    <tr>\n",
       "      <th>24503083</th>\n",
       "      <td>-73.994939</td>\n",
       "      <td>40.755233</td>\n",
       "    </tr>\n",
       "    <tr>\n",
       "      <th>33587288</th>\n",
       "      <td>-73.904723</td>\n",
       "      <td>40.761270</td>\n",
       "    </tr>\n",
       "    <tr>\n",
       "      <th>11603226</th>\n",
       "      <td>-73.958136</td>\n",
       "      <td>40.773480</td>\n",
       "    </tr>\n",
       "    <tr>\n",
       "      <th>53037963</th>\n",
       "      <td>-73.955532</td>\n",
       "      <td>40.779611</td>\n",
       "    </tr>\n",
       "    <tr>\n",
       "      <th>4027724</th>\n",
       "      <td>-73.990030</td>\n",
       "      <td>40.775595</td>\n",
       "    </tr>\n",
       "  </tbody>\n",
       "</table>\n",
       "</div>"
      ],
      "text/plain": [
       "          dropoff_longitude  dropoff_latitude\n",
       "24503083         -73.994939         40.755233\n",
       "33587288         -73.904723         40.761270\n",
       "11603226         -73.958136         40.773480\n",
       "53037963         -73.955532         40.779611\n",
       "4027724          -73.990030         40.775595"
      ]
     },
     "execution_count": 33,
     "metadata": {},
     "output_type": "execute_result"
    }
   ],
   "source": [
    "dropoff = sample_df[['dropoff_longitude','dropoff_latitude']]\n",
    "pd.DataFrame(dropoff)\n",
    "dropoff"
   ]
  },
  {
   "cell_type": "code",
   "execution_count": 1,
   "metadata": {},
   "outputs": [],
   "source": [
    "distance = []"
   ]
  },
  {
   "cell_type": "code",
   "execution_count": 61,
   "metadata": {},
   "outputs": [],
   "source": [
    "from geopy.distance import distance"
   ]
  },
  {
   "cell_type": "code",
   "execution_count": 62,
   "metadata": {},
   "outputs": [
    {
     "name": "stdout",
     "output_type": "stream",
     "text": [
      "[1566.3579396961588, 8719.285066078504, 1043.4487476753752, 668.4385335944917, 22546.1622833916]\n"
     ]
    }
   ],
   "source": [
    "dist = []\n",
    "for i in range(len(dropoff.index)):\n",
    "    result = distance(pickup.values[i], dropoff.values[i]).m\n",
    "    dist.append(result)\n",
    "print(dist)"
   ]
  },
  {
   "cell_type": "code",
   "execution_count": 78,
   "metadata": {},
   "outputs": [
    {
     "data": {
      "text/html": [
       "<div>\n",
       "<style scoped>\n",
       "    .dataframe tbody tr th:only-of-type {\n",
       "        vertical-align: middle;\n",
       "    }\n",
       "\n",
       "    .dataframe tbody tr th {\n",
       "        vertical-align: top;\n",
       "    }\n",
       "\n",
       "    .dataframe thead th {\n",
       "        text-align: right;\n",
       "    }\n",
       "</style>\n",
       "<table border=\"1\" class=\"dataframe\">\n",
       "  <thead>\n",
       "    <tr style=\"text-align: right;\">\n",
       "      <th></th>\n",
       "      <th>dist</th>\n",
       "    </tr>\n",
       "  </thead>\n",
       "  <tbody>\n",
       "    <tr>\n",
       "      <th>0</th>\n",
       "      <td>1566.357940</td>\n",
       "    </tr>\n",
       "    <tr>\n",
       "      <th>1</th>\n",
       "      <td>8719.285066</td>\n",
       "    </tr>\n",
       "    <tr>\n",
       "      <th>2</th>\n",
       "      <td>1043.448748</td>\n",
       "    </tr>\n",
       "    <tr>\n",
       "      <th>3</th>\n",
       "      <td>668.438534</td>\n",
       "    </tr>\n",
       "    <tr>\n",
       "      <th>4</th>\n",
       "      <td>22546.162283</td>\n",
       "    </tr>\n",
       "  </tbody>\n",
       "</table>\n",
       "</div>"
      ],
      "text/plain": [
       "           dist\n",
       "0   1566.357940\n",
       "1   8719.285066\n",
       "2   1043.448748\n",
       "3    668.438534\n",
       "4  22546.162283"
      ]
     },
     "execution_count": 78,
     "metadata": {},
     "output_type": "execute_result"
    }
   ],
   "source": [
    "dist = pd.DataFrame(dist)\n",
    "dist"
   ]
  },
  {
   "cell_type": "markdown",
   "metadata": {},
   "source": [
    "======================================================================================================================="
   ]
  },
  {
   "cell_type": "code",
   "execution_count": 69,
   "metadata": {},
   "outputs": [],
   "source": [
    "# dist = pd.Series(dist)"
   ]
  },
  {
   "cell_type": "code",
   "execution_count": 82,
   "metadata": {},
   "outputs": [
    {
     "data": {
      "text/plain": [
       "pandas.core.frame.DataFrame"
      ]
     },
     "execution_count": 82,
     "metadata": {},
     "output_type": "execute_result"
    }
   ],
   "source": [
    "type(dist)"
   ]
  },
  {
   "cell_type": "code",
   "execution_count": 83,
   "metadata": {},
   "outputs": [
    {
     "data": {
      "text/plain": [
       "Index(['dist'], dtype='object')"
      ]
     },
     "execution_count": 83,
     "metadata": {},
     "output_type": "execute_result"
    }
   ],
   "source": [
    "dist.columns"
   ]
  },
  {
   "cell_type": "code",
   "execution_count": null,
   "metadata": {},
   "outputs": [],
   "source": [
    "# sample_df 데이터프레임과 dist 시리즈 합치기"
   ]
  },
  {
   "cell_type": "code",
   "execution_count": null,
   "metadata": {},
   "outputs": [],
   "source": [
    "# dist 데이터프레임과 sample_df 합치기\n",
    "\n",
    "result = pd.concat([sample_df, dist], axis=1)\n",
    "result"
   ]
  },
  {
   "cell_type": "markdown",
   "metadata": {},
   "source": [
    "데이터프레임 병합(concat, merge, join) https://kimdingko-world.tistory.com/207"
   ]
  },
  {
   "cell_type": "code",
   "execution_count": 85,
   "metadata": {},
   "outputs": [
    {
     "data": {
      "text/plain": [
       "24503083   NaN\n",
       "33587288   NaN\n",
       "11603226   NaN\n",
       "53037963   NaN\n",
       "4027724    NaN\n",
       "Name: distance, dtype: float64"
      ]
     },
     "execution_count": 85,
     "metadata": {},
     "output_type": "execute_result"
    }
   ],
   "source": [
    "# DataFrame 기존 컬럼정보 이용해서 신규컬럼 생성하기\n",
    "\n",
    "sample_df['distance'] = dist['dist'].apply(lambda x: x)\n",
    "sample_df['distance']"
   ]
  },
  {
   "cell_type": "markdown",
   "metadata": {},
   "source": [
    "DataFrame 기존 컬럼정보 이용해서 신규컬럼 생성하기 https://shydev.tistory.com/26"
   ]
  },
  {
   "cell_type": "markdown",
   "metadata": {},
   "source": [
    "======================================================================================================================="
   ]
  },
  {
   "cell_type": "code",
   "execution_count": 86,
   "metadata": {},
   "outputs": [
    {
     "data": {
      "text/html": [
       "<div>\n",
       "<style scoped>\n",
       "    .dataframe tbody tr th:only-of-type {\n",
       "        vertical-align: middle;\n",
       "    }\n",
       "\n",
       "    .dataframe tbody tr th {\n",
       "        vertical-align: top;\n",
       "    }\n",
       "\n",
       "    .dataframe thead th {\n",
       "        text-align: right;\n",
       "    }\n",
       "</style>\n",
       "<table border=\"1\" class=\"dataframe\">\n",
       "  <thead>\n",
       "    <tr style=\"text-align: right;\">\n",
       "      <th></th>\n",
       "      <th>key</th>\n",
       "      <th>fare_amount</th>\n",
       "      <th>pickup_datetime</th>\n",
       "      <th>pickup_longitude</th>\n",
       "      <th>pickup_latitude</th>\n",
       "      <th>dropoff_longitude</th>\n",
       "      <th>dropoff_latitude</th>\n",
       "      <th>passenger_count</th>\n",
       "      <th>time</th>\n",
       "      <th>log_date</th>\n",
       "      <th>log_time</th>\n",
       "      <th>log_hour</th>\n",
       "      <th>log_min</th>\n",
       "      <th>log_month</th>\n",
       "      <th>log_year</th>\n",
       "      <th>log_day</th>\n",
       "      <th>dist</th>\n",
       "      <th>distance</th>\n",
       "    </tr>\n",
       "  </thead>\n",
       "  <tbody>\n",
       "    <tr>\n",
       "      <th>24503083</th>\n",
       "      <td>2013-04-21 12:00:19.0000004</td>\n",
       "      <td>7.00</td>\n",
       "      <td>2013-04-21 12:00:19 UTC</td>\n",
       "      <td>-73.981803</td>\n",
       "      <td>40.773136</td>\n",
       "      <td>-73.994939</td>\n",
       "      <td>40.755233</td>\n",
       "      <td>1</td>\n",
       "      <td>2013-04-21 12:00:19</td>\n",
       "      <td>2013-04-21</td>\n",
       "      <td>12:00:19</td>\n",
       "      <td>12</td>\n",
       "      <td>0</td>\n",
       "      <td>4</td>\n",
       "      <td>2013</td>\n",
       "      <td>21</td>\n",
       "      <td>NaN</td>\n",
       "      <td>1566.357940</td>\n",
       "    </tr>\n",
       "    <tr>\n",
       "      <th>33587288</th>\n",
       "      <td>2010-09-26 06:52:00.00000035</td>\n",
       "      <td>14.90</td>\n",
       "      <td>2010-09-26 06:52:00 UTC</td>\n",
       "      <td>-73.982838</td>\n",
       "      <td>40.756883</td>\n",
       "      <td>-73.904723</td>\n",
       "      <td>40.761270</td>\n",
       "      <td>2</td>\n",
       "      <td>2010-09-26 06:52:00</td>\n",
       "      <td>2010-09-26</td>\n",
       "      <td>06:52:00</td>\n",
       "      <td>6</td>\n",
       "      <td>52</td>\n",
       "      <td>9</td>\n",
       "      <td>2010</td>\n",
       "      <td>26</td>\n",
       "      <td>NaN</td>\n",
       "      <td>8719.285066</td>\n",
       "    </tr>\n",
       "    <tr>\n",
       "      <th>11603226</th>\n",
       "      <td>2013-03-20 14:13:07.0000004</td>\n",
       "      <td>5.50</td>\n",
       "      <td>2013-03-20 14:13:07 UTC</td>\n",
       "      <td>-73.966811</td>\n",
       "      <td>40.760868</td>\n",
       "      <td>-73.958136</td>\n",
       "      <td>40.773480</td>\n",
       "      <td>1</td>\n",
       "      <td>2013-03-20 14:13:07</td>\n",
       "      <td>2013-03-20</td>\n",
       "      <td>14:13:07</td>\n",
       "      <td>14</td>\n",
       "      <td>13</td>\n",
       "      <td>3</td>\n",
       "      <td>2013</td>\n",
       "      <td>20</td>\n",
       "      <td>NaN</td>\n",
       "      <td>1043.448748</td>\n",
       "    </tr>\n",
       "    <tr>\n",
       "      <th>53037963</th>\n",
       "      <td>2013-07-03 05:28:20.0000001</td>\n",
       "      <td>3.50</td>\n",
       "      <td>2013-07-03 05:28:20 UTC</td>\n",
       "      <td>-73.949603</td>\n",
       "      <td>40.776549</td>\n",
       "      <td>-73.955532</td>\n",
       "      <td>40.779611</td>\n",
       "      <td>1</td>\n",
       "      <td>2013-07-03 05:28:20</td>\n",
       "      <td>2013-07-03</td>\n",
       "      <td>05:28:20</td>\n",
       "      <td>5</td>\n",
       "      <td>28</td>\n",
       "      <td>7</td>\n",
       "      <td>2013</td>\n",
       "      <td>3</td>\n",
       "      <td>NaN</td>\n",
       "      <td>668.438534</td>\n",
       "    </tr>\n",
       "    <tr>\n",
       "      <th>4027724</th>\n",
       "      <td>2014-12-09 10:38:00.00000021</td>\n",
       "      <td>57.33</td>\n",
       "      <td>2014-12-09 10:38:00 UTC</td>\n",
       "      <td>-73.790782</td>\n",
       "      <td>40.655597</td>\n",
       "      <td>-73.990030</td>\n",
       "      <td>40.775595</td>\n",
       "      <td>1</td>\n",
       "      <td>2014-12-09 10:38:00</td>\n",
       "      <td>2014-12-09</td>\n",
       "      <td>10:38:00</td>\n",
       "      <td>10</td>\n",
       "      <td>38</td>\n",
       "      <td>12</td>\n",
       "      <td>2014</td>\n",
       "      <td>9</td>\n",
       "      <td>NaN</td>\n",
       "      <td>22546.162283</td>\n",
       "    </tr>\n",
       "  </tbody>\n",
       "</table>\n",
       "</div>"
      ],
      "text/plain": [
       "                                   key  fare_amount          pickup_datetime  \\\n",
       "24503083   2013-04-21 12:00:19.0000004         7.00  2013-04-21 12:00:19 UTC   \n",
       "33587288  2010-09-26 06:52:00.00000035        14.90  2010-09-26 06:52:00 UTC   \n",
       "11603226   2013-03-20 14:13:07.0000004         5.50  2013-03-20 14:13:07 UTC   \n",
       "53037963   2013-07-03 05:28:20.0000001         3.50  2013-07-03 05:28:20 UTC   \n",
       "4027724   2014-12-09 10:38:00.00000021        57.33  2014-12-09 10:38:00 UTC   \n",
       "\n",
       "          pickup_longitude  pickup_latitude  dropoff_longitude  \\\n",
       "24503083        -73.981803        40.773136         -73.994939   \n",
       "33587288        -73.982838        40.756883         -73.904723   \n",
       "11603226        -73.966811        40.760868         -73.958136   \n",
       "53037963        -73.949603        40.776549         -73.955532   \n",
       "4027724         -73.790782        40.655597         -73.990030   \n",
       "\n",
       "          dropoff_latitude  passenger_count                time    log_date  \\\n",
       "24503083         40.755233                1 2013-04-21 12:00:19  2013-04-21   \n",
       "33587288         40.761270                2 2010-09-26 06:52:00  2010-09-26   \n",
       "11603226         40.773480                1 2013-03-20 14:13:07  2013-03-20   \n",
       "53037963         40.779611                1 2013-07-03 05:28:20  2013-07-03   \n",
       "4027724          40.775595                1 2014-12-09 10:38:00  2014-12-09   \n",
       "\n",
       "          log_time  log_hour  log_min  log_month  log_year  log_day  dist  \\\n",
       "24503083  12:00:19        12        0          4      2013       21   NaN   \n",
       "33587288  06:52:00         6       52          9      2010       26   NaN   \n",
       "11603226  14:13:07        14       13          3      2013       20   NaN   \n",
       "53037963  05:28:20         5       28          7      2013        3   NaN   \n",
       "4027724   10:38:00        10       38         12      2014        9   NaN   \n",
       "\n",
       "              distance  \n",
       "24503083   1566.357940  \n",
       "33587288   8719.285066  \n",
       "11603226   1043.448748  \n",
       "53037963    668.438534  \n",
       "4027724   22546.162283  "
      ]
     },
     "execution_count": 86,
     "metadata": {},
     "output_type": "execute_result"
    }
   ],
   "source": [
    "sample_df['distance']=[1566.3579396961588, 8719.285066078504, 1043.4487476753752, 668.4385335944917, 22546.1622833916]\n",
    "sample_df"
   ]
  },
  {
   "cell_type": "markdown",
   "metadata": {},
   "source": [
    "#### fare과 disatance 간의 상관관계"
   ]
  },
  {
   "cell_type": "code",
   "execution_count": 108,
   "metadata": {},
   "outputs": [
    {
     "data": {
      "text/html": [
       "<div>\n",
       "<style scoped>\n",
       "    .dataframe tbody tr th:only-of-type {\n",
       "        vertical-align: middle;\n",
       "    }\n",
       "\n",
       "    .dataframe tbody tr th {\n",
       "        vertical-align: top;\n",
       "    }\n",
       "\n",
       "    .dataframe thead th {\n",
       "        text-align: right;\n",
       "    }\n",
       "</style>\n",
       "<table border=\"1\" class=\"dataframe\">\n",
       "  <thead>\n",
       "    <tr style=\"text-align: right;\">\n",
       "      <th></th>\n",
       "      <th>fare_amount</th>\n",
       "      <th>distance</th>\n",
       "    </tr>\n",
       "  </thead>\n",
       "  <tbody>\n",
       "    <tr>\n",
       "      <th>24503083</th>\n",
       "      <td>7.00</td>\n",
       "      <td>1566.357940</td>\n",
       "    </tr>\n",
       "    <tr>\n",
       "      <th>33587288</th>\n",
       "      <td>14.90</td>\n",
       "      <td>8719.285066</td>\n",
       "    </tr>\n",
       "    <tr>\n",
       "      <th>11603226</th>\n",
       "      <td>5.50</td>\n",
       "      <td>1043.448748</td>\n",
       "    </tr>\n",
       "    <tr>\n",
       "      <th>53037963</th>\n",
       "      <td>3.50</td>\n",
       "      <td>668.438534</td>\n",
       "    </tr>\n",
       "    <tr>\n",
       "      <th>4027724</th>\n",
       "      <td>57.33</td>\n",
       "      <td>22546.162283</td>\n",
       "    </tr>\n",
       "  </tbody>\n",
       "</table>\n",
       "</div>"
      ],
      "text/plain": [
       "          fare_amount      distance\n",
       "24503083         7.00   1566.357940\n",
       "33587288        14.90   8719.285066\n",
       "11603226         5.50   1043.448748\n",
       "53037963         3.50    668.438534\n",
       "4027724         57.33  22546.162283"
      ]
     },
     "execution_count": 108,
     "metadata": {},
     "output_type": "execute_result"
    }
   ],
   "source": [
    "new_df = sample_df[['fare_amount','distance']]\n",
    "new_df"
   ]
  },
  {
   "cell_type": "code",
   "execution_count": null,
   "metadata": {},
   "outputs": [],
   "source": [
    "# sns.scatterplot(sample_df['fare_amount'], sample_df['distance'])"
   ]
  },
  {
   "cell_type": "code",
   "execution_count": 112,
   "metadata": {},
   "outputs": [
    {
     "data": {
      "text/plain": [
       "<AxesSubplot:xlabel='distance', ylabel='fare_amount'>"
      ]
     },
     "execution_count": 112,
     "metadata": {},
     "output_type": "execute_result"
    },
    {
     "data": {
      "image/png": "[encoded data removed]",
      "text/plain": [
       "<Figure size 432x288 with 1 Axes>"
      ]
     },
     "metadata": {
      "needs_background": "light"
     },
     "output_type": "display_data"
    }
   ],
   "source": [
    "sns.scatterplot(data=new_df, x='distance', y='fare_amount')"
   ]
  },
  {
   "cell_type": "code",
   "execution_count": 113,
   "metadata": {},
   "outputs": [
    {
     "data": {
      "text/html": [
       "<div>\n",
       "<style scoped>\n",
       "    .dataframe tbody tr th:only-of-type {\n",
       "        vertical-align: middle;\n",
       "    }\n",
       "\n",
       "    .dataframe tbody tr th {\n",
       "        vertical-align: top;\n",
       "    }\n",
       "\n",
       "    .dataframe thead th {\n",
       "        text-align: right;\n",
       "    }\n",
       "</style>\n",
       "<table border=\"1\" class=\"dataframe\">\n",
       "  <thead>\n",
       "    <tr style=\"text-align: right;\">\n",
       "      <th></th>\n",
       "      <th>fare_amount</th>\n",
       "      <th>distance</th>\n",
       "    </tr>\n",
       "  </thead>\n",
       "  <tbody>\n",
       "    <tr>\n",
       "      <th>fare_amount</th>\n",
       "      <td>1.000000</td>\n",
       "      <td>0.984233</td>\n",
       "    </tr>\n",
       "    <tr>\n",
       "      <th>distance</th>\n",
       "      <td>0.984233</td>\n",
       "      <td>1.000000</td>\n",
       "    </tr>\n",
       "  </tbody>\n",
       "</table>\n",
       "</div>"
      ],
      "text/plain": [
       "             fare_amount  distance\n",
       "fare_amount     1.000000  0.984233\n",
       "distance        0.984233  1.000000"
      ]
     },
     "execution_count": 113,
     "metadata": {},
     "output_type": "execute_result"
    }
   ],
   "source": [
    "new_df.corr()"
   ]
  },
  {
   "cell_type": "code",
   "execution_count": 114,
   "metadata": {},
   "outputs": [
    {
     "data": {
      "text/plain": [
       "<AxesSubplot:>"
      ]
     },
     "execution_count": 114,
     "metadata": {},
     "output_type": "execute_result"
    },
    {
     "data": {
      "image/png": "[encoded data removed]",
      "text/plain": [
       "<Figure size 432x288 with 2 Axes>"
      ]
     },
     "metadata": {
      "needs_background": "light"
     },
     "output_type": "display_data"
    }
   ],
   "source": [
    "sns.heatmap(new_df.corr(), annot=True)"
   ]
  },
  {
   "cell_type": "markdown",
   "metadata": {},
   "source": [
    "### 2-1. 추가변수 - 택시 개수, fare_amount(= 택시 하나에서 발생하는 운행 요금)"
   ]
  },
  {
   "cell_type": "code",
   "execution_count": null,
   "metadata": {},
   "outputs": [],
   "source": [
    "## 승객들이 4명 단위로 나눠져서 택시 탑승 (1~4명은 한 팀, 5~6명은 두 팀으로 나눠짐)\n",
    "## & 뒤에 산점도 확인하면 passenger_account는 fare_amount와 무관\n",
    "## -> 'taxi_account', 'fare_amount_ontaxi' 추가 변수 생성\n",
    "##    (taxi_account ; 택시 개수, fare_amount_ontaxi ; 택시 당 운행 요금 (= fare_amount / taxi_account))"
   ]
  },
  {
   "cell_type": "markdown",
   "metadata": {},
   "source": [
    "뉴욕 택시 요금 https://www.newyork.kr/new-york-taxis/"
   ]
  },
  {
   "cell_type": "code",
   "execution_count": 148,
   "metadata": {},
   "outputs": [
    {
     "data": {
      "text/plain": [
       "24503083    False\n",
       "33587288    False\n",
       "11603226    False\n",
       "53037963    False\n",
       "4027724     False\n",
       "Name: passenger_count, dtype: bool"
      ]
     },
     "execution_count": 148,
     "metadata": {},
     "output_type": "execute_result"
    }
   ],
   "source": [
    "sample_df['passenger_count'] > 4"
   ]
  },
  {
   "cell_type": "code",
   "execution_count": null,
   "metadata": {},
   "outputs": [],
   "source": []
  },
  {
   "cell_type": "code",
   "execution_count": null,
   "metadata": {},
   "outputs": [],
   "source": []
  },
  {
   "cell_type": "markdown",
   "metadata": {},
   "source": [
    "### 3. 팁 : 총 요금의 20%, 25%, 30% 중 선택"
   ]
  },
  {
   "cell_type": "markdown",
   "metadata": {},
   "source": [
    "거리, 시간, 요일에 따라 요금 함수 만들고 팁.....?"
   ]
  },
  {
   "cell_type": "code",
   "execution_count": null,
   "metadata": {},
   "outputs": [],
   "source": [
    "def tip(x):\n",
    "    if (x == 20):\n",
    "        return 1\n",
    "    else:\n",
    "        return 0"
   ]
  },
  {
   "cell_type": "code",
   "execution_count": null,
   "metadata": {},
   "outputs": [],
   "source": []
  },
  {
   "cell_type": "code",
   "execution_count": null,
   "metadata": {},
   "outputs": [],
   "source": []
  }
 ],
 "metadata": {
  "kernelspec": {
   "display_name": "Python 3",
   "language": "python",
   "name": "python3"
  },
  "language_info": {
   "codemirror_mode": {
    "name": "ipython",
    "version": 3
   },
   "file_extension": ".py",
   "mimetype": "text/x-python",
   "name": "python",
   "nbconvert_exporter": "python",
   "pygments_lexer": "ipython3",
   "version": "3.8.5"
  }
 },
 "nbformat": 4,
 "nbformat_minor": 4
}
